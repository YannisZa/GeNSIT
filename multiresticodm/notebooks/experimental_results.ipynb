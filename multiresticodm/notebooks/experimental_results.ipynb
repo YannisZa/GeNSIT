{
 "cells": [
  {
   "cell_type": "code",
   "execution_count": 1,
   "metadata": {},
   "outputs": [],
   "source": [
    "import numpy as np\n",
    "\n",
    "from multiresticodm.config import Config\n",
    "from multiresticodm.inputs import Inputs\n",
    "from multiresticodm.outputs import Outputs,OutputSummary\n",
    "from multiresticodm.utils.misc_utils import *\n",
    "from multiresticodm.contingency_table import ContingencyTable2D\n",
    "\n",
    "from copy import deepcopy"
   ]
  },
  {
   "cell_type": "code",
   "execution_count": 2,
   "metadata": {},
   "outputs": [],
   "source": [
    "%matplotlib inline\n",
    "\n",
    "# AUTO RELOAD EXTERNAL MODULES\n",
    "%load_ext autoreload\n",
    "%autoreload 2"
   ]
  },
  {
   "cell_type": "code",
   "execution_count": 3,
   "metadata": {},
   "outputs": [],
   "source": [
    "# Get important paths\n",
    "experiment_dir = '/home/iz230/MultiResTICODM/data/outputs/cambridge_work_commuter_lsoas_to_msoas/exp1/JointTableSIM_MCMC_SweepedNoise_16_05_2023_20_09_04/'\n",
    "config_path = os.path.join(experiment_dir,'config.json')"
   ]
  },
  {
   "cell_type": "code",
   "execution_count": 4,
   "metadata": {},
   "outputs": [],
   "source": [
    "# Output processing settings\n",
    "settings = {\n",
    "    \"logging_mode\": \"INFO\",\n",
    "    \"coordinate_slice\": [\"da.loss_name.isin([str(['dest_attraction_ts_likelihood_loss']),str(['dest_attraction_ts_likelihood_loss', 'table_likelihood_loss'])])\"],\n",
    "    \"metadata_keys\":[],\n",
    "    \"burnin_thinning_trimming\": [{'iter': {\"burnin\":10000, \"thinning\":100, \"trimming\":100}}],\n",
    "    \"n_workers\": 1,\n",
    "    \"filename_ending\":\"test\",\n",
    "    \"sample\":[\"table\",\"intensity\"],\n",
    "    \"force_reload\":True\n",
    "}"
   ]
  },
  {
   "cell_type": "code",
   "execution_count": 5,
   "metadata": {},
   "outputs": [
    {
     "name": "stderr",
     "output_type": "stream",
     "text": [
      "15:54.566 config INFO ----------------------------------------------------------------------------------\n",
      "15:54.579 config INFO /home/iz230/MultiResTICODM/data/outputs/\n",
      "15:54.592 config INFO Parameter space size: \n",
      " --- sigma: ['sigma', 'to_learn', 'covariance'] (2)\n",
      " --- title: ['title', 'axes', 'cells', 'name', 'proposal'] (6)\n",
      "15:54.605 config INFO Total = 12.\n",
      "15:54.617 config INFO ----------------------------------------------------------------------------------\n"
     ]
    }
   ],
   "source": [
    "# Read config\n",
    "conf = Config(\n",
    "    path = config_path\n",
    ")\n",
    "conf.get_sweep_data()"
   ]
  },
  {
   "cell_type": "code",
   "execution_count": 6,
   "metadata": {},
   "outputs": [
    {
     "name": "stderr",
     "output_type": "stream",
     "text": [
      "15:55.344 outputs INFO //////////////////////////////////////////////////////////////////////////////////\n",
      "15:55.357 outputs INFO Slicing coordinates:\n",
      "15:55.370 outputs INFO loss_name.isin([str(['dest_attraction_ts_likelihood_loss']),str(['dest_attraction_ts_likelihood_loss', 'table_likelihood_loss'])])\n",
      "15:55.382 outputs INFO iter: burnin = 10000, thinning = 100, trimming = 100\n",
      "15:55.395 outputs INFO //////////////////////////////////////////////////////////////////////////////////\n"
     ]
    }
   ],
   "source": [
    "outputs = Outputs(\n",
    "    config = conf,\n",
    "    settings = settings,\n",
    "    base_dir = experiment_dir,\n",
    "    console_handling_level = 'INFO',\n",
    "    inputs = None,\n",
    "    logger = conf.logger,\n",
    "    print_slice = True\n",
    ")"
   ]
  },
  {
   "cell_type": "code",
   "execution_count": 7,
   "metadata": {},
   "outputs": [
    {
     "name": "stderr",
     "output_type": "stream",
     "text": [
      "15:56.058 outputs WARNING Removing /home/iz230/MultiResTICODM/data/outputs/cambridge_work_commuter_lsoas_to_msoas/exp1/JointTableSIM_MCMC_SweepedNoise_16_05_2023_20_09_04/sample_collections/data_collection.nc\n",
      "15:56.072 outputs INFO Collecting samples alpha, beta, log_destination_attraction, sign, table.\n",
      "16:48.125 outputs INFO Creating xarray(s) for alpha, beta, log_destination_attraction, sign, table.\n",
      "17:00.717 outputs INFO Wrote output collection to /home/iz230/MultiResTICODM/data/outputs/cambridge_work_commuter_lsoas_to_msoas/exp1/JointTableSIM_MCMC_SweepedNoise_16_05_2023_20_09_04/sample_collections/data_collection.nc\n",
      "Slicing coordinates sequentially:   0%|          | 0/60 [00:00<?, ?it/s]17:00.761 outputs SUCCESS Slicing ['iter'] {'burnin': 10000, 'thinning': 100, 'trimming': 100} succeded {'iter': 100}\n",
      "                                                                                 \r"
     ]
    }
   ],
   "source": [
    "# Collect outputs from folder\n",
    "outputs.load(indx = 0)"
   ]
  },
  {
   "cell_type": "code",
   "execution_count": 11,
   "metadata": {},
   "outputs": [
    {
     "ename": "AttributeError",
     "evalue": "'NoneType' object has no attribute 'data_vars'",
     "output_type": "error",
     "traceback": [
      "\u001b[0;31m---------------------------------------------------------------------------\u001b[0m",
      "\u001b[0;31mAttributeError\u001b[0m                            Traceback (most recent call last)",
      "File \u001b[0;32m~/MultiResTICODM/multiresticodm/outputs.py:353\u001b[0m, in \u001b[0;36mOutputs.check_data_availability\u001b[0;34m(self, sample_name, input_names, output_names)\u001b[0m\n\u001b[1;32m    352\u001b[0m \u001b[38;5;28;01mtry\u001b[39;00m:\n\u001b[0;32m--> 353\u001b[0m     \u001b[38;5;28;01massert\u001b[39;00m \u001b[38;5;28mhasattr\u001b[39m(\u001b[38;5;28;43mself\u001b[39;49m\u001b[38;5;241;43m.\u001b[39;49m\u001b[43minputs\u001b[49m\u001b[38;5;241;43m.\u001b[39;49m\u001b[43mdata\u001b[49m,\u001b[38;5;28minput\u001b[39m)\n\u001b[1;32m    354\u001b[0m \u001b[38;5;28;01mexcept\u001b[39;00m:\n",
      "\u001b[0;31mAttributeError\u001b[0m: 'NoneType' object has no attribute 'data'",
      "\nDuring handling of the above exception, another exception occurred:\n",
      "\u001b[0;31mAttributeError\u001b[0m                            Traceback (most recent call last)",
      "Input \u001b[0;32mIn [11]\u001b[0m, in \u001b[0;36m<cell line: 1>\u001b[0;34m()\u001b[0m\n\u001b[0;32m----> 1\u001b[0m \u001b[43moutputs\u001b[49m\u001b[38;5;241;43m.\u001b[39;49m\u001b[43mget\u001b[49m\u001b[43m(\u001b[49m\u001b[38;5;241;43m0\u001b[39;49m\u001b[43m)\u001b[49m\u001b[38;5;241;43m.\u001b[39;49m\u001b[43mget_sample\u001b[49m\u001b[43m(\u001b[49m\u001b[38;5;124;43m'\u001b[39;49m\u001b[38;5;124;43mintensity\u001b[39;49m\u001b[38;5;124;43m'\u001b[39;49m\u001b[43m)\u001b[49m\n",
      "File \u001b[0;32m~/MultiResTICODM/multiresticodm/outputs.py:1252\u001b[0m, in \u001b[0;36mOutputs.get_sample\u001b[0;34m(self, sample_name)\u001b[0m\n\u001b[1;32m   1250\u001b[0m \u001b[38;5;66;03m# Check that required data is available\u001b[39;00m\n\u001b[1;32m   1251\u001b[0m \u001b[38;5;28mself\u001b[39m\u001b[38;5;241m.\u001b[39mlogger\u001b[38;5;241m.\u001b[39mdebug(\u001b[38;5;124m'\u001b[39m\u001b[38;5;124mchecking sim data availability\u001b[39m\u001b[38;5;124m'\u001b[39m)\n\u001b[0;32m-> 1252\u001b[0m \u001b[38;5;28;43mself\u001b[39;49m\u001b[38;5;241;43m.\u001b[39;49m\u001b[43mcheck_data_availability\u001b[49m\u001b[43m(\u001b[49m\n\u001b[1;32m   1253\u001b[0m \u001b[43m    \u001b[49m\u001b[43msample_name\u001b[49m\u001b[43m \u001b[49m\u001b[38;5;241;43m=\u001b[39;49m\u001b[43m \u001b[49m\u001b[43msample_name\u001b[49m\u001b[43m,\u001b[49m\n\u001b[1;32m   1254\u001b[0m \u001b[43m    \u001b[49m\u001b[43minput_names\u001b[49m\u001b[43m \u001b[49m\u001b[38;5;241;43m=\u001b[39;49m\u001b[43m \u001b[49m\u001b[43mIntensityModelClass\u001b[49m\u001b[38;5;241;43m.\u001b[39;49m\u001b[43mREQUIRED_INPUTS\u001b[49m\u001b[43m,\u001b[49m\n\u001b[1;32m   1255\u001b[0m \u001b[43m    \u001b[49m\u001b[43moutput_names\u001b[49m\u001b[43m \u001b[49m\u001b[38;5;241;43m=\u001b[39;49m\u001b[43m \u001b[49m\u001b[43mIntensityModelClass\u001b[49m\u001b[38;5;241;43m.\u001b[39;49m\u001b[43mREQUIRED_OUTPUTS\u001b[49m\u001b[43m,\u001b[49m\n\u001b[1;32m   1256\u001b[0m \u001b[43m\u001b[49m\u001b[43m)\u001b[49m\n\u001b[1;32m   1257\u001b[0m \u001b[38;5;66;03m# Instantiate ct\u001b[39;00m\n\u001b[1;32m   1258\u001b[0m IntensityModel \u001b[38;5;241m=\u001b[39m IntensityModelClass(\n\u001b[1;32m   1259\u001b[0m     config \u001b[38;5;241m=\u001b[39m \u001b[38;5;28mself\u001b[39m\u001b[38;5;241m.\u001b[39mconfig,\n\u001b[1;32m   1260\u001b[0m     logger \u001b[38;5;241m=\u001b[39m \u001b[38;5;28mself\u001b[39m\u001b[38;5;241m.\u001b[39mlogger,\n\u001b[1;32m   1261\u001b[0m     \u001b[38;5;241m*\u001b[39m\u001b[38;5;241m*\u001b[39m{\u001b[38;5;28minput\u001b[39m:\u001b[38;5;28mself\u001b[39m\u001b[38;5;241m.\u001b[39mget_sample(\u001b[38;5;28minput\u001b[39m) \u001b[38;5;28;01mfor\u001b[39;00m \u001b[38;5;28minput\u001b[39m \u001b[38;5;129;01min\u001b[39;00m IntensityModelClass\u001b[38;5;241m.\u001b[39mREQUIRED_INPUTS}\n\u001b[1;32m   1262\u001b[0m )\n",
      "File \u001b[0;32m~/MultiResTICODM/multiresticodm/outputs.py:357\u001b[0m, in \u001b[0;36mOutputs.check_data_availability\u001b[0;34m(self, sample_name, input_names, output_names)\u001b[0m\n\u001b[1;32m    354\u001b[0m     \u001b[38;5;28;01mexcept\u001b[39;00m:\n\u001b[1;32m    355\u001b[0m         available \u001b[38;5;241m=\u001b[39m \u001b[38;5;28;01mFalse\u001b[39;00m\n\u001b[1;32m    356\u001b[0m         \u001b[38;5;28mself\u001b[39m\u001b[38;5;241m.\u001b[39mlogger\u001b[38;5;241m.\u001b[39merror(\u001b[38;5;124mf\u001b[39m\u001b[38;5;124m\"\u001b[39m\u001b[38;5;124mSample \u001b[39m\u001b[38;5;132;01m{\u001b[39;00msample_name\u001b[38;5;132;01m}\u001b[39;00m\u001b[38;5;124m requires input \u001b[39m\u001b[38;5;132;01m{\u001b[39;00m\u001b[38;5;28minput\u001b[39m\u001b[38;5;132;01m}\u001b[39;00m\u001b[38;5;124m \u001b[39m\u001b[38;5;130;01m\\\u001b[39;00m\n\u001b[0;32m--> 357\u001b[0m \u001b[38;5;124m                          which does not exist in \u001b[39m\u001b[38;5;132;01m{\u001b[39;00m\u001b[38;5;124m'\u001b[39m\u001b[38;5;124m,\u001b[39m\u001b[38;5;124m'\u001b[39m\u001b[38;5;241m.\u001b[39mjoin(\u001b[38;5;28mlist\u001b[39m(\u001b[38;5;28mself\u001b[39m\u001b[38;5;241m.\u001b[39minputs\u001b[38;5;241m.\u001b[39mdata_vars()\u001b[38;5;241m.\u001b[39mkeys()))\u001b[38;5;132;01m}\u001b[39;00m\u001b[38;5;124m\"\u001b[39m)\n\u001b[1;32m    358\u001b[0m \u001b[38;5;28;01mfor\u001b[39;00m output \u001b[38;5;129;01min\u001b[39;00m output_names:\n\u001b[1;32m    359\u001b[0m     \u001b[38;5;28;01mtry\u001b[39;00m:\n",
      "\u001b[0;31mAttributeError\u001b[0m: 'NoneType' object has no attribute 'data_vars'"
     ]
    }
   ],
   "source": [
    "outputs.get(0).get_sample('intensity')"
   ]
  },
  {
   "cell_type": "code",
   "execution_count": null,
   "metadata": {},
   "outputs": [],
   "source": []
  }
 ],
 "metadata": {
  "kernelspec": {
   "display_name": "mrticodm",
   "language": "python",
   "name": "python3"
  },
  "language_info": {
   "codemirror_mode": {
    "name": "ipython",
    "version": 3
   },
   "file_extension": ".py",
   "mimetype": "text/x-python",
   "name": "python",
   "nbconvert_exporter": "python",
   "pygments_lexer": "ipython3",
   "version": "3.9.18"
  }
 },
 "nbformat": 4,
 "nbformat_minor": 2
}
