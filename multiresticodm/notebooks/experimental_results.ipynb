{
 "cells": [
  {
   "cell_type": "code",
   "execution_count": 1,
   "metadata": {},
   "outputs": [],
   "source": [
    "import numpy as np\n",
    "\n",
    "from multiresticodm.config import Config\n",
    "from multiresticodm.inputs import Inputs\n",
    "from multiresticodm.outputs import Outputs,OutputSummary\n",
    "from multiresticodm.utils.misc_utils import *\n",
    "from multiresticodm.contingency_table import ContingencyTable2D\n",
    "\n",
    "from copy import deepcopy"
   ]
  },
  {
   "cell_type": "code",
   "execution_count": 2,
   "metadata": {},
   "outputs": [],
   "source": [
    "%matplotlib inline\n",
    "\n",
    "# AUTO RELOAD EXTERNAL MODULES\n",
    "%load_ext autoreload\n",
    "%autoreload 2"
   ]
  },
  {
   "cell_type": "code",
   "execution_count": 3,
   "metadata": {},
   "outputs": [],
   "source": [
    "# Get important paths\n",
    "experiment_dir = '/home/iz230/MultiResTICODM/data/outputs/cambridge_work_commuter_lsoas_to_msoas/exp1/JointTableSIM_MCMC_SweepedNoise_16_05_2023_20_09_04/'\n",
    "config_path = os.path.join(experiment_dir,'config.json')"
   ]
  },
  {
   "cell_type": "code",
   "execution_count": 9,
   "metadata": {},
   "outputs": [
    {
     "name": "stderr",
     "output_type": "stream",
     "text": [
      "54:41.829 config INFO ----------------------------------------------------------------------------------\n",
      "54:41.842 config INFO /home/iz230/MultiResTICODM/data/outputs/\n",
      "54:41.855 config INFO Parameter space size: \n",
      " --- sigma: ['sigma', 'to_learn', 'covariance'] (2)\n",
      " --- title: ['title', 'axes', 'cells', 'name', 'proposal'] (6)\n",
      "54:41.868 config INFO Total = 12.\n",
      "54:41.881 config INFO ----------------------------------------------------------------------------------\n"
     ]
    }
   ],
   "source": [
    "# Read config\n",
    "conf = Config(\n",
    "    path = config_path\n",
    ")\n",
    "\n",
    "# Gather all sweep-related config data\n",
    "sweep_params,sweep_configurations = conf.get_sweep_data()"
   ]
  },
  {
   "cell_type": "code",
   "execution_count": 5,
   "metadata": {},
   "outputs": [],
   "source": [
    "settings = {\n",
    "    \"logging_mode\": \"INFO\",\n",
    "    \"coordinate_slice\": [\"da.loss_name.isin([str(['dest_attraction_ts_likelihood_loss']),str(['dest_attraction_ts_likelihood_loss', 'table_likelihood_loss'])])\"],\n",
    "    \"metadata_keys\":[],\n",
    "    \"burnin_thinning_trimming\": [{'iter': {\"burnin\":10000, \"thinning\":100, \"trimming\":100}}],\n",
    "    \"n_workers\": 1,\n",
    "    \"filename_ending\":\"test\",\n",
    "    \"sample\":[\"table\",\"alpha\",\"beta\",\"log_destination_attraction\",\"sign\"]\n",
    "}"
   ]
  },
  {
   "cell_type": "code",
   "execution_count": 13,
   "metadata": {},
   "outputs": [
    {
     "name": "stderr",
     "output_type": "stream",
     "text": [
      "56:07.517 outputs INFO //////////////////////////////////////////////////////////////////////////////////\n",
      "56:07.529 outputs INFO Slicing coordinates:\n"
     ]
    },
    {
     "name": "stderr",
     "output_type": "stream",
     "text": [
      "56:07.541 outputs INFO loss_name.isin([str(['dest_attraction_ts_likelihood_loss']),str(['dest_attraction_ts_likelihood_loss', 'table_likelihood_loss'])])\n",
      "56:07.553 outputs INFO iter: burnin = 10000, thinning = 100, trimming = 100\n",
      "56:07.564 outputs INFO //////////////////////////////////////////////////////////////////////////////////\n"
     ]
    },
    {
     "name": "stdout",
     "output_type": "stream",
     "text": [
      "sweep_params {}\n",
      "self.sweep_id \n"
     ]
    }
   ],
   "source": [
    "outputs = Outputs(\n",
    "    config = conf,\n",
    "    settings = settings,\n",
    "    base_dir = experiment_dir,\n",
    "    console_handling_level = 'INFO',\n",
    "    inputs = None,\n",
    "    logger = conf.logger,\n",
    "    print_slice = True\n",
    ")"
   ]
  },
  {
   "cell_type": "code",
   "execution_count": 14,
   "metadata": {},
   "outputs": [
    {
     "name": "stderr",
     "output_type": "stream",
     "text": [
      "56:09.824 outputs WARNING Removing /home/iz230/MultiResTICODM/data/outputs/cambridge_work_commuter_lsoas_to_msoas/exp1/JointTableSIM_MCMC_SweepedNoise_16_05_2023_20_09_04/sample_collections/data_collection.nc\n"
     ]
    },
    {
     "name": "stderr",
     "output_type": "stream",
     "text": [
      "56:09.836 outputs INFO Collecting samples log_destination_attraction, sign, table.\n",
      "Collecting h5 data sequentially:   0%|          | 0/12 [00:00<?, ?it/s]"
     ]
    },
    {
     "name": "stdout",
     "output_type": "stream",
     "text": [
      "sweep {'sigma': 0.0141421356, 'to_learn': ['alpha', 'beta'], 'covariance': [[0.0149674, 0.00182529], [0.00182529, 0.0109968]], 'title': '_unconstrained', 'axes': [], 'cells': 'cells.txt', 'name': 'TotallyConstrained', 'proposal': 'direct_sampling'}\n",
      "sweep_params {'sigma': 0.0141421356, 'to_learn': ['alpha', 'beta'], 'covariance': [[0.0149674, 0.00182529], [0.00182529, 0.0109968]], 'title': '_unconstrained', 'axes': [], 'cells': 'cells.txt', 'name': 'TotallyConstrained', 'proposal': 'direct_sampling'}\n",
      "title__unconstrained\n",
      "sigma_low\n",
      "self.sweep_id sigma_low/title__unconstrained\n"
     ]
    },
    {
     "name": "stderr",
     "output_type": "stream",
     "text": [
      "Collecting h5 data sequentially:   8%|▊         | 1/12 [00:03<00:43,  3.97s/it]"
     ]
    },
    {
     "name": "stdout",
     "output_type": "stream",
     "text": [
      "sweep {'sigma': 0.0141421356, 'to_learn': ['alpha', 'beta'], 'covariance': [[0.0149674, 0.00182529], [0.00182529, 0.0109968]], 'title': '_total_constrained', 'axes': [[0, 1]], 'cells': 'cells.txt', 'name': 'TotallyConstrained', 'proposal': 'direct_sampling'}\n",
      "sweep_params {'sigma': 0.0141421356, 'to_learn': ['alpha', 'beta'], 'covariance': [[0.0149674, 0.00182529], [0.00182529, 0.0109968]], 'title': '_total_constrained', 'axes': [[0, 1]], 'cells': 'cells.txt', 'name': 'TotallyConstrained', 'proposal': 'direct_sampling'}\n",
      "title__total_constrained\n",
      "sigma_low\n",
      "self.sweep_id sigma_low/title__total_constrained\n"
     ]
    },
    {
     "name": "stderr",
     "output_type": "stream",
     "text": [
      "Collecting h5 data sequentially:  17%|█▋        | 2/12 [00:07<00:39,  3.96s/it]"
     ]
    },
    {
     "name": "stdout",
     "output_type": "stream",
     "text": [
      "sweep {'sigma': 0.0141421356, 'to_learn': ['alpha', 'beta'], 'covariance': [[0.0149674, 0.00182529], [0.00182529, 0.0109968]], 'title': '_row_constrained', 'axes': [[1]], 'cells': 'cells.txt', 'name': 'ProductionConstrained', 'proposal': 'direct_sampling'}\n",
      "sweep_params {'sigma': 0.0141421356, 'to_learn': ['alpha', 'beta'], 'covariance': [[0.0149674, 0.00182529], [0.00182529, 0.0109968]], 'title': '_row_constrained', 'axes': [[1]], 'cells': 'cells.txt', 'name': 'ProductionConstrained', 'proposal': 'direct_sampling'}\n",
      "title__row_constrained\n",
      "sigma_low\n",
      "self.sweep_id sigma_low/title__row_constrained\n"
     ]
    },
    {
     "name": "stderr",
     "output_type": "stream",
     "text": [
      "Collecting h5 data sequentially:  25%|██▌       | 3/12 [00:12<00:36,  4.03s/it]"
     ]
    },
    {
     "name": "stdout",
     "output_type": "stream",
     "text": [
      "sweep {'sigma': 0.0141421356, 'to_learn': ['alpha', 'beta'], 'covariance': [[0.0149674, 0.00182529], [0.00182529, 0.0109968]], 'title': '_doubly_constrained', 'axes': [[0], [1]], 'cells': 'cells.txt', 'name': 'TotallyConstrained', 'proposal': 'degree_higher'}\n",
      "sweep_params {'sigma': 0.0141421356, 'to_learn': ['alpha', 'beta'], 'covariance': [[0.0149674, 0.00182529], [0.00182529, 0.0109968]], 'title': '_doubly_constrained', 'axes': [[0], [1]], 'cells': 'cells.txt', 'name': 'TotallyConstrained', 'proposal': 'degree_higher'}\n",
      "title__doubly_constrained\n",
      "sigma_low\n",
      "self.sweep_id sigma_low/title__doubly_constrained\n"
     ]
    },
    {
     "name": "stderr",
     "output_type": "stream",
     "text": [
      "Collecting h5 data sequentially:  33%|███▎      | 4/12 [00:15<00:29,  3.72s/it]"
     ]
    },
    {
     "name": "stdout",
     "output_type": "stream",
     "text": [
      "sweep {'sigma': 0.0141421356, 'to_learn': ['alpha', 'beta'], 'covariance': [[0.0149674, 0.00182529], [0.00182529, 0.0109968]], 'title': '_doubly_10%_cell_constrained', 'axes': [[0], [1]], 'cells': 'cell_constraints_permuted_size_90_cell_percentage_10_constrained_axes_0_1_seed_1234.txt', 'name': 'TotallyConstrained', 'proposal': 'degree_higher'}\n",
      "sweep_params {'sigma': 0.0141421356, 'to_learn': ['alpha', 'beta'], 'covariance': [[0.0149674, 0.00182529], [0.00182529, 0.0109968]], 'title': '_doubly_10%_cell_constrained', 'axes': [[0], [1]], 'cells': 'cell_constraints_permuted_size_90_cell_percentage_10_constrained_axes_0_1_seed_1234.txt', 'name': 'TotallyConstrained', 'proposal': 'degree_higher'}\n",
      "title__doubly_10%_cell_constrained\n",
      "sigma_low\n",
      "self.sweep_id sigma_low/title__doubly_10%_cell_constrained\n"
     ]
    },
    {
     "name": "stderr",
     "output_type": "stream",
     "text": [
      "Collecting h5 data sequentially:  42%|████▏     | 5/12 [00:18<00:24,  3.52s/it]"
     ]
    },
    {
     "name": "stdout",
     "output_type": "stream",
     "text": [
      "sweep {'sigma': 0.0141421356, 'to_learn': ['alpha', 'beta'], 'covariance': [[0.0149674, 0.00182529], [0.00182529, 0.0109968]], 'title': '_doubly_20%_cell_constrained', 'axes': [[0], [1]], 'cells': 'cell_constraints_permuted_size_179_cell_percentage_20_constrained_axes_0_1_seed_1234.txt', 'name': 'TotallyConstrained', 'proposal': 'degree_higher'}\n",
      "sweep_params {'sigma': 0.0141421356, 'to_learn': ['alpha', 'beta'], 'covariance': [[0.0149674, 0.00182529], [0.00182529, 0.0109968]], 'title': '_doubly_20%_cell_constrained', 'axes': [[0], [1]], 'cells': 'cell_constraints_permuted_size_179_cell_percentage_20_constrained_axes_0_1_seed_1234.txt', 'name': 'TotallyConstrained', 'proposal': 'degree_higher'}\n",
      "title__doubly_20%_cell_constrained\n",
      "sigma_low\n",
      "self.sweep_id sigma_low/title__doubly_20%_cell_constrained\n"
     ]
    },
    {
     "name": "stderr",
     "output_type": "stream",
     "text": [
      "Collecting h5 data sequentially:  50%|█████     | 6/12 [00:21<00:20,  3.37s/it]"
     ]
    },
    {
     "name": "stdout",
     "output_type": "stream",
     "text": [
      "sweep {'sigma': 0.1414213562, 'to_learn': ['alpha', 'beta'], 'covariance': [[1.0, 0.0], [0.0, 1.0]], 'title': '_unconstrained', 'axes': [], 'cells': 'cells.txt', 'name': 'TotallyConstrained', 'proposal': 'direct_sampling'}\n",
      "sweep_params {'sigma': 0.1414213562, 'to_learn': ['alpha', 'beta'], 'covariance': [[1.0, 0.0], [0.0, 1.0]], 'title': '_unconstrained', 'axes': [], 'cells': 'cells.txt', 'name': 'TotallyConstrained', 'proposal': 'direct_sampling'}\n",
      "title__unconstrained\n",
      "sigma_high\n",
      "self.sweep_id sigma_high/title__unconstrained\n"
     ]
    },
    {
     "name": "stderr",
     "output_type": "stream",
     "text": [
      "Collecting h5 data sequentially:  58%|█████▊    | 7/12 [00:25<00:17,  3.54s/it]"
     ]
    },
    {
     "name": "stdout",
     "output_type": "stream",
     "text": [
      "sweep {'sigma': 0.1414213562, 'to_learn': ['alpha', 'beta'], 'covariance': [[1.0, 0.0], [0.0, 1.0]], 'title': '_total_constrained', 'axes': [[0, 1]], 'cells': 'cells.txt', 'name': 'TotallyConstrained', 'proposal': 'direct_sampling'}\n",
      "sweep_params {'sigma': 0.1414213562, 'to_learn': ['alpha', 'beta'], 'covariance': [[1.0, 0.0], [0.0, 1.0]], 'title': '_total_constrained', 'axes': [[0, 1]], 'cells': 'cells.txt', 'name': 'TotallyConstrained', 'proposal': 'direct_sampling'}\n",
      "title__total_constrained\n",
      "sigma_high\n",
      "self.sweep_id sigma_high/title__total_constrained\n"
     ]
    },
    {
     "name": "stderr",
     "output_type": "stream",
     "text": [
      "Collecting h5 data sequentially:  67%|██████▋   | 8/12 [00:29<00:14,  3.68s/it]"
     ]
    },
    {
     "name": "stdout",
     "output_type": "stream",
     "text": [
      "sweep {'sigma': 0.1414213562, 'to_learn': ['alpha', 'beta'], 'covariance': [[1.0, 0.0], [0.0, 1.0]], 'title': '_row_constrained', 'axes': [[1]], 'cells': 'cells.txt', 'name': 'ProductionConstrained', 'proposal': 'direct_sampling'}\n",
      "sweep_params {'sigma': 0.1414213562, 'to_learn': ['alpha', 'beta'], 'covariance': [[1.0, 0.0], [0.0, 1.0]], 'title': '_row_constrained', 'axes': [[1]], 'cells': 'cells.txt', 'name': 'ProductionConstrained', 'proposal': 'direct_sampling'}\n",
      "title__row_constrained\n",
      "sigma_high\n",
      "self.sweep_id sigma_high/title__row_constrained\n"
     ]
    },
    {
     "name": "stderr",
     "output_type": "stream",
     "text": [
      "Collecting h5 data sequentially:  75%|███████▌  | 9/12 [00:33<00:11,  3.78s/it]"
     ]
    },
    {
     "name": "stdout",
     "output_type": "stream",
     "text": [
      "sweep {'sigma': 0.1414213562, 'to_learn': ['alpha', 'beta'], 'covariance': [[1.0, 0.0], [0.0, 1.0]], 'title': '_doubly_constrained', 'axes': [[0], [1]], 'cells': 'cells.txt', 'name': 'TotallyConstrained', 'proposal': 'degree_higher'}\n",
      "sweep_params {'sigma': 0.1414213562, 'to_learn': ['alpha', 'beta'], 'covariance': [[1.0, 0.0], [0.0, 1.0]], 'title': '_doubly_constrained', 'axes': [[0], [1]], 'cells': 'cells.txt', 'name': 'TotallyConstrained', 'proposal': 'degree_higher'}\n",
      "title__doubly_constrained\n",
      "sigma_high\n",
      "self.sweep_id sigma_high/title__doubly_constrained\n"
     ]
    },
    {
     "name": "stderr",
     "output_type": "stream",
     "text": [
      "Collecting h5 data sequentially:  83%|████████▎ | 10/12 [00:36<00:07,  3.56s/it]"
     ]
    },
    {
     "name": "stdout",
     "output_type": "stream",
     "text": [
      "sweep {'sigma': 0.1414213562, 'to_learn': ['alpha', 'beta'], 'covariance': [[1.0, 0.0], [0.0, 1.0]], 'title': '_doubly_10%_cell_constrained', 'axes': [[0], [1]], 'cells': 'cell_constraints_permuted_size_90_cell_percentage_10_constrained_axes_0_1_seed_1234.txt', 'name': 'TotallyConstrained', 'proposal': 'degree_higher'}\n",
      "sweep_params {'sigma': 0.1414213562, 'to_learn': ['alpha', 'beta'], 'covariance': [[1.0, 0.0], [0.0, 1.0]], 'title': '_doubly_10%_cell_constrained', 'axes': [[0], [1]], 'cells': 'cell_constraints_permuted_size_90_cell_percentage_10_constrained_axes_0_1_seed_1234.txt', 'name': 'TotallyConstrained', 'proposal': 'degree_higher'}\n",
      "title__doubly_10%_cell_constrained\n",
      "sigma_high\n",
      "self.sweep_id sigma_high/title__doubly_10%_cell_constrained\n"
     ]
    },
    {
     "name": "stderr",
     "output_type": "stream",
     "text": [
      "Collecting h5 data sequentially:  92%|█████████▏| 11/12 [00:39<00:03,  3.42s/it]"
     ]
    },
    {
     "name": "stdout",
     "output_type": "stream",
     "text": [
      "sweep {'sigma': 0.1414213562, 'to_learn': ['alpha', 'beta'], 'covariance': [[1.0, 0.0], [0.0, 1.0]], 'title': '_doubly_20%_cell_constrained', 'axes': [[0], [1]], 'cells': 'cell_constraints_permuted_size_179_cell_percentage_20_constrained_axes_0_1_seed_1234.txt', 'name': 'TotallyConstrained', 'proposal': 'degree_higher'}\n",
      "sweep_params {'sigma': 0.1414213562, 'to_learn': ['alpha', 'beta'], 'covariance': [[1.0, 0.0], [0.0, 1.0]], 'title': '_doubly_20%_cell_constrained', 'axes': [[0], [1]], 'cells': 'cell_constraints_permuted_size_179_cell_percentage_20_constrained_axes_0_1_seed_1234.txt', 'name': 'TotallyConstrained', 'proposal': 'degree_higher'}\n",
      "title__doubly_20%_cell_constrained\n",
      "sigma_high\n",
      "self.sweep_id sigma_high/title__doubly_20%_cell_constrained\n"
     ]
    },
    {
     "name": "stderr",
     "output_type": "stream",
     "text": [
      "56:52.510 outputs INFO Creating xarray(s) for log_destination_attraction, sign, table.\n",
      "57:00.500 outputs INFO Wrote output collection to /home/iz230/MultiResTICODM/data/outputs/cambridge_work_commuter_lsoas_to_msoas/exp1/JointTableSIM_MCMC_SweepedNoise_16_05_2023_20_09_04/sample_collections/data_collection.nc\n"
     ]
    }
   ],
   "source": [
    "# Collect outputs from folder\n",
    "outputs = outputs.load(\n",
    "    indx = 0,\n",
    "    sweep_configurations = sweep_configurations,\n",
    "    sweep_params = sweep_params\n",
    ")"
   ]
  },
  {
   "cell_type": "code",
   "execution_count": null,
   "metadata": {},
   "outputs": [],
   "source": [
    "outputs.data"
   ]
  },
  {
   "cell_type": "code",
   "execution_count": null,
   "metadata": {},
   "outputs": [],
   "source": []
  }
 ],
 "metadata": {
  "kernelspec": {
   "display_name": "mrticodm",
   "language": "python",
   "name": "python3"
  },
  "language_info": {
   "codemirror_mode": {
    "name": "ipython",
    "version": 3
   },
   "file_extension": ".py",
   "mimetype": "text/x-python",
   "name": "python",
   "nbconvert_exporter": "python",
   "pygments_lexer": "ipython3",
   "version": "3.9.18"
  }
 },
 "nbformat": 4,
 "nbformat_minor": 2
}
