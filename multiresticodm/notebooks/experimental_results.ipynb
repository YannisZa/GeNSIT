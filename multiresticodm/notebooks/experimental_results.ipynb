{
 "cells": [
  {
   "cell_type": "code",
   "execution_count": 1,
   "metadata": {},
   "outputs": [],
   "source": [
    "import numpy as np\n",
    "import pandas as pd\n",
    "from copy import deepcopy\n",
    "from tqdm import tqdm\n",
    "\n",
    "from multiresticodm.config import Config\n",
    "from multiresticodm.outputs import Outputs\n",
    "from multiresticodm.utils.misc_utils import *\n",
    "from multiresticodm.utils.math_utils import *\n",
    "from multiresticodm.utils.probability_utils import *"
   ]
  },
  {
   "cell_type": "code",
   "execution_count": 2,
   "metadata": {},
   "outputs": [],
   "source": [
    "%matplotlib inline\n",
    "\n",
    "# AUTO RELOAD EXTERNAL MODULES\n",
    "%load_ext autoreload\n",
    "%autoreload 2"
   ]
  },
  {
   "cell_type": "code",
   "execution_count": 3,
   "metadata": {},
   "outputs": [],
   "source": [
    "# Get important paths\n",
    "experiment_dir = '/home/iz230/MultiResTICODM/data/outputs/cambridge_work_commuter_lsoas_to_msoas/exp1/JointTableSIM_MCMC_SweepedNoise_16_05_2023_20_09_04/'\n",
    "config_path = os.path.join(experiment_dir,'config.json')"
   ]
  },
  {
   "cell_type": "code",
   "execution_count": 4,
   "metadata": {},
   "outputs": [],
   "source": [
    "# Output processing settings\n",
    "settings = {\n",
    "    \"logging_mode\": \"INFO\",\n",
    "    \"coordinate_slice\": [\"da.loss_name.isin([str(['dest_attraction_ts_likelihood_loss']),str(['dest_attraction_ts_likelihood_loss', 'table_likelihood_loss'])])\"],\n",
    "    \"metadata_keys\":[],\n",
    "    \"burnin_thinning_trimming\": [{'iter': {\"burnin\":10000, \"thinning\":10, \"trimming\":1000}}],\n",
    "    \"n_workers\": 1,\n",
    "    \"filename_ending\":\"test\",\n",
    "    \"sample\":[\"table\",\"intensity\"],\n",
    "    \"force_reload\":False\n",
    "}"
   ]
  },
  {
   "cell_type": "code",
   "execution_count": 5,
   "metadata": {},
   "outputs": [
    {
     "name": "stderr",
     "output_type": "stream",
     "text": [
      "56:23.721 config INFO ----------------------------------------------------------------------------------\n",
      "56:23.734 config INFO /home/iz230/MultiResTICODM/data/outputs/\n",
      "56:23.747 config INFO Parameter space size: \n",
      " --- sigma: ['sigma', 'to_learn', 'covariance'] (2)\n",
      " --- title: ['title', 'axes', 'cells', 'name', 'proposal'] (6)\n",
      "56:23.761 config INFO Total = 12.\n",
      "56:23.774 config INFO ----------------------------------------------------------------------------------\n"
     ]
    }
   ],
   "source": [
    "# Read config\n",
    "conf = Config(\n",
    "    path = config_path\n",
    ")\n",
    "conf.get_sweep_data()"
   ]
  },
  {
   "cell_type": "code",
   "execution_count": 6,
   "metadata": {},
   "outputs": [
    {
     "name": "stderr",
     "output_type": "stream",
     "text": [
      "56:23.844 outputs INFO //////////////////////////////////////////////////////////////////////////////////\n",
      "56:23.856 outputs INFO Slicing coordinates:\n",
      "56:23.869 outputs INFO loss_name.isin([str(['dest_attraction_ts_likelihood_loss']),str(['dest_attraction_ts_likelihood_loss', 'table_likelihood_loss'])])\n",
      "56:23.882 outputs INFO iter: burnin = 10000, thinning = 10, trimming = 1000\n",
      "56:23.894 outputs INFO //////////////////////////////////////////////////////////////////////////////////\n"
     ]
    }
   ],
   "source": [
    "outputs = Outputs(\n",
    "    config = conf,\n",
    "    settings = settings,\n",
    "    base_dir = experiment_dir,\n",
    "    console_handling_level = 'INFO',\n",
    "    inputs = None,\n",
    "    logger = conf.logger,\n",
    "    print_slice = True\n",
    ")"
   ]
  },
  {
   "cell_type": "code",
   "execution_count": 7,
   "metadata": {},
   "outputs": [
    {
     "name": "stderr",
     "output_type": "stream",
     "text": [
      "56:24.111 outputs INFO Reading samples alpha, beta, log_destination_attraction, sign, table.\n",
      "Slicing coordinates sequentially:   0%|          | 0/60 [00:00<?, ?it/s]56:40.376 outputs SUCCESS Slicing ['iter'] {'burnin': 10000, 'thinning': 10, 'trimming': 1000} succeded {'iter': 1000}\n",
      "                                                                                 \r"
     ]
    }
   ],
   "source": [
    "# Collect outputs from folder\n",
    "outputs.load(indx = 0)"
   ]
  },
  {
   "cell_type": "code",
   "execution_count": 8,
   "metadata": {},
   "outputs": [
    {
     "name": "stderr",
     "output_type": "stream",
     "text": [
      "  0%|          | 0/12 [00:00<?, ?it/s]"
     ]
    },
    {
     "name": "stdout",
     "output_type": "stream",
     "text": [
      "self.dim_names ['origin', 'destination']\n"
     ]
    },
    {
     "name": "stderr",
     "output_type": "stream",
     "text": [
      "\n"
     ]
    },
    {
     "ename": "AttributeError",
     "evalue": "'TotallyConstrainedSIM' object has no attribute 'dim_names'",
     "output_type": "error",
     "traceback": [
      "\u001b[0;31m---------------------------------------------------------------------------\u001b[0m",
      "\u001b[0;31mAttributeError\u001b[0m                            Traceback (most recent call last)",
      "Input \u001b[0;32mIn [8]\u001b[0m, in \u001b[0;36m<cell line: 2>\u001b[0;34m()\u001b[0m\n\u001b[1;32m      1\u001b[0m data \u001b[38;5;241m=\u001b[39m []\n\u001b[1;32m      2\u001b[0m \u001b[38;5;28;01mfor\u001b[39;00m i \u001b[38;5;129;01min\u001b[39;00m tqdm(\u001b[38;5;28mrange\u001b[39m(\u001b[38;5;28mlen\u001b[39m(outputs\u001b[38;5;241m.\u001b[39mdata))):\n\u001b[1;32m      3\u001b[0m     mean_intensity \u001b[38;5;241m=\u001b[39m outputs\u001b[38;5;241m.\u001b[39mget(i)\u001b[38;5;241m.\u001b[39mcompute_statistic(\n\u001b[0;32m----> 4\u001b[0m         data \u001b[38;5;241m=\u001b[39m \u001b[43moutputs\u001b[49m\u001b[38;5;241;43m.\u001b[39;49m\u001b[43mget\u001b[49m\u001b[43m(\u001b[49m\u001b[43mi\u001b[49m\u001b[43m)\u001b[49m\u001b[38;5;241;43m.\u001b[39;49m\u001b[43mget_sample\u001b[49m\u001b[43m(\u001b[49m\u001b[38;5;124;43m'\u001b[39;49m\u001b[38;5;124;43mintensity\u001b[39;49m\u001b[38;5;124;43m'\u001b[39;49m\u001b[43m)\u001b[49m,\n\u001b[1;32m      5\u001b[0m         sample_name \u001b[38;5;241m=\u001b[39m \u001b[38;5;124m'\u001b[39m\u001b[38;5;124mintensity\u001b[39m\u001b[38;5;124m'\u001b[39m,\n\u001b[1;32m      6\u001b[0m         statistic \u001b[38;5;241m=\u001b[39m \u001b[38;5;124m'\u001b[39m\u001b[38;5;124msignedmean\u001b[39m\u001b[38;5;124m'\u001b[39m,\n\u001b[1;32m      7\u001b[0m         dim \u001b[38;5;241m=\u001b[39m [\u001b[38;5;124m'\u001b[39m\u001b[38;5;124mid\u001b[39m\u001b[38;5;124m'\u001b[39m]\n\u001b[1;32m      8\u001b[0m     )\n\u001b[1;32m      9\u001b[0m     intensity_srmse \u001b[38;5;241m=\u001b[39m srmse(\n\u001b[1;32m     10\u001b[0m         prediction \u001b[38;5;241m=\u001b[39m mean_intensity,\n\u001b[1;32m     11\u001b[0m         ground_truth \u001b[38;5;241m=\u001b[39m outputs\u001b[38;5;241m.\u001b[39mget(\u001b[38;5;241m0\u001b[39m)\u001b[38;5;241m.\u001b[39mget_sample(\u001b[38;5;124m'\u001b[39m\u001b[38;5;124mground_truth_table\u001b[39m\u001b[38;5;124m'\u001b[39m)\n\u001b[1;32m     12\u001b[0m     )\n\u001b[1;32m     15\u001b[0m     datum \u001b[38;5;241m=\u001b[39m \u001b[38;5;28mdict\u001b[39m(\u001b[38;5;28mzip\u001b[39m(\n\u001b[1;32m     16\u001b[0m         outputs\u001b[38;5;241m.\u001b[39mconfig\u001b[38;5;241m.\u001b[39msweep_param_names,\n\u001b[1;32m     17\u001b[0m         mean_intensity[\u001b[38;5;124m'\u001b[39m\u001b[38;5;124msweep\u001b[39m\u001b[38;5;124m'\u001b[39m]\u001b[38;5;241m.\u001b[39mvalues[\u001b[38;5;241m0\u001b[39m]\n\u001b[1;32m     18\u001b[0m     ))\n",
      "File \u001b[0;32m~/MultiResTICODM/multiresticodm/outputs.py:1261\u001b[0m, in \u001b[0;36mOutputs.get_sample\u001b[0;34m(self, sample_name)\u001b[0m\n\u001b[1;32m   1255\u001b[0m \u001b[38;5;28mself\u001b[39m\u001b[38;5;241m.\u001b[39mcheck_data_availability(\n\u001b[1;32m   1256\u001b[0m     sample_name \u001b[38;5;241m=\u001b[39m sample_name,\n\u001b[1;32m   1257\u001b[0m     input_names \u001b[38;5;241m=\u001b[39m IntensityModelClass\u001b[38;5;241m.\u001b[39mREQUIRED_INPUTS,\n\u001b[1;32m   1258\u001b[0m     output_names \u001b[38;5;241m=\u001b[39m IntensityModelClass\u001b[38;5;241m.\u001b[39mREQUIRED_OUTPUTS,\n\u001b[1;32m   1259\u001b[0m )\n\u001b[1;32m   1260\u001b[0m \u001b[38;5;66;03m# Instantiate ct\u001b[39;00m\n\u001b[0;32m-> 1261\u001b[0m IntensityModel \u001b[38;5;241m=\u001b[39m \u001b[43mIntensityModelClass\u001b[49m\u001b[43m(\u001b[49m\n\u001b[1;32m   1262\u001b[0m \u001b[43m    \u001b[49m\u001b[43mconfig\u001b[49m\u001b[43m \u001b[49m\u001b[38;5;241;43m=\u001b[39;49m\u001b[43m \u001b[49m\u001b[38;5;28;43mself\u001b[39;49m\u001b[38;5;241;43m.\u001b[39;49m\u001b[43mconfig\u001b[49m\u001b[43m,\u001b[49m\n\u001b[1;32m   1263\u001b[0m \u001b[43m    \u001b[49m\u001b[43mlogger\u001b[49m\u001b[43m \u001b[49m\u001b[38;5;241;43m=\u001b[39;49m\u001b[43m \u001b[49m\u001b[38;5;28;43mself\u001b[39;49m\u001b[38;5;241;43m.\u001b[39;49m\u001b[43mlogger\u001b[49m\u001b[43m,\u001b[49m\n\u001b[1;32m   1264\u001b[0m \u001b[43m    \u001b[49m\u001b[38;5;241;43m*\u001b[39;49m\u001b[38;5;241;43m*\u001b[39;49m\u001b[43m{\u001b[49m\u001b[38;5;28;43minput\u001b[39;49m\u001b[43m:\u001b[49m\u001b[38;5;28;43mself\u001b[39;49m\u001b[38;5;241;43m.\u001b[39;49m\u001b[43mget_sample\u001b[49m\u001b[43m(\u001b[49m\u001b[38;5;28;43minput\u001b[39;49m\u001b[43m)\u001b[49m\u001b[43m \u001b[49m\u001b[38;5;28;43;01mfor\u001b[39;49;00m\u001b[43m \u001b[49m\u001b[38;5;28;43minput\u001b[39;49m\u001b[43m \u001b[49m\u001b[38;5;129;43;01min\u001b[39;49;00m\u001b[43m \u001b[49m\u001b[43mIntensityModelClass\u001b[49m\u001b[38;5;241;43m.\u001b[39;49m\u001b[43mREQUIRED_INPUTS\u001b[49m\u001b[43m}\u001b[49m\n\u001b[1;32m   1265\u001b[0m \u001b[43m\u001b[49m\u001b[43m)\u001b[49m\n\u001b[1;32m   1266\u001b[0m \u001b[38;5;66;03m# Grand total\u001b[39;00m\n\u001b[1;32m   1267\u001b[0m grand_total \u001b[38;5;241m=\u001b[39m \u001b[38;5;28mself\u001b[39m\u001b[38;5;241m.\u001b[39minputs\u001b[38;5;241m.\u001b[39mdata\u001b[38;5;241m.\u001b[39mgrand_total \\\n\u001b[1;32m   1268\u001b[0m     \u001b[38;5;28;01mif\u001b[39;00m torch\u001b[38;5;241m.\u001b[39mis_tensor(\u001b[38;5;28mself\u001b[39m\u001b[38;5;241m.\u001b[39minputs\u001b[38;5;241m.\u001b[39mdata\u001b[38;5;241m.\u001b[39mgrand_total) \\\n\u001b[1;32m   1269\u001b[0m     \u001b[38;5;28;01melse\u001b[39;00m torch\u001b[38;5;241m.\u001b[39mtensor(\n\u001b[0;32m   (...)\u001b[0m\n\u001b[1;32m   1272\u001b[0m         dtype\u001b[38;5;241m=\u001b[39mint32\n\u001b[1;32m   1273\u001b[0m     )\n",
      "File \u001b[0;32m~/MultiResTICODM/multiresticodm/spatial_interaction_model.py:332\u001b[0m, in \u001b[0;36mTotallyConstrainedSIM.__init__\u001b[0;34m(self, config, true_parameters, device, **kwargs)\u001b[0m\n\u001b[1;32m    330\u001b[0m \u001b[38;5;250m\u001b[39m\u001b[38;5;124;03m'''  Constructor '''\u001b[39;00m\n\u001b[1;32m    331\u001b[0m \u001b[38;5;66;03m# Initialise constructor\u001b[39;00m\n\u001b[0;32m--> 332\u001b[0m \u001b[38;5;28;43msuper\u001b[39;49m\u001b[43m(\u001b[49m\u001b[43m)\u001b[49m\u001b[38;5;241;43m.\u001b[39;49m\u001b[38;5;21;43m__init__\u001b[39;49m\u001b[43m(\u001b[49m\n\u001b[1;32m    333\u001b[0m \u001b[43m    \u001b[49m\u001b[43mconfig\u001b[49m\u001b[43m \u001b[49m\u001b[38;5;241;43m=\u001b[39;49m\u001b[43m \u001b[49m\u001b[43mconfig\u001b[49m\u001b[43m,\u001b[49m\n\u001b[1;32m    334\u001b[0m \u001b[43m    \u001b[49m\u001b[43mtrue_parameters\u001b[49m\u001b[43m \u001b[49m\u001b[38;5;241;43m=\u001b[39;49m\u001b[43m \u001b[49m\u001b[43mtrue_parameters\u001b[49m\u001b[43m,\u001b[49m\n\u001b[1;32m    335\u001b[0m \u001b[43m    \u001b[49m\u001b[43mdevice\u001b[49m\u001b[43m \u001b[49m\u001b[38;5;241;43m=\u001b[39;49m\u001b[43m \u001b[49m\u001b[43mdevice\u001b[49m\u001b[43m,\u001b[49m\n\u001b[1;32m    336\u001b[0m \u001b[43m    \u001b[49m\u001b[38;5;241;43m*\u001b[39;49m\u001b[38;5;241;43m*\u001b[39;49m\u001b[43mkwargs\u001b[49m\n\u001b[1;32m    337\u001b[0m \u001b[43m\u001b[49m\u001b[43m)\u001b[49m\n\u001b[1;32m    338\u001b[0m \u001b[38;5;66;03m# Define type of spatial interaction model\u001b[39;00m\n\u001b[1;32m    339\u001b[0m \u001b[38;5;28mself\u001b[39m\u001b[38;5;241m.\u001b[39mname \u001b[38;5;241m=\u001b[39m \u001b[38;5;124m\"\u001b[39m\u001b[38;5;124mTotallyConstrained\u001b[39m\u001b[38;5;124m\"\u001b[39m\n",
      "File \u001b[0;32m~/MultiResTICODM/multiresticodm/spatial_interaction_model.py:113\u001b[0m, in \u001b[0;36mSpatialInteraction2D.__init__\u001b[0;34m(self, config, true_parameters, **kwargs)\u001b[0m\n\u001b[1;32m    111\u001b[0m         dims \u001b[38;5;241m=\u001b[39m \u001b[38;5;28mlist\u001b[39m(\u001b[38;5;28mself\u001b[39m\u001b[38;5;241m.\u001b[39mdata\u001b[38;5;241m.\u001b[39mcost_matrix\u001b[38;5;241m.\u001b[39msize())\n\u001b[1;32m    112\u001b[0m     \u001b[38;5;28;01melse\u001b[39;00m:\n\u001b[0;32m--> 113\u001b[0m         dims \u001b[38;5;241m=\u001b[39m [\u001b[38;5;28mself\u001b[39m\u001b[38;5;241m.\u001b[39mdata\u001b[38;5;241m.\u001b[39mcost_matrix\u001b[38;5;241m.\u001b[39msizes[d] \u001b[38;5;28;01mfor\u001b[39;00m d \u001b[38;5;129;01min\u001b[39;00m \u001b[38;5;28;43mself\u001b[39;49m\u001b[38;5;241;43m.\u001b[39;49m\u001b[43mdim_names\u001b[49m]\n\u001b[1;32m    114\u001b[0m     \u001b[38;5;28mself\u001b[39m\u001b[38;5;241m.\u001b[39mdims \u001b[38;5;241m=\u001b[39m \u001b[38;5;28mdict\u001b[39m(\u001b[38;5;28mzip\u001b[39m(\u001b[38;5;28mself\u001b[39m\u001b[38;5;241m.\u001b[39mdims_names,dims))\n\u001b[1;32m    115\u001b[0m \u001b[38;5;66;03m# Update config\u001b[39;00m\n",
      "\u001b[0;31mAttributeError\u001b[0m: 'TotallyConstrainedSIM' object has no attribute 'dim_names'"
     ]
    }
   ],
   "source": [
    "data = []\n",
    "for i in tqdm(range(len(outputs.data))):\n",
    "    mean_intensity = outputs.get(i).compute_statistic(\n",
    "        data = outputs.get(i).get_sample('intensity'),\n",
    "        sample_name = 'intensity',\n",
    "        statistic = 'signedmean',\n",
    "        dim = ['id']\n",
    "    )\n",
    "    intensity_srmse = srmse(\n",
    "        prediction = mean_intensity,\n",
    "        ground_truth = outputs.get(0).get_sample('ground_truth_table')\n",
    "    )\n",
    "    \n",
    "\n",
    "    datum = dict(zip(\n",
    "        outputs.config.sweep_param_names,\n",
    "        mean_intensity['sweep'].values[0]\n",
    "    ))\n",
    "    datum['intensity_srmse'] = intensity_srmse.values[0]\n",
    "    try:\n",
    "        mean_table = outputs.get(i).compute_statistic(\n",
    "            data = outputs.get(i).get_sample('table'),\n",
    "            sample_name = 'table',\n",
    "            statistic = 'mean',\n",
    "            dim = ['id']\n",
    "        )\n",
    "        table_srmse = srmse(\n",
    "            prediction = mean_intensity,\n",
    "            ground_truth = outputs.get(0).get_sample('ground_truth_table')\n",
    "        )\n",
    "        datum['table_srmse'] = table_srmse.values[0]\n",
    "    except:\n",
    "        pass\n",
    "    data.append(datum)"
   ]
  },
  {
   "cell_type": "code",
   "execution_count": null,
   "metadata": {},
   "outputs": [],
   "source": [
    "pd.DataFrame.from_records(data)"
   ]
  },
  {
   "cell_type": "code",
   "execution_count": null,
   "metadata": {},
   "outputs": [],
   "source": [
    "srmse(\n",
    "    prediction = mean_intensity,\n",
    "    ground_truth = outputs.get(0).get_sample('ground_truth_table')\n",
    ")"
   ]
  }
 ],
 "metadata": {
  "kernelspec": {
   "display_name": "mrticodm",
   "language": "python",
   "name": "python3"
  },
  "language_info": {
   "codemirror_mode": {
    "name": "ipython",
    "version": 3
   },
   "file_extension": ".py",
   "mimetype": "text/x-python",
   "name": "python",
   "nbconvert_exporter": "python",
   "pygments_lexer": "ipython3",
   "version": "3.9.18"
  }
 },
 "nbformat": 4,
 "nbformat_minor": 2
}
