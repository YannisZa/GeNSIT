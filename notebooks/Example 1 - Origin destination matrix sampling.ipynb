{
 "cells": [
  {
   "cell_type": "code",
   "execution_count": 4,
   "metadata": {},
   "outputs": [],
   "source": [
    "import os\n",
    "import gc\n",
    "import sys\n",
    "import json\n",
    "import gzip\n",
    "import glob\n",
    "import itertools\n",
    "import numpy as np\n",
    "import pandas as pd\n",
    "import sklearn.manifold\n",
    "import matplotlib as mpl\n",
    "import matplotlib.pyplot as plt\n",
    "\n",
    "from math import comb\n",
    "from tqdm import tqdm\n",
    "from copy import deepcopy\n",
    "from argparse import Namespace\n",
    "from collections import OrderedDict\n",
    "from functools import partial\n",
    "from scipy.stats import multinomial\n",
    "\n",
    "from ticodm.utils import *\n",
    "from ticodm.spatial_interaction_model import ProductionConstrained\n",
    "from ticodm.contingency_table_mcmc import ContingencyTableMarkovChainMonteCarlo\n",
    "from ticodm.contingency_table import instantiate_ct, ContingencyTable2D\n",
    "\n",
    "mpl.rcParams['agg.path.chunksize'] = 10000"
   ]
  },
  {
   "cell_type": "code",
   "execution_count": 5,
   "metadata": {},
   "outputs": [],
   "source": [
    "%matplotlib inline\n",
    "\n",
    "# AUTO RELOAD EXTERNAL MODULES\n",
    "%load_ext autoreload\n",
    "%autoreload 2"
   ]
  },
  {
   "cell_type": "markdown",
   "metadata": {},
   "source": [
    "This notebook outlines key functionality of the ```ContingencyTable``` and ```ContingencyTableMarkovChainMonteCarlo``` classes that are used for constructing and sampling discrete origin-destination matrices (ODMs), respectively."
   ]
  },
  {
   "cell_type": "markdown",
   "metadata": {},
   "source": [
    "# Create a 2D table\n",
    "Choose a specific number of rows $I$ and number of columns $J$ to create a table.\n",
    "Rows usually correspond to number of origin locations while columns map to destination locations."
   ]
  },
  {
   "cell_type": "code",
   "execution_count": 6,
   "metadata": {},
   "outputs": [],
   "source": [
    "# Choose 2D table size\n",
    "I,J = 5,6\n",
    "# Randomly create a 2D discrete origin-destination matrix\n",
    "table = np.random.randint(1,50,size=(I*J)).reshape((I,J)).astype('int32')"
   ]
  },
  {
   "cell_type": "markdown",
   "metadata": {},
   "source": [
    "Initialise a contingency table (another name for discrete origin - destination matrix). Two types of constraints are provided: axes and cells.  The specified below constraint implies that:\n",
    "1. All rowsums (sums over axis 1) are fixed. This can be the origin demand for a location choice problem.\n",
    "2. The values of cells (0,1) and (4,2) are fixed. These are specifc OD-pairs."
   ]
  },
  {
   "cell_type": "code",
   "execution_count": 7,
   "metadata": {},
   "outputs": [],
   "source": [
    "# Initialise contingency table (discrete origin - destination matrix)\n",
    "ct = ContingencyTable2D(\n",
    "    table=table,\n",
    "    constraints={\n",
    "        \"axes\":[[1]],\n",
    "        \"cells\":[(0,1),(4,2)]\n",
    "    }\n",
    ")"
   ]
  },
  {
   "cell_type": "markdown",
   "metadata": {},
   "source": [
    "The above initialisation is equivalent to fixed the grand total of the table as follows"
   ]
  },
  {
   "cell_type": "code",
   "execution_count": 8,
   "metadata": {},
   "outputs": [],
   "source": [
    "# Initialise contingency table (discrete origin - destination matrix)\n",
    "ct = ContingencyTable2D(\n",
    "    table=table,\n",
    "    constraints={\n",
    "        \"axes\":[[1],[0,1]],\n",
    "        \"cells\":[(0,1),(4,2)]\n",
    "    }\n",
    ")"
   ]
  },
  {
   "cell_type": "markdown",
   "metadata": {},
   "source": [
    "Note that simply writing ```\"axes\":[1]``` is going to throw an error."
   ]
  },
  {
   "cell_type": "code",
   "execution_count": 9,
   "metadata": {},
   "outputs": [
    {
     "ename": "TypeError",
     "evalue": "object of type 'int' has no len()",
     "output_type": "error",
     "traceback": [
      "\u001b[0;31m---------------------------------------------------------------------------\u001b[0m",
      "\u001b[0;31mTypeError\u001b[0m                                 Traceback (most recent call last)",
      "\u001b[1;32m/home/iz230@ad.eng.cam.ac.uk/ticodm/notebooks/Example 1 - Origin destination matrix sampling.ipynb Cell 11\u001b[0m in \u001b[0;36m<cell line: 2>\u001b[0;34m()\u001b[0m\n\u001b[1;32m      <a href='vscode-notebook-cell://ssh-remote%2Bcsic40/home/iz230%40ad.eng.cam.ac.uk/ticodm/notebooks/Example%201%20-%20Origin%20destination%20matrix%20sampling.ipynb#X13sdnNjb2RlLXJlbW90ZQ%3D%3D?line=0'>1</a>\u001b[0m \u001b[39m# Initialise contingency table (discrete origin - destination matrix)\u001b[39;00m\n\u001b[0;32m----> <a href='vscode-notebook-cell://ssh-remote%2Bcsic40/home/iz230%40ad.eng.cam.ac.uk/ticodm/notebooks/Example%201%20-%20Origin%20destination%20matrix%20sampling.ipynb#X13sdnNjb2RlLXJlbW90ZQ%3D%3D?line=1'>2</a>\u001b[0m ct \u001b[39m=\u001b[39m ContingencyTable2D(\n\u001b[1;32m      <a href='vscode-notebook-cell://ssh-remote%2Bcsic40/home/iz230%40ad.eng.cam.ac.uk/ticodm/notebooks/Example%201%20-%20Origin%20destination%20matrix%20sampling.ipynb#X13sdnNjb2RlLXJlbW90ZQ%3D%3D?line=2'>3</a>\u001b[0m     table\u001b[39m=\u001b[39;49mtable,\n\u001b[1;32m      <a href='vscode-notebook-cell://ssh-remote%2Bcsic40/home/iz230%40ad.eng.cam.ac.uk/ticodm/notebooks/Example%201%20-%20Origin%20destination%20matrix%20sampling.ipynb#X13sdnNjb2RlLXJlbW90ZQ%3D%3D?line=3'>4</a>\u001b[0m     constraints\u001b[39m=\u001b[39;49m{\n\u001b[1;32m      <a href='vscode-notebook-cell://ssh-remote%2Bcsic40/home/iz230%40ad.eng.cam.ac.uk/ticodm/notebooks/Example%201%20-%20Origin%20destination%20matrix%20sampling.ipynb#X13sdnNjb2RlLXJlbW90ZQ%3D%3D?line=4'>5</a>\u001b[0m         \u001b[39m\"\u001b[39;49m\u001b[39maxes\u001b[39;49m\u001b[39m\"\u001b[39;49m:[\u001b[39m1\u001b[39;49m],\n\u001b[1;32m      <a href='vscode-notebook-cell://ssh-remote%2Bcsic40/home/iz230%40ad.eng.cam.ac.uk/ticodm/notebooks/Example%201%20-%20Origin%20destination%20matrix%20sampling.ipynb#X13sdnNjb2RlLXJlbW90ZQ%3D%3D?line=5'>6</a>\u001b[0m         \u001b[39m\"\u001b[39;49m\u001b[39mcells\u001b[39;49m\u001b[39m\"\u001b[39;49m:[(\u001b[39m0\u001b[39;49m,\u001b[39m1\u001b[39;49m),(\u001b[39m4\u001b[39;49m,\u001b[39m2\u001b[39;49m)]\n\u001b[1;32m      <a href='vscode-notebook-cell://ssh-remote%2Bcsic40/home/iz230%40ad.eng.cam.ac.uk/ticodm/notebooks/Example%201%20-%20Origin%20destination%20matrix%20sampling.ipynb#X13sdnNjb2RlLXJlbW90ZQ%3D%3D?line=6'>7</a>\u001b[0m     }\n\u001b[1;32m      <a href='vscode-notebook-cell://ssh-remote%2Bcsic40/home/iz230%40ad.eng.cam.ac.uk/ticodm/notebooks/Example%201%20-%20Origin%20destination%20matrix%20sampling.ipynb#X13sdnNjb2RlLXJlbW90ZQ%3D%3D?line=7'>8</a>\u001b[0m )\n",
      "File \u001b[0;32m~/ticodm/ticodm/contingency_table.py:821\u001b[0m, in \u001b[0;36mContingencyTable2D.__init__\u001b[0;34m(self, table, config, disable_logger, **kwargs)\u001b[0m\n\u001b[1;32m    819\u001b[0m \u001b[39msuper\u001b[39m()\u001b[39m.\u001b[39m\u001b[39m__init__\u001b[39m(table, config, disable_logger, \u001b[39m*\u001b[39m\u001b[39m*\u001b[39mkwargs)\n\u001b[1;32m    820\u001b[0m \u001b[39m# Build\u001b[39;00m\n\u001b[0;32m--> 821\u001b[0m \u001b[39mself\u001b[39;49m\u001b[39m.\u001b[39;49mbuild(table\u001b[39m=\u001b[39;49mtable, config\u001b[39m=\u001b[39;49mconfig, \u001b[39m*\u001b[39;49m\u001b[39m*\u001b[39;49mkwargs)\n",
      "File \u001b[0;32m~/ticodm/ticodm/contingency_table.py:96\u001b[0m, in \u001b[0;36mContingencyTable.build\u001b[0;34m(self, table, config, **kwargs)\u001b[0m\n\u001b[1;32m     93\u001b[0m     \u001b[39mraise\u001b[39;00m \u001b[39mException\u001b[39;00m(\u001b[39m'\u001b[39m\u001b[39mCannot initialise Contingency table.\u001b[39m\u001b[39m'\u001b[39m)\n\u001b[1;32m     95\u001b[0m \u001b[39m# Read constraints\u001b[39;00m\n\u001b[0;32m---> 96\u001b[0m \u001b[39mself\u001b[39;49m\u001b[39m.\u001b[39;49mread_constraints(\u001b[39m*\u001b[39;49m\u001b[39m*\u001b[39;49mkwargs)\n\u001b[1;32m     98\u001b[0m \u001b[39m# Create cell_locations\u001b[39;00m\n\u001b[1;32m     99\u001b[0m \u001b[39mself\u001b[39m\u001b[39m.\u001b[39mcells \u001b[39m=\u001b[39m \u001b[39msorted\u001b[39m([tuplize(cell) \u001b[39mfor\u001b[39;00m cell \u001b[39min\u001b[39;00m product(\u001b[39m*\u001b[39m[\u001b[39mrange\u001b[39m(dim) \u001b[39mfor\u001b[39;00m dim \u001b[39min\u001b[39;00m \u001b[39mself\u001b[39m\u001b[39m.\u001b[39mdims])])\n",
      "File \u001b[0;32m~/ticodm/ticodm/contingency_table.py:491\u001b[0m, in \u001b[0;36mContingencyTable.read_constraints\u001b[0;34m(self, **kwargs)\u001b[0m\n\u001b[1;32m    489\u001b[0m \u001b[39melif\u001b[39;00m str_in_list(\u001b[39m'\u001b[39m\u001b[39mconstraints\u001b[39m\u001b[39m'\u001b[39m, kwargs\u001b[39m.\u001b[39mkeys()):\n\u001b[1;32m    490\u001b[0m     \u001b[39mif\u001b[39;00m str_in_list(\u001b[39m'\u001b[39m\u001b[39maxes\u001b[39m\u001b[39m'\u001b[39m, kwargs[\u001b[39m'\u001b[39m\u001b[39mconstraints\u001b[39m\u001b[39m'\u001b[39m]\u001b[39m.\u001b[39mkeys()):\n\u001b[0;32m--> 491\u001b[0m         constrained_axes \u001b[39m=\u001b[39m [tuplize(ax) \u001b[39mfor\u001b[39;00m ax \u001b[39min\u001b[39;00m kwargs[\u001b[39m'\u001b[39m\u001b[39mconstraints\u001b[39m\u001b[39m'\u001b[39m][\u001b[39m'\u001b[39m\u001b[39maxes\u001b[39m\u001b[39m'\u001b[39m] \u001b[39mif\u001b[39;00m \u001b[39mlen\u001b[39m(ax) \u001b[39m>\u001b[39m \u001b[39m0\u001b[39m]\n\u001b[1;32m    492\u001b[0m     \u001b[39mif\u001b[39;00m str_in_list(\u001b[39m'\u001b[39m\u001b[39mcells\u001b[39m\u001b[39m'\u001b[39m, kwargs[\u001b[39m'\u001b[39m\u001b[39mconstraints\u001b[39m\u001b[39m'\u001b[39m]\u001b[39m.\u001b[39mkeys()):\n\u001b[1;32m    493\u001b[0m         \u001b[39mif\u001b[39;00m \u001b[39misinstance\u001b[39m(kwargs[\u001b[39m'\u001b[39m\u001b[39mconstraints\u001b[39m\u001b[39m'\u001b[39m][\u001b[39m'\u001b[39m\u001b[39mcells\u001b[39m\u001b[39m'\u001b[39m],\u001b[39mstr\u001b[39m):\n",
      "File \u001b[0;32m~/ticodm/ticodm/contingency_table.py:491\u001b[0m, in \u001b[0;36m<listcomp>\u001b[0;34m(.0)\u001b[0m\n\u001b[1;32m    489\u001b[0m \u001b[39melif\u001b[39;00m str_in_list(\u001b[39m'\u001b[39m\u001b[39mconstraints\u001b[39m\u001b[39m'\u001b[39m, kwargs\u001b[39m.\u001b[39mkeys()):\n\u001b[1;32m    490\u001b[0m     \u001b[39mif\u001b[39;00m str_in_list(\u001b[39m'\u001b[39m\u001b[39maxes\u001b[39m\u001b[39m'\u001b[39m, kwargs[\u001b[39m'\u001b[39m\u001b[39mconstraints\u001b[39m\u001b[39m'\u001b[39m]\u001b[39m.\u001b[39mkeys()):\n\u001b[0;32m--> 491\u001b[0m         constrained_axes \u001b[39m=\u001b[39m [tuplize(ax) \u001b[39mfor\u001b[39;00m ax \u001b[39min\u001b[39;00m kwargs[\u001b[39m'\u001b[39m\u001b[39mconstraints\u001b[39m\u001b[39m'\u001b[39m][\u001b[39m'\u001b[39m\u001b[39maxes\u001b[39m\u001b[39m'\u001b[39m] \u001b[39mif\u001b[39;00m \u001b[39mlen\u001b[39;49m(ax) \u001b[39m>\u001b[39m \u001b[39m0\u001b[39m]\n\u001b[1;32m    492\u001b[0m     \u001b[39mif\u001b[39;00m str_in_list(\u001b[39m'\u001b[39m\u001b[39mcells\u001b[39m\u001b[39m'\u001b[39m, kwargs[\u001b[39m'\u001b[39m\u001b[39mconstraints\u001b[39m\u001b[39m'\u001b[39m]\u001b[39m.\u001b[39mkeys()):\n\u001b[1;32m    493\u001b[0m         \u001b[39mif\u001b[39;00m \u001b[39misinstance\u001b[39m(kwargs[\u001b[39m'\u001b[39m\u001b[39mconstraints\u001b[39m\u001b[39m'\u001b[39m][\u001b[39m'\u001b[39m\u001b[39mcells\u001b[39m\u001b[39m'\u001b[39m],\u001b[39mstr\u001b[39m):\n",
      "\u001b[0;31mTypeError\u001b[0m: object of type 'int' has no len()"
     ]
    }
   ],
   "source": [
    "# Initialise contingency table (discrete origin - destination matrix)\n",
    "ct = ContingencyTable2D(\n",
    "    table=table,\n",
    "    constraints={\n",
    "        \"axes\":[1],\n",
    "        \"cells\":[(0,1),(4,2)]\n",
    "    }\n",
    ")"
   ]
  },
  {
   "cell_type": "markdown",
   "metadata": {},
   "source": [
    "We have now initialised a 5x6 ODM."
   ]
  },
  {
   "cell_type": "code",
   "execution_count": 10,
   "metadata": {},
   "outputs": [
    {
     "data": {
      "text/plain": [
       "5x6 ContingencyTable2(Config)"
      ]
     },
     "execution_count": 10,
     "metadata": {},
     "output_type": "execute_result"
    }
   ],
   "source": [
    "# View object\n",
    "ct"
   ]
  },
  {
   "cell_type": "code",
   "execution_count": 11,
   "metadata": {},
   "outputs": [
    {
     "data": {
      "text/plain": [
       "array([[17,  1, 21, 21, 40, 39],\n",
       "       [ 5, 32, 40, 12, 39,  4],\n",
       "       [31, 40, 27, 22, 24, 28],\n",
       "       [ 4, 44, 37, 31, 38, 41],\n",
       "       [49, 34, 44, 45, 43, 28]], dtype=int32)"
      ]
     },
     "execution_count": 11,
     "metadata": {},
     "output_type": "execute_result"
    }
   ],
   "source": [
    "# Print table\n",
    "ct.table"
   ]
  },
  {
   "cell_type": "code",
   "execution_count": 12,
   "metadata": {},
   "outputs": [
    {
     "data": {
      "text/plain": [
       "array([5, 6], dtype=uint8)"
      ]
     },
     "execution_count": 12,
     "metadata": {},
     "output_type": "execute_result"
    }
   ],
   "source": [
    "# Print table dimensions\n",
    "ct.dims"
   ]
  },
  {
   "cell_type": "code",
   "execution_count": 13,
   "metadata": {},
   "outputs": [
    {
     "data": {
      "text/plain": [
       "{(0,): array([106, 151, 169, 131, 184, 140], dtype=int32),\n",
       " (1,): array([139, 132, 172, 195, 243], dtype=int32),\n",
       " (0, 1): array([881], dtype=int32)}"
      ]
     },
     "execution_count": 13,
     "metadata": {},
     "output_type": "execute_result"
    }
   ],
   "source": [
    "# Print margins\n",
    "ct.residual_margins\n",
    "# ct.margins"
   ]
  },
  {
   "cell_type": "markdown",
   "metadata": {},
   "source": [
    "Note that fixing the rowsums implies also fixing the grand total of the table indexed by a sum over both 0 and 1 axes."
   ]
  },
  {
   "cell_type": "code",
   "execution_count": 14,
   "metadata": {},
   "outputs": [
    {
     "data": {
      "text/plain": [
       "[(0, 1), (1,)]"
      ]
     },
     "execution_count": 14,
     "metadata": {},
     "output_type": "execute_result"
    }
   ],
   "source": [
    "# Print constrained axes\n",
    "ct.constraints['constrained_axes']"
   ]
  },
  {
   "cell_type": "code",
   "execution_count": 15,
   "metadata": {},
   "outputs": [
    {
     "name": "stdout",
     "output_type": "stream",
     "text": [
      "(0, 1) : [881] 881\n",
      "(1,) : [139 132 172 195 243] 881\n"
     ]
    }
   ],
   "source": [
    "# Print margins for constrained axes\n",
    "for ax in ct.constraints['constrained_axes']:\n",
    "    print(ax,\":\",ct.residual_margins[ax],ct.residual_margins[ax].sum())"
   ]
  },
  {
   "cell_type": "code",
   "execution_count": 16,
   "metadata": {},
   "outputs": [
    {
     "data": {
      "text/plain": [
       "[(0, 1), (4, 2)]"
      ]
     },
     "execution_count": 16,
     "metadata": {},
     "output_type": "execute_result"
    }
   ],
   "source": [
    "# Print constrained cells\n",
    "ct.constraints['cells']"
   ]
  },
  {
   "cell_type": "code",
   "execution_count": 17,
   "metadata": {},
   "outputs": [
    {
     "name": "stdout",
     "output_type": "stream",
     "text": [
      "(0, 1) : 1\n",
      "(4, 2) : 44\n"
     ]
    }
   ],
   "source": [
    "# Print values of constrained cells\n",
    "for c in ct.constraints['cells']:\n",
    "    print(c,\":\",ct.table[c])"
   ]
  },
  {
   "cell_type": "markdown",
   "metadata": {},
   "source": [
    "# Deterministic optimisation algorithms\n",
    "\n",
    "A simple way of generating a table satisfying all constraints is to use iterative residual filling (similar to iterative proportional fitting). This can be done as follows"
   ]
  },
  {
   "cell_type": "code",
   "execution_count": 86,
   "metadata": {},
   "outputs": [],
   "source": [
    "# Initialise contingency table (discrete origin - destination matrix)\n",
    "ct = ContingencyTable2D(\n",
    "    table=table,\n",
    "    constraints={\n",
    "        \"axes\":[[1]],\n",
    "        \"cells\":[(0,1),(4,2)]\n",
    "    }\n",
    ")"
   ]
  },
  {
   "cell_type": "code",
   "execution_count": 93,
   "metadata": {},
   "outputs": [],
   "source": [
    "# Obtain solution using mininum residual filling solver\n",
    "table_solution = ct.table_iterative_residual_filling_solution()"
   ]
  },
  {
   "cell_type": "code",
   "execution_count": 99,
   "metadata": {},
   "outputs": [
    {
     "data": {
      "text/plain": [
       "array([[106,   1,  32,   0,   0,   0],\n",
       "       [  0,  63,  57,  12,   0,   0],\n",
       "       [  0,  45,  33,  31,  36,  27],\n",
       "       [  0,  25,   3,  71,  77,  19],\n",
       "       [  0,  17,  44,  17,  71,  94]], dtype=int32)"
      ]
     },
     "execution_count": 99,
     "metadata": {},
     "output_type": "execute_result"
    }
   ],
   "source": [
    "table_solution"
   ]
  },
  {
   "cell_type": "code",
   "execution_count": 94,
   "metadata": {},
   "outputs": [
    {
     "data": {
      "text/plain": [
       "True"
      ]
     },
     "execution_count": 94,
     "metadata": {},
     "output_type": "execute_result"
    }
   ],
   "source": [
    "# Ensure that table satisfies constraints\n",
    "ct.table_margins_admissible(table_solution) and ct.table_cells_admissible(table_solution)"
   ]
  },
  {
   "cell_type": "code",
   "execution_count": 128,
   "metadata": {},
   "outputs": [],
   "source": [
    "# Obtain solution using uniform filling solver\n",
    "table_solution = ct.table_iterative_uniform_residual_filling_solution()"
   ]
  },
  {
   "cell_type": "code",
   "execution_count": 129,
   "metadata": {},
   "outputs": [
    {
     "data": {
      "text/plain": [
       "array([[106,   1,  32,   0,   0,   0],\n",
       "       [  0,  63,  57,  12,   0,   0],\n",
       "       [  0,  45,  33,  31,  36,  27],\n",
       "       [  0,  25,   3,  71,  20,  76],\n",
       "       [  0,  17,  44,  17, 128,  37]], dtype=int32)"
      ]
     },
     "execution_count": 129,
     "metadata": {},
     "output_type": "execute_result"
    }
   ],
   "source": [
    "table_solution"
   ]
  },
  {
   "cell_type": "code",
   "execution_count": 130,
   "metadata": {},
   "outputs": [
    {
     "data": {
      "text/plain": [
       "True"
      ]
     },
     "execution_count": 130,
     "metadata": {},
     "output_type": "execute_result"
    }
   ],
   "source": [
    "# Ensure that table satisfies constraints\n",
    "ct.table_margins_admissible(table_solution) and ct.table_cells_admissible(table_solution)"
   ]
  },
  {
   "cell_type": "markdown",
   "metadata": {},
   "source": [
    "# Markov Chain Monte Carlo sampling of tables"
   ]
  },
  {
   "cell_type": "markdown",
   "metadata": {},
   "source": []
  }
 ],
 "metadata": {
  "kernelspec": {
   "display_name": "ticodm",
   "language": "python",
   "name": "ticodm"
  },
  "language_info": {
   "codemirror_mode": {
    "name": "ipython",
    "version": 3
   },
   "file_extension": ".py",
   "mimetype": "text/x-python",
   "name": "python",
   "nbconvert_exporter": "python",
   "pygments_lexer": "ipython3",
   "version": "3.8.10"
  },
  "orig_nbformat": 4
 },
 "nbformat": 4,
 "nbformat_minor": 2
}
