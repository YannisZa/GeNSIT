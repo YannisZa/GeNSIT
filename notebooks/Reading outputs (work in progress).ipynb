{
  "cells": [
    {
      "cell_type": "code",
      "execution_count": 1,
      "id": "c76b8620",
      "metadata": {},
      "outputs": [],
      "source": [
        "import os\n",
        "import glob\n",
        "import warnings\n",
        "import h5py as h5\n",
        "import numpy as np\n",
        "import pandas as pd\n",
        "import matplotlib as mpl\n",
        "import matplotlib.pyplot as plt\n",
        "\n",
        "from tqdm.auto import tqdm\n",
        "from copy import deepcopy\n",
        "\n",
        "from gensit.config import Config\n",
        "from gensit.inputs import Inputs\n",
        "from gensit.outputs import Outputs\n",
        "from gensit.utils.misc_utils import *\n",
        "from gensit.utils.math_utils import *\n",
        "from gensit.utils.probability_utils import *\n",
        "from gensit.contingency_table import instantiate_ct\n",
        "from gensit.markov_basis import instantiate_markov_basis"
      ]
    },
    {
      "cell_type": "code",
      "execution_count": 2,
      "id": "b718b815",
      "metadata": {},
      "outputs": [],
      "source": [
        "%matplotlib inline\n",
        "\n",
        "# AUTO RELOAD EXTERNAL MODULES\n",
        "%load_ext autoreload\n",
        "%autoreload 2"
      ]
    },
    {
      "cell_type": "markdown",
      "id": "880cdfcb",
      "metadata": {},
      "source": [
        "## Import samples"
      ]
    },
    {
      "cell_type": "code",
      "execution_count": 3,
      "id": "e21669cd",
      "metadata": {},
      "outputs": [],
      "source": [
        "# Specify experiment id\n",
        "experiment_id = \"RSquared_Analysis_LowNoise_16_04_2024_16_25_27\"\n",
        "config_id = 'experiment_r_squared'\n",
        "# 'experiment1_disjoint'\n",
        "# 'experiment_r_squared'\n",
        "# Specify experiment group id\n",
        "dataset = 'DC'\n",
        "#'DC'\n",
        "#'cambridge_work_commuter_lsoas_to_msoas'\n",
        "#'sioux_falls'\n",
        "experiment_group_id = 'r_squared'\n",
        "# 'r_squared'\n",
        "# 'exp1'\n",
        "experiment_dir = f'../data/outputs/{dataset}/{experiment_group_id}/{experiment_id}/'\n",
        "relative_experiment_dir = os.path.relpath(experiment_dir,os.getcwd())"
      ]
    },
    {
      "cell_type": "code",
      "execution_count": 4,
      "id": "9b1c638c",
      "metadata": {},
      "outputs": [],
      "source": [
        "# Create new logging object\n",
        "logger = setup_logger(\n",
        "    __name__,\n",
        "    console_level = 'INFO',\n",
        "    file_level = 'EMPTY'\n",
        ")"
      ]
    },
    {
      "cell_type": "code",
      "execution_count": null,
      "id": "41e02907",
      "metadata": {},
      "outputs": [],
      "source": [
        "# Output processing settings\n",
        "settings = {\n",
        "    \"logging_mode\": \"INFO\",\n",
        "    # \"coordinate_slice\": [\n",
        "    #     \"da.loss_name == str(['dest_attraction_ts_likelihood_loss'])\"\n",
        "    # ],\n",
        "    # \"coordinate_slice\": [\n",
        "    #     \"da.destination_attraction_ts == str('destination_attraction_demand_ts_sum_normalised.txt')\",\n",
        "    #     \"da.cost_matrix == str('cost_matrix_large_diagonal_sum_normalised.txt')\",\n",
        "    #     \"da.bmax == 10944.0\"\n",
        "    #     \"da.loss_name == str(['dest_attraction_ts_likelihood_loss'])\",\n",
        "    #     \"~da.title.isin([str('_unconstrained'), str('_total_constrained')])\"\n",
        "    # ],\n",
        "    \"metadata_keys\":[],\n",
        "    \"burnin_thinning_trimming\": [],\n",
        "    # {'iter': {\"burnin\":10000, \"thinning\":90, \"trimming\":1000}}\n",
        "    \"n_workers\": 1,\n",
        "    \"group_by\":[],\n",
        "    \"filename_ending\":\"test\",\n",
        "    \"sample\":[\"intensity\"],\n",
        "    \"force_reload\":True\n",
        "}"
      ]
    },
    {
      "cell_type": "code",
      "execution_count": null,
      "id": "833a9fad",
      "metadata": {},
      "outputs": [],
      "source": [
        "# Initialise outputs\n",
        "current_sweep_outputs = Outputs(\n",
        "    config = os.path.join(relative_experiment_dir,\"config.json\"),\n",
        "    settings = settings,\n",
        "    inputs = None,\n",
        "    slice = True,\n",
        "    level = 'INFO'\n",
        ")\n",
        "# Silence outputs\n",
        "current_sweep_outputs.logger.setLevels(console_level='EMPTY')\n",
        "# Load all data\n",
        "current_sweep_outputs.load()"
      ]
    },
    {
      "cell_type": "code",
      "execution_count": null,
      "id": "109abcb3",
      "metadata": {},
      "outputs": [],
      "source": [
        "conf = Config(\n",
        "    path = os.path.join(relative_experiment_dir,\"config.json\")\n",
        ")\n",
        "ins = Inputs(\n",
        "    config = conf\n",
        ")\n",
        "ins.cast_to_xarray()"
      ]
    },
    {
      "cell_type": "code",
      "execution_count": null,
      "id": "f30f4b65",
      "metadata": {},
      "outputs": [],
      "source": [
        "data_index = 0\n",
        "sweep_outputs_slice = current_sweep_outputs.get(data_index)"
      ]
    },
    {
      "cell_type": "markdown",
      "id": "567bc38f",
      "metadata": {},
      "source": [
        "# $R^2$ analysis"
      ]
    },
    {
      "cell_type": "code",
      "execution_count": null,
      "id": "36938bed",
      "metadata": {},
      "outputs": [],
      "source": [
        "sweep_outputs_slice.data.r2.coords"
      ]
    },
    {
      "cell_type": "code",
      "execution_count": null,
      "id": "3eb1df35",
      "metadata": {},
      "outputs": [],
      "source": [
        "r2 = sweep_outputs_slice.data.r2\n",
        "alpha_range = current_sweep_outputs.config['experiments'][0]['grid_ranges']['alpha']\n",
        "r2['alpha_range'] = np.linspace(alpha_range['min'],alpha_range['max'],alpha_range['n'],endpoint=True)\n",
        "r2['alpha_range'] = r2['alpha_range'].values\n",
        "beta_range = current_sweep_outputs.config['experiments'][0]['grid_ranges']['beta']\n",
        "r2['beta_range'] = np.linspace(beta_range['min'],beta_range['max'],beta_range['n'],endpoint=True)\n",
        "r2['beta_range'] = r2['beta_range'].values"
      ]
    },
    {
      "cell_type": "code",
      "execution_count": null,
      "id": "ac9d884a",
      "metadata": {},
      "outputs": [],
      "source": [
        "argmax_index = np.unravel_index(np.argmax(r2.values.squeeze()), np.shape(r2.values.squeeze()))\n",
        "plt.figure(figsize=(20,20))\n",
        "plt.imshow(r2, cmap='RdYlGn', interpolation='nearest')\n",
        "plt.scatter(argmax_index[1],argmax_index[0],marker='x',color='black',s=500)\n",
        "plt.yticks(ticks=range(len(r2['alpha_range'])),labels=np.round(r2['alpha_range'].values,2))\n",
        "plt.ylabel('alpha')\n",
        "plt.xticks(ticks=range(len(r2['beta_range'])),labels=np.round(r2['beta_range'].values,2))\n",
        "plt.xlabel('beta')\n",
        "for i in range(len(r2['alpha_range'])):\n",
        "    for j in range(len(r2['beta_range'])):\n",
        "        plt.text(j,i,s=np.round(r2.squeeze().values[i,j],2),fontsize=8)\n",
        "plt.show()"
      ]
    },
    {
      "cell_type": "markdown",
      "id": "6a140648",
      "metadata": {},
      "source": [
        "# SIM Analysis"
      ]
    },
    {
      "cell_type": "code",
      "execution_count": null,
      "id": "d5eb796d",
      "metadata": {},
      "outputs": [],
      "source": [
        "current_data = current_sweep_outputs.get(4)\n",
        "print('# Sweeps:',len(current_sweep_outputs.data))\n",
        "print(current_data.data.alpha.coords.items())"
      ]
    },
    {
      "cell_type": "code",
      "execution_count": null,
      "id": "45057ba4",
      "metadata": {},
      "outputs": [],
      "source": [
        "_ = plt.scatter(\n",
        "    np.exp(current_data.data.log_destination_attraction).mean('id').values.squeeze(),\n",
        "    ins.data.destination_attraction_ts.squeeze()\n",
        ")"
      ]
    },
    {
      "cell_type": "code",
      "execution_count": null,
      "id": "29ae319d",
      "metadata": {},
      "outputs": [],
      "source": [
        "_ = plt.hist(current_data.data.alpha.squeeze().values)"
      ]
    },
    {
      "cell_type": "code",
      "execution_count": null,
      "id": "48a46a95",
      "metadata": {},
      "outputs": [],
      "source": [
        "_ = plt.hist(current_data.data.beta.squeeze().values)"
      ]
    },
    {
      "cell_type": "code",
      "execution_count": null,
      "id": "a45db478",
      "metadata": {},
      "outputs": [],
      "source": [
        "_ = plt.hist2d(current_data.data.alpha.squeeze().values,current_data.data.beta.squeeze().values,bins = 50)"
      ]
    }
  ],
  "metadata": {
    "kernelspec": {
      "display_name": "gensit",
      "language": "python",
      "name": "python3"
    },
    "language_info": {
      "codemirror_mode": {
        "name": "ipython",
        "version": 3
      },
      "file_extension": ".py",
      "mimetype": "text/x-python",
      "name": "python",
      "nbconvert_exporter": "python",
      "pygments_lexer": "ipython3",
      "version": "3.10.0"
    }
  },
  "nbformat": 4,
  "nbformat_minor": 5
}
