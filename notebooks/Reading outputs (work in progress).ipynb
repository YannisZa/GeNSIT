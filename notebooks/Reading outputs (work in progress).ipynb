{
  "cells": [
    {
      "cell_type": "code",
      "execution_count": 1,
      "id": "c76b8620",
      "metadata": {},
      "outputs": [
        {
          "name": "stderr",
          "output_type": "stream",
          "text": [
            "/tmp/ipykernel_282017/2303974116.py:12: DeprecationWarning: Importing display from IPython.core.display is deprecated since IPython 7.14, please import from IPython display\n",
            "  from IPython.core.display import display, HTML\n"
          ]
        }
      ],
      "source": [
        "import os\n",
        "import glob\n",
        "import warnings\n",
        "import h5py as h5\n",
        "import numpy as np\n",
        "import pandas as pd\n",
        "import matplotlib as mpl\n",
        "import matplotlib.pyplot as plt\n",
        "\n",
        "from copy import deepcopy\n",
        "from tqdm.auto import tqdm\n",
        "from IPython.core.display import display, HTML\n",
        "\n",
        "from gensit.config import Config\n",
        "from gensit.inputs import Inputs\n",
        "from gensit.outputs import Outputs\n",
        "from gensit.utils.misc_utils import *\n",
        "from gensit.utils.math_utils import *\n",
        "from gensit.utils.probability_utils import *\n",
        "from gensit.contingency_table import instantiate_ct\n",
        "from gensit.contingency_table_mcmc import ContingencyTableMarkovChainMonteCarlo"
      ]
    },
    {
      "cell_type": "code",
      "execution_count": 2,
      "id": "b718b815",
      "metadata": {},
      "outputs": [],
      "source": [
        "%matplotlib inline\n",
        "\n",
        "# AUTO RELOAD EXTERNAL MODULES\n",
        "%load_ext autoreload\n",
        "%autoreload 2"
      ]
    },
    {
      "cell_type": "markdown",
      "id": "2a125236",
      "metadata": {},
      "source": [
        "# Sandbox"
      ]
    },
    {
      "cell_type": "code",
      "execution_count": null,
      "id": "96abaf95",
      "metadata": {},
      "outputs": [],
      "source": [
        "# Create new logging object\n",
        "logger = setup_logger(\n",
        "    __name__,\n",
        "    console_level = 'PROGRESS',\n",
        "    file_level = 'EMPTY'\n",
        ")\n",
        "conf = Config(\n",
        "    path = '../data/inputs/configs/DC/experiment1_mcmc_disjoint.toml',\n",
        "    logger = logger\n",
        ")\n",
        "conf.settings['sweep_mode'] = False\n",
        "conf.settings['inputs']['dataset'] = 'temp'\n",
        "conf.settings['training']['to_learn'] = ['alpha','beta']\n",
        "conf.settings['harris_wilson_model']['parameters']['sigma'] = 0.014141414\n",
        "conf.settings['mcmc']['parameters']['covariance'] = conf.settings['mcmc']['parameters']['covariance']['sweep']['range'][0]"
      ]
    },
    {
      "cell_type": "code",
      "execution_count": null,
      "id": "d3b6c967",
      "metadata": {},
      "outputs": [],
      "source": [
        "np.random.seed(1234)\n",
        "I,J = 6,4\n",
        "gtt = np.random.randint(1,15,size=(6*4)).reshape((I,J))\n",
        "cm = np.random.rand(I,J)\n",
        "dats = np.random.rand(J)\n",
        "gtt[(0,1)] = 0\n",
        "gtt[(2,3)] = 0\n",
        "cell_constraints = np.array([(0,1),(0,2),(2,1),(2,3),(3,1),(4,3)])\n",
        "try:\n",
        "    os.mkdir(\"../data/inputs/temp\")\n",
        "except:\n",
        "    pass\n",
        "np.savetxt('../data/inputs/temp/ground_truth_table.txt',gtt)\n",
        "np.savetxt('../data/inputs/temp/zero_and_train_cells.txt',cell_constraints)\n",
        "np.savetxt('../data/inputs/temp/origin_demand_sum_normalised.txt',gtt.sum(axis=1)/gtt.sum())\n",
        "np.savetxt('../data/inputs/temp/cost_matrix_max_normalised.txt',cm/cm.max())\n",
        "np.savetxt('../data/inputs/temp/destination_attraction_housing_units_ts_sum_normalised.txt',dats/dats.sum())"
      ]
    },
    {
      "cell_type": "code",
      "execution_count": null,
      "id": "3ba4b005",
      "metadata": {},
      "outputs": [],
      "source": [
        "# Prepare inputs\n",
        "ins = Inputs(\n",
        "    config = conf,\n",
        "    synthetic_data = False,\n",
        "    logger = logger \n",
        ")\n",
        "\n",
        "# Pass inputs to device\n",
        "ins.pass_to_device()\n",
        "\n",
        "# Instantiate contingency table\n",
        "conf_without_cell_constraints = deepcopy(conf)\n",
        "conf_without_cell_constraints['contingency_table']['constraints']['cells'] = ''\n",
        "\n",
        "ct_with_cell_constraints = instantiate_ct(\n",
        "    config = conf,\n",
        "    **vars(ins.data),\n",
        "    logger = logger\n",
        ")\n",
        "ct_without_cell_constraints = instantiate_ct(\n",
        "    config = conf_without_cell_constraints,\n",
        "    **vars(ins.data),\n",
        "    logger = logger\n",
        ")\n",
        "\n",
        "conf.settings['contingency_table']['distribution_name'] = ct_with_cell_constraints.distribution_name\n",
        "conf_without_cell_constraints.settings['contingency_table']['distribution_name'] = ct_without_cell_constraints.distribution_name\n",
        "\n",
        "ct_mcmc_with_cell_constraints = ContingencyTableMarkovChainMonteCarlo(\n",
        "    ct = ct_with_cell_constraints,\n",
        "    log_to_console = False,\n",
        "    logger = logger\n",
        ")\n",
        "ct_mcmc_without_cell_constraints = ContingencyTableMarkovChainMonteCarlo(\n",
        "    ct = ct_without_cell_constraints,\n",
        "    log_to_console = False,\n",
        "    logger = logger\n",
        ")"
      ]
    },
    {
      "cell_type": "code",
      "execution_count": null,
      "id": "dec91d30",
      "metadata": {},
      "outputs": [],
      "source": [
        "def _coloring_function(val):\n",
        "    color = 'green' if val < 0 else 'red'\n",
        "    return 'color: %s' % color\n",
        "constraint_table = pd.DataFrame(ct_with_cell_constraints.constraint_table())\n",
        "constraint_table = constraint_table.style.applymap(_coloring_function)"
      ]
    },
    {
      "cell_type": "code",
      "execution_count": null,
      "id": "916eefed",
      "metadata": {},
      "outputs": [],
      "source": [
        "print('Without cell constraints',len(ct_mcmc_without_cell_constraints.markov_basis))\n",
        "print('With cell constraints',len(ct_mcmc_with_cell_constraints.markov_basis))"
      ]
    },
    {
      "cell_type": "code",
      "execution_count": null,
      "id": "b13eb6a7",
      "metadata": {},
      "outputs": [],
      "source": [
        "for mb in ct_mcmc_without_cell_constraints.markov_basis:\n",
        "    print(f_to_array(mb,shape=(I,J)))\n",
        "    print('\\n')"
      ]
    },
    {
      "cell_type": "code",
      "execution_count": null,
      "id": "338c8cbb",
      "metadata": {},
      "outputs": [],
      "source": [
        "for mb in ct_mcmc_with_cell_constraints.markov_basis:\n",
        "    print(f_to_array(mb,shape=(I,J)))\n",
        "    display(constraint_table)\n",
        "    print('\\n')"
      ]
    },
    {
      "cell_type": "markdown",
      "id": "880cdfcb",
      "metadata": {},
      "source": [
        "## Import samples"
      ]
    },
    {
      "cell_type": "code",
      "execution_count": 3,
      "id": "e21669cd",
      "metadata": {},
      "outputs": [],
      "source": [
        "# Specify experiment id\n",
        "experiment_id = \"NonJointTableSIM_NN_SweepedNoise__doubly_and_cell_constrained_18_04_2024_16_50_15\"\n",
        "# Specify experiment group id\n",
        "dataset = 'DC'\n",
        "#'DC'\n",
        "#'cambridge_work_commuter_lsoas_to_msoas'\n",
        "#'sioux_falls'\n",
        "experiment_group_id = 'exp1'\n",
        "# 'r_squared'\n",
        "# 'exp1'\n",
        "experiment_dir = f'../data/outputs/{dataset}/{experiment_group_id}/{experiment_id}/'\n",
        "relative_experiment_dir = os.path.relpath(experiment_dir,os.getcwd())\n",
        "\n",
        "# Create new logging object\n",
        "logger = setup_logger(\n",
        "    __name__,\n",
        "    console_level = 'PROGRESS',\n",
        "    file_level = 'EMPTY'\n",
        ")"
      ]
    },
    {
      "cell_type": "code",
      "execution_count": 4,
      "id": "41e02907",
      "metadata": {},
      "outputs": [],
      "source": [
        "# Output processing settings\n",
        "settings = {\n",
        "    \"logging_mode\": \"PROGRESS\",\n",
        "    \"coordinate_slice\": [\n",
        "        \"da.loss_name == str(['dest_attraction_ts_likelihood_loss'])\",\n",
        "        # \"da.cost_matrix == 'cost_matrix_max_normalised.txt'\"\n",
        "    ],\n",
        "    # \"coordinate_slice\": [\n",
        "    #     \"da.destination_attraction_ts == 'destination_attraction_housing_units_ts_sum_normalised.txt'\",\n",
        "    #     \"da.cost_matrix == 'cost_matrix_sum_normalised.txt'\",\n",
        "    #     \"da.title == '_row_constrained'\",\n",
        "    #     \"da.bmax == 1.0\"\n",
        "    #     # \"da.loss_name == str(['dest_attraction_ts_likelihood_loss'])\",\n",
        "    #     # \"~da.title.isin([str('_unconstrained'), str('_total_constrained')])\"\n",
        "    # ],\n",
        "    \"metadata_keys\":[],\n",
        "    \"burnin_thinning_trimming\": [],\n",
        "    # \"burnin_thinning_trimming\": [{'iter': {\"burnin\":10000, \"thinning\":90, \"trimming\":1000}}],\n",
        "    \"n_workers\": 1,\n",
        "    \"group_by\":[],\n",
        "    \"filename_ending\":\"test\",\n",
        "    \"sample\":[\"intensity\",\"table\"],\n",
        "    \"validation_data\":{\"test_cells\":\"../data/inputs/DC/train_cells.txt\"},\n",
        "    \"force_reload\":False\n",
        "}"
      ]
    },
    {
      "cell_type": "code",
      "execution_count": 5,
      "id": "833a9fad",
      "metadata": {},
      "outputs": [
        {
          "name": "stderr",
          "output_type": "stream",
          "text": [
            "05:32.509 config INFO ----------------------------------------------------------------------------------\n",
            "05:32.517 config INFO Parameter space size: \n",
            " --- sigma: ['sigma', 'to_learn'] (3)\n",
            "05:32.526 config INFO Total = 3.\n",
            "05:32.534 config INFO ----------------------------------------------------------------------------------\n",
            "05:32.553 outputs INFO //////////////////////////////////////////////////////////////////////////////////\n",
            "05:32.561 outputs INFO Slicing coordinates:\n",
            "05:32.570 outputs INFO loss_name == str(['dest_attraction_ts_likelihood_loss'])\n",
            "05:32.578 outputs INFO //////////////////////////////////////////////////////////////////////////////////\n",
            "05:32.587 outputs INFO Reading samples alpha, beta, log_destination_attraction, table.\n",
            "05:54.974 outputs INFO Creating Data Collection for each group.                                                \n",
            "Grouping/Initialising Data Collection samples sequentially: 100%|██████████| 12/12 [00:00<00:00, 69615.00it/s]\n",
            "Combining Data Collection group elements: 100%|██████████| 3/3 [00:00<00:00, 82782.32it/s]\n",
            "Combining Data Collection group elements: 100%|██████████| 3/3 [00:00<00:00, 73584.28it/s]\n",
            "Combining Data Collection group elements: 100%|██████████| 3/3 [00:00<00:00, 73584.28it/s]\n",
            "Combining Data Collection group elements: 100%|██████████| 3/3 [00:00<00:00, 73156.47it/s]\n",
            "Slicing coordinates sequentially:  25%|██▌       | 3/12 [00:00<00:00, 10.59it/s]05:55.284 outputs INFO table: 12 collection ids kept out of 12.\n",
            "05:55.292 outputs INFO log_destination_attraction: 12 collection ids kept out of 12.\n",
            "05:55.300 outputs INFO beta: 12 collection ids kept out of 12.\n",
            "05:55.308 outputs INFO alpha: 12 collection ids kept out of 12.\n",
            "                                                                                "
          ]
        },
        {
          "name": "stdout",
          "output_type": "stream",
          "text": [
            "3 experiments matched\n"
          ]
        },
        {
          "name": "stderr",
          "output_type": "stream",
          "text": [
            "\r"
          ]
        }
      ],
      "source": [
        "# Initialise outputs\n",
        "current_sweep_outputs = Outputs(\n",
        "    config = os.path.join(relative_experiment_dir,\"config.json\"),\n",
        "    settings = settings,\n",
        "    inputs = None,\n",
        "    slice = True,\n",
        "    level = 'INFO'\n",
        ")\n",
        "# Silence outputs\n",
        "# current_sweep_outputs.logger.setLevels(console_level='EMPTY')\n",
        "# Load all data\n",
        "current_sweep_outputs.load()\n",
        "\n",
        "print(len(current_sweep_outputs.data),'experiments matched')"
      ]
    },
    {
      "cell_type": "code",
      "execution_count": null,
      "id": "109abcb3",
      "metadata": {},
      "outputs": [],
      "source": [
        "# conf = Config(\n",
        "#     path = os.path.join(relative_experiment_dir,\"config.json\")\n",
        "# )\n",
        "# ins = Inputs(\n",
        "#     config = conf\n",
        "# )\n",
        "# ins.cast_to_xarray()"
      ]
    },
    {
      "cell_type": "markdown",
      "id": "567bc38f",
      "metadata": {},
      "source": [
        "# $R^2$ analysis"
      ]
    },
    {
      "cell_type": "code",
      "execution_count": null,
      "id": "594f7384",
      "metadata": {},
      "outputs": [],
      "source": [
        "sweep_outputs_slices = []\n",
        "for i in tqdm(range(len(current_sweep_outputs.data)),leave=False,desc='Finding best R2 experiments'):\n",
        "    current_sweep_outputs_slice = current_sweep_outputs.get(i)\n",
        "    current_r2 = current_sweep_outputs_slice.data.r2\n",
        "    if np.max(current_r2) > 0.6:\n",
        "        sweep_outputs_slices.append(current_sweep_outputs_slice)\n",
        "print(len(sweep_outputs_slices),'experiments kept')"
      ]
    },
    {
      "cell_type": "code",
      "execution_count": null,
      "id": "adc5111c",
      "metadata": {},
      "outputs": [],
      "source": [
        "# index = 15\n",
        "# sweep_outputs_slice = sweep_outputs_slices[index]"
      ]
    },
    {
      "cell_type": "code",
      "execution_count": null,
      "id": "9f469501",
      "metadata": {},
      "outputs": [],
      "source": [
        "# data_index = 0\n",
        "# sweep_outputs_slice = current_sweep_outputs.get(data_index)"
      ]
    },
    {
      "cell_type": "code",
      "execution_count": null,
      "id": "3eb1df35",
      "metadata": {},
      "outputs": [],
      "source": [
        "r2 = sweep_outputs_slice.data.r2\n",
        "alpha_range = current_sweep_outputs.config['experiments'][0]['grid_ranges']['alpha']\n",
        "r2['alpha_range'] = np.linspace(alpha_range['min'],alpha_range['max'],alpha_range['n'],endpoint=True)\n",
        "r2['alpha_range'] = r2['alpha_range'].values\n",
        "beta_range = current_sweep_outputs.config['experiments'][0]['grid_ranges']['beta']\n",
        "r2['beta_range'] = np.linspace(beta_range['min'],beta_range['max'],beta_range['n'],endpoint=True)\n",
        "r2['beta_range'] = r2['beta_range'].values\n",
        "r2.coords"
      ]
    },
    {
      "cell_type": "code",
      "execution_count": null,
      "id": "ac9d884a",
      "metadata": {},
      "outputs": [],
      "source": [
        "argmax_index = np.unravel_index(np.argmax(r2.values.squeeze()), np.shape(r2.values.squeeze()))\n",
        "plt.figure(figsize=(20,20))\n",
        "plt.imshow(r2, cmap='RdYlGn', interpolation='nearest')\n",
        "plt.scatter(argmax_index[1],argmax_index[0],marker='x',color='black',s=500)\n",
        "plt.yticks(ticks=range(len(r2['alpha_range'])),labels=np.round(r2['alpha_range'].values,2))\n",
        "plt.ylabel('alpha')\n",
        "plt.xticks(ticks=range(len(r2['beta_range'])),labels=np.round(r2['beta_range'].values,2))\n",
        "plt.xlabel('beta')\n",
        "for i in range(len(r2['alpha_range'])):\n",
        "    for j in range(len(r2['beta_range'])):\n",
        "        plt.text(j,i,s=np.round(r2.squeeze().values[i,j],2),fontsize=8)\n",
        "plt.show()"
      ]
    },
    {
      "cell_type": "markdown",
      "id": "6a140648",
      "metadata": {},
      "source": [
        "# SIM Analysis"
      ]
    },
    {
      "cell_type": "code",
      "execution_count": 6,
      "id": "d5eb796d",
      "metadata": {},
      "outputs": [
        {
          "name": "stdout",
          "output_type": "stream",
          "text": [
            "# Sweeps: 3\n",
            "ItemsView(Coordinates:\n",
            "  * id        (id) object MultiIndex\n",
            "  * iter      (id) int32 1 2 3 4 5 6 7 ... 99995 99996 99997 99998 99999 100000\n",
            "  * sweep     (sweep) object MultiIndex\n",
            "  * sigma     (sweep) object 'none'\n",
            "  * to_learn  (sweep) object \"['alpha', 'beta', 'sigma']\")\n"
          ]
        }
      ],
      "source": [
        "index = 0\n",
        "current_data = current_sweep_outputs.get(index)\n",
        "print('# Sweeps:',len(current_sweep_outputs.data))\n",
        "print(current_data.data.alpha.coords.items())"
      ]
    },
    {
      "cell_type": "code",
      "execution_count": 7,
      "id": "fa8fb841",
      "metadata": {},
      "outputs": [],
      "source": [
        "ins = Inputs(\n",
        "    config = current_data.config\n",
        ")\n",
        "ins.cast_to_xarray()\n",
        "test_cells = current_data.get_sample('test_cells')"
      ]
    },
    {
      "cell_type": "code",
      "execution_count": 91,
      "id": "1a1e911f",
      "metadata": {},
      "outputs": [],
      "source": [
        "test_error = srmse(\n",
        "    prediction = current_data.data.table.mean('id'),\n",
        "    ground_truth = ins.data.ground_truth_table,\n",
        "    test_cells = test_cells\n",
        ")\n",
        "all_error = srmse(\n",
        "    prediction = current_data.data.table.mean('id'),\n",
        "    ground_truth = ins.data.ground_truth_table\n",
        ")"
      ]
    },
    {
      "cell_type": "code",
      "execution_count": 90,
      "id": "ca0eecab",
      "metadata": {},
      "outputs": [
        {
          "ename": "KeyboardInterrupt",
          "evalue": "",
          "output_type": "error",
          "traceback": [
            "\u001b[0;31m---------------------------------------------------------------------------\u001b[0m",
            "\u001b[0;31mKeyboardInterrupt\u001b[0m                         Traceback (most recent call last)",
            "Input \u001b[0;32mIn [90]\u001b[0m, in \u001b[0;36m<cell line: 1>\u001b[0;34m()\u001b[0m\n\u001b[0;32m----> 1\u001b[0m test_cp \u001b[38;5;241m=\u001b[39m \u001b[43mcoverage_probability\u001b[49m\u001b[43m(\u001b[49m\n\u001b[1;32m      2\u001b[0m \u001b[43m    \u001b[49m\u001b[43mprediction\u001b[49m\u001b[43m \u001b[49m\u001b[38;5;241;43m=\u001b[39;49m\u001b[43m \u001b[49m\u001b[43mcurrent_data\u001b[49m\u001b[38;5;241;43m.\u001b[39;49m\u001b[43mdata\u001b[49m\u001b[38;5;241;43m.\u001b[39;49m\u001b[43mtable\u001b[49m\u001b[43m,\u001b[49m\n\u001b[1;32m      3\u001b[0m \u001b[43m    \u001b[49m\u001b[43mground_truth\u001b[49m\u001b[43m \u001b[49m\u001b[38;5;241;43m=\u001b[39;49m\u001b[43m \u001b[49m\u001b[43mins\u001b[49m\u001b[38;5;241;43m.\u001b[39;49m\u001b[43mdata\u001b[49m\u001b[38;5;241;43m.\u001b[39;49m\u001b[43mground_truth_table\u001b[49m\u001b[43m,\u001b[49m\n\u001b[1;32m      4\u001b[0m \u001b[43m    \u001b[49m\u001b[43mregion_mass\u001b[49m\u001b[43m \u001b[49m\u001b[38;5;241;43m=\u001b[39;49m\u001b[43m \u001b[49m\u001b[38;5;241;43m0.95\u001b[39;49m\u001b[43m,\u001b[49m\n\u001b[1;32m      5\u001b[0m \u001b[43m    \u001b[49m\u001b[43mtest_cells\u001b[49m\u001b[43m \u001b[49m\u001b[38;5;241;43m=\u001b[39;49m\u001b[43m \u001b[49m\u001b[43mtest_cells\u001b[49m\n\u001b[1;32m      6\u001b[0m \u001b[43m)\u001b[49m\n\u001b[1;32m      7\u001b[0m all_cp \u001b[38;5;241m=\u001b[39m coverage_probability(\n\u001b[1;32m      8\u001b[0m     prediction \u001b[38;5;241m=\u001b[39m current_data\u001b[38;5;241m.\u001b[39mdata\u001b[38;5;241m.\u001b[39mtable,\n\u001b[1;32m      9\u001b[0m     ground_truth \u001b[38;5;241m=\u001b[39m ins\u001b[38;5;241m.\u001b[39mdata\u001b[38;5;241m.\u001b[39mground_truth_table,\n\u001b[1;32m     10\u001b[0m     region_mass \u001b[38;5;241m=\u001b[39m \u001b[38;5;241m0.95\u001b[39m\n\u001b[1;32m     11\u001b[0m )\n",
            "File \u001b[0;32m~/GeNSIT/gensit/utils/math_utils.py:323\u001b[0m, in \u001b[0;36mcoverage_probability\u001b[0;34m(prediction, ground_truth, **kwargs)\u001b[0m\n\u001b[1;32m    320\u001b[0m stacked_dims \u001b[38;5;241m=\u001b[39m deepcopy(prediction\u001b[38;5;241m.\u001b[39mdims)\n\u001b[1;32m    322\u001b[0m \u001b[38;5;66;03m# Sort all samples by iteration-seed\u001b[39;00m\n\u001b[0;32m--> 323\u001b[0m prediction[:] \u001b[38;5;241m=\u001b[39m \u001b[43mnp\u001b[49m\u001b[38;5;241;43m.\u001b[39;49m\u001b[43msort\u001b[49m\u001b[43m(\u001b[49m\u001b[43mprediction\u001b[49m\u001b[38;5;241;43m.\u001b[39;49m\u001b[43mvalues\u001b[49m\u001b[43m,\u001b[49m\u001b[43m \u001b[49m\u001b[43maxis\u001b[49m\u001b[43m \u001b[49m\u001b[38;5;241;43m=\u001b[39;49m\u001b[43m \u001b[49m\u001b[43mstacked_dims\u001b[49m\u001b[38;5;241;43m.\u001b[39;49m\u001b[43mindex\u001b[49m\u001b[43m(\u001b[49m\u001b[38;5;124;43m'\u001b[39;49m\u001b[38;5;124;43mid\u001b[39;49m\u001b[38;5;124;43m'\u001b[39;49m\u001b[43m)\u001b[49m\u001b[43m)\u001b[49m\n\u001b[1;32m    325\u001b[0m \u001b[38;5;66;03m# Get lower and upper bound high posterior density regions\u001b[39;00m\n\u001b[1;32m    326\u001b[0m lower_bound_hpdr,upper_bound_hpdr \u001b[38;5;241m=\u001b[39m calculate_min_interval(\n\u001b[1;32m    327\u001b[0m     prediction,\n\u001b[1;32m    328\u001b[0m     alpha\n\u001b[1;32m    329\u001b[0m )\n",
            "File \u001b[0;32m<__array_function__ internals>:180\u001b[0m, in \u001b[0;36msort\u001b[0;34m(*args, **kwargs)\u001b[0m\n",
            "File \u001b[0;32m~/miniconda3/envs/gensit/lib/python3.10/site-packages/numpy/core/fromnumeric.py:1003\u001b[0m, in \u001b[0;36msort\u001b[0;34m(a, axis, kind, order)\u001b[0m\n\u001b[1;32m   1001\u001b[0m     axis \u001b[38;5;241m=\u001b[39m \u001b[38;5;241m-\u001b[39m\u001b[38;5;241m1\u001b[39m\n\u001b[1;32m   1002\u001b[0m \u001b[38;5;28;01melse\u001b[39;00m:\n\u001b[0;32m-> 1003\u001b[0m     a \u001b[38;5;241m=\u001b[39m \u001b[43masanyarray\u001b[49m\u001b[43m(\u001b[49m\u001b[43ma\u001b[49m\u001b[43m)\u001b[49m\u001b[38;5;241;43m.\u001b[39;49m\u001b[43mcopy\u001b[49m\u001b[43m(\u001b[49m\u001b[43morder\u001b[49m\u001b[38;5;241;43m=\u001b[39;49m\u001b[38;5;124;43m\"\u001b[39;49m\u001b[38;5;124;43mK\u001b[39;49m\u001b[38;5;124;43m\"\u001b[39;49m\u001b[43m)\u001b[49m\n\u001b[1;32m   1004\u001b[0m a\u001b[38;5;241m.\u001b[39msort(axis\u001b[38;5;241m=\u001b[39maxis, kind\u001b[38;5;241m=\u001b[39mkind, order\u001b[38;5;241m=\u001b[39morder)\n\u001b[1;32m   1005\u001b[0m \u001b[38;5;28;01mreturn\u001b[39;00m a\n",
            "\u001b[0;31mKeyboardInterrupt\u001b[0m: "
          ]
        }
      ],
      "source": [
        "# test_cp = coverage_probability(\n",
        "#     prediction = current_data.data.table,\n",
        "#     ground_truth = ins.data.ground_truth_table,\n",
        "#     region_mass = 0.95,\n",
        "#     test_cells = test_cells\n",
        "# )\n",
        "# all_cp = coverage_probability(\n",
        "#     prediction = current_data.data.table,\n",
        "#     ground_truth = ins.data.ground_truth_table,\n",
        "#     region_mass = 0.95\n",
        "# )"
      ]
    },
    {
      "cell_type": "code",
      "execution_count": null,
      "id": "45057ba4",
      "metadata": {},
      "outputs": [],
      "source": [
        "_ = plt.scatter(\n",
        "    np.exp(current_data.data.log_destination_attraction).mean('id').values.squeeze(),\n",
        "    ins.data.destination_attraction_ts.squeeze()\n",
        ")\n",
        "plt.xlabel(\"Predictions\")\n",
        "plt.ylabel(\"Data\")"
      ]
    },
    {
      "cell_type": "code",
      "execution_count": null,
      "id": "29ae319d",
      "metadata": {},
      "outputs": [],
      "source": [
        "_ = plt.hist(current_data.data.alpha.squeeze().values,bins=30)\n",
        "plt.xlabel('alpha')"
      ]
    },
    {
      "cell_type": "code",
      "execution_count": null,
      "id": "48a46a95",
      "metadata": {},
      "outputs": [],
      "source": [
        "_ = plt.hist(current_data.data.beta.squeeze().values,bins=30)\n",
        "plt.xlabel('beta')"
      ]
    },
    {
      "cell_type": "code",
      "execution_count": null,
      "id": "a45db478",
      "metadata": {},
      "outputs": [],
      "source": [
        "_ = plt.hist2d(\n",
        "    current_data.data.beta.squeeze().values,\n",
        "    current_data.data.alpha.squeeze().values,\n",
        "    bins = 30\n",
        ")\n",
        "plt.ylabel('alpha')\n",
        "plt.xlabel('beta')"
      ]
    }
  ],
  "metadata": {
    "kernelspec": {
      "display_name": "gensit",
      "language": "python",
      "name": "python3"
    },
    "language_info": {
      "codemirror_mode": {
        "name": "ipython",
        "version": 3
      },
      "file_extension": ".py",
      "mimetype": "text/x-python",
      "name": "python",
      "nbconvert_exporter": "python",
      "pygments_lexer": "ipython3",
      "version": "3.10.0"
    }
  },
  "nbformat": 4,
  "nbformat_minor": 5
}
