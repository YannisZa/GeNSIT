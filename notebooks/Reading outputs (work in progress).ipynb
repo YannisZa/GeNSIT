{
  "cells": [
    {
      "cell_type": "code",
      "execution_count": 1,
      "id": "c76b8620",
      "metadata": {},
      "outputs": [],
      "source": [
        "import os\n",
        "import glob\n",
        "import warnings\n",
        "import h5py as h5\n",
        "import numpy as np\n",
        "import pandas as pd\n",
        "import matplotlib as mpl\n",
        "import matplotlib.pyplot as plt\n",
        "\n",
        "from tqdm.auto import tqdm\n",
        "from copy import deepcopy\n",
        "\n",
        "from gensit.config import Config\n",
        "from gensit.inputs import Inputs\n",
        "from gensit.outputs import Outputs\n",
        "from gensit.utils.misc_utils import *\n",
        "from gensit.utils.math_utils import *\n",
        "from gensit.utils.probability_utils import *\n",
        "from gensit.contingency_table import instantiate_ct\n",
        "from gensit.markov_basis import instantiate_markov_basis"
      ]
    },
    {
      "cell_type": "code",
      "execution_count": 2,
      "id": "b718b815",
      "metadata": {},
      "outputs": [],
      "source": [
        "%matplotlib inline\n",
        "\n",
        "# AUTO RELOAD EXTERNAL MODULES\n",
        "%load_ext autoreload\n",
        "%autoreload 2"
      ]
    },
    {
      "cell_type": "markdown",
      "id": "880cdfcb",
      "metadata": {},
      "source": [
        "## Import samples"
      ]
    },
    {
      "cell_type": "code",
      "execution_count": 4,
      "id": "e21669cd",
      "metadata": {},
      "outputs": [],
      "source": [
        "# Specify experiment id\n",
        "experiment_id = \"SIM_NN_SweepedNoise__doubly_and_cell_constrained_unnormalised_cost_matrix_16_04_2024_13_33_24\"\n",
        "config_id = 'experiment_r_squared'\n",
        "# 'experiment1_disjoint'\n",
        "# 'experiment_r_squared'\n",
        "# Specify experiment group id\n",
        "dataset = 'DC'\n",
        "#'DC'\n",
        "#'cambridge_work_commuter_lsoas_to_msoas'\n",
        "#'sioux_falls'\n",
        "experiment_group_id = 'exp1/'\n",
        "experiment_dir = f'../data/outputs/{dataset}/{experiment_group_id}/{experiment_id}/'\n",
        "relative_experiment_dir = os.path.relpath(experiment_dir,os.getcwd())"
      ]
    },
    {
      "cell_type": "code",
      "execution_count": 5,
      "id": "9b1c638c",
      "metadata": {},
      "outputs": [],
      "source": [
        "# Create new logging object\n",
        "logger = setup_logger(\n",
        "    __name__,\n",
        "    console_level = 'INFO',\n",
        "    file_level = 'EMPTY'\n",
        ")"
      ]
    },
    {
      "cell_type": "code",
      "execution_count": 31,
      "id": "41e02907",
      "metadata": {},
      "outputs": [],
      "source": [
        "# Output processing settings\n",
        "settings = {\n",
        "    \"logging_mode\": \"INFO\",\n",
        "    \"coordinate_slice\": [\n",
        "        \"da.loss_name == str(['dest_attraction_ts_likelihood_loss'])\"\n",
        "    ],\n",
        "    #     \"da.destination_attraction_ts == str('destination_attraction_demand_ts_sum_normalised.txt')\",\n",
        "    #     \"da.cost_matrix == str('cost_matrix_large_diagonal_sum_normalised.txt')\",\n",
        "    #     \"da.bmax == 10944.0\"\n",
        "        # \"da.loss_name == str(['dest_attraction_ts_likelihood_loss'])\",\n",
        "        # \"~da.title.isin([str('_unconstrained'), str('_total_constrained')])\"\n",
        "    # ],\n",
        "    \"metadata_keys\":[],\n",
        "    \"burnin_thinning_trimming\": [],\n",
        "    # {'iter': {\"burnin\":10000, \"thinning\":90, \"trimming\":1000}}\n",
        "    \"n_workers\": 1,\n",
        "    \"group_by\":[],\n",
        "    \"filename_ending\":\"test\",\n",
        "    \"sample\":[\"intensity\"],\n",
        "    \"force_reload\":True\n",
        "}"
      ]
    },
    {
      "cell_type": "code",
      "execution_count": 32,
      "id": "833a9fad",
      "metadata": {},
      "outputs": [
        {
          "name": "stderr",
          "output_type": "stream",
          "text": [
            "50:31.931 config INFO ----------------------------------------------------------------------------------\n",
            "50:31.941 config INFO Parameter space size: \n",
            " --- name (2)\n",
            " --- sigma: ['sigma', 'to_learn'] (3)\n",
            " --- loss_name: ['loss_name', 'loss_function', 'loss_kwargs'] (2)\n",
            "50:31.950 config INFO Total = 12.\n",
            "50:31.959 config INFO ----------------------------------------------------------------------------------\n",
            "50:31.978 outputs INFO //////////////////////////////////////////////////////////////////////////////////\n",
            "50:31.986 outputs INFO Slicing coordinates:\n",
            "50:31.995 outputs INFO loss_name == str(['dest_attraction_ts_likelihood_loss'])\n",
            "50:32.003 outputs INFO //////////////////////////////////////////////////////////////////////////////////\n",
            "                                                                                                \r"
          ]
        },
        {
          "name": "stdout",
          "output_type": "stream",
          "text": [
            "../data/outputs/DC/exp1/SIM_NN_SweepedNoise__doubly_and_cell_constrained_unnormalised_cost_matrix_16_04_2024_13_33_24/sample_collections\n"
          ]
        },
        {
          "name": "stderr",
          "output_type": "stream",
          "text": [
            "                                                                                               \r"
          ]
        },
        {
          "name": "stdout",
          "output_type": "stream",
          "text": [
            "../data/outputs/DC/exp1/SIM_NN_SweepedNoise__doubly_and_cell_constrained_unnormalised_cost_matrix_16_04_2024_13_33_24/sample_collections\n"
          ]
        },
        {
          "name": "stderr",
          "output_type": "stream",
          "text": [
            "                                                                                                                     \r"
          ]
        },
        {
          "name": "stdout",
          "output_type": "stream",
          "text": [
            "../data/outputs/DC/exp1/SIM_NN_SweepedNoise__doubly_and_cell_constrained_unnormalised_cost_matrix_16_04_2024_13_33_24/sample_collections\n"
          ]
        },
        {
          "name": "stderr",
          "output_type": "stream",
          "text": [
            "                                                                                                           \r"
          ]
        }
      ],
      "source": [
        "# Initialise outputs\n",
        "current_sweep_outputs = Outputs(\n",
        "    config = os.path.join(relative_experiment_dir,\"config.json\"),\n",
        "    settings = settings,\n",
        "    inputs = None,\n",
        "    slice = True,\n",
        "    level = 'INFO'\n",
        ")\n",
        "# Silence outputs\n",
        "current_sweep_outputs.logger.setLevels(console_level='EMPTY')\n",
        "# Load all data\n",
        "current_sweep_outputs.load()"
      ]
    },
    {
      "cell_type": "code",
      "execution_count": 17,
      "id": "109abcb3",
      "metadata": {},
      "outputs": [],
      "source": [
        "conf = Config(\n",
        "    path = os.path.join(relative_experiment_dir,\"config.json\")\n",
        ")\n",
        "ins = Inputs(\n",
        "    config = conf\n",
        ")\n",
        "ins.cast_to_xarray()"
      ]
    },
    {
      "cell_type": "code",
      "execution_count": 18,
      "id": "f30f4b65",
      "metadata": {},
      "outputs": [],
      "source": [
        "data_index = 0\n",
        "sweep_outputs_slice = current_sweep_outputs.get(data_index)"
      ]
    },
    {
      "cell_type": "markdown",
      "id": "567bc38f",
      "metadata": {},
      "source": [
        "# $R^2$ analysis"
      ]
    },
    {
      "cell_type": "code",
      "execution_count": 20,
      "id": "36938bed",
      "metadata": {},
      "outputs": [],
      "source": [
        "sweep_outputs_slice.data.r2.coords"
      ]
    },
    {
      "cell_type": "code",
      "execution_count": null,
      "id": "3eb1df35",
      "metadata": {},
      "outputs": [],
      "source": [
        "r2 = sweep_outputs_slice.data.r2\n",
        "alpha_range = current_sweep_outputs.config['experiments'][0]['grid_ranges']['alpha']\n",
        "r2['alpha_range'] = np.linspace(alpha_range['min'],alpha_range['max'],alpha_range['n'],endpoint=True)\n",
        "r2['alpha_range'] = r2['alpha_range'].values\n",
        "beta_range = current_sweep_outputs.config['experiments'][0]['grid_ranges']['beta']\n",
        "r2['beta_range'] = np.linspace(beta_range['min'],beta_range['max'],beta_range['n'],endpoint=True)\n",
        "r2['beta_range'] = r2['beta_range'].values"
      ]
    },
    {
      "cell_type": "code",
      "execution_count": null,
      "id": "ac9d884a",
      "metadata": {},
      "outputs": [],
      "source": [
        "argmax_index = np.unravel_index(np.argmax(r2.values.squeeze()), np.shape(r2.values.squeeze()))\n",
        "plt.figure(figsize=(20,20))\n",
        "plt.imshow(r2, cmap='RdYlGn', interpolation='nearest')\n",
        "plt.scatter(argmax_index[1],argmax_index[0],marker='x',color='black',s=500)\n",
        "plt.yticks(ticks=range(len(r2['alpha_range'])),labels=np.round(r2['alpha_range'].values,2))\n",
        "plt.ylabel('alpha')\n",
        "plt.xticks(ticks=range(len(r2['beta_range'])),labels=np.round(r2['beta_range'].values,2))\n",
        "plt.xlabel('beta')\n",
        "for i in range(len(r2['alpha_range'])):\n",
        "    for j in range(len(r2['beta_range'])):\n",
        "        plt.text(j,i,s=np.round(r2.squeeze().values[i,j],2),fontsize=8)\n",
        "plt.show()"
      ]
    },
    {
      "cell_type": "markdown",
      "id": "6a140648",
      "metadata": {},
      "source": [
        "# SIM Analysis"
      ]
    },
    {
      "cell_type": "code",
      "execution_count": 89,
      "id": "d5eb796d",
      "metadata": {},
      "outputs": [
        {
          "name": "stdout",
          "output_type": "stream",
          "text": [
            "# Sweeps: 6\n",
            "ItemsView(Coordinates:\n",
            "  * id             (id) object MultiIndex\n",
            "  * iter           (id) int32 1 2 3 4 5 6 ... 99996 99997 99998 99999 100000\n",
            "  * sweep          (sweep) object MultiIndex\n",
            "  * name           (sweep) <U21 'ProductionConstrained'\n",
            "  * sigma          (sweep) float32 0.1414\n",
            "  * to_learn       (sweep) <U17 \"['alpha', 'beta']\"\n",
            "  * loss_name      (sweep) <U38 \"['dest_attraction_ts_likelihood_loss']\"\n",
            "  * loss_function  (sweep) <U10 \"['custom']\"\n",
            "  * loss_kwargs    (sweep) <U26 \"{'noise_percentage': None}\")\n"
          ]
        }
      ],
      "source": [
        "current_data = current_sweep_outputs.get(4)\n",
        "print('# Sweeps:',len(current_sweep_outputs.data))\n",
        "print(current_data.data.alpha.coords.items())"
      ]
    },
    {
      "cell_type": "code",
      "execution_count": 90,
      "id": "45057ba4",
      "metadata": {},
      "outputs": [
        {
          "data": {
            "image/png": "[encoded data removed]",
            "text/plain": [
              "<Figure size 432x288 with 1 Axes>"
            ]
          },
          "metadata": {
            "needs_background": "light"
          },
          "output_type": "display_data"
        }
      ],
      "source": [
        "_ = plt.scatter(\n",
        "    np.exp(current_data.data.log_destination_attraction).mean('id').values.squeeze(),\n",
        "    ins.data.destination_attraction_ts.squeeze()\n",
        ")"
      ]
    },
    {
      "cell_type": "code",
      "execution_count": 91,
      "id": "29ae319d",
      "metadata": {},
      "outputs": [
        {
          "data": {
            "image/png": "[encoded data removed]",
            "text/plain": [
              "<Figure size 432x288 with 1 Axes>"
            ]
          },
          "metadata": {
            "needs_background": "light"
          },
          "output_type": "display_data"
        }
      ],
      "source": [
        "_ = plt.hist(current_data.data.alpha.squeeze().values)"
      ]
    },
    {
      "cell_type": "code",
      "execution_count": 92,
      "id": "48a46a95",
      "metadata": {},
      "outputs": [
        {
          "data": {
            "image/png": "[encoded data removed]",
            "text/plain": [
              "<Figure size 432x288 with 1 Axes>"
            ]
          },
          "metadata": {
            "needs_background": "light"
          },
          "output_type": "display_data"
        }
      ],
      "source": [
        "_ = plt.hist(current_data.data.beta.squeeze().values)"
      ]
    },
    {
      "cell_type": "code",
      "execution_count": 93,
      "id": "a45db478",
      "metadata": {},
      "outputs": [
        {
          "data": {
            "image/png": "[encoded data removed]",
            "text/plain": [
              "<Figure size 432x288 with 1 Axes>"
            ]
          },
          "metadata": {
            "needs_background": "light"
          },
          "output_type": "display_data"
        },
        {
          "ename": "",
          "evalue": "",
          "output_type": "error",
          "traceback": [
            "\u001b[1;31mThe Kernel crashed while executing code in the current cell or a previous cell. \n",
            "\u001b[1;31mPlease review the code in the cell(s) to identify a possible cause of the failure. \n",
            "\u001b[1;31mClick <a href='https://aka.ms/vscodeJupyterKernelCrash'>here</a> for more info. \n",
            "\u001b[1;31mView Jupyter <a href='command:jupyter.viewOutput'>log</a> for further details."
          ]
        }
      ],
      "source": [
        "_ = plt.hist2d(current_data.data.alpha.squeeze().values,current_data.data.beta.squeeze().values,bins = 50)"
      ]
    }
  ],
  "metadata": {
    "kernelspec": {
      "display_name": "gensit",
      "language": "python",
      "name": "python3"
    },
    "language_info": {
      "codemirror_mode": {
        "name": "ipython",
        "version": 3
      },
      "file_extension": ".py",
      "mimetype": "text/x-python",
      "name": "python",
      "nbconvert_exporter": "python",
      "pygments_lexer": "ipython3",
      "version": "3.10.0"
    }
  },
  "nbformat": 4,
  "nbformat_minor": 5
}
