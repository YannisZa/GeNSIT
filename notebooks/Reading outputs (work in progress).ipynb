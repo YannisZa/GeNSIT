{
  "cells": [
    {
      "cell_type": "code",
      "execution_count": null,
      "id": "c76b8620",
      "metadata": {},
      "outputs": [],
      "source": [
        "import os\n",
        "import glob\n",
        "import warnings\n",
        "import h5py as h5\n",
        "import numpy as np\n",
        "import pandas as pd\n",
        "import matplotlib as mpl\n",
        "import matplotlib.pyplot as plt\n",
        "\n",
        "from copy import deepcopy\n",
        "from tqdm.auto import tqdm\n",
        "from IPython.core.display import display, HTML\n",
        "\n",
        "from gensit.config import Config\n",
        "from gensit.inputs import Inputs\n",
        "from gensit.outputs import Outputs\n",
        "from gensit.utils.misc_utils import *\n",
        "from gensit.utils.math_utils import *\n",
        "from gensit.utils.probability_utils import *\n",
        "from gensit.contingency_table import instantiate_ct\n",
        "from gensit.contingency_table_mcmc import ContingencyTableMarkovChainMonteCarlo"
      ]
    },
    {
      "cell_type": "code",
      "execution_count": null,
      "id": "b718b815",
      "metadata": {},
      "outputs": [],
      "source": [
        "%matplotlib inline\n",
        "\n",
        "# AUTO RELOAD EXTERNAL MODULES\n",
        "%load_ext autoreload\n",
        "%autoreload 2"
      ]
    },
    {
      "cell_type": "markdown",
      "id": "2a125236",
      "metadata": {},
      "source": [
        "# Sandbox"
      ]
    },
    {
      "cell_type": "code",
      "execution_count": null,
      "id": "96abaf95",
      "metadata": {},
      "outputs": [],
      "source": [
        "# Create new logging object\n",
        "logger = setup_logger(\n",
        "    __name__,\n",
        "    console_level = 'PROGRESS',\n",
        "    file_level = 'EMPTY'\n",
        ")\n",
        "conf = Config(\n",
        "    path = '../data/inputs/configs/DC/experiment1_mcmc_disjoint.toml',\n",
        "    logger = logger\n",
        ")\n",
        "conf.settings['sweep_mode'] = False\n",
        "conf.settings['inputs']['dataset'] = 'temp'\n",
        "conf.settings['training']['to_learn'] = ['alpha','beta']\n",
        "conf.settings['harris_wilson_model']['parameters']['sigma'] = 0.014141414\n",
        "conf.settings['mcmc']['parameters']['covariance'] = conf.settings['mcmc']['parameters']['covariance']['sweep']['range'][0]"
      ]
    },
    {
      "cell_type": "code",
      "execution_count": null,
      "id": "d3b6c967",
      "metadata": {},
      "outputs": [],
      "source": [
        "np.random.seed(1234)\n",
        "I,J = 6,4\n",
        "gtt = np.random.randint(1,15,size=(6*4)).reshape((I,J))\n",
        "cm = np.random.rand(I,J)\n",
        "dats = np.random.rand(J)\n",
        "gtt[(0,1)] = 0\n",
        "gtt[(2,3)] = 0\n",
        "cell_constraints = np.array([(0,1),(0,2),(2,1),(2,3),(3,1),(4,3)])\n",
        "try:\n",
        "    os.mkdir(\"../data/inputs/temp\")\n",
        "except:\n",
        "    pass\n",
        "np.savetxt('../data/inputs/temp/ground_truth_table.txt',gtt)\n",
        "np.savetxt('../data/inputs/temp/zero_and_train_cells.txt',cell_constraints)\n",
        "np.savetxt('../data/inputs/temp/origin_demand_sum_normalised.txt',gtt.sum(axis=1)/gtt.sum())\n",
        "np.savetxt('../data/inputs/temp/cost_matrix_max_normalised.txt',cm/cm.max())\n",
        "np.savetxt('../data/inputs/temp/destination_attraction_housing_units_ts_sum_normalised.txt',dats/dats.sum())"
      ]
    },
    {
      "cell_type": "code",
      "execution_count": null,
      "id": "3ba4b005",
      "metadata": {},
      "outputs": [],
      "source": [
        "# Prepare inputs\n",
        "ins = Inputs(\n",
        "    config = conf,\n",
        "    synthetic_data = False,\n",
        "    logger = logger \n",
        ")\n",
        "\n",
        "# Pass inputs to device\n",
        "ins.pass_to_device()\n",
        "\n",
        "# Instantiate contingency table\n",
        "conf_without_cell_constraints = deepcopy(conf)\n",
        "conf_without_cell_constraints['contingency_table']['constraints']['cells'] = ''\n",
        "\n",
        "ct_with_cell_constraints = instantiate_ct(\n",
        "    config = conf,\n",
        "    **vars(ins.data),\n",
        "    logger = logger\n",
        ")\n",
        "ct_without_cell_constraints = instantiate_ct(\n",
        "    config = conf_without_cell_constraints,\n",
        "    **vars(ins.data),\n",
        "    logger = logger\n",
        ")\n",
        "\n",
        "conf.settings['contingency_table']['distribution_name'] = ct_with_cell_constraints.distribution_name\n",
        "conf_without_cell_constraints.settings['contingency_table']['distribution_name'] = ct_without_cell_constraints.distribution_name\n",
        "\n",
        "ct_mcmc_with_cell_constraints = ContingencyTableMarkovChainMonteCarlo(\n",
        "    ct = ct_with_cell_constraints,\n",
        "    log_to_console = False,\n",
        "    logger = logger\n",
        ")\n",
        "ct_mcmc_without_cell_constraints = ContingencyTableMarkovChainMonteCarlo(\n",
        "    ct = ct_without_cell_constraints,\n",
        "    log_to_console = False,\n",
        "    logger = logger\n",
        ")"
      ]
    },
    {
      "cell_type": "code",
      "execution_count": null,
      "id": "dec91d30",
      "metadata": {},
      "outputs": [],
      "source": [
        "def _coloring_function(val):\n",
        "    color = 'green' if val < 0 else 'red'\n",
        "    return 'color: %s' % color\n",
        "constraint_table = pd.DataFrame(ct_with_cell_constraints.constraint_table())\n",
        "constraint_table = constraint_table.style.applymap(_coloring_function)"
      ]
    },
    {
      "cell_type": "code",
      "execution_count": null,
      "id": "916eefed",
      "metadata": {},
      "outputs": [],
      "source": [
        "print('Without cell constraints',len(ct_mcmc_without_cell_constraints.markov_basis))\n",
        "print('With cell constraints',len(ct_mcmc_with_cell_constraints.markov_basis))"
      ]
    },
    {
      "cell_type": "code",
      "execution_count": null,
      "id": "b13eb6a7",
      "metadata": {},
      "outputs": [],
      "source": [
        "for mb in ct_mcmc_without_cell_constraints.markov_basis:\n",
        "    print(f_to_array(mb,shape=(I,J)))\n",
        "    print('\\n')"
      ]
    },
    {
      "cell_type": "code",
      "execution_count": null,
      "id": "338c8cbb",
      "metadata": {},
      "outputs": [],
      "source": [
        "for mb in ct_mcmc_with_cell_constraints.markov_basis:\n",
        "    print(f_to_array(mb,shape=(I,J)))\n",
        "    display(constraint_table)\n",
        "    print('\\n')"
      ]
    },
    {
      "cell_type": "markdown",
      "id": "880cdfcb",
      "metadata": {},
      "source": [
        "## Import samples"
      ]
    },
    {
      "cell_type": "code",
      "execution_count": null,
      "id": "e21669cd",
      "metadata": {},
      "outputs": [],
      "source": [
        "# Specify experiment id\n",
        "experiment_id = \"NonJointTableSIM_NN_SweepedNoise__doubly_and_cell_constrained_18_04_2024_16_50_15\"\n",
        "# Specify experiment group id\n",
        "dataset = 'DC'\n",
        "#'DC'\n",
        "#'cambridge_work_commuter_lsoas_to_msoas'\n",
        "#'sioux_falls'\n",
        "experiment_group_id = 'exp1'\n",
        "# 'r_squared'\n",
        "# 'exp1'\n",
        "experiment_dir = f'../data/outputs/{dataset}/{experiment_group_id}/{experiment_id}/'\n",
        "relative_experiment_dir = os.path.relpath(experiment_dir,os.getcwd())\n",
        "\n",
        "# Create new logging object\n",
        "logger = setup_logger(\n",
        "    __name__,\n",
        "    console_level = 'PROGRESS',\n",
        "    file_level = 'EMPTY'\n",
        ")"
      ]
    },
    {
      "cell_type": "code",
      "execution_count": null,
      "id": "41e02907",
      "metadata": {},
      "outputs": [],
      "source": [
        "# Output processing settings\n",
        "settings = {\n",
        "    \"logging_mode\": \"PROGRESS\",\n",
        "    \"coordinate_slice\": [\n",
        "        \"da.loss_name == str(['dest_attraction_ts_likelihood_loss'])\",\n",
        "        # \"da.cost_matrix == 'cost_matrix_max_normalised.txt'\"\n",
        "    ],\n",
        "    # \"coordinate_slice\": [\n",
        "    #     \"da.destination_attraction_ts == 'destination_attraction_housing_units_ts_sum_normalised.txt'\",\n",
        "    #     \"da.cost_matrix == 'cost_matrix_sum_normalised.txt'\",\n",
        "    #     \"da.title == '_row_constrained'\",\n",
        "    #     \"da.bmax == 1.0\"\n",
        "    #     # \"da.loss_name == str(['dest_attraction_ts_likelihood_loss'])\",\n",
        "    #     # \"~da.title.isin([str('_unconstrained'), str('_total_constrained')])\"\n",
        "    # ],\n",
        "    \"metadata_keys\":[],\n",
        "    \"burnin_thinning_trimming\": [],\n",
        "    # \"burnin_thinning_trimming\": [{'iter': {\"burnin\":10000, \"thinning\":90, \"trimming\":1000}}],\n",
        "    \"n_workers\": 1,\n",
        "    \"group_by\":[],\n",
        "    \"filename_ending\":\"test\",\n",
        "    \"sample\":[\"intensity\",\"table\"],\n",
        "    \"validation_data\":{\"test_cells\":\"../data/inputs/DC/test_cells.txt\"},\n",
        "    \"force_reload\":False\n",
        "}"
      ]
    },
    {
      "cell_type": "code",
      "execution_count": null,
      "id": "833a9fad",
      "metadata": {},
      "outputs": [],
      "source": [
        "# Initialise outputs\n",
        "current_sweep_outputs = Outputs(\n",
        "    config = os.path.join(relative_experiment_dir,\"config.json\"),\n",
        "    settings = settings,\n",
        "    inputs = None,\n",
        "    slice = True,\n",
        "    level = 'INFO'\n",
        ")\n",
        "# Silence outputs\n",
        "# current_sweep_outputs.logger.setLevels(console_level='EMPTY')\n",
        "# Load all data\n",
        "current_sweep_outputs.load()\n",
        "\n",
        "print(len(current_sweep_outputs.data),'experiments matched')"
      ]
    },
    {
      "cell_type": "code",
      "execution_count": null,
      "id": "109abcb3",
      "metadata": {},
      "outputs": [],
      "source": [
        "# conf = Config(\n",
        "#     path = os.path.join(relative_experiment_dir,\"config.json\")\n",
        "# )\n",
        "# ins = Inputs(\n",
        "#     config = conf\n",
        "# )\n",
        "# ins.cast_to_xarray()"
      ]
    },
    {
      "cell_type": "markdown",
      "id": "567bc38f",
      "metadata": {},
      "source": [
        "# $R^2$ analysis"
      ]
    },
    {
      "cell_type": "code",
      "execution_count": null,
      "id": "594f7384",
      "metadata": {},
      "outputs": [],
      "source": [
        "sweep_outputs_slices = []\n",
        "for i in tqdm(range(len(current_sweep_outputs.data)),leave=False,desc='Finding best R2 experiments'):\n",
        "    current_sweep_outputs_slice = current_sweep_outputs.get(i)\n",
        "    current_r2 = current_sweep_outputs_slice.data.r2\n",
        "    if np.max(current_r2) > 0.6:\n",
        "        sweep_outputs_slices.append(current_sweep_outputs_slice)\n",
        "print(len(sweep_outputs_slices),'experiments kept')"
      ]
    },
    {
      "cell_type": "code",
      "execution_count": null,
      "id": "adc5111c",
      "metadata": {},
      "outputs": [],
      "source": [
        "# index = 15\n",
        "# sweep_outputs_slice = sweep_outputs_slices[index]"
      ]
    },
    {
      "cell_type": "code",
      "execution_count": null,
      "id": "9f469501",
      "metadata": {},
      "outputs": [],
      "source": [
        "# data_index = 0\n",
        "# sweep_outputs_slice = current_sweep_outputs.get(data_index)"
      ]
    },
    {
      "cell_type": "code",
      "execution_count": null,
      "id": "3eb1df35",
      "metadata": {},
      "outputs": [],
      "source": [
        "r2 = sweep_outputs_slice.data.r2\n",
        "alpha_range = current_sweep_outputs.config['experiments'][0]['grid_ranges']['alpha']\n",
        "r2['alpha_range'] = np.linspace(alpha_range['min'],alpha_range['max'],alpha_range['n'],endpoint=True)\n",
        "r2['alpha_range'] = r2['alpha_range'].values\n",
        "beta_range = current_sweep_outputs.config['experiments'][0]['grid_ranges']['beta']\n",
        "r2['beta_range'] = np.linspace(beta_range['min'],beta_range['max'],beta_range['n'],endpoint=True)\n",
        "r2['beta_range'] = r2['beta_range'].values\n",
        "r2.coords"
      ]
    },
    {
      "cell_type": "code",
      "execution_count": null,
      "id": "ac9d884a",
      "metadata": {},
      "outputs": [],
      "source": [
        "argmax_index = np.unravel_index(np.argmax(r2.values.squeeze()), np.shape(r2.values.squeeze()))\n",
        "plt.figure(figsize=(20,20))\n",
        "plt.imshow(r2, cmap='RdYlGn', interpolation='nearest')\n",
        "plt.scatter(argmax_index[1],argmax_index[0],marker='x',color='black',s=500)\n",
        "plt.yticks(ticks=range(len(r2['alpha_range'])),labels=np.round(r2['alpha_range'].values,2))\n",
        "plt.ylabel('alpha')\n",
        "plt.xticks(ticks=range(len(r2['beta_range'])),labels=np.round(r2['beta_range'].values,2))\n",
        "plt.xlabel('beta')\n",
        "for i in range(len(r2['alpha_range'])):\n",
        "    for j in range(len(r2['beta_range'])):\n",
        "        plt.text(j,i,s=np.round(r2.squeeze().values[i,j],2),fontsize=8)\n",
        "plt.show()"
      ]
    },
    {
      "cell_type": "markdown",
      "id": "6a140648",
      "metadata": {},
      "source": [
        "# SIM Analysis"
      ]
    },
    {
      "cell_type": "code",
      "execution_count": null,
      "id": "d5eb796d",
      "metadata": {},
      "outputs": [],
      "source": [
        "index = 0\n",
        "current_data = current_sweep_outputs.get(index)\n",
        "print('# Sweeps:',len(current_sweep_outputs.data))\n",
        "print(current_data.data.alpha.coords.items())"
      ]
    },
    {
      "cell_type": "code",
      "execution_count": null,
      "id": "fa8fb841",
      "metadata": {},
      "outputs": [],
      "source": [
        "ins = Inputs(\n",
        "    config = current_data.config\n",
        ")\n",
        "ins.cast_to_xarray()\n",
        "test_cells = current_data.get_sample('test_cells')\n",
        "train_cells = current_data.get_sample('train_cells')"
      ]
    },
    {
      "cell_type": "code",
      "execution_count": null,
      "id": "1a1e911f",
      "metadata": {},
      "outputs": [],
      "source": [
        "all_table_error = srmse(\n",
        "    prediction = current_data.data.table.mean('id',dtype='float64'),\n",
        "    ground_truth = ins.data.ground_truth_table\n",
        ")\n",
        "train_table_error = srmse(\n",
        "    prediction = current_data.data.table.mean('id',dtype='float64'),\n",
        "    ground_truth = ins.data.ground_truth_table,\n",
        "    cells = train_cells\n",
        ")\n",
        "test_table_error = srmse(\n",
        "    prediction = current_data.data.table.mean('id',dtype='float64'),\n",
        "    ground_truth = ins.data.ground_truth_table,\n",
        "    cells = test_cells\n",
        ")"
      ]
    },
    {
      "cell_type": "code",
      "execution_count": null,
      "id": "cc905be7",
      "metadata": {},
      "outputs": [],
      "source": [
        "print(\n",
        "    all_table_error.values.squeeze().item(),\n",
        "    train_table_error.values.squeeze().item(),\n",
        "    test_table_error.values.squeeze().item()\n",
        ")"
      ]
    },
    {
      "cell_type": "code",
      "execution_count": null,
      "id": "c7090ffd",
      "metadata": {},
      "outputs": [],
      "source": [
        "all_intensity_error = srmse(\n",
        "    prediction = current_data.get_sample('intensity').mean('id',dtype='float64'),\n",
        "    ground_truth = ins.data.ground_truth_table\n",
        ")\n",
        "train_intensity_error = srmse(\n",
        "    prediction = current_data.get_sample('intensity').mean('id',dtype='float64'),\n",
        "    ground_truth = ins.data.ground_truth_table,\n",
        "    cells = train_cells\n",
        ")\n",
        "test_intensity_error = srmse(\n",
        "    prediction = current_data.get_sample('intensity').mean('id',dtype='float64'),\n",
        "    ground_truth = ins.data.ground_truth_table,\n",
        "    cells = test_cells\n",
        ")"
      ]
    },
    {
      "cell_type": "code",
      "execution_count": null,
      "id": "dcf96b7f",
      "metadata": {},
      "outputs": [],
      "source": [
        "print(\n",
        "    all_intensity_error.values.squeeze().item(),\n",
        "    train_intensity_error.values.squeeze().item(),\n",
        "    test_intensity_error.values.squeeze().item()\n",
        ")"
      ]
    },
    {
      "cell_type": "code",
      "execution_count": null,
      "id": "ca0eecab",
      "metadata": {},
      "outputs": [],
      "source": [
        "all_table_cp = coverage_probability(\n",
        "    prediction = current_data.data.table,\n",
        "    ground_truth = ins.data.ground_truth_table,\n",
        "    region_mass = 0.95\n",
        ")\n",
        "train_table_cp = coverage_probability(\n",
        "    prediction = current_data.data.table,\n",
        "    ground_truth = ins.data.ground_truth_table,\n",
        "    region_mass = 0.95,\n",
        "    cells = train_cells\n",
        ")\n",
        "test_table_cp = coverage_probability(\n",
        "    prediction = current_data.data.table,\n",
        "    ground_truth = ins.data.ground_truth_table,\n",
        "    region_mass = 0.95,\n",
        "    cells = test_cells\n",
        ")\n"
      ]
    },
    {
      "cell_type": "code",
      "execution_count": null,
      "id": "ed196756",
      "metadata": {},
      "outputs": [],
      "source": [
        "all_cp = all_table_cp\n",
        "test_cp = train_table_cp\n",
        "test_cp = test_table_cp"
      ]
    },
    {
      "cell_type": "code",
      "execution_count": null,
      "id": "f6404451",
      "metadata": {},
      "outputs": [],
      "source": [
        "print(\n",
        "    all_table_cp.mean(['origin','destination'],skipna=True).values.item(),\n",
        "    train_table_cp.mean(['origin','destination'],skipna=True).values.item(),\n",
        "    test_table_cp.mean(['origin','destination'],skipna=True).values.item()\n",
        ")"
      ]
    },
    {
      "cell_type": "code",
      "execution_count": null,
      "id": "3c60450c",
      "metadata": {},
      "outputs": [],
      "source": [
        "all_intensity_cp = coverage_probability(\n",
        "    prediction = current_data.get_sample('intensity'),\n",
        "    ground_truth = ins.data.ground_truth_table,\n",
        "    region_mass = 0.95\n",
        ")\n",
        "train_intensity_cp = coverage_probability(\n",
        "    prediction = current_data.get_sample('intensity'),\n",
        "    ground_truth = ins.data.ground_truth_table,\n",
        "    region_mass = 0.95,\n",
        "    cells = train_cells\n",
        ")\n",
        "test_intensity_cp = coverage_probability(\n",
        "    prediction = current_data.get_sample('intensity'),\n",
        "    ground_truth = ins.data.ground_truth_table,\n",
        "    region_mass = 0.95,\n",
        "    cells = test_cells\n",
        ")"
      ]
    },
    {
      "cell_type": "code",
      "execution_count": null,
      "id": "30e55924",
      "metadata": {},
      "outputs": [],
      "source": [
        "print(\n",
        "    all_intensity_cp.mean(['origin','destination'],skipna=True).values.item(),\n",
        "    train_intensity_cp.mean(['origin','destination'],skipna=True).values.item(),\n",
        "    test_intensity_cp.mean(['origin','destination'],skipna=True).values.item()\n",
        ")"
      ]
    },
    {
      "cell_type": "code",
      "execution_count": null,
      "id": "45057ba4",
      "metadata": {},
      "outputs": [],
      "source": [
        "_ = plt.scatter(\n",
        "    np.exp(current_data.data.log_destination_attraction).mean('id').values.squeeze(),\n",
        "    ins.data.destination_attraction_ts.squeeze()\n",
        ")\n",
        "plt.xlabel(\"Predictions\")\n",
        "plt.ylabel(\"Data\")"
      ]
    },
    {
      "cell_type": "code",
      "execution_count": null,
      "id": "29ae319d",
      "metadata": {},
      "outputs": [],
      "source": [
        "_ = plt.hist(current_data.data.alpha.squeeze().values,bins=30)\n",
        "plt.xlabel('alpha')"
      ]
    },
    {
      "cell_type": "code",
      "execution_count": null,
      "id": "48a46a95",
      "metadata": {},
      "outputs": [],
      "source": [
        "_ = plt.hist(current_data.data.beta.squeeze().values,bins=30)\n",
        "plt.xlabel('beta')"
      ]
    },
    {
      "cell_type": "code",
      "execution_count": null,
      "id": "a45db478",
      "metadata": {},
      "outputs": [],
      "source": [
        "_ = plt.hist2d(\n",
        "    current_data.data.beta.squeeze().values,\n",
        "    current_data.data.alpha.squeeze().values,\n",
        "    bins = 30\n",
        ")\n",
        "plt.ylabel('alpha')\n",
        "plt.xlabel('beta')"
      ]
    }
  ],
  "metadata": {
    "kernelspec": {
      "display_name": "gensit",
      "language": "python",
      "name": "python3"
    },
    "language_info": {
      "codemirror_mode": {
        "name": "ipython",
        "version": 3
      },
      "file_extension": ".py",
      "mimetype": "text/x-python",
      "name": "python",
      "nbconvert_exporter": "python",
      "pygments_lexer": "ipython3",
      "version": "3.10.0"
    }
  },
  "nbformat": 4,
  "nbformat_minor": 5
}
