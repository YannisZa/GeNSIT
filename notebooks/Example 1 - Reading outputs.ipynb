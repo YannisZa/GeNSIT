{
 "cells": [
  {
   "cell_type": "code",
   "execution_count": null,
   "id": "c76b8620",
   "metadata": {},
   "outputs": [],
   "source": [
    "import os\n",
    "import glob\n",
    "import warnings\n",
    "import numpy as np\n",
    "import matplotlib as mpl\n",
    "import matplotlib.pyplot as plt\n",
    "\n",
    "\n",
    "from copy import deepcopy\n",
    "from tqdm.auto import tqdm\n",
    "\n",
    "from multiresticodm.utils import *\n",
    "from multiresticodm.config import Config\n",
    "from multiresticodm.outputs import OutputSummary\n",
    "\n",
    "import multiresticodm.spatial_interaction_model as SIM_Model"
   ]
  },
  {
   "cell_type": "code",
   "execution_count": null,
   "id": "b718b815",
   "metadata": {},
   "outputs": [],
   "source": [
    "%matplotlib inline\n",
    "\n",
    "# AUTO RELOAD EXTERNAL MODULES\n",
    "%load_ext autoreload\n",
    "%autoreload 2"
   ]
  },
  {
   "cell_type": "markdown",
   "id": "880cdfcb",
   "metadata": {},
   "source": [
    "## Import samples"
   ]
  },
  {
   "cell_type": "code",
   "execution_count": null,
   "id": "e21669cd",
   "metadata": {},
   "outputs": [],
   "source": [
    "# Specify experiment id\n",
    "experiment_id = \"SIM_NN_SweepedNoise_16_05_2023_20_09_04\"\n",
    "experiment_group_id = 'exp1/'"
   ]
  },
  {
   "cell_type": "code",
   "execution_count": null,
   "id": "9b1c638c",
   "metadata": {},
   "outputs": [],
   "source": [
    "# Create new logging object\n",
    "logger = setup_logger(\n",
    "    __name__,\n",
    "    console_level = 'INFO',\n",
    "    file_level = 'EMPTY'\n",
    ")"
   ]
  },
  {
   "cell_type": "code",
   "execution_count": null,
   "id": "ab5acda5",
   "metadata": {},
   "outputs": [],
   "source": [
    "# Define path to outputs\n",
    "outputs_dir = f\"../data/outputs\"\n",
    "outputs_path = os.path.join(\n",
    "    outputs_dir,\n",
    "    f\"cambridge_work_commuter_lsoas_to_msoas/{experiment_group_id}{experiment_id}\"\n",
    ")\n",
    "# Read config\n",
    "conf = Config(\n",
    "    path = os.path.join(outputs_path,\"config.json\"),\n",
    "    logger = logger\n",
    ")"
   ]
  },
  {
   "cell_type": "code",
   "execution_count": null,
   "id": "41e02907",
   "metadata": {},
   "outputs": [],
   "source": [
    "# Output processing settings\n",
    "output_settings = dict(\n",
    "    logging_mode = 'INFO',\n",
    "    out_directory = outputs_dir,\n",
    "    dataset_name = [f\"cambridge_work_commuter_lsoas_to_msoas/{experiment_group_id}\"],\n",
    "    # experiment_type = ['SIM_NN'],\n",
    "    directories = ['SIM_NN_SweepedNoise_16_05_2023_20_09_04'],\n",
    "    metadata_keys = ['sigma','name'],\n",
    "    sample = ['intensity','total_loss'],\n",
    "    statistic = [('','mean&','iter&')],\n",
    "    burnin_thinning_trimming = {'iter':{\"burnin\":0,\"thinning\":1,\"trimming\":None}},\n",
    "    force_reload = True\n",
    ")\n",
    "\n",
    "# Compile outputs summary\n",
    "outsum = OutputSummary(\n",
    "    settings = output_settings,\n",
    "    logger = logger\n",
    ")"
   ]
  },
  {
   "cell_type": "code",
   "execution_count": null,
   "id": "833a9fad",
   "metadata": {},
   "outputs": [],
   "source": [
    "# Gather outputs\n",
    "outputs = outsum.get_folder_outputs(0,outsum.output_folders[0])"
   ]
  },
  {
   "cell_type": "code",
   "execution_count": null,
   "id": "3dfa3b00",
   "metadata": {},
   "outputs": [],
   "source": [
    "index = 4"
   ]
  },
  {
   "cell_type": "code",
   "execution_count": null,
   "id": "f73526af",
   "metadata": {},
   "outputs": [],
   "source": [
    "outputs.data.alpha[index].coords"
   ]
  },
  {
   "cell_type": "code",
   "execution_count": null,
   "id": "1c0beb33",
   "metadata": {},
   "outputs": [],
   "source": [
    "np.round(outputs.data.alpha[index][0,0,0,0,0,:10].values,4)"
   ]
  },
  {
   "cell_type": "code",
   "execution_count": null,
   "id": "c097df4d",
   "metadata": {},
   "outputs": [],
   "source": [
    "np.round(outputs.data.beta[index][0,0,0,0,0,:10].values,4)"
   ]
  },
  {
   "cell_type": "code",
   "execution_count": null,
   "id": "54f27e9b",
   "metadata": {},
   "outputs": [],
   "source": [
    "np.round(np.exp(outputs.data.log_destination_attraction[index][0,0,0,0,0,:10].values),4)"
   ]
  },
  {
   "cell_type": "code",
   "execution_count": null,
   "id": "4f4045ad",
   "metadata": {},
   "outputs": [],
   "source": [
    "outputs.data.total_loss[index][0,0,0,0,0,:10].values"
   ]
  }
 ],
 "metadata": {
  "kernelspec": {
   "display_name": "mrticodm",
   "language": "python",
   "name": "python3"
  },
  "language_info": {
   "codemirror_mode": {
    "name": "ipython",
    "version": 3
   },
   "file_extension": ".py",
   "mimetype": "text/x-python",
   "name": "python",
   "nbconvert_exporter": "python",
   "pygments_lexer": "ipython3",
   "version": "3.9.0"
  }
 },
 "nbformat": 4,
 "nbformat_minor": 5
}
