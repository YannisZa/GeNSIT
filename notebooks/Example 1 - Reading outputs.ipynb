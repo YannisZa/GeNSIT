{
 "cells": [
  {
   "cell_type": "code",
   "execution_count": 12,
   "id": "c76b8620",
   "metadata": {},
   "outputs": [],
   "source": [
    "import os\n",
    "import json\n",
    "import glob\n",
    "import itertools\n",
    "import numpy as np\n",
    "import pandas as pd\n",
    "import matplotlib as mpl\n",
    "import matplotlib.pyplot as plt\n",
    "\n",
    "from tqdm import tqdm\n",
    "from copy import deepcopy\n",
    "from collections import OrderedDict\n",
    "\n",
    "from multiresticodm.utils import *\n",
    "from multiresticodm.config import Config\n",
    "from multiresticodm.outputs import Outputs\n",
    "from multiresticodm.sim_models import TotallyConstrained, ProductionConstrained"
   ]
  },
  {
   "cell_type": "code",
   "execution_count": 13,
   "id": "b718b815",
   "metadata": {},
   "outputs": [
    {
     "name": "stdout",
     "output_type": "stream",
     "text": [
      "The autoreload extension is already loaded. To reload it, use:\n",
      "  %reload_ext autoreload\n"
     ]
    }
   ],
   "source": [
    "%matplotlib inline\n",
    "\n",
    "# AUTO RELOAD EXTERNAL MODULES\n",
    "%load_ext autoreload\n",
    "%autoreload 2"
   ]
  },
  {
   "cell_type": "markdown",
   "id": "880cdfcb",
   "metadata": {},
   "source": [
    "## Import samples"
   ]
  },
  {
   "cell_type": "code",
   "execution_count": 14,
   "id": "e21669cd",
   "metadata": {},
   "outputs": [],
   "source": [
    "# Specify experiment id\n",
    "experiment_id = \"SIM_NN_SweepedNoise_test_05_08_2023_21_55_21\""
   ]
  },
  {
   "cell_type": "code",
   "execution_count": 15,
   "id": "9b1c638c",
   "metadata": {},
   "outputs": [],
   "source": [
    "# Read config\n",
    "conf = Config(\n",
    "    path = f\"../data/outputs/cambridge_work_commuter_lsoas_to_msoas/{experiment_id}/config.json\"\n",
    ")"
   ]
  },
  {
   "cell_type": "code",
   "execution_count": 27,
   "id": "41e02907",
   "metadata": {},
   "outputs": [
    {
     "name": "stderr",
     "output_type": "stream",
     "text": [
      "31:44.954 outputs INFO Loading h5 data into xarrays...\n"
     ]
    }
   ],
   "source": [
    "# Import outputs\n",
    "outputs = Outputs(\n",
    "    config = f\"../data/outputs/cambridge_work_commuter_lsoas_to_msoas/{experiment_id}\",\n",
    "    output_names = [],#['alpha','beta','log_destination_attraction','intensity'],\n",
    "    slice_samples = False,\n",
    "    level = 'debug'\n",
    ")"
   ]
  },
  {
   "cell_type": "code",
   "execution_count": null,
   "id": "69332c77",
   "metadata": {},
   "outputs": [],
   "source": []
  }
 ],
 "metadata": {
  "kernelspec": {
   "display_name": "mrticodm",
   "language": "python",
   "name": "python3"
  },
  "language_info": {
   "codemirror_mode": {
    "name": "ipython",
    "version": 3
   },
   "file_extension": ".py",
   "mimetype": "text/x-python",
   "name": "python",
   "nbconvert_exporter": "python",
   "pygments_lexer": "ipython3",
   "version": "3.9.0"
  }
 },
 "nbformat": 4,
 "nbformat_minor": 5
}
