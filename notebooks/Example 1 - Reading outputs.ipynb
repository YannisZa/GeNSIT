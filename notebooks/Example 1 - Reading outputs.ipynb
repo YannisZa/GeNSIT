{
 "cells": [
  {
   "cell_type": "code",
   "execution_count": null,
   "id": "c76b8620",
   "metadata": {},
   "outputs": [],
   "source": [
    "import os\n",
    "import json\n",
    "import glob\n",
    "import warnings\n",
    "import itertools\n",
    "import numpy as np\n",
    "import pandas as pd\n",
    "import matplotlib as mpl\n",
    "import ruamel.yaml as yaml\n",
    "import matplotlib.pyplot as plt\n",
    "\n",
    "\n",
    "\n",
    "from tqdm.auto import tqdm\n",
    "from copy import deepcopy\n",
    "from collections import OrderedDict\n",
    "\n",
    "from multiresticodm.utils import *\n",
    "from multiresticodm.config import Config\n",
    "from multiresticodm.outputs import Outputs\n",
    "from dasim.notebook_functions import *\n",
    "from multiresticodm.sim_models import TotallyConstrained, ProductionConstrained"
   ]
  },
  {
   "cell_type": "code",
   "execution_count": null,
   "id": "b718b815",
   "metadata": {},
   "outputs": [],
   "source": [
    "%matplotlib inline\n",
    "\n",
    "# AUTO RELOAD EXTERNAL MODULES\n",
    "%load_ext autoreload\n",
    "%autoreload 2"
   ]
  },
  {
   "cell_type": "markdown",
   "id": "880cdfcb",
   "metadata": {},
   "source": [
    "## Import samples"
   ]
  },
  {
   "cell_type": "code",
   "execution_count": null,
   "id": "e21669cd",
   "metadata": {},
   "outputs": [],
   "source": [
    "# Specify experiment id\n",
    "experiment_id = \"SIM_NN_LowNoise_test_06_08_2023_22_38_11\"\n"
   ]
  },
  {
   "cell_type": "code",
   "execution_count": null,
   "id": "9b1c638c",
   "metadata": {},
   "outputs": [],
   "source": [
    "# Read config\n",
    "conf = Config(\n",
    "    path = f\"../data/outputs/cambridge_work_commuter_lsoas_to_msoas/{experiment_id}/config.json\"\n",
    ")"
   ]
  },
  {
   "cell_type": "code",
   "execution_count": null,
   "id": "41e02907",
   "metadata": {},
   "outputs": [],
   "source": [
    "# Import outputs\n",
    "outputs = Outputs(\n",
    "    config = f\"../data/outputs/cambridge_work_commuter_lsoas_to_msoas/{experiment_id}\",\n",
    "    output_names = [],#['alpha','beta','log_destination_attraction  ','intensity'],\n",
    "    slice_samples = False,\n",
    "    level = 'debug'\n",
    ")"
   ]
  },
  {
   "cell_type": "code",
   "execution_count": null,
   "id": "833a9fad",
   "metadata": {},
   "outputs": [],
   "source": [
    "vars(outputs._data).keys()"
   ]
  },
  {
   "cell_type": "code",
   "execution_count": null,
   "id": "9f0e391f",
   "metadata": {},
   "outputs": [],
   "source": [
    "output_folders = ['230806-223945_Cambridge_dataset']"
   ]
  },
  {
   "cell_type": "code",
   "execution_count": null,
   "id": "2494e386",
   "metadata": {},
   "outputs": [],
   "source": [
    "low_noise_data = {\"TotalConstrained\":{},\"ProductionConstrained\":{}}\n",
    "high_noise_data = {\"TotalConstrained\":{},\"ProductionConstrained\":{}}\n",
    "\n",
    "low_noise_config = {\"TotalConstrained\":{},\"ProductionConstrained\":{}}\n",
    "high_noise_config = {\"TotalConstrained\":{},\"ProductionConstrained\":{}}\n",
    "\n",
    "keys_of_interest = [\"alpha\",\"beta\",\"kappa\",\"loss\",\"pred_dest_sizes\"]\n",
    "\n",
    "for output_folder in output_folders:\n",
    "    # Define directory\n",
    "    outputs_data_path = f'../../NeuralABM/outputs/HarrisWilson/{output_folder}/data/'\n",
    "    config_path = f\"../../NeuralABM/outputs/HarrisWilson/{output_folder}/config/run_cfg.yml\"\n",
    "    for filepath in tqdm(sorted(glob.glob(os.path.join(outputs_data_path,\"*\")))):\n",
    "        # Read config\n",
    "        with open(os.path.join(filepath,'config.yml'), \"r\") as stream:\n",
    "            config = yaml.safe_load(stream)\n",
    "        data_slice = read_h5_data(filepath,keys=keys_of_interest)\n",
    "        sigma = config['HarrisWilson']['Training']['true_parameters'].get('sigma',-1)\n",
    "        sim_type = config['HarrisWilson']['FlowModel'].replace('ABM','')\n",
    "        if sigma <= 0.05 and sigma >= 0:\n",
    "            low_noise_config[sim_type] = config\n",
    "            if not str_in_list(low_noise_config[sim_type]['seed'],low_noise_data[sim_type].keys()): \n",
    "                low_noise_data[sim_type][low_noise_config[sim_type]['seed']] = dict(zip(keys_of_interest,[None]*len(keys_of_interest)))\n",
    "            for k in keys_of_interest:\n",
    "                if low_noise_data[sim_type][low_noise_config[sim_type]['seed']][k] is None:\n",
    "                    low_noise_data[sim_type][low_noise_config[sim_type]['seed']][k] = data_slice[k]\n",
    "                else:\n",
    "                    low_noise_data[sim_type][low_noise_config[sim_type]['seed']][k] = np.append(\n",
    "                        low_noise_data[sim_type][low_noise_config[sim_type]['seed']][k],\n",
    "                        data_slice[k],\n",
    "                        axis=0\n",
    "                    )\n",
    "        elif sigma > 0.05:\n",
    "            high_noise_config[sim_type] = config\n",
    "            if not str_in_list(high_noise_config[sim_type]['seed'],high_noise_data[sim_type].keys()): \n",
    "                high_noise_data[sim_type][high_noise_config[sim_type]['seed']] = dict(zip(keys_of_interest,[None]*len(keys_of_interest)))\n",
    "            for k in keys_of_interest:\n",
    "                if high_noise_data[sim_type][high_noise_config[sim_type]['seed']][k] is None:\n",
    "                    high_noise_data[sim_type][high_noise_config[sim_type]['seed']][k] = data_slice[k]\n",
    "                else:\n",
    "                    high_noise_data[sim_type][high_noise_config[sim_type]['seed']][k] = np.append(\n",
    "                        high_noise_data[sim_type][high_noise_config[sim_type]['seed']][k],\n",
    "                        data_slice[k],\n",
    "                        axis=0\n",
    "                    )"
   ]
  },
  {
   "cell_type": "code",
   "execution_count": null,
   "id": "f8e631ee",
   "metadata": {},
   "outputs": [],
   "source": [
    "outputs._data.kappa['kappa'].values"
   ]
  },
  {
   "cell_type": "code",
   "execution_count": null,
   "id": "b2eba74b",
   "metadata": {},
   "outputs": [],
   "source": [
    "low_noise_data['TotalConstrained'][1]['kappa']"
   ]
  },
  {
   "cell_type": "code",
   "execution_count": null,
   "id": "7ceeb34f",
   "metadata": {},
   "outputs": [],
   "source": [
    "plt.hist(outputs._data.alpha['alpha'].values)"
   ]
  },
  {
   "cell_type": "code",
   "execution_count": null,
   "id": "118a7fd1",
   "metadata": {},
   "outputs": [],
   "source": [
    "plt.hist(low_noise_data['TotalConstrained'][1]['alpha'])"
   ]
  },
  {
   "cell_type": "code",
   "execution_count": null,
   "id": "6af4ffc4",
   "metadata": {},
   "outputs": [],
   "source": []
  }
 ],
 "metadata": {
  "kernelspec": {
   "display_name": "mrticodm",
   "language": "python",
   "name": "python3"
  },
  "language_info": {
   "codemirror_mode": {
    "name": "ipython",
    "version": 3
   },
   "file_extension": ".py",
   "mimetype": "text/x-python",
   "name": "python",
   "nbconvert_exporter": "python",
   "pygments_lexer": "ipython3",
   "version": "3.8.10"
  }
 },
 "nbformat": 4,
 "nbformat_minor": 5
}
