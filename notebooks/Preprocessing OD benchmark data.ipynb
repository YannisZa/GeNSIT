{
 "cells": [
  {
   "cell_type": "code",
   "execution_count": null,
   "id": "f265100f",
   "metadata": {},
   "outputs": [],
   "source": [
    "import os\n",
    "import sys\n",
    "module_path = os.path.abspath(os.path.join('../..'))\n",
    "if module_path not in sys.path:\n",
    "    sys.path.append(module_path)\n",
    "# Use pygeos in geopandas\n",
    "os.environ['USE_PYGEOS'] = '0'\n",
    "\n",
    "import pickle\n",
    "import matplotlib.pyplot as plt\n",
    "import geopandas as gpd\n",
    "import networkx as nx\n",
    "from tqdm.auto import tqdm\n",
    "\n",
    "from gensit.utils import *\n",
    "from gensit.utils.notebook_functions import *\n",
    "\n",
    "%matplotlib inline\n",
    "\n",
    "# AUTO RELOAD EXTERNAL MODULES\n",
    "%load_ext autoreload\n",
    "%autoreload 2"
   ]
  },
  {
   "cell_type": "markdown",
   "id": "d882970e",
   "metadata": {},
   "source": [
    "# Dataset summaries"
   ]
  },
  {
   "cell_type": "code",
   "execution_count": null,
   "id": "9ce953d2",
   "metadata": {},
   "outputs": [],
   "source": [
    "# Print data summary\n",
    "all_datasets = ['DC','Chi','LA','NYC','San','Sea']\n",
    "\n",
    "for ds in all_datasets:\n",
    "    ds_table_filename = f'od_2015.npy'\n",
    "    ds_train_index_filename = f'train_index.pkl'\n",
    "    ds_test_index_filename = f'test_index.pkl'\n",
    "    ds_validation_index_filename = f'valid_index.pkl'\n",
    "    base_path = f'../../od_construction_benchmarks/methods/ANN/data/od/{ds}/'\n",
    "\n",
    "    # Define directory\n",
    "    ds_table_path = os.path.join(base_path,ds_table_filename)\n",
    "    ds_train_index_path = os.path.join(base_path,ds_train_index_filename)\n",
    "    ds_test_index_path = os.path.join(base_path,ds_test_index_filename)\n",
    "    ds_validation_index_path = os.path.join(base_path,ds_validation_index_filename)\n",
    "\n",
    "    ds_table = np.load(ds_table_path)\n",
    "    with open(ds_train_index_path, 'rb') as f:\n",
    "        ds_train_index = pickle.load(f)\n",
    "    with open(ds_test_index_path, 'rb') as f:\n",
    "        ds_test_index = pickle.load(f)\n",
    "    with open(ds_validation_index_path, 'rb') as f:\n",
    "        ds_validation_index = pickle.load(f)\n",
    "    ds_zero_cells = np.argwhere(ds_table==0)\n",
    "    ds_train_cells = np.array(ds_train_index).T\n",
    "    ds_test_cells = np.array(ds_test_index).T\n",
    "    ds_validation_cells = np.array(ds_validation_index).T\n",
    "    ds_zero_and_train_cells = np.concatenate((np.argwhere(ds_table==0),ds_train_cells))\n",
    "    ds_test_validation_cells = np.concatenate((ds_test_cells,ds_validation_cells))\n",
    "    nrows,ncols = np.shape(ds_table)\n",
    "\n",
    "    print(f\"{ds} dataset | I: {nrows}, J: {ncols}, Total: {ds_table.sum()}\")\n",
    "    print(f\"Total cells: {nrows*ncols}\")\n",
    "    print(f\"Train cells: {len(ds_train_cells)}, Zero cells: {len(ds_zero_cells)}, Train/zero cells: {len(ds_zero_and_train_cells)}\")\n",
    "    print(f\"Test cells: {len(ds_test_cells)}, Test/Validation cells: {len(ds_test_validation_cells)}\")\n",
    "    print(f\"Sanity check: {len(ds_zero_and_train_cells)+len(ds_test_validation_cells)} = {nrows*ncols}\")\n",
    "    print('\\n')"
   ]
  },
  {
   "cell_type": "markdown",
   "id": "80c30bfa",
   "metadata": {},
   "source": [
    "## Import table and geometries"
   ]
  },
  {
   "cell_type": "code",
   "execution_count": null,
   "id": "bcf844b4",
   "metadata": {},
   "outputs": [],
   "source": [
    "dataset = f'DC'\n",
    "table_filename = f'od_2015.npy'\n",
    "cost_filename = f'distance.npy'\n",
    "region_features_filename = f'region_features_{dataset}.csv'\n",
    "region_geometries_filename = f'region_geometries_{dataset}.geojson'\n",
    "neighbours_filename = f\"neighbors.npy\"\n",
    "train_index_filename = f'train_index.pkl'\n",
    "test_index_filename = f'test_index.pkl'\n",
    "validation_index_filename = f'valid_index.pkl'\n",
    "base_path = f'../data/raw/{dataset}'\n",
    "\n",
    "# Define directory\n",
    "table_path = os.path.join(base_path,table_filename)\n",
    "cost_path = os.path.join(base_path,cost_filename)\n",
    "region_features_path = os.path.join(base_path,region_features_filename)\n",
    "region_geometries_path = os.path.join(base_path,region_geometries_filename)\n",
    "neighbours_path = os.path.join(base_path,neighbours_filename)\n",
    "train_index_path = os.path.join(base_path,train_index_filename)\n",
    "test_index_path = os.path.join(base_path,test_index_filename)\n",
    "validation_index_path = os.path.join(base_path,validation_index_filename)"
   ]
  },
  {
   "cell_type": "code",
   "execution_count": null,
   "id": "3484f5ca",
   "metadata": {},
   "outputs": [],
   "source": [
    "table = np.load(table_path)\n",
    "I,J = np.shape(table)\n",
    "rowsums,colsums = table.sum(axis=1),table.sum(axis=0)\n",
    "region_features = pd.read_csv(region_features_path)\n",
    "region_geometries = gpd.read_file(region_geometries_path)\n",
    "region_geometries = region_geometries.set_index('GEOID')\n",
    "region_geometries.index = region_geometries.index.astype(int)\n",
    "region_geometries = region_geometries.sort_index()\n",
    "region_geometries['LOCATIONID'] = list(range(1,I+1))\n",
    "cost = np.load(cost_path)\n",
    "neighbours = np.load(neighbours_path)\n",
    "with open(train_index_path, 'rb') as f:\n",
    "    train_index = pickle.load(f)\n",
    "with open(test_index_path, 'rb') as f:\n",
    "    test_index = pickle.load(f)\n",
    "with open(validation_index_path, 'rb') as f:\n",
    "    validation_index = pickle.load(f)\n",
    "cost_large_diagonal = cost + np.eye(J)*1000\n",
    "\n",
    "adjacency_matrix = (neighbours+np.eye(I)).astype('int8')\n",
    "cost_weigthed_adjacency_matrix = np.where(adjacency_matrix,cost,np.nan)"
   ]
  },
  {
   "cell_type": "code",
   "execution_count": null,
   "id": "6260024e",
   "metadata": {},
   "outputs": [],
   "source": [
    "region_features = region_features.reset_index().rename(columns={'Unnamed: 0':'GEOID'}).set_index('GEOID')\n",
    "# Sanity checks\n",
    "try:\n",
    "    assert region_features.index.is_monotonic_increasing\n",
    "except:\n",
    "    print(\"Region features not monotonic\")\n",
    "\n",
    "# Keep only a subset of the data\n",
    "mini_region_features = deepcopy(region_features.reset_index()[[\"GEOID\",\"Estimate!!Total housing units\"]])"
   ]
  },
  {
   "cell_type": "code",
   "execution_count": null,
   "id": "12b67854",
   "metadata": {},
   "outputs": [],
   "source": [
    "region_features_with_origin_demand = deepcopy(region_features)\n",
    "mini_region_features_with_origin_demand = deepcopy(mini_region_features)\n",
    "region_features_with_origin_and_destination_demand = deepcopy(region_features)\n",
    "mini_region_features_with_origin_and_destination_demand = deepcopy(mini_region_features)\n",
    "\n",
    "region_features_with_origin_demand['Origin_Demand'] = rowsums\n",
    "mini_region_features_with_origin_demand['Origin_Demand'] = rowsums\n",
    "region_features_with_origin_and_destination_demand['Origin_Demand'] = rowsums\n",
    "mini_region_features_with_origin_and_destination_demand['Origin_Demand'] = rowsums\n",
    "\n",
    "region_features_with_origin_and_destination_demand['Destination_Demand'] = colsums\n",
    "mini_region_features_with_origin_and_destination_demand['Destination_Demand'] = colsums"
   ]
  },
  {
   "cell_type": "code",
   "execution_count": null,
   "id": "d1000237",
   "metadata": {},
   "outputs": [],
   "source": [
    "dataset,I,J,table.sum()"
   ]
  },
  {
   "cell_type": "code",
   "execution_count": null,
   "id": "41d164a7",
   "metadata": {},
   "outputs": [],
   "source": [
    "zero_cells = np.argwhere(table==0)\n",
    "train_cells = np.array(train_index).T\n",
    "test_cells = np.array(test_index).T\n",
    "validation_cells = np.array(validation_index).T\n",
    "zero_and_train_cells = np.concatenate((np.argwhere(table==0),train_cells))\n",
    "test_validation_cells = np.concatenate((test_cells,validation_cells))"
   ]
  },
  {
   "cell_type": "code",
   "execution_count": null,
   "id": "b201bba9",
   "metadata": {},
   "outputs": [],
   "source": [
    "val_min_row = int(validation_cells[:, 0].min())\n",
    "val_max_row = int(validation_cells[:, 0].max())\n",
    "val_min_col = int(validation_cells[:, 1].min())\n",
    "val_max_col = int(validation_cells[:, 1].max())\n",
    "\n",
    "test_min_row = int(test_cells[:, 0].min())\n",
    "test_max_row = int(test_cells[:, 0].max())\n",
    "test_min_col = int(test_cells[:, 1].min())\n",
    "test_max_col = int(test_cells[:, 1].max())\n",
    "\n",
    "new_zero_training_cells,new_test_cells,new_validation_cells = [],[],[]\n",
    "for o in range(I):\n",
    "    for d in range(J):\n",
    "        if (o >= val_min_row and o <= val_max_row) and \\\n",
    "            (d >= val_min_col and d <= val_max_col):\n",
    "            new_validation_cells.append([o,d])\n",
    "        elif (o >= test_min_row and o <= test_max_row) and \\\n",
    "            (d >= test_min_col and d <= test_max_col):\n",
    "            new_test_cells.append([o,d])\n",
    "        else:\n",
    "            assert bool(np.any((zero_and_train_cells[:,0] == o) & (zero_and_train_cells[:,1] == d)))\n",
    "            new_zero_training_cells.append([o,d])\n",
    "new_zero_training_cells = np.array(new_zero_training_cells,dtype='int32')\n",
    "new_validation_cells = np.array(new_validation_cells,dtype='int32')\n",
    "new_test_cells = np.array(new_test_cells,dtype='int32')\n",
    "assert len(new_validation_cells)+len(new_test_cells)+len(new_zero_training_cells) == I*J"
   ]
  },
  {
   "cell_type": "code",
   "execution_count": null,
   "id": "6ebe66f4",
   "metadata": {},
   "outputs": [],
   "source": [
    "table_masks = np.zeros((I,J))\n",
    "for ntc in new_test_cells:\n",
    "    table_masks[ntc[0],ntc[1]] = 1\n",
    "for nvc in new_validation_cells:\n",
    "    table_masks[nvc[0],nvc[1]] = 2\n",
    "fig,ax = plt.subplots(1,1,figsize=(10, 10))\n",
    "colors = ['green','red','blue']\n",
    "cmap = mpl.colors.ListedColormap(colors)\n",
    "heatmap = plt.imshow(table_masks, cmap=cmap, aspect='equal', interpolation='nearest')\n",
    "cbar = plt.colorbar(ticks=[0,1,2],fraction=0.046, pad=0.04)\n",
    "cbar.set_ticklabels(['Train', 'Test','Validation'])\n",
    "cbar.ax.tick_params(labelsize=14)\n",
    "# ax.set_xticks([])\n",
    "# ax.set_yticks([])\n",
    "ax.tick_params(axis='both', labelsize=14)\n",
    "ax.set_xlabel('Destinations', fontsize=16)\n",
    "ax.set_ylabel('Origins', fontsize=16)\n",
    "# fig.tight_layout()\n",
    "plt.show()"
   ]
  },
  {
   "cell_type": "code",
   "execution_count": null,
   "id": "4ab67200",
   "metadata": {},
   "outputs": [],
   "source": [
    "# Number of zeros by column\n",
    "zeros_by_col = (region_features == 0).astype(int).sum(axis=0).to_dict()\n",
    "zeros_by_col = {k:v for k,v in zeros_by_col.items() if v <= 0}\n",
    "zeros_by_col"
   ]
  },
  {
   "cell_type": "code",
   "execution_count": null,
   "id": "23517169",
   "metadata": {},
   "outputs": [],
   "source": [
    "destination_attraction_attrs = {\n",
    "    \"households\":\"Total!!Estimate!!HOUSEHOLDS!!Households\",\n",
    "    \"housing_units\":\"Estimate!!Total housing units\",\n",
    "    \"population\":\"Estimate!!SEX AND AGE!!Total population\"\n",
    "}\n",
    "\n",
    "destination_attractions = {}\n",
    "for da_attr,colname in destination_attraction_attrs.items():\n",
    "    destination_attractions[da_attr] = region_features[colname].values\n",
    "destination_attractions[\"demand\"] = table.sum(axis=0)"
   ]
  },
  {
   "cell_type": "code",
   "execution_count": null,
   "id": "446b63f7",
   "metadata": {},
   "outputs": [],
   "source": [
    "plt.figure(figsize=(10,10))\n",
    "plt.title('Neighbours')\n",
    "plt.imshow(neighbours, cmap='Set1_r', interpolation='nearest')\n",
    "plt.show()"
   ]
  },
  {
   "cell_type": "code",
   "execution_count": null,
   "id": "62d6e0e4",
   "metadata": {},
   "outputs": [],
   "source": [
    "plt.figure(figsize=(10,10))\n",
    "plt.title('Table')\n",
    "plt.imshow(np.where(table<=0,np.nan,table), cmap='hot', interpolation='nearest')\n",
    "plt.show()"
   ]
  },
  {
   "cell_type": "code",
   "execution_count": null,
   "id": "97a6d769",
   "metadata": {},
   "outputs": [],
   "source": [
    "plt.figure(figsize=(10,10))\n",
    "plt.title('Cost')\n",
    "plt.imshow(cost, cmap='hot', interpolation='nearest')\n",
    "plt.show()"
   ]
  },
  {
   "cell_type": "code",
   "execution_count": null,
   "id": "124195b1",
   "metadata": {},
   "outputs": [],
   "source": [
    "fig,ax = plt.subplots(1,1,figsize=(10,10))\n",
    "plt.title('Geometries')\n",
    "_ = region_geometries.plot(ax=ax,edgecolor='blue',facecolor='white')"
   ]
  },
  {
   "cell_type": "code",
   "execution_count": null,
   "id": "24885ebd",
   "metadata": {},
   "outputs": [],
   "source": [
    "fig,axs = plt.subplots(1,len(destination_attractions),figsize=(5*len(destination_attractions),5))\n",
    "\n",
    "for i,keyval in enumerate(destination_attractions.items()):\n",
    "    axs[i].set_title(f\"{keyval[0]} with {sum(keyval[1]<=0)} zeros out of {len(keyval[1])}\")\n",
    "    _ = axs[i].hist((keyval[1]/keyval[1].sum()).ravel())"
   ]
  },
  {
   "cell_type": "code",
   "execution_count": null,
   "id": "c99b1bd5",
   "metadata": {},
   "outputs": [],
   "source": [
    "plt.title(\"Cost matrix\")\n",
    "_ = plt.hist(10994*(cost/cost.sum()).ravel(),bins=30)"
   ]
  },
  {
   "cell_type": "markdown",
   "id": "90a58062",
   "metadata": {},
   "source": [
    "# Normalise data"
   ]
  },
  {
   "cell_type": "code",
   "execution_count": null,
   "id": "486658c9",
   "metadata": {},
   "outputs": [],
   "source": [
    "origin_demand_sum_normalised = rowsums/rowsums.sum()\n",
    "cost_max_normalised = cost/cost.max()\n",
    "cost_sum_normalised = cost/cost.sum()\n",
    "cost_large_diagonal_sum_normalised = cost_large_diagonal/cost_large_diagonal.sum()\n",
    "cost_large_diagonal_max_normalised = cost_large_diagonal/cost_large_diagonal.max()\n",
    "\n",
    "destination_attractions_sum_normalised = {}\n",
    "for da_name, da_data in destination_attractions.items():\n",
    "    destination_attractions_sum_normalised[f\"destination_attraction_{da_name}_ts_sum_normalised\"] = da_data/da_data.sum()"
   ]
  },
  {
   "cell_type": "markdown",
   "id": "2a00316d",
   "metadata": {},
   "source": [
    "# Export data to file"
   ]
  },
  {
   "cell_type": "code",
   "execution_count": null,
   "id": "ceef5b9f",
   "metadata": {},
   "outputs": [],
   "source": [
    "region_features"
   ]
  },
  {
   "cell_type": "code",
   "execution_count": null,
   "id": "9785b2b2",
   "metadata": {},
   "outputs": [],
   "source": [
    "len(new_zero_training_cells)"
   ]
  },
  {
   "cell_type": "code",
   "execution_count": null,
   "id": "e6a5751e",
   "metadata": {},
   "outputs": [],
   "source": [
    "# os.mkdir(f\"../data/inputs/{dataset}\")\n",
    "\n",
    "np.savetxt(f'../data/inputs/{dataset}/ground_truth_table.txt',table)\n",
    "np.savetxt(f'../data/inputs/{dataset}/rowsums.txt',rowsums)\n",
    "np.savetxt(f'../data/inputs/{dataset}/colsums.txt',colsums)\n",
    "np.savetxt(f'../data/inputs/{dataset}/zero_cells.txt',zero_cells)\n",
    "np.savetxt(f'../data/inputs/{dataset}/train_cells.txt',train_cells)\n",
    "np.savetxt(f'../data/inputs/{dataset}/zero_and_train_cells.txt',zero_and_train_cells)\n",
    "np.savetxt(f'../data/inputs/{dataset}/test_cells.txt',test_cells)\n",
    "np.savetxt(f'../data/inputs/{dataset}/validation_cells.txt',validation_cells)\n",
    "np.savetxt(f'../data/inputs/{dataset}/test_and_validation_cells.txt',test_validation_cells)\n",
    "np.savetxt(f'../data/inputs/{dataset}/neighbourhood_split_zero_and_train_cells.txt',new_zero_training_cells)\n",
    "np.savetxt(f'../data/inputs/{dataset}/neighbourhood_split_test_cells.txt',new_test_cells)\n",
    "np.savetxt(f'../data/inputs/{dataset}/neighbourhood_split_validation_cells.txt',new_validation_cells)\n",
    "np.savetxt(f'../data/inputs/{dataset}/origin_demand_sum_normalised.txt',origin_demand_sum_normalised)\n",
    "\n",
    "np.save(f'../data/inputs/{dataset}/region_features.npy',region_features.to_numpy())\n",
    "np.save(f'../data/inputs/{dataset}/mini_region_features.npy',mini_region_features.to_numpy())\n",
    "np.save(f'../data/inputs/{dataset}/region_features_with_origin_demand.npy',region_features_with_origin_demand.to_numpy())\n",
    "np.save(f'../data/inputs/{dataset}/mini_region_features_with_origin_demand.npy',mini_region_features_with_origin_demand.to_numpy())\n",
    "np.save(f'../data/inputs/{dataset}/region_features_with_origin_and_destination_demand.npy',region_features_with_origin_and_destination_demand.to_numpy())\n",
    "np.save(f'../data/inputs/{dataset}/mini_region_features_with_origin_and_destination_demand.npy',mini_region_features_with_origin_and_destination_demand.to_numpy())\n",
    "region_geometries.to_file(f'../data/inputs/{dataset}/region_geometries.geojson')\n",
    "\n",
    "np.savetxt(f'../data/inputs/{dataset}/cost_matrix_max_normalised.txt',cost_max_normalised)\n",
    "np.savetxt(f'../data/inputs/{dataset}/cost_matrix_sum_normalised.txt',cost_sum_normalised)\n",
    "np.savetxt(f'../data/inputs/{dataset}/cost_matrix.txt',cost)\n",
    "np.savetxt(f'../data/inputs/{dataset}/cost_matrix_large_diagonal_sum_normalised.txt',cost_large_diagonal_sum_normalised)\n",
    "np.savetxt(f'../data/inputs/{dataset}/cost_matrix_large_diagonal_max_normalised.txt',cost_large_diagonal_max_normalised)\n",
    "np.savetxt(f'../data/inputs/{dataset}/cost_matrix_large_diagonal.txt',cost_large_diagonal)\n",
    "\n",
    "np.savetxt(f'../data/inputs/{dataset}/adjacency_matrix.txt',adjacency_matrix,fmt='%i')\n",
    "np.savetxt(f'../data/inputs/{dataset}/cost_weigthed_adjacency_matrix.txt',cost_weigthed_adjacency_matrix)\n",
    "\n",
    "for da_filename, da_data in destination_attractions_sum_normalised.items():\n",
    "    np.savetxt(f'../data/inputs/{dataset}/{da_filename}.txt',da_data[:,np.newaxis])"
   ]
  }
 ],
 "metadata": {
  "kernelspec": {
   "display_name": "gensit",
   "language": "python",
   "name": "python3"
  },
  "language_info": {
   "codemirror_mode": {
    "name": "ipython",
    "version": 3
   },
   "file_extension": ".py",
   "mimetype": "text/x-python",
   "name": "python",
   "nbconvert_exporter": "python",
   "pygments_lexer": "ipython3",
   "version": "3.10.0"
  },
  "widgets": {
   "application/vnd.jupyter.widget-state+json": {
    "state": {
     "03bfdf7ea1404c12a11ac3af73765b0e": {
      "model_module": "@jupyter-widgets/controls",
      "model_module_version": "1.5.0",
      "model_name": "HTMLModel",
      "state": {
       "layout": "IPY_MODEL_f116b8a4b181455eacaa86db808019b3",
       "style": "IPY_MODEL_f3ef6cfcaa0942248113c5736238fb35",
       "value": "100%"
      }
     },
     "0569875e007041ed8c7f647a1994ea0e": {
      "model_module": "@jupyter-widgets/base",
      "model_module_version": "1.2.0",
      "model_name": "LayoutModel",
      "state": {}
     },
     "1e364e5e585e4287bd6d96bab6037658": {
      "model_module": "@jupyter-widgets/controls",
      "model_module_version": "1.5.0",
      "model_name": "HTMLModel",
      "state": {
       "layout": "IPY_MODEL_24fbaf1097864d4baa4fd011f5953983",
       "style": "IPY_MODEL_34a1dea4896442e28e59267b284a69c4",
       "value": " 32137/32137 [00:03&lt;00:00, 18487.14it/s]"
      }
     },
     "24fbaf1097864d4baa4fd011f5953983": {
      "model_module": "@jupyter-widgets/base",
      "model_module_version": "1.2.0",
      "model_name": "LayoutModel",
      "state": {}
     },
     "2d1ed75d2af1438792d812e8478110e0": {
      "model_module": "@jupyter-widgets/controls",
      "model_module_version": "1.5.0",
      "model_name": "HTMLModel",
      "state": {
       "layout": "IPY_MODEL_0569875e007041ed8c7f647a1994ea0e",
       "style": "IPY_MODEL_db8f591ce2044854800b0f84b2d4e2d1",
       "value": "100%"
      }
     },
     "34a1dea4896442e28e59267b284a69c4": {
      "model_module": "@jupyter-widgets/controls",
      "model_module_version": "1.5.0",
      "model_name": "DescriptionStyleModel",
      "state": {
       "description_width": ""
      }
     },
     "446736361cda4be48ad2aec20f4d5226": {
      "model_module": "@jupyter-widgets/base",
      "model_module_version": "1.2.0",
      "model_name": "LayoutModel",
      "state": {}
     },
     "489fb5aad5274e8ca06476331854ad58": {
      "model_module": "@jupyter-widgets/controls",
      "model_module_version": "1.5.0",
      "model_name": "ProgressStyleModel",
      "state": {
       "description_width": ""
      }
     },
     "52c162973006497382739242c2b668ca": {
      "model_module": "@jupyter-widgets/controls",
      "model_module_version": "1.5.0",
      "model_name": "HTMLModel",
      "state": {
       "layout": "IPY_MODEL_daceca53614f4a90b8190aca42095077",
       "style": "IPY_MODEL_933d16f28d284c5f8e2af71c52347de3",
       "value": " 108728/108728 [00:08&lt;00:00, 20831.11it/s]"
      }
     },
     "667dfae5d98240768600f89343a70612": {
      "model_module": "@jupyter-widgets/base",
      "model_module_version": "1.2.0",
      "model_name": "LayoutModel",
      "state": {}
     },
     "794c358311b74f1fbf956bdca231d0d7": {
      "model_module": "@jupyter-widgets/controls",
      "model_module_version": "1.5.0",
      "model_name": "FloatProgressModel",
      "state": {
       "bar_style": "success",
       "layout": "IPY_MODEL_84c6991b0a9d4ee4a27d563e8216cc2f",
       "max": 108728,
       "style": "IPY_MODEL_9403086e98534e348581edf326cef844",
       "value": 108728
      }
     },
     "7dfa0863de97429e9f5e51f9334ab0f7": {
      "model_module": "@jupyter-widgets/base",
      "model_module_version": "1.2.0",
      "model_name": "LayoutModel",
      "state": {}
     },
     "84c6991b0a9d4ee4a27d563e8216cc2f": {
      "model_module": "@jupyter-widgets/base",
      "model_module_version": "1.2.0",
      "model_name": "LayoutModel",
      "state": {}
     },
     "8aeb11a646324f819639c7d835a5245a": {
      "model_module": "@jupyter-widgets/controls",
      "model_module_version": "1.5.0",
      "model_name": "HTMLModel",
      "state": {
       "layout": "IPY_MODEL_7dfa0863de97429e9f5e51f9334ab0f7",
       "style": "IPY_MODEL_af7c5b435c1144cdad8ad723520d670e",
       "value": "100%"
      }
     },
     "912dd3d4c577451ba0d21fdb54f32889": {
      "model_module": "@jupyter-widgets/controls",
      "model_module_version": "1.5.0",
      "model_name": "HTMLModel",
      "state": {
       "layout": "IPY_MODEL_d7194f3a083845729d389b25b6ac7086",
       "style": "IPY_MODEL_d7f97e3546eb46d592e396218bb06626",
       "value": " 69/69 [00:00&lt;00:00, 4383.49it/s]"
      }
     },
     "933d16f28d284c5f8e2af71c52347de3": {
      "model_module": "@jupyter-widgets/controls",
      "model_module_version": "1.5.0",
      "model_name": "DescriptionStyleModel",
      "state": {
       "description_width": ""
      }
     },
     "9403086e98534e348581edf326cef844": {
      "model_module": "@jupyter-widgets/controls",
      "model_module_version": "1.5.0",
      "model_name": "ProgressStyleModel",
      "state": {
       "description_width": ""
      }
     },
     "942cb852b4874bd9a1f9153a27c7a587": {
      "model_module": "@jupyter-widgets/base",
      "model_module_version": "1.2.0",
      "model_name": "LayoutModel",
      "state": {}
     },
     "9f753e5826374bb9b4312c809eceb79d": {
      "model_module": "@jupyter-widgets/controls",
      "model_module_version": "1.5.0",
      "model_name": "ProgressStyleModel",
      "state": {
       "description_width": ""
      }
     },
     "a4f818b0d5394e5bb0f7615f4772ce29": {
      "model_module": "@jupyter-widgets/base",
      "model_module_version": "1.2.0",
      "model_name": "LayoutModel",
      "state": {}
     },
     "aa57f6eab8054858a5823aa2c2ad2425": {
      "model_module": "@jupyter-widgets/controls",
      "model_module_version": "1.5.0",
      "model_name": "HBoxModel",
      "state": {
       "children": [
        "IPY_MODEL_8aeb11a646324f819639c7d835a5245a",
        "IPY_MODEL_d8e5aa5d4242445d81dfde3b521b3235",
        "IPY_MODEL_1e364e5e585e4287bd6d96bab6037658"
       ],
       "layout": "IPY_MODEL_c940390dfcfb429a815523f98bdefde8"
      }
     },
     "aeabee65a48a478b86721de5eeedbc7c": {
      "model_module": "@jupyter-widgets/controls",
      "model_module_version": "1.5.0",
      "model_name": "HBoxModel",
      "state": {
       "children": [
        "IPY_MODEL_03bfdf7ea1404c12a11ac3af73765b0e",
        "IPY_MODEL_794c358311b74f1fbf956bdca231d0d7",
        "IPY_MODEL_52c162973006497382739242c2b668ca"
       ],
       "layout": "IPY_MODEL_667dfae5d98240768600f89343a70612"
      }
     },
     "af7c5b435c1144cdad8ad723520d670e": {
      "model_module": "@jupyter-widgets/controls",
      "model_module_version": "1.5.0",
      "model_name": "DescriptionStyleModel",
      "state": {
       "description_width": ""
      }
     },
     "bfc5a56ec4e24221af7ede39237f5d17": {
      "model_module": "@jupyter-widgets/controls",
      "model_module_version": "1.5.0",
      "model_name": "FloatProgressModel",
      "state": {
       "bar_style": "success",
       "layout": "IPY_MODEL_942cb852b4874bd9a1f9153a27c7a587",
       "max": 69,
       "style": "IPY_MODEL_9f753e5826374bb9b4312c809eceb79d",
       "value": 69
      }
     },
     "c940390dfcfb429a815523f98bdefde8": {
      "model_module": "@jupyter-widgets/base",
      "model_module_version": "1.2.0",
      "model_name": "LayoutModel",
      "state": {}
     },
     "d7194f3a083845729d389b25b6ac7086": {
      "model_module": "@jupyter-widgets/base",
      "model_module_version": "1.2.0",
      "model_name": "LayoutModel",
      "state": {}
     },
     "d7f97e3546eb46d592e396218bb06626": {
      "model_module": "@jupyter-widgets/controls",
      "model_module_version": "1.5.0",
      "model_name": "DescriptionStyleModel",
      "state": {
       "description_width": ""
      }
     },
     "d898eebc6f2d4cbaaefcaa0d8e467886": {
      "model_module": "@jupyter-widgets/controls",
      "model_module_version": "1.5.0",
      "model_name": "HBoxModel",
      "state": {
       "children": [
        "IPY_MODEL_2d1ed75d2af1438792d812e8478110e0",
        "IPY_MODEL_bfc5a56ec4e24221af7ede39237f5d17",
        "IPY_MODEL_912dd3d4c577451ba0d21fdb54f32889"
       ],
       "layout": "IPY_MODEL_446736361cda4be48ad2aec20f4d5226"
      }
     },
     "d8e5aa5d4242445d81dfde3b521b3235": {
      "model_module": "@jupyter-widgets/controls",
      "model_module_version": "1.5.0",
      "model_name": "FloatProgressModel",
      "state": {
       "bar_style": "success",
       "layout": "IPY_MODEL_a4f818b0d5394e5bb0f7615f4772ce29",
       "max": 32137,
       "style": "IPY_MODEL_489fb5aad5274e8ca06476331854ad58",
       "value": 32137
      }
     },
     "daceca53614f4a90b8190aca42095077": {
      "model_module": "@jupyter-widgets/base",
      "model_module_version": "1.2.0",
      "model_name": "LayoutModel",
      "state": {}
     },
     "db8f591ce2044854800b0f84b2d4e2d1": {
      "model_module": "@jupyter-widgets/controls",
      "model_module_version": "1.5.0",
      "model_name": "DescriptionStyleModel",
      "state": {
       "description_width": ""
      }
     },
     "f116b8a4b181455eacaa86db808019b3": {
      "model_module": "@jupyter-widgets/base",
      "model_module_version": "1.2.0",
      "model_name": "LayoutModel",
      "state": {}
     },
     "f3ef6cfcaa0942248113c5736238fb35": {
      "model_module": "@jupyter-widgets/controls",
      "model_module_version": "1.5.0",
      "model_name": "DescriptionStyleModel",
      "state": {
       "description_width": ""
      }
     }
    },
    "version_major": 2,
    "version_minor": 0
   }
  }
 },
 "nbformat": 4,
 "nbformat_minor": 5
}
