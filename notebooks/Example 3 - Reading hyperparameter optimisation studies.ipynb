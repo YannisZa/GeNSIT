{
  "cells": [
    {
      "cell_type": "code",
      "execution_count": 3,
      "id": "c76b8620",
      "metadata": {},
      "outputs": [],
      "source": [
        "import os\n",
        "import glob\n",
        "import optuna\n",
        "import warnings\n",
        "import h5py as h5\n",
        "import numpy as np\n",
        "import pandas as pd\n",
        "import matplotlib as mpl\n",
        "import matplotlib.pyplot as plt\n",
        "\n",
        "from tqdm.auto import tqdm\n",
        "from copy import deepcopy\n",
        "\n",
        "from gensit.config import Config\n",
        "from gensit.inputs import Inputs\n",
        "from gensit.outputs import Outputs\n",
        "from gensit.utils.misc_utils import *\n",
        "from gensit.utils.math_utils import *\n",
        "from gensit.utils.probability_utils import *\n",
        "from gensit.contingency_table import instantiate_ct\n",
        "from gensit.contingency_table.MarkovBasis import instantiate_markov_basis"
      ]
    },
    {
      "cell_type": "code",
      "execution_count": 2,
      "id": "b718b815",
      "metadata": {},
      "outputs": [],
      "source": [
        "%matplotlib inline\n",
        "\n",
        "# AUTO RELOAD EXTERNAL MODULES\n",
        "%load_ext autoreload\n",
        "%autoreload 2"
      ]
    },
    {
      "cell_type": "markdown",
      "id": "880cdfcb",
      "metadata": {},
      "source": [
        "## Import hyperparameter optimisation study"
      ]
    },
    {
      "cell_type": "code",
      "execution_count": null,
      "id": "521ceed2",
      "metadata": {},
      "outputs": [],
      "source": [
        "folder_name = \"NonJointTableSIM_NN_LowNoise__doubly_and_cell_constrained_08_05_2024_13_26_40\"\n",
        "file_name = \"_NonJointTableSIM_NN_Hyperparameter_Optimisation08_05_2024___13:27:05.db\"\n",
        "loaded_study = optuna.load_study(\n",
        "    study_name=\"NonJointTableSIM_NN_Hyperparameter_Optimisation\", \n",
        "    storage=f\"sqlite:///../data/outputs/DC/hyperparameter_optimisation/{folder_name}/{file_name}\"\n",
        ")"
      ]
    },
    {
      "cell_type": "markdown",
      "id": "9072a49e",
      "metadata": {},
      "source": [
        "### Find best trial"
      ]
    },
    {
      "cell_type": "code",
      "execution_count": 1,
      "id": "e9b31146",
      "metadata": {},
      "outputs": [
        {
          "ename": "NameError",
          "evalue": "name 'loaded_study' is not defined",
          "output_type": "error",
          "traceback": [
            "\u001b[0;31m---------------------------------------------------------------------------\u001b[0m",
            "\u001b[0;31mNameError\u001b[0m                                 Traceback (most recent call last)",
            "Input \u001b[0;32mIn [1]\u001b[0m, in \u001b[0;36m<cell line: 2>\u001b[0;34m()\u001b[0m\n\u001b[1;32m      1\u001b[0m best_trial_id \u001b[38;5;241m=\u001b[39m \u001b[38;5;241m17811\u001b[39m\n\u001b[0;32m----> 2\u001b[0m best_trial \u001b[38;5;241m=\u001b[39m \u001b[43mloaded_study\u001b[49m\u001b[38;5;241m.\u001b[39mtrials[best_trial_id]\n",
            "\u001b[0;31mNameError\u001b[0m: name 'loaded_study' is not defined"
          ]
        }
      ],
      "source": [
        "best_trial_id = 17811\n",
        "best_trial = loaded_study.trials[best_trial_id]"
      ]
    },
    {
      "cell_type": "code",
      "execution_count": null,
      "id": "145ec0e3",
      "metadata": {},
      "outputs": [],
      "source": [
        "all_trials_pd = loaded_study.trials_dataframe()"
      ]
    },
    {
      "cell_type": "code",
      "execution_count": 43,
      "id": "1340442e",
      "metadata": {},
      "outputs": [],
      "source": [
        "all_trials.to_csv(f\"../data/outputs/DC/hyperparameter_optimisation/{folder_name}/{file_name.replace('.db','.csv')}\")"
      ]
    }
  ],
  "metadata": {
    "kernelspec": {
      "display_name": "gensit",
      "language": "python",
      "name": "python3"
    },
    "language_info": {
      "codemirror_mode": {
        "name": "ipython",
        "version": 3
      },
      "file_extension": ".py",
      "mimetype": "text/x-python",
      "name": "python",
      "nbconvert_exporter": "python",
      "pygments_lexer": "ipython3",
      "version": "3.10.0"
    }
  },
  "nbformat": 4,
  "nbformat_minor": 5
}
