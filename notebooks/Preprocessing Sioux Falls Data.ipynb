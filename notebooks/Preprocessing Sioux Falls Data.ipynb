{
  "cells": [
    {
      "cell_type": "code",
      "execution_count": 7,
      "id": "f265100f",
      "metadata": {},
      "outputs": [],
      "source": [
        "import os\n",
        "import sys\n",
        "module_path = os.path.abspath(os.path.join('../..'))\n",
        "if module_path not in sys.path:\n",
        "    sys.path.append(module_path)\n",
        "# Use pygeos in geopandas\n",
        "os.environ['USE_PYGEOS'] = '0'\n",
        "\n",
        "import matplotlib.pyplot as plt\n",
        "import geopandas as gpd\n",
        "import networkx as nx\n",
        "from tqdm.auto import tqdm\n",
        "\n",
        "from gensit.utils import *\n",
        "from gensit.utils.notebook_functions import *\n",
        "\n",
        "%matplotlib inline\n",
        "\n",
        "# AUTO RELOAD EXTERNAL MODULES\n",
        "%load_ext autoreload\n",
        "%autoreload 2"
      ]
    },
    {
      "cell_type": "markdown",
      "id": "80c30bfa",
      "metadata": {},
      "source": [
        "# Sioux Falls Transportation Network\n",
        "## Import table and geometries"
      ]
    },
    {
      "cell_type": "code",
      "execution_count": 3,
      "id": "bcf844b4",
      "metadata": {},
      "outputs": [],
      "source": [
        "dataset = f'sioux_falls'\n",
        "table_filename = 'SiouxFalls_od.csv'\n",
        "geometry_filename = 'SiouxFallsCoordinates.geojson'\n",
        "cost_filename = 'SiouxFalls_flow.csv'\n",
        "dest_attraction_filename = 'SiouxFalls_net.tntp'\n",
        "\n",
        "\n",
        "# Define directory\n",
        "table_path = f'../data/raw/{dataset}/{table_filename}'\n",
        "geometries_path = f'../data/raw/{dataset}/{geometry_filename}'\n",
        "cost_path = f'../data/raw/{dataset}/{cost_filename}'\n",
        "dest_attraction_path = f'../data/raw/{dataset}/{dest_attraction_filename}'"
      ]
    },
    {
      "cell_type": "code",
      "execution_count": 4,
      "id": "761183d3",
      "metadata": {},
      "outputs": [],
      "source": [
        "# Read table\n",
        "rawtable = pd.read_csv(table_path)\n",
        "# Read dimensions\n",
        "I,J = rawtable.O.max(),rawtable.D.max()\n",
        "\n",
        "# Populate ground truth table\n",
        "table = -np.ones((I,J),dtype='int32')\n",
        "\n",
        "for _,row in rawtable.iterrows():\n",
        "    table[int(row.O)-1,int(row.D)-1] = int(row.Ton)\n",
        "\n",
        "# Gather all cells that are negative (these are the fixed cells)\n",
        "fixed_cells = deepcopy(np.where(table < 0))\n",
        "# Convert all negative entries to zero\n",
        "table[table < 0] = 0\n",
        "# Store all zero-values cells\n",
        "fixed_cells = np.array([[row,col] for row, col in zip(fixed_cells[0], fixed_cells[1])])\n",
        "\n",
        "# Marginals\n",
        "rowsums = table.sum(axis=1)\n",
        "colsums = table.sum(axis=0)"
      ]
    },
    {
      "cell_type": "code",
      "execution_count": 5,
      "id": "6f592fbb",
      "metadata": {},
      "outputs": [],
      "source": [
        "# Read cost\n",
        "rawflow = pd.read_csv(cost_path,sep='\\t')\n",
        "rawflow = rawflow.rename(columns=dict(zip(rawflow.columns.values,[x.strip() for x in rawflow.columns.values])))\n",
        "# Populate competitive method prediction\n",
        "competitive_method = np.zeros((I,J),dtype='float32')\n",
        "for _,row in rawflow.iterrows():\n",
        "    rowdict = row.to_dict()\n",
        "    o,d,v = rowdict['From'],rowdict['To'],rowdict['Volume']\n",
        "    competitive_method[int(o)-1,int(d)-1] = v"
      ]
    },
    {
      "cell_type": "code",
      "execution_count": 28,
      "id": "f0a1da1e",
      "metadata": {},
      "outputs": [],
      "source": [
        "# Read net flow\n",
        "network = pd.read_csv(dest_attraction_path, skiprows=8, sep='\\t').drop(['~', ';'], axis =1)\n",
        "network['edge'] = network.index+1\n",
        "# Compute destination attraction\n",
        "dest_attraction_capacity = network.groupby('term_node').mean('capacity').capacity.values\n",
        "dest_attraction_demand = deepcopy(colsums)\n",
        "dest_attraction_volume = deepcopy(rawflow.groupby('To').sum().Volume.values)\n",
        "\n",
        "# Read geometries\n",
        "geometries = gpd.read_file(geometries_path)"
      ]
    },
    {
      "cell_type": "code",
      "execution_count": 29,
      "id": "f4c87c29",
      "metadata": {},
      "outputs": [],
      "source": [
        "# Merge graph data\n",
        "graphdata = pd.merge(network,rawflow,how='left',left_on=['init_node','term_node'],right_on=['From','To'])"
      ]
    },
    {
      "cell_type": "markdown",
      "id": "f7d02437",
      "metadata": {},
      "source": [
        "# Create graph object\n",
        "\n",
        "Code obtained from [Github](https://github.com/marsuconn/sioux-falls-network)."
      ]
    },
    {
      "cell_type": "code",
      "execution_count": 30,
      "id": "80ff42d0",
      "metadata": {},
      "outputs": [],
      "source": [
        "G = nx.from_pandas_edgelist(\n",
        "    df = graphdata, \n",
        "    source = 'init_node', \n",
        "    target = 'term_node', \n",
        "    edge_attr = ['capacity','length','free_flow_time','b','power','speed','toll','link_type','edge','Volume','Cost'],\n",
        "    create_using=nx.MultiDiGraph()\n",
        ")"
      ]
    },
    {
      "cell_type": "code",
      "execution_count": 31,
      "id": "70673d44",
      "metadata": {},
      "outputs": [],
      "source": [
        "# Pass geometries to graph\n",
        "pos_xy = dict([(i,(a,b)) for i, a,b in zip(geometries.id, geometries.x,geometries.y)])\n",
        "\n",
        "for n, p in pos_xy.items():\n",
        "    G.nodes[n]['pos_xy'] = p"
      ]
    },
    {
      "cell_type": "markdown",
      "id": "71d7bf77",
      "metadata": {},
      "source": [
        "## Plot network"
      ]
    },
    {
      "cell_type": "code",
      "execution_count": 32,
      "id": "171fb271",
      "metadata": {},
      "outputs": [
        {
          "data": {
            "image/png": "[encoded data removed]",
            "text/plain": [
              "<Figure size 720x864 with 1 Axes>"
            ]
          },
          "metadata": {},
          "output_type": "display_data"
        }
      ],
      "source": [
        "ax,fig = plt.subplots(figsize=(10,12))\n",
        "nx.draw_networkx(G, pos_xy, with_labels = True)"
      ]
    },
    {
      "cell_type": "markdown",
      "id": "0be241be",
      "metadata": {},
      "source": [
        "## Shortest path between nodes in graph"
      ]
    },
    {
      "cell_type": "code",
      "execution_count": 33,
      "id": "17a18331",
      "metadata": {},
      "outputs": [],
      "source": [
        "od = [(i+1,j+1) for i in range(I) for j in range(J)]"
      ]
    },
    {
      "cell_type": "code",
      "execution_count": 34,
      "id": "dc9a4257",
      "metadata": {},
      "outputs": [],
      "source": [
        "# Using A* algorithm\n",
        "path_to_nodes = {}\n",
        "sp = {}\n",
        "sp_cost = {}\n",
        "for i in od:\n",
        "    path_to_nodes[i] = {'From':i[0],'To':i[1]}\n",
        "    sp[i] = nx.astar_path(G,i[0],i[1],weight='Cost')\n",
        "    sp_cost[i] = nx.astar_path_length(G,i[0],i[1],weight='Cost')"
      ]
    },
    {
      "cell_type": "code",
      "execution_count": 35,
      "id": "d09de2a2",
      "metadata": {},
      "outputs": [],
      "source": [
        "df = pd.DataFrame.from_dict(sp_cost, orient='index',columns=['sp_cost'])\n",
        "# df['sp'] = df.index.map(sp)\n",
        "df['nodes'] = df.index.to_series().map(path_to_nodes)\n",
        "# Create cost function from shortest paths\n",
        "df = pd.concat([df.drop(['nodes'], axis=1), df['nodes'].apply(pd.Series)], axis=1)\n",
        "\n",
        "# Populate ground truth table\n",
        "cost = np.ones((I,J),dtype='float32')*0\n",
        "\n",
        "for _,row in df.iterrows():\n",
        "    if row.sp_cost > 0:\n",
        "        cost[int(row.From)-1,int(row.To)-1] = row.sp_cost"
      ]
    },
    {
      "cell_type": "code",
      "execution_count": 48,
      "id": "62d6e0e4",
      "metadata": {},
      "outputs": [
        {
          "data": {
            "image/png": "[encoded data removed]",
            "text/plain": [
              "<Figure size 720x720 with 1 Axes>"
            ]
          },
          "metadata": {
            "needs_background": "light"
          },
          "output_type": "display_data"
        }
      ],
      "source": [
        "plt.figure(figsize=(10,10))\n",
        "plt.imshow(cost, cmap='hot', interpolation='nearest')\n",
        "plt.show()"
      ]
    },
    {
      "cell_type": "code",
      "execution_count": 55,
      "id": "81cd7bfa",
      "metadata": {},
      "outputs": [],
      "source": [
        "# Cost variations\n",
        "cost_large_diagonal = deepcopy(cost + np.eye(J)*1000)"
      ]
    },
    {
      "cell_type": "markdown",
      "id": "90a58062",
      "metadata": {},
      "source": [
        "# Normalise data"
      ]
    },
    {
      "cell_type": "code",
      "execution_count": 56,
      "id": "486658c9",
      "metadata": {},
      "outputs": [],
      "source": [
        "origin_demand_sum_normalised = rowsums/rowsums.sum()\n",
        "cost_max_normalised = cost/cost.max()\n",
        "cost_sum_normalised = cost/cost.sum()\n",
        "cost_large_diagonal_sum_normalised = cost_large_diagonal/cost_large_diagonal.sum()\n",
        "dest_attraction_capacity_sum_normalised = dest_attraction_capacity/dest_attraction_capacity.sum()\n",
        "dest_attraction_demand_sum_normalised = dest_attraction_demand/dest_attraction_demand.sum()\n",
        "dest_attraction_volume_sum_normalised = dest_attraction_volume/dest_attraction_volume.sum()"
      ]
    },
    {
      "cell_type": "markdown",
      "id": "a0febcd8",
      "metadata": {},
      "source": [
        "### True kappa and delta\n",
        "\n",
        "$$\\kappa = \\frac{\\sum_i O_i+\\delta M}{\\sum_j W_j}$$\n",
        "$$\\delta = \\kappa W_{min}$$"
      ]
    },
    {
      "cell_type": "code",
      "execution_count": 57,
      "id": "1fdb098b",
      "metadata": {},
      "outputs": [],
      "source": [
        "total_w = dest_attraction_capacity_sum_normalised.sum()\n",
        "min_w = np.min(dest_attraction_capacity_sum_normalised)\n",
        "total_o = origin_demand_sum_normalised.sum()\n",
        "M = J\n",
        "# Compute kappa, delta\n",
        "kappa = total_o / (total_w - min_w*M)\n",
        "delta = kappa * min_w"
      ]
    },
    {
      "cell_type": "code",
      "execution_count": 58,
      "id": "45aeef59",
      "metadata": {},
      "outputs": [],
      "source": [
        "def kappa_from_delta(d):\n",
        "    return d / min_w, (total_o+d*M)/total_w\n",
        "def delta_from_kappa(k):\n",
        "    return kappa*min_w,(total_w*k-total_o)/M"
      ]
    },
    {
      "cell_type": "code",
      "execution_count": 59,
      "id": "83c0dca2",
      "metadata": {},
      "outputs": [
        {
          "data": {
            "text/plain": [
              "(1.0, 1.0)"
            ]
          },
          "execution_count": 59,
          "metadata": {},
          "output_type": "execute_result"
        }
      ],
      "source": [
        "total_w,total_o"
      ]
    },
    {
      "cell_type": "code",
      "execution_count": 60,
      "id": "d0f50e9e",
      "metadata": {},
      "outputs": [
        {
          "data": {
            "text/plain": [
              "(1.828983494694892, 0.0345409789456205)"
            ]
          },
          "execution_count": 60,
          "metadata": {},
          "output_type": "execute_result"
        }
      ],
      "source": [
        "kappa,delta"
      ]
    },
    {
      "cell_type": "markdown",
      "id": "2a00316d",
      "metadata": {},
      "source": [
        "# Export data to file"
      ]
    },
    {
      "cell_type": "code",
      "execution_count": 61,
      "id": "e6a5751e",
      "metadata": {},
      "outputs": [],
      "source": [
        "np.savetxt(f'../data/inputs/{dataset}/ground_truth_table.txt',table)\n",
        "np.savetxt(f'../data/inputs/{dataset}/competitive_method_table.txt',competitive_method)\n",
        "np.savetxt(f'../data/inputs/{dataset}/rowsums.txt',rowsums)\n",
        "np.savetxt(f'../data/inputs/{dataset}/colsums.txt',colsums)\n",
        "np.savetxt(f'../data/inputs/{dataset}/empty_link_cells.txt',fixed_cells)\n",
        "np.savetxt(f'../data/inputs/{dataset}/origin_demand_sum_normalised.txt',origin_demand_sum_normalised)\n",
        "\n",
        "\n",
        "np.savetxt(f'../data/inputs/{dataset}/cost_matrix_max_normalised.txt',cost_max_normalised)\n",
        "np.savetxt(f'../data/inputs/{dataset}/cost_matrix_sum_normalised.txt',cost_sum_normalised)\n",
        "np.savetxt(f'../data/inputs/{dataset}/cost_matrix.txt',cost)\n",
        "np.savetxt(f'../data/inputs/{dataset}/cost_matrix_large_diagonal_sum_normalised.txt',cost_large_diagonal_sum_normalised)\n",
        "\n",
        "\n",
        "np.savetxt(f'../data/inputs/{dataset}/destination_attraction_demand_ts_sum_normalised.txt',dest_attraction_demand_sum_normalised[:,np.newaxis])\n",
        "np.savetxt(f'../data/inputs/{dataset}/destination_attraction_capacity_ts_sum_normalised.txt',dest_attraction_capacity_sum_normalised[:,np.newaxis])\n",
        "np.savetxt(f'../data/inputs/{dataset}/destination_attraction_volume_ts_sum_normalised.txt',dest_attraction_volume_sum_normalised[:,np.newaxis])"
      ]
    }
  ],
  "metadata": {
    "kernelspec": {
      "display_name": "Python 3",
      "language": "python",
      "name": "python3"
    },
    "language_info": {
      "codemirror_mode": {
        "name": "ipython",
        "version": 3
      },
      "file_extension": ".py",
      "mimetype": "text/x-python",
      "name": "python",
      "nbconvert_exporter": "python",
      "pygments_lexer": "ipython3",
      "version": "3.10.0"
    },
    "widgets": {
      "application/vnd.jupyter.widget-state+json": {
        "state": {
          "03bfdf7ea1404c12a11ac3af73765b0e": {
            "model_module": "@jupyter-widgets/controls",
            "model_module_version": "1.5.0",
            "model_name": "HTMLModel",
            "state": {
              "layout": "IPY_MODEL_f116b8a4b181455eacaa86db808019b3",
              "style": "IPY_MODEL_f3ef6cfcaa0942248113c5736238fb35",
              "value": "100%"
            }
          },
          "0569875e007041ed8c7f647a1994ea0e": {
            "model_module": "@jupyter-widgets/base",
            "model_module_version": "1.2.0",
            "model_name": "LayoutModel",
            "state": {}
          },
          "1e364e5e585e4287bd6d96bab6037658": {
            "model_module": "@jupyter-widgets/controls",
            "model_module_version": "1.5.0",
            "model_name": "HTMLModel",
            "state": {
              "layout": "IPY_MODEL_24fbaf1097864d4baa4fd011f5953983",
              "style": "IPY_MODEL_34a1dea4896442e28e59267b284a69c4",
              "value": " 32137/32137 [00:03&lt;00:00, 18487.14it/s]"
            }
          },
          "24fbaf1097864d4baa4fd011f5953983": {
            "model_module": "@jupyter-widgets/base",
            "model_module_version": "1.2.0",
            "model_name": "LayoutModel",
            "state": {}
          },
          "2d1ed75d2af1438792d812e8478110e0": {
            "model_module": "@jupyter-widgets/controls",
            "model_module_version": "1.5.0",
            "model_name": "HTMLModel",
            "state": {
              "layout": "IPY_MODEL_0569875e007041ed8c7f647a1994ea0e",
              "style": "IPY_MODEL_db8f591ce2044854800b0f84b2d4e2d1",
              "value": "100%"
            }
          },
          "34a1dea4896442e28e59267b284a69c4": {
            "model_module": "@jupyter-widgets/controls",
            "model_module_version": "1.5.0",
            "model_name": "DescriptionStyleModel",
            "state": {
              "description_width": ""
            }
          },
          "446736361cda4be48ad2aec20f4d5226": {
            "model_module": "@jupyter-widgets/base",
            "model_module_version": "1.2.0",
            "model_name": "LayoutModel",
            "state": {}
          },
          "489fb5aad5274e8ca06476331854ad58": {
            "model_module": "@jupyter-widgets/controls",
            "model_module_version": "1.5.0",
            "model_name": "ProgressStyleModel",
            "state": {
              "description_width": ""
            }
          },
          "52c162973006497382739242c2b668ca": {
            "model_module": "@jupyter-widgets/controls",
            "model_module_version": "1.5.0",
            "model_name": "HTMLModel",
            "state": {
              "layout": "IPY_MODEL_daceca53614f4a90b8190aca42095077",
              "style": "IPY_MODEL_933d16f28d284c5f8e2af71c52347de3",
              "value": " 108728/108728 [00:08&lt;00:00, 20831.11it/s]"
            }
          },
          "667dfae5d98240768600f89343a70612": {
            "model_module": "@jupyter-widgets/base",
            "model_module_version": "1.2.0",
            "model_name": "LayoutModel",
            "state": {}
          },
          "794c358311b74f1fbf956bdca231d0d7": {
            "model_module": "@jupyter-widgets/controls",
            "model_module_version": "1.5.0",
            "model_name": "FloatProgressModel",
            "state": {
              "bar_style": "success",
              "layout": "IPY_MODEL_84c6991b0a9d4ee4a27d563e8216cc2f",
              "max": 108728,
              "style": "IPY_MODEL_9403086e98534e348581edf326cef844",
              "value": 108728
            }
          },
          "7dfa0863de97429e9f5e51f9334ab0f7": {
            "model_module": "@jupyter-widgets/base",
            "model_module_version": "1.2.0",
            "model_name": "LayoutModel",
            "state": {}
          },
          "84c6991b0a9d4ee4a27d563e8216cc2f": {
            "model_module": "@jupyter-widgets/base",
            "model_module_version": "1.2.0",
            "model_name": "LayoutModel",
            "state": {}
          },
          "8aeb11a646324f819639c7d835a5245a": {
            "model_module": "@jupyter-widgets/controls",
            "model_module_version": "1.5.0",
            "model_name": "HTMLModel",
            "state": {
              "layout": "IPY_MODEL_7dfa0863de97429e9f5e51f9334ab0f7",
              "style": "IPY_MODEL_af7c5b435c1144cdad8ad723520d670e",
              "value": "100%"
            }
          },
          "912dd3d4c577451ba0d21fdb54f32889": {
            "model_module": "@jupyter-widgets/controls",
            "model_module_version": "1.5.0",
            "model_name": "HTMLModel",
            "state": {
              "layout": "IPY_MODEL_d7194f3a083845729d389b25b6ac7086",
              "style": "IPY_MODEL_d7f97e3546eb46d592e396218bb06626",
              "value": " 69/69 [00:00&lt;00:00, 4383.49it/s]"
            }
          },
          "933d16f28d284c5f8e2af71c52347de3": {
            "model_module": "@jupyter-widgets/controls",
            "model_module_version": "1.5.0",
            "model_name": "DescriptionStyleModel",
            "state": {
              "description_width": ""
            }
          },
          "9403086e98534e348581edf326cef844": {
            "model_module": "@jupyter-widgets/controls",
            "model_module_version": "1.5.0",
            "model_name": "ProgressStyleModel",
            "state": {
              "description_width": ""
            }
          },
          "942cb852b4874bd9a1f9153a27c7a587": {
            "model_module": "@jupyter-widgets/base",
            "model_module_version": "1.2.0",
            "model_name": "LayoutModel",
            "state": {}
          },
          "9f753e5826374bb9b4312c809eceb79d": {
            "model_module": "@jupyter-widgets/controls",
            "model_module_version": "1.5.0",
            "model_name": "ProgressStyleModel",
            "state": {
              "description_width": ""
            }
          },
          "a4f818b0d5394e5bb0f7615f4772ce29": {
            "model_module": "@jupyter-widgets/base",
            "model_module_version": "1.2.0",
            "model_name": "LayoutModel",
            "state": {}
          },
          "aa57f6eab8054858a5823aa2c2ad2425": {
            "model_module": "@jupyter-widgets/controls",
            "model_module_version": "1.5.0",
            "model_name": "HBoxModel",
            "state": {
              "children": [
                "IPY_MODEL_8aeb11a646324f819639c7d835a5245a",
                "IPY_MODEL_d8e5aa5d4242445d81dfde3b521b3235",
                "IPY_MODEL_1e364e5e585e4287bd6d96bab6037658"
              ],
              "layout": "IPY_MODEL_c940390dfcfb429a815523f98bdefde8"
            }
          },
          "aeabee65a48a478b86721de5eeedbc7c": {
            "model_module": "@jupyter-widgets/controls",
            "model_module_version": "1.5.0",
            "model_name": "HBoxModel",
            "state": {
              "children": [
                "IPY_MODEL_03bfdf7ea1404c12a11ac3af73765b0e",
                "IPY_MODEL_794c358311b74f1fbf956bdca231d0d7",
                "IPY_MODEL_52c162973006497382739242c2b668ca"
              ],
              "layout": "IPY_MODEL_667dfae5d98240768600f89343a70612"
            }
          },
          "af7c5b435c1144cdad8ad723520d670e": {
            "model_module": "@jupyter-widgets/controls",
            "model_module_version": "1.5.0",
            "model_name": "DescriptionStyleModel",
            "state": {
              "description_width": ""
            }
          },
          "bfc5a56ec4e24221af7ede39237f5d17": {
            "model_module": "@jupyter-widgets/controls",
            "model_module_version": "1.5.0",
            "model_name": "FloatProgressModel",
            "state": {
              "bar_style": "success",
              "layout": "IPY_MODEL_942cb852b4874bd9a1f9153a27c7a587",
              "max": 69,
              "style": "IPY_MODEL_9f753e5826374bb9b4312c809eceb79d",
              "value": 69
            }
          },
          "c940390dfcfb429a815523f98bdefde8": {
            "model_module": "@jupyter-widgets/base",
            "model_module_version": "1.2.0",
            "model_name": "LayoutModel",
            "state": {}
          },
          "d7194f3a083845729d389b25b6ac7086": {
            "model_module": "@jupyter-widgets/base",
            "model_module_version": "1.2.0",
            "model_name": "LayoutModel",
            "state": {}
          },
          "d7f97e3546eb46d592e396218bb06626": {
            "model_module": "@jupyter-widgets/controls",
            "model_module_version": "1.5.0",
            "model_name": "DescriptionStyleModel",
            "state": {
              "description_width": ""
            }
          },
          "d898eebc6f2d4cbaaefcaa0d8e467886": {
            "model_module": "@jupyter-widgets/controls",
            "model_module_version": "1.5.0",
            "model_name": "HBoxModel",
            "state": {
              "children": [
                "IPY_MODEL_2d1ed75d2af1438792d812e8478110e0",
                "IPY_MODEL_bfc5a56ec4e24221af7ede39237f5d17",
                "IPY_MODEL_912dd3d4c577451ba0d21fdb54f32889"
              ],
              "layout": "IPY_MODEL_446736361cda4be48ad2aec20f4d5226"
            }
          },
          "d8e5aa5d4242445d81dfde3b521b3235": {
            "model_module": "@jupyter-widgets/controls",
            "model_module_version": "1.5.0",
            "model_name": "FloatProgressModel",
            "state": {
              "bar_style": "success",
              "layout": "IPY_MODEL_a4f818b0d5394e5bb0f7615f4772ce29",
              "max": 32137,
              "style": "IPY_MODEL_489fb5aad5274e8ca06476331854ad58",
              "value": 32137
            }
          },
          "daceca53614f4a90b8190aca42095077": {
            "model_module": "@jupyter-widgets/base",
            "model_module_version": "1.2.0",
            "model_name": "LayoutModel",
            "state": {}
          },
          "db8f591ce2044854800b0f84b2d4e2d1": {
            "model_module": "@jupyter-widgets/controls",
            "model_module_version": "1.5.0",
            "model_name": "DescriptionStyleModel",
            "state": {
              "description_width": ""
            }
          },
          "f116b8a4b181455eacaa86db808019b3": {
            "model_module": "@jupyter-widgets/base",
            "model_module_version": "1.2.0",
            "model_name": "LayoutModel",
            "state": {}
          },
          "f3ef6cfcaa0942248113c5736238fb35": {
            "model_module": "@jupyter-widgets/controls",
            "model_module_version": "1.5.0",
            "model_name": "DescriptionStyleModel",
            "state": {
              "description_width": ""
            }
          }
        },
        "version_major": 2,
        "version_minor": 0
      }
    }
  },
  "nbformat": 4,
  "nbformat_minor": 5
}
