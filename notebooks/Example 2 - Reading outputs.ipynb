{
 "cells": [
  {
   "cell_type": "code",
   "execution_count": null,
   "id": "c76b8620",
   "metadata": {},
   "outputs": [],
   "source": [
    "import os\n",
    "import glob\n",
    "import optuna\n",
    "import warnings\n",
    "import h5py as h5\n",
    "import numpy as np\n",
    "import pandas as pd\n",
    "import matplotlib as mpl\n",
    "import matplotlib.pyplot as plt\n",
    "\n",
    "from tqdm.auto import tqdm\n",
    "from copy import deepcopy\n",
    "\n",
    "from gensit.config import Config\n",
    "from gensit.inputs import Inputs\n",
    "from gensit.outputs import Outputs\n",
    "from gensit.utils.misc_utils import *\n",
    "from gensit.utils.math_utils import *\n",
    "from gensit.utils.probability_utils import *\n",
    "from gensit.contingency_table import instantiate_ct\n",
    "from gensit.contingency_table.MarkovBasis import instantiate_markov_basis"
   ]
  },
  {
   "cell_type": "code",
   "execution_count": null,
   "id": "b718b815",
   "metadata": {},
   "outputs": [],
   "source": [
    "%matplotlib inline\n",
    "\n",
    "# AUTO RELOAD EXTERNAL MODULES\n",
    "%load_ext autoreload\n",
    "%autoreload 2"
   ]
  },
  {
   "cell_type": "markdown",
   "id": "880cdfcb",
   "metadata": {},
   "source": [
    "## Import samples"
   ]
  },
  {
   "cell_type": "code",
   "execution_count": null,
   "id": "e21669cd",
   "metadata": {},
   "outputs": [],
   "source": [
    "# Specify experiment id\n",
    "experiment_id = \"JointTableSIM_NN_SweepedNoise_01_02_2024_14_42_49\"\n",
    "# Specify experiment group id\n",
    "experiment_group_id = 'exp2/'\n",
    "experiment_dir = f'../data/outputs/cambridge/{experiment_group_id}/{experiment_id}/'\n",
    "relative_experiment_dir = os.path.relpath(experiment_dir,os.getcwd())"
   ]
  },
  {
   "cell_type": "code",
   "execution_count": null,
   "id": "9b1c638c",
   "metadata": {},
   "outputs": [],
   "source": [
    "# Create new logging object\n",
    "logger = setup_logger(\n",
    "    __name__,\n",
    "    console_level = 'INFO',\n",
    "    file_level = 'EMPTY'\n",
    ")"
   ]
  },
  {
   "cell_type": "code",
   "execution_count": null,
   "id": "41e02907",
   "metadata": {},
   "outputs": [],
   "source": [
    "# Output processing settings\n",
    "settings = {\n",
    "    \"logging_mode\": \"INFO\",\n",
    "    \"coordinate_slice\": [\n",
    "        \"da.loss_name.isin([str(['dest_attraction_ts_likelihood_loss']),str(['dest_attraction_ts_likelihood_loss', 'table_likelihood_loss'])])\",\n",
    "        \"~da.title.isin(['_unconstrained','_total_intensity_row_table_constrained'])\",\n",
    "        # \"da.loss_name == str(['dest_attraction_ts_likelihood_loss'])\",\n",
    "        # \"~da.title.isin([str('_unconstrained'), str('_total_constrained')])\"\n",
    "    ],\n",
    "    \"slice\":True,\n",
    "    \"metadata_keys\":[],\n",
    "    \"burnin_thinning_trimming\": [], # {'iter': {\"burnin\":10000, \"thinning\":90, \"trimming\":1000}}\n",
    "    \"sample\":[\"table\"],\n",
    "    \"group_by\":['seed'],\n",
    "    \"filename_ending\":\"test\",\n",
    "    \"force_reload\":False,\n",
    "    \"n_workers\": 1\n",
    "}"
   ]
  },
  {
   "cell_type": "code",
   "execution_count": null,
   "id": "833a9fad",
   "metadata": {},
   "outputs": [],
   "source": [
    "# Initialise outputs\n",
    "current_sweep_outputs = Outputs(\n",
    "    config = os.path.join(relative_experiment_dir,\"config.json\"),\n",
    "    settings = settings,\n",
    "    inputs = None,\n",
    "    slice = True,\n",
    "    level = 'NOTE'\n",
    ")\n",
    "# Silence outputs\n",
    "current_sweep_outputs.logger.setLevels(console_level='NOTE')\n",
    "# Load all data\n",
    "current_sweep_outputs.load()"
   ]
  },
  {
   "cell_type": "code",
   "execution_count": null,
   "id": "99a01931",
   "metadata": {},
   "outputs": [],
   "source": [
    "# Get data from first sweep of the SIM_NN experiment\n",
    "current_sweep_outputs0 = current_sweep_outputs.get(0)"
   ]
  },
  {
   "cell_type": "code",
   "execution_count": null,
   "id": "9ff2bdbe",
   "metadata": {},
   "outputs": [],
   "source": [
    "# Get table samples\n",
    "current_sweep_outputs0.data.table"
   ]
  }
 ],
 "metadata": {
  "kernelspec": {
   "display_name": "gensit",
   "language": "python",
   "name": "python3"
  },
  "language_info": {
   "codemirror_mode": {
    "name": "ipython",
    "version": 3
   },
   "file_extension": ".py",
   "mimetype": "text/x-python",
   "name": "python",
   "nbconvert_exporter": "python",
   "pygments_lexer": "ipython3",
   "version": "3.10.0"
  }
 },
 "nbformat": 4,
 "nbformat_minor": 5
}
