{
 "cells": [
  {
   "cell_type": "code",
   "execution_count": 1,
   "id": "c76b8620",
   "metadata": {},
   "outputs": [],
   "source": [
    "import os\n",
    "import glob\n",
    "import optuna\n",
    "import warnings\n",
    "import h5py as h5\n",
    "import numpy as np\n",
    "import pandas as pd\n",
    "import matplotlib as mpl\n",
    "import matplotlib.pyplot as plt\n",
    "\n",
    "from tqdm.auto import tqdm\n",
    "from copy import deepcopy\n",
    "\n",
    "from gensit.config import Config\n",
    "from gensit.inputs import Inputs\n",
    "from gensit.outputs import Outputs\n",
    "from gensit.utils.misc_utils import *\n",
    "from gensit.utils.math_utils import *\n",
    "from gensit.utils.probability_utils import *\n",
    "from gensit.contingency_table import instantiate_ct\n",
    "from gensit.contingency_table.MarkovBasis import instantiate_markov_basis"
   ]
  },
  {
   "cell_type": "code",
   "execution_count": 27,
   "id": "b718b815",
   "metadata": {},
   "outputs": [
    {
     "name": "stdout",
     "output_type": "stream",
     "text": [
      "The autoreload extension is already loaded. To reload it, use:\n",
      "  %reload_ext autoreload\n"
     ]
    }
   ],
   "source": [
    "%matplotlib inline\n",
    "\n",
    "# AUTO RELOAD EXTERNAL MODULES\n",
    "%load_ext autoreload\n",
    "%autoreload 2"
   ]
  },
  {
   "cell_type": "markdown",
   "id": "880cdfcb",
   "metadata": {},
   "source": [
    "## Import samples"
   ]
  },
  {
   "cell_type": "code",
   "execution_count": 28,
   "id": "e21669cd",
   "metadata": {},
   "outputs": [],
   "source": [
    "# Specify experiment id\n",
    "experiment_id = \"JointTableSIM_NN_SweepedNoise_01_02_2024_14_42_49\"\n",
    "# Specify experiment group id\n",
    "experiment_group_id = 'exp2/'\n",
    "experiment_dir = f'../data/outputs/cambridge_work_commuter_lsoas_to_msoas/{experiment_group_id}/{experiment_id}/'\n",
    "relative_experiment_dir = os.path.relpath(experiment_dir,os.getcwd())"
   ]
  },
  {
   "cell_type": "code",
   "execution_count": 29,
   "id": "9b1c638c",
   "metadata": {},
   "outputs": [],
   "source": [
    "# Create new logging object\n",
    "logger = setup_logger(\n",
    "    __name__,\n",
    "    console_level = 'INFO',\n",
    "    file_level = 'EMPTY'\n",
    ")"
   ]
  },
  {
   "cell_type": "code",
   "execution_count": 30,
   "id": "41e02907",
   "metadata": {},
   "outputs": [],
   "source": [
    "# Output processing settings\n",
    "settings = {\n",
    "    \"logging_mode\": \"INFO\",\n",
    "    \"coordinate_slice\": [\n",
    "        \"da.loss_name.isin([str(['dest_attraction_ts_likelihood_loss']),str(['dest_attraction_ts_likelihood_loss', 'table_likelihood_loss'])])\",\n",
    "        \"~da.title.isin(['_unconstrained','_total_intensity_row_table_constrained'])\",\n",
    "        # \"da.loss_name == str(['dest_attraction_ts_likelihood_loss'])\",\n",
    "        # \"~da.title.isin([str('_unconstrained'), str('_total_constrained')])\"\n",
    "    ],\n",
    "    \"slice\":True,\n",
    "    \"metadata_keys\":[],\n",
    "    \"burnin_thinning_trimming\": [], # {'iter': {\"burnin\":10000, \"thinning\":90, \"trimming\":1000}}\n",
    "    \"sample\":[\"table\"],\n",
    "    \"group_by\":['seed'],\n",
    "    \"filename_ending\":\"test\",\n",
    "    \"force_reload\":False,\n",
    "    \"n_workers\": 1\n",
    "}"
   ]
  },
  {
   "cell_type": "code",
   "execution_count": 31,
   "id": "833a9fad",
   "metadata": {},
   "outputs": [
    {
     "name": "stderr",
     "output_type": "stream",
     "text": [
      "24:57.206 config INFO ----------------------------------------------------------------------------------\n",
      "24:57.220 config INFO Parameter space size: \n",
      " --- title: ['title', 'axes', 'cells', 'name', 'proposal'] (7)\n",
      " --- seed: ['seed', 'N'] (1333)\n",
      " --- sigma: ['sigma', 'to_learn'] (3)\n",
      " --- loss_name: ['loss_name', 'loss_function', 'loss_kwargs'] (2)\n",
      "24:57.234 config INFO Total = 55986.\n",
      "24:57.248 config INFO ----------------------------------------------------------------------------------\n",
      "Reading table group data:   0%|          | 1/294 [00:00<00:56,  5.21it/s]"
     ]
    },
    {
     "name": "stdout",
     "output_type": "stream",
     "text": [
      "here True\n",
      "here True\n"
     ]
    },
    {
     "name": "stderr",
     "output_type": "stream",
     "text": [
      "Reading table group data:   1%|          | 3/294 [00:00<00:41,  7.02it/s]"
     ]
    },
    {
     "name": "stdout",
     "output_type": "stream",
     "text": [
      "here True\n",
      "here True\n"
     ]
    },
    {
     "name": "stderr",
     "output_type": "stream",
     "text": [
      "Reading table group data:   2%|▏         | 5/294 [00:00<00:41,  7.01it/s]"
     ]
    },
    {
     "name": "stdout",
     "output_type": "stream",
     "text": [
      "here True\n",
      "here True\n"
     ]
    },
    {
     "name": "stderr",
     "output_type": "stream",
     "text": [
      "Reading table group data:   2%|▏         | 7/294 [00:00<00:34,  8.29it/s]"
     ]
    },
    {
     "name": "stdout",
     "output_type": "stream",
     "text": [
      "here True\n",
      "here True\n"
     ]
    },
    {
     "name": "stderr",
     "output_type": "stream",
     "text": [
      "Reading table group data:   3%|▎         | 9/294 [00:01<00:37,  7.59it/s]"
     ]
    },
    {
     "name": "stdout",
     "output_type": "stream",
     "text": [
      "here True\n",
      "here True\n"
     ]
    },
    {
     "name": "stderr",
     "output_type": "stream",
     "text": [
      "Reading table group data:   4%|▎         | 11/294 [00:01<00:33,  8.57it/s]"
     ]
    },
    {
     "name": "stdout",
     "output_type": "stream",
     "text": [
      "here True\n",
      "here True\n"
     ]
    },
    {
     "name": "stderr",
     "output_type": "stream",
     "text": [
      "Reading table group data:   4%|▍         | 13/294 [00:01<00:39,  7.12it/s]"
     ]
    },
    {
     "name": "stdout",
     "output_type": "stream",
     "text": [
      "here True\n",
      "here True\n"
     ]
    },
    {
     "name": "stderr",
     "output_type": "stream",
     "text": [
      "Reading table group data:   5%|▌         | 15/294 [00:01<00:37,  7.50it/s]"
     ]
    },
    {
     "name": "stdout",
     "output_type": "stream",
     "text": [
      "here True\n",
      "here True\n"
     ]
    },
    {
     "name": "stderr",
     "output_type": "stream",
     "text": [
      "Reading table group data:   6%|▌         | 17/294 [00:02<00:38,  7.11it/s]"
     ]
    },
    {
     "name": "stdout",
     "output_type": "stream",
     "text": [
      "here True\n",
      "here True\n"
     ]
    },
    {
     "name": "stderr",
     "output_type": "stream",
     "text": [
      "Reading table group data:   6%|▋         | 19/294 [00:02<00:33,  8.30it/s]"
     ]
    },
    {
     "name": "stdout",
     "output_type": "stream",
     "text": [
      "here True\n",
      "here True\n"
     ]
    },
    {
     "name": "stderr",
     "output_type": "stream",
     "text": [
      "Reading table group data:   7%|▋         | 21/294 [00:02<00:34,  7.88it/s]"
     ]
    },
    {
     "name": "stdout",
     "output_type": "stream",
     "text": [
      "here True\n",
      "here True\n"
     ]
    },
    {
     "name": "stderr",
     "output_type": "stream",
     "text": [
      "Reading table group data:   8%|▊         | 23/294 [00:03<00:35,  7.69it/s]"
     ]
    },
    {
     "name": "stdout",
     "output_type": "stream",
     "text": [
      "here True\n",
      "here True\n"
     ]
    },
    {
     "name": "stderr",
     "output_type": "stream",
     "text": [
      "Reading table group data:   9%|▊         | 25/294 [00:03<00:35,  7.60it/s]"
     ]
    },
    {
     "name": "stdout",
     "output_type": "stream",
     "text": [
      "here True\n",
      "here True\n"
     ]
    },
    {
     "name": "stderr",
     "output_type": "stream",
     "text": [
      "Reading table group data:   9%|▉         | 27/294 [00:03<00:38,  6.90it/s]"
     ]
    },
    {
     "name": "stdout",
     "output_type": "stream",
     "text": [
      "here True\n",
      "here True\n"
     ]
    },
    {
     "name": "stderr",
     "output_type": "stream",
     "text": [
      "Reading table group data:  10%|▉         | 29/294 [00:03<00:32,  8.17it/s]"
     ]
    },
    {
     "name": "stdout",
     "output_type": "stream",
     "text": [
      "here True\n",
      "here True\n"
     ]
    },
    {
     "name": "stderr",
     "output_type": "stream",
     "text": [
      "Reading table group data:  11%|█         | 31/294 [00:04<00:33,  7.86it/s]"
     ]
    },
    {
     "name": "stdout",
     "output_type": "stream",
     "text": [
      "here True\n",
      "here True\n"
     ]
    },
    {
     "name": "stderr",
     "output_type": "stream",
     "text": [
      "Reading table group data:  11%|█         | 33/294 [00:04<00:35,  7.38it/s]"
     ]
    },
    {
     "name": "stdout",
     "output_type": "stream",
     "text": [
      "here True\n",
      "here True\n"
     ]
    },
    {
     "name": "stderr",
     "output_type": "stream",
     "text": [
      "Reading table group data:  12%|█▏        | 35/294 [00:04<00:34,  7.58it/s]"
     ]
    },
    {
     "name": "stdout",
     "output_type": "stream",
     "text": [
      "here True\n",
      "here True\n"
     ]
    },
    {
     "name": "stderr",
     "output_type": "stream",
     "text": [
      "Reading table group data:  13%|█▎        | 37/294 [00:04<00:29,  8.59it/s]"
     ]
    },
    {
     "name": "stdout",
     "output_type": "stream",
     "text": [
      "here True\n",
      "here True\n"
     ]
    },
    {
     "name": "stderr",
     "output_type": "stream",
     "text": [
      "Reading table group data:  13%|█▎        | 39/294 [00:05<00:33,  7.58it/s]"
     ]
    },
    {
     "name": "stdout",
     "output_type": "stream",
     "text": [
      "here True\n",
      "here True\n"
     ]
    },
    {
     "name": "stderr",
     "output_type": "stream",
     "text": [
      "Reading table group data:  14%|█▍        | 41/294 [00:05<00:29,  8.62it/s]"
     ]
    },
    {
     "name": "stdout",
     "output_type": "stream",
     "text": [
      "here True\n",
      "here True\n"
     ]
    },
    {
     "name": "stderr",
     "output_type": "stream",
     "text": [
      "Reading table group data:  15%|█▍        | 43/294 [00:05<00:31,  8.02it/s]"
     ]
    },
    {
     "name": "stdout",
     "output_type": "stream",
     "text": [
      "here True\n",
      "here True\n"
     ]
    },
    {
     "name": "stderr",
     "output_type": "stream",
     "text": [
      "Reading table group data:  15%|█▌        | 45/294 [00:05<00:30,  8.21it/s]"
     ]
    },
    {
     "name": "stdout",
     "output_type": "stream",
     "text": [
      "here True\n",
      "here True\n"
     ]
    },
    {
     "name": "stderr",
     "output_type": "stream",
     "text": [
      "Reading table group data:  16%|█▌        | 47/294 [00:06<00:31,  7.86it/s]"
     ]
    },
    {
     "name": "stdout",
     "output_type": "stream",
     "text": [
      "here True\n",
      "here True\n"
     ]
    },
    {
     "name": "stderr",
     "output_type": "stream",
     "text": [
      "Reading table group data:  17%|█▋        | 49/294 [00:06<00:31,  7.68it/s]"
     ]
    },
    {
     "name": "stdout",
     "output_type": "stream",
     "text": [
      "here True\n",
      "here True\n"
     ]
    },
    {
     "name": "stderr",
     "output_type": "stream",
     "text": [
      "Reading table group data:  17%|█▋        | 51/294 [00:06<00:32,  7.59it/s]"
     ]
    },
    {
     "name": "stdout",
     "output_type": "stream",
     "text": [
      "here True\n",
      "here True\n"
     ]
    },
    {
     "name": "stderr",
     "output_type": "stream",
     "text": [
      "Reading table group data:  18%|█▊        | 53/294 [00:06<00:31,  7.54it/s]"
     ]
    },
    {
     "name": "stdout",
     "output_type": "stream",
     "text": [
      "here True\n",
      "here True\n",
      "here True\n"
     ]
    },
    {
     "name": "stderr",
     "output_type": "stream",
     "text": [
      "Reading table group data:  19%|█▉        | 56/294 [00:07<00:34,  6.82it/s]"
     ]
    },
    {
     "name": "stdout",
     "output_type": "stream",
     "text": [
      "here True\n",
      "here True\n"
     ]
    },
    {
     "name": "stderr",
     "output_type": "stream",
     "text": [
      "Reading table group data:  20%|█▉        | 58/294 [00:07<00:34,  6.89it/s]"
     ]
    },
    {
     "name": "stdout",
     "output_type": "stream",
     "text": [
      "here True\n",
      "here True\n"
     ]
    },
    {
     "name": "stderr",
     "output_type": "stream",
     "text": [
      "Reading table group data:  20%|██        | 60/294 [00:08<00:32,  7.17it/s]"
     ]
    },
    {
     "name": "stdout",
     "output_type": "stream",
     "text": [
      "here True\n",
      "here True\n"
     ]
    },
    {
     "name": "stderr",
     "output_type": "stream",
     "text": [
      "Reading table group data:  21%|██        | 62/294 [00:08<00:31,  7.31it/s]"
     ]
    },
    {
     "name": "stdout",
     "output_type": "stream",
     "text": [
      "here True\n",
      "here True\n"
     ]
    },
    {
     "name": "stderr",
     "output_type": "stream",
     "text": [
      "Reading table group data:  22%|██▏       | 64/294 [00:08<00:30,  7.44it/s]"
     ]
    },
    {
     "name": "stdout",
     "output_type": "stream",
     "text": [
      "here True\n",
      "here True\n"
     ]
    },
    {
     "name": "stderr",
     "output_type": "stream",
     "text": [
      "Reading table group data:  23%|██▎       | 67/294 [00:08<00:28,  8.00it/s]"
     ]
    },
    {
     "name": "stdout",
     "output_type": "stream",
     "text": [
      "here True\n",
      "here True\n",
      "here True\n"
     ]
    },
    {
     "name": "stderr",
     "output_type": "stream",
     "text": [
      "Reading table group data:  23%|██▎       | 69/294 [00:09<00:30,  7.46it/s]"
     ]
    },
    {
     "name": "stdout",
     "output_type": "stream",
     "text": [
      "here True\n",
      "here True\n"
     ]
    },
    {
     "name": "stderr",
     "output_type": "stream",
     "text": [
      "Reading table group data:  24%|██▍       | 71/294 [00:09<00:29,  7.46it/s]"
     ]
    },
    {
     "name": "stdout",
     "output_type": "stream",
     "text": [
      "here True\n",
      "here True\n"
     ]
    },
    {
     "name": "stderr",
     "output_type": "stream",
     "text": [
      "Reading table group data:  25%|██▍       | 73/294 [00:09<00:29,  7.47it/s]"
     ]
    },
    {
     "name": "stdout",
     "output_type": "stream",
     "text": [
      "here True\n",
      "here True\n"
     ]
    },
    {
     "name": "stderr",
     "output_type": "stream",
     "text": [
      "Reading table group data:  26%|██▌       | 75/294 [00:10<00:34,  6.36it/s]"
     ]
    },
    {
     "name": "stdout",
     "output_type": "stream",
     "text": [
      "here True\n",
      "here True\n"
     ]
    },
    {
     "name": "stderr",
     "output_type": "stream",
     "text": [
      "Reading table group data:  26%|██▌       | 76/294 [00:10<00:30,  7.11it/s]"
     ]
    },
    {
     "name": "stdout",
     "output_type": "stream",
     "text": [
      "here True\n",
      "here True\n"
     ]
    },
    {
     "name": "stderr",
     "output_type": "stream",
     "text": [
      "Reading table group data:  27%|██▋       | 79/294 [00:10<00:28,  7.65it/s]"
     ]
    },
    {
     "name": "stdout",
     "output_type": "stream",
     "text": [
      "here True\n",
      "here True\n"
     ]
    },
    {
     "name": "stderr",
     "output_type": "stream",
     "text": [
      "Reading table group data:  28%|██▊       | 81/294 [00:10<00:28,  7.57it/s]"
     ]
    },
    {
     "name": "stdout",
     "output_type": "stream",
     "text": [
      "here True\n",
      "here True\n",
      "here True\n"
     ]
    },
    {
     "name": "stderr",
     "output_type": "stream",
     "text": [
      "Reading table group data:  29%|██▊       | 84/294 [00:11<00:30,  6.90it/s]"
     ]
    },
    {
     "name": "stdout",
     "output_type": "stream",
     "text": [
      "here True\n",
      "here True\n"
     ]
    },
    {
     "name": "stderr",
     "output_type": "stream",
     "text": [
      "Reading table group data:  29%|██▉       | 86/294 [00:11<00:30,  6.85it/s]"
     ]
    },
    {
     "name": "stdout",
     "output_type": "stream",
     "text": [
      "here True\n",
      "here True\n"
     ]
    },
    {
     "name": "stderr",
     "output_type": "stream",
     "text": [
      "Reading table group data:  30%|██▉       | 88/294 [00:11<00:28,  7.14it/s]"
     ]
    },
    {
     "name": "stdout",
     "output_type": "stream",
     "text": [
      "here True\n",
      "here True\n"
     ]
    },
    {
     "name": "stderr",
     "output_type": "stream",
     "text": [
      "Reading table group data:  31%|███       | 90/294 [00:12<00:27,  7.34it/s]"
     ]
    },
    {
     "name": "stdout",
     "output_type": "stream",
     "text": [
      "here True\n",
      "here True\n"
     ]
    },
    {
     "name": "stderr",
     "output_type": "stream",
     "text": [
      "Reading table group data:  31%|███▏      | 92/294 [00:12<00:27,  7.43it/s]"
     ]
    },
    {
     "name": "stdout",
     "output_type": "stream",
     "text": [
      "here True\n",
      "here True\n"
     ]
    },
    {
     "name": "stderr",
     "output_type": "stream",
     "text": [
      "Reading table group data:  32%|███▏      | 94/294 [00:12<00:26,  7.46it/s]"
     ]
    },
    {
     "name": "stdout",
     "output_type": "stream",
     "text": [
      "here True\n",
      "here True\n",
      "here True\n"
     ]
    },
    {
     "name": "stderr",
     "output_type": "stream",
     "text": [
      "Reading table group data:  33%|███▎      | 97/294 [00:13<00:23,  8.26it/s]"
     ]
    },
    {
     "name": "stdout",
     "output_type": "stream",
     "text": [
      "here True\n",
      "here True\n"
     ]
    },
    {
     "name": "stderr",
     "output_type": "stream",
     "text": [
      "Reading table group data:  34%|███▎      | 99/294 [00:13<00:24,  7.92it/s]"
     ]
    },
    {
     "name": "stdout",
     "output_type": "stream",
     "text": [
      "here True\n",
      "here True\n"
     ]
    },
    {
     "name": "stderr",
     "output_type": "stream",
     "text": [
      "Reading table group data:  34%|███▍      | 101/294 [00:13<00:27,  7.04it/s]"
     ]
    },
    {
     "name": "stdout",
     "output_type": "stream",
     "text": [
      "here True\n",
      "here True\n"
     ]
    },
    {
     "name": "stderr",
     "output_type": "stream",
     "text": [
      "Reading table group data:  35%|███▌      | 103/294 [00:13<00:23,  8.22it/s]"
     ]
    },
    {
     "name": "stdout",
     "output_type": "stream",
     "text": [
      "here True\n",
      "here True\n"
     ]
    },
    {
     "name": "stderr",
     "output_type": "stream",
     "text": [
      "Reading table group data:  36%|███▌      | 105/294 [00:14<00:22,  8.31it/s]"
     ]
    },
    {
     "name": "stdout",
     "output_type": "stream",
     "text": [
      "here True\n",
      "here True\n"
     ]
    },
    {
     "name": "stderr",
     "output_type": "stream",
     "text": [
      "Reading table group data:  36%|███▋      | 107/294 [00:14<00:22,  8.38it/s]"
     ]
    },
    {
     "name": "stdout",
     "output_type": "stream",
     "text": [
      "here True\n",
      "here True\n"
     ]
    },
    {
     "name": "stderr",
     "output_type": "stream",
     "text": [
      "Reading table group data:  37%|███▋      | 109/294 [00:14<00:22,  8.41it/s]"
     ]
    },
    {
     "name": "stdout",
     "output_type": "stream",
     "text": [
      "here True\n",
      "here True\n"
     ]
    },
    {
     "name": "stderr",
     "output_type": "stream",
     "text": [
      "Reading table group data:  38%|███▊      | 111/294 [00:14<00:24,  7.60it/s]"
     ]
    },
    {
     "name": "stdout",
     "output_type": "stream",
     "text": [
      "here True\n",
      "here True\n"
     ]
    },
    {
     "name": "stderr",
     "output_type": "stream",
     "text": [
      "Reading table group data:  38%|███▊      | 113/294 [00:15<00:25,  7.17it/s]"
     ]
    },
    {
     "name": "stdout",
     "output_type": "stream",
     "text": [
      "here True\n",
      "here True\n"
     ]
    },
    {
     "name": "stderr",
     "output_type": "stream",
     "text": [
      "Reading table group data:  39%|███▉      | 115/294 [00:15<00:21,  8.35it/s]"
     ]
    },
    {
     "name": "stdout",
     "output_type": "stream",
     "text": [
      "here True\n",
      "here True\n"
     ]
    },
    {
     "name": "stderr",
     "output_type": "stream",
     "text": [
      "Reading table group data:  40%|███▉      | 117/294 [00:15<00:22,  7.90it/s]"
     ]
    },
    {
     "name": "stdout",
     "output_type": "stream",
     "text": [
      "here True\n",
      "here True\n"
     ]
    },
    {
     "name": "stderr",
     "output_type": "stream",
     "text": [
      "Reading table group data:  40%|████      | 119/294 [00:15<00:22,  7.70it/s]"
     ]
    },
    {
     "name": "stdout",
     "output_type": "stream",
     "text": [
      "here True\n",
      "here True\n"
     ]
    },
    {
     "name": "stderr",
     "output_type": "stream",
     "text": [
      "Reading table group data:  41%|████      | 121/294 [00:16<00:22,  7.67it/s]"
     ]
    },
    {
     "name": "stdout",
     "output_type": "stream",
     "text": [
      "here True\n",
      "here True\n"
     ]
    },
    {
     "name": "stderr",
     "output_type": "stream",
     "text": [
      "Reading table group data:  42%|████▏     | 124/294 [00:16<00:20,  8.16it/s]"
     ]
    },
    {
     "name": "stdout",
     "output_type": "stream",
     "text": [
      "here True\n",
      "here True\n",
      "here True\n"
     ]
    },
    {
     "name": "stderr",
     "output_type": "stream",
     "text": [
      "Reading table group data:  43%|████▎     | 126/294 [00:16<00:24,  6.93it/s]"
     ]
    },
    {
     "name": "stdout",
     "output_type": "stream",
     "text": [
      "here True\n",
      "here True\n"
     ]
    },
    {
     "name": "stderr",
     "output_type": "stream",
     "text": [
      "Reading table group data:  44%|████▎     | 128/294 [00:17<00:23,  7.20it/s]"
     ]
    },
    {
     "name": "stdout",
     "output_type": "stream",
     "text": [
      "here True\n",
      "here True\n",
      "here True\n"
     ]
    },
    {
     "name": "stderr",
     "output_type": "stream",
     "text": [
      "Reading table group data:  45%|████▍     | 131/294 [00:17<00:21,  7.49it/s]"
     ]
    },
    {
     "name": "stdout",
     "output_type": "stream",
     "text": [
      "here True\n",
      "here True\n"
     ]
    },
    {
     "name": "stderr",
     "output_type": "stream",
     "text": [
      "Reading table group data:  45%|████▌     | 133/294 [00:17<00:20,  7.70it/s]"
     ]
    },
    {
     "name": "stdout",
     "output_type": "stream",
     "text": [
      "here True\n",
      "here True\n"
     ]
    },
    {
     "name": "stderr",
     "output_type": "stream",
     "text": [
      "Reading table group data:  46%|████▌     | 135/294 [00:18<00:18,  8.64it/s]"
     ]
    },
    {
     "name": "stdout",
     "output_type": "stream",
     "text": [
      "here True\n",
      "here True\n"
     ]
    },
    {
     "name": "stderr",
     "output_type": "stream",
     "text": [
      "Reading table group data:  47%|████▋     | 138/294 [00:18<00:17,  8.92it/s]"
     ]
    },
    {
     "name": "stdout",
     "output_type": "stream",
     "text": [
      "here True\n",
      "here True\n"
     ]
    },
    {
     "name": "stderr",
     "output_type": "stream",
     "text": [
      "Reading table group data:  47%|████▋     | 139/294 [00:18<00:20,  7.57it/s]"
     ]
    },
    {
     "name": "stdout",
     "output_type": "stream",
     "text": [
      "here True\n",
      "here True\n"
     ]
    },
    {
     "name": "stderr",
     "output_type": "stream",
     "text": [
      "Reading table group data:  48%|████▊     | 141/294 [00:18<00:19,  7.71it/s]"
     ]
    },
    {
     "name": "stdout",
     "output_type": "stream",
     "text": [
      "here True\n",
      "here True\n"
     ]
    },
    {
     "name": "stderr",
     "output_type": "stream",
     "text": [
      "Reading table group data:  49%|████▊     | 143/294 [00:19<00:18,  8.05it/s]"
     ]
    },
    {
     "name": "stdout",
     "output_type": "stream",
     "text": [
      "here True\n",
      "here True\n"
     ]
    },
    {
     "name": "stderr",
     "output_type": "stream",
     "text": [
      "Reading table group data:  49%|████▉     | 145/294 [00:19<00:19,  7.77it/s]"
     ]
    },
    {
     "name": "stdout",
     "output_type": "stream",
     "text": [
      "here True\n",
      "here True\n"
     ]
    },
    {
     "name": "stderr",
     "output_type": "stream",
     "text": [
      "Reading table group data:  50%|█████     | 147/294 [00:19<00:19,  7.64it/s]"
     ]
    },
    {
     "name": "stdout",
     "output_type": "stream",
     "text": [
      "here True\n",
      "here True\n"
     ]
    },
    {
     "name": "stderr",
     "output_type": "stream",
     "text": [
      "Reading table group data:  51%|█████     | 149/294 [00:19<00:22,  6.44it/s]"
     ]
    },
    {
     "name": "stdout",
     "output_type": "stream",
     "text": [
      "here True\n",
      "here True\n"
     ]
    },
    {
     "name": "stderr",
     "output_type": "stream",
     "text": [
      "Reading table group data:  51%|█████▏    | 151/294 [00:20<00:18,  7.77it/s]"
     ]
    },
    {
     "name": "stdout",
     "output_type": "stream",
     "text": [
      "here True\n",
      "here True\n"
     ]
    },
    {
     "name": "stderr",
     "output_type": "stream",
     "text": [
      "Reading table group data:  52%|█████▏    | 153/294 [00:20<00:18,  7.59it/s]"
     ]
    },
    {
     "name": "stdout",
     "output_type": "stream",
     "text": [
      "here True\n",
      "here True\n"
     ]
    },
    {
     "name": "stderr",
     "output_type": "stream",
     "text": [
      "Reading table group data:  53%|█████▎    | 155/294 [00:20<00:18,  7.53it/s]"
     ]
    },
    {
     "name": "stdout",
     "output_type": "stream",
     "text": [
      "here True\n",
      "here True\n"
     ]
    },
    {
     "name": "stderr",
     "output_type": "stream",
     "text": [
      "Reading table group data:  53%|█████▎    | 157/294 [00:21<00:18,  7.48it/s]"
     ]
    },
    {
     "name": "stdout",
     "output_type": "stream",
     "text": [
      "here True\n",
      "here True\n"
     ]
    },
    {
     "name": "stderr",
     "output_type": "stream",
     "text": [
      "Reading table group data:  54%|█████▍    | 159/294 [00:21<00:18,  7.47it/s]"
     ]
    },
    {
     "name": "stdout",
     "output_type": "stream",
     "text": [
      "here True\n",
      "here True\n"
     ]
    },
    {
     "name": "stderr",
     "output_type": "stream",
     "text": [
      "Reading table group data:  55%|█████▍    | 161/294 [00:21<00:17,  7.50it/s]"
     ]
    },
    {
     "name": "stdout",
     "output_type": "stream",
     "text": [
      "here True\n",
      "here True\n"
     ]
    },
    {
     "name": "stderr",
     "output_type": "stream",
     "text": [
      "Reading table group data:  55%|█████▌    | 163/294 [00:21<00:20,  6.39it/s]"
     ]
    },
    {
     "name": "stdout",
     "output_type": "stream",
     "text": [
      "here True\n",
      "here True\n"
     ]
    },
    {
     "name": "stderr",
     "output_type": "stream",
     "text": [
      "Reading table group data:  56%|█████▌    | 165/294 [00:22<00:19,  6.56it/s]"
     ]
    },
    {
     "name": "stdout",
     "output_type": "stream",
     "text": [
      "here True\n",
      "here True\n"
     ]
    },
    {
     "name": "stderr",
     "output_type": "stream",
     "text": [
      "Reading table group data:  57%|█████▋    | 167/294 [00:22<00:16,  7.89it/s]"
     ]
    },
    {
     "name": "stdout",
     "output_type": "stream",
     "text": [
      "here True\n",
      "here True\n"
     ]
    },
    {
     "name": "stderr",
     "output_type": "stream",
     "text": [
      "Reading table group data:  57%|█████▋    | 169/294 [00:22<00:16,  7.65it/s]"
     ]
    },
    {
     "name": "stdout",
     "output_type": "stream",
     "text": [
      "here True\n",
      "here True\n"
     ]
    },
    {
     "name": "stderr",
     "output_type": "stream",
     "text": [
      "Reading table group data:  58%|█████▊    | 171/294 [00:23<00:19,  6.42it/s]"
     ]
    },
    {
     "name": "stdout",
     "output_type": "stream",
     "text": [
      "here True\n",
      "here True\n"
     ]
    },
    {
     "name": "stderr",
     "output_type": "stream",
     "text": [
      "Reading table group data:  59%|█████▊    | 172/294 [00:23<00:17,  7.16it/s]"
     ]
    },
    {
     "name": "stdout",
     "output_type": "stream",
     "text": [
      "here True\n",
      "here True\n"
     ]
    },
    {
     "name": "stderr",
     "output_type": "stream",
     "text": [
      "Reading table group data:  60%|█████▉    | 175/294 [00:23<00:15,  7.71it/s]"
     ]
    },
    {
     "name": "stdout",
     "output_type": "stream",
     "text": [
      "here True\n",
      "here True\n"
     ]
    },
    {
     "name": "stderr",
     "output_type": "stream",
     "text": [
      "Reading table group data:  60%|██████    | 177/294 [00:23<00:15,  7.59it/s]"
     ]
    },
    {
     "name": "stdout",
     "output_type": "stream",
     "text": [
      "here True\n",
      "here True\n"
     ]
    },
    {
     "name": "stderr",
     "output_type": "stream",
     "text": [
      "Reading table group data:  61%|██████    | 179/294 [00:24<00:15,  7.55it/s]"
     ]
    },
    {
     "name": "stdout",
     "output_type": "stream",
     "text": [
      "here True\n",
      "here True\n"
     ]
    },
    {
     "name": "stderr",
     "output_type": "stream",
     "text": [
      "Reading table group data:  62%|██████▏   | 182/294 [00:24<00:13,  8.06it/s]"
     ]
    },
    {
     "name": "stdout",
     "output_type": "stream",
     "text": [
      "here True\n",
      "here True\n"
     ]
    },
    {
     "name": "stderr",
     "output_type": "stream",
     "text": [
      "Reading table group data:  62%|██████▏   | 183/294 [00:24<00:15,  7.09it/s]"
     ]
    },
    {
     "name": "stdout",
     "output_type": "stream",
     "text": [
      "here True\n",
      "here True\n"
     ]
    },
    {
     "name": "stderr",
     "output_type": "stream",
     "text": [
      "Reading table group data:  63%|██████▎   | 185/294 [00:25<00:17,  6.21it/s]"
     ]
    },
    {
     "name": "stdout",
     "output_type": "stream",
     "text": [
      "here True\n",
      "here True\n"
     ]
    },
    {
     "name": "stderr",
     "output_type": "stream",
     "text": [
      "Reading table group data:  64%|██████▎   | 187/294 [00:25<00:16,  6.49it/s]"
     ]
    },
    {
     "name": "stdout",
     "output_type": "stream",
     "text": [
      "here True\n",
      "here True\n"
     ]
    },
    {
     "name": "stderr",
     "output_type": "stream",
     "text": [
      "Reading table group data:  64%|██████▍   | 189/294 [00:25<00:13,  7.88it/s]"
     ]
    },
    {
     "name": "stdout",
     "output_type": "stream",
     "text": [
      "here True\n",
      "here True\n"
     ]
    },
    {
     "name": "stderr",
     "output_type": "stream",
     "text": [
      "Reading table group data:  65%|██████▍   | 191/294 [00:25<00:13,  7.68it/s]"
     ]
    },
    {
     "name": "stdout",
     "output_type": "stream",
     "text": [
      "here True\n",
      "here True\n"
     ]
    },
    {
     "name": "stderr",
     "output_type": "stream",
     "text": [
      "Reading table group data:  66%|██████▌   | 193/294 [00:26<00:15,  6.44it/s]"
     ]
    },
    {
     "name": "stdout",
     "output_type": "stream",
     "text": [
      "here True\n",
      "here True\n"
     ]
    },
    {
     "name": "stderr",
     "output_type": "stream",
     "text": [
      "Reading table group data:  66%|██████▋   | 195/294 [00:26<00:12,  7.83it/s]"
     ]
    },
    {
     "name": "stdout",
     "output_type": "stream",
     "text": [
      "here True\n",
      "here True\n"
     ]
    },
    {
     "name": "stderr",
     "output_type": "stream",
     "text": [
      "Reading table group data:  67%|██████▋   | 197/294 [00:26<00:12,  7.65it/s]"
     ]
    },
    {
     "name": "stdout",
     "output_type": "stream",
     "text": [
      "here True\n",
      "here True\n"
     ]
    },
    {
     "name": "stderr",
     "output_type": "stream",
     "text": [
      "Reading table group data:  68%|██████▊   | 199/294 [00:26<00:11,  8.04it/s]"
     ]
    },
    {
     "name": "stdout",
     "output_type": "stream",
     "text": [
      "here True\n",
      "here True\n"
     ]
    },
    {
     "name": "stderr",
     "output_type": "stream",
     "text": [
      "Reading table group data:  68%|██████▊   | 201/294 [00:27<00:12,  7.45it/s]"
     ]
    },
    {
     "name": "stdout",
     "output_type": "stream",
     "text": [
      "here True\n",
      "here True\n"
     ]
    },
    {
     "name": "stderr",
     "output_type": "stream",
     "text": [
      "Reading table group data:  69%|██████▉   | 203/294 [00:27<00:10,  8.51it/s]"
     ]
    },
    {
     "name": "stdout",
     "output_type": "stream",
     "text": [
      "here True\n",
      "here True\n"
     ]
    },
    {
     "name": "stderr",
     "output_type": "stream",
     "text": [
      "Reading table group data:  70%|██████▉   | 205/294 [00:27<00:11,  7.65it/s]"
     ]
    },
    {
     "name": "stdout",
     "output_type": "stream",
     "text": [
      "here True\n",
      "here True\n"
     ]
    },
    {
     "name": "stderr",
     "output_type": "stream",
     "text": [
      "Reading table group data:  70%|███████   | 207/294 [00:27<00:10,  8.61it/s]"
     ]
    },
    {
     "name": "stdout",
     "output_type": "stream",
     "text": [
      "here True\n",
      "here True\n"
     ]
    },
    {
     "name": "stderr",
     "output_type": "stream",
     "text": [
      "Reading table group data:  71%|███████   | 209/294 [00:28<00:11,  7.69it/s]"
     ]
    },
    {
     "name": "stdout",
     "output_type": "stream",
     "text": [
      "here True\n",
      "here True\n"
     ]
    },
    {
     "name": "stderr",
     "output_type": "stream",
     "text": [
      "Reading table group data:  72%|███████▏  | 211/294 [00:28<00:10,  7.60it/s]"
     ]
    },
    {
     "name": "stdout",
     "output_type": "stream",
     "text": [
      "here True\n",
      "here True\n",
      "here True\n"
     ]
    },
    {
     "name": "stderr",
     "output_type": "stream",
     "text": [
      "Reading table group data:  73%|███████▎  | 214/294 [00:28<00:10,  7.67it/s]"
     ]
    },
    {
     "name": "stdout",
     "output_type": "stream",
     "text": [
      "here True\n",
      "here True\n"
     ]
    },
    {
     "name": "stderr",
     "output_type": "stream",
     "text": [
      "Reading table group data:  73%|███████▎  | 216/294 [00:29<00:10,  7.57it/s]"
     ]
    },
    {
     "name": "stdout",
     "output_type": "stream",
     "text": [
      "here True\n",
      "here True\n",
      "here True\n"
     ]
    },
    {
     "name": "stderr",
     "output_type": "stream",
     "text": [
      "Reading table group data:  74%|███████▍  | 219/294 [00:29<00:10,  6.86it/s]"
     ]
    },
    {
     "name": "stdout",
     "output_type": "stream",
     "text": [
      "here True\n",
      "here True\n"
     ]
    },
    {
     "name": "stderr",
     "output_type": "stream",
     "text": [
      "Reading table group data:  75%|███████▌  | 221/294 [00:29<00:10,  6.83it/s]"
     ]
    },
    {
     "name": "stdout",
     "output_type": "stream",
     "text": [
      "here True\n",
      "here True\n"
     ]
    },
    {
     "name": "stderr",
     "output_type": "stream",
     "text": [
      "Reading table group data:  76%|███████▌  | 223/294 [00:30<00:08,  8.02it/s]"
     ]
    },
    {
     "name": "stdout",
     "output_type": "stream",
     "text": [
      "here True\n",
      "here True\n"
     ]
    },
    {
     "name": "stderr",
     "output_type": "stream",
     "text": [
      "Reading table group data:  77%|███████▋  | 225/294 [00:30<00:08,  8.19it/s]"
     ]
    },
    {
     "name": "stdout",
     "output_type": "stream",
     "text": [
      "here True\n",
      "here True\n"
     ]
    },
    {
     "name": "stderr",
     "output_type": "stream",
     "text": [
      "Reading table group data:  77%|███████▋  | 227/294 [00:30<00:08,  7.80it/s]"
     ]
    },
    {
     "name": "stdout",
     "output_type": "stream",
     "text": [
      "here True\n",
      "here True\n"
     ]
    },
    {
     "name": "stderr",
     "output_type": "stream",
     "text": [
      "Reading table group data:  78%|███████▊  | 229/294 [00:30<00:08,  8.04it/s]"
     ]
    },
    {
     "name": "stdout",
     "output_type": "stream",
     "text": [
      "here True\n",
      "here True\n"
     ]
    },
    {
     "name": "stderr",
     "output_type": "stream",
     "text": [
      "Reading table group data:  79%|███████▊  | 231/294 [00:31<00:08,  7.36it/s]"
     ]
    },
    {
     "name": "stdout",
     "output_type": "stream",
     "text": [
      "here True\n",
      "here True\n"
     ]
    },
    {
     "name": "stderr",
     "output_type": "stream",
     "text": [
      "Reading table group data:  79%|███████▉  | 233/294 [00:31<00:08,  7.52it/s]"
     ]
    },
    {
     "name": "stdout",
     "output_type": "stream",
     "text": [
      "here True\n",
      "here True\n"
     ]
    },
    {
     "name": "stderr",
     "output_type": "stream",
     "text": [
      "Reading table group data:  80%|███████▉  | 235/294 [00:31<00:06,  8.44it/s]"
     ]
    },
    {
     "name": "stdout",
     "output_type": "stream",
     "text": [
      "here True\n",
      "here True\n"
     ]
    },
    {
     "name": "stderr",
     "output_type": "stream",
     "text": [
      "Reading table group data:  81%|████████  | 237/294 [00:31<00:06,  8.29it/s]"
     ]
    },
    {
     "name": "stdout",
     "output_type": "stream",
     "text": [
      "here True\n",
      "here True\n"
     ]
    },
    {
     "name": "stderr",
     "output_type": "stream",
     "text": [
      "Reading table group data:  81%|████████▏ | 239/294 [00:32<00:07,  7.05it/s]"
     ]
    },
    {
     "name": "stdout",
     "output_type": "stream",
     "text": [
      "here True\n",
      "here True\n"
     ]
    },
    {
     "name": "stderr",
     "output_type": "stream",
     "text": [
      "Reading table group data:  82%|████████▏ | 241/294 [00:32<00:06,  8.15it/s]"
     ]
    },
    {
     "name": "stdout",
     "output_type": "stream",
     "text": [
      "here True\n",
      "here True\n"
     ]
    },
    {
     "name": "stderr",
     "output_type": "stream",
     "text": [
      "Reading table group data:  83%|████████▎ | 243/294 [00:32<00:06,  7.77it/s]"
     ]
    },
    {
     "name": "stdout",
     "output_type": "stream",
     "text": [
      "here True\n",
      "here True\n"
     ]
    },
    {
     "name": "stderr",
     "output_type": "stream",
     "text": [
      "Reading table group data:  83%|████████▎ | 245/294 [00:33<00:07,  6.39it/s]"
     ]
    },
    {
     "name": "stdout",
     "output_type": "stream",
     "text": [
      "here True\n",
      "here True\n"
     ]
    },
    {
     "name": "stderr",
     "output_type": "stream",
     "text": [
      "Reading table group data:  84%|████████▍ | 247/294 [00:33<00:07,  6.51it/s]"
     ]
    },
    {
     "name": "stdout",
     "output_type": "stream",
     "text": [
      "here True\n",
      "here True\n"
     ]
    },
    {
     "name": "stderr",
     "output_type": "stream",
     "text": [
      "Reading table group data:  85%|████████▍ | 249/294 [00:33<00:06,  6.64it/s]"
     ]
    },
    {
     "name": "stdout",
     "output_type": "stream",
     "text": [
      "here True\n",
      "here True\n"
     ]
    },
    {
     "name": "stderr",
     "output_type": "stream",
     "text": [
      "Reading table group data:  85%|████████▌ | 250/294 [00:33<00:05,  7.34it/s]"
     ]
    },
    {
     "name": "stdout",
     "output_type": "stream",
     "text": [
      "here True\n",
      "here True\n"
     ]
    },
    {
     "name": "stderr",
     "output_type": "stream",
     "text": [
      "Reading table group data:  86%|████████▌ | 253/294 [00:34<00:06,  6.74it/s]"
     ]
    },
    {
     "name": "stdout",
     "output_type": "stream",
     "text": [
      "here True\n",
      "here True\n"
     ]
    },
    {
     "name": "stderr",
     "output_type": "stream",
     "text": [
      "Reading table group data:  87%|████████▋ | 255/294 [00:34<00:05,  6.78it/s]"
     ]
    },
    {
     "name": "stdout",
     "output_type": "stream",
     "text": [
      "here True\n",
      "here True\n"
     ]
    },
    {
     "name": "stderr",
     "output_type": "stream",
     "text": [
      "Reading table group data:  87%|████████▋ | 257/294 [00:34<00:05,  6.75it/s]"
     ]
    },
    {
     "name": "stdout",
     "output_type": "stream",
     "text": [
      "here True\n",
      "here True\n"
     ]
    },
    {
     "name": "stderr",
     "output_type": "stream",
     "text": [
      "Reading table group data:  88%|████████▊ | 258/294 [00:34<00:04,  7.43it/s]"
     ]
    },
    {
     "name": "stdout",
     "output_type": "stream",
     "text": [
      "here True\n",
      "here True\n"
     ]
    },
    {
     "name": "stderr",
     "output_type": "stream",
     "text": [
      "Reading table group data:  89%|████████▉ | 261/294 [00:35<00:04,  7.82it/s]"
     ]
    },
    {
     "name": "stdout",
     "output_type": "stream",
     "text": [
      "here True\n",
      "here True\n"
     ]
    },
    {
     "name": "stderr",
     "output_type": "stream",
     "text": [
      "Reading table group data:  89%|████████▉ | 263/294 [00:35<00:04,  7.66it/s]"
     ]
    },
    {
     "name": "stdout",
     "output_type": "stream",
     "text": [
      "here True\n",
      "here True\n"
     ]
    },
    {
     "name": "stderr",
     "output_type": "stream",
     "text": [
      "Reading table group data:  90%|█████████ | 265/294 [00:35<00:04,  6.45it/s]"
     ]
    },
    {
     "name": "stdout",
     "output_type": "stream",
     "text": [
      "here True\n",
      "here True\n"
     ]
    },
    {
     "name": "stderr",
     "output_type": "stream",
     "text": [
      "Reading table group data:  90%|█████████ | 266/294 [00:35<00:03,  7.17it/s]"
     ]
    },
    {
     "name": "stdout",
     "output_type": "stream",
     "text": [
      "here True\n",
      "here True\n"
     ]
    },
    {
     "name": "stderr",
     "output_type": "stream",
     "text": [
      "Reading table group data:  91%|█████████▏| 269/294 [00:36<00:03,  7.73it/s]"
     ]
    },
    {
     "name": "stdout",
     "output_type": "stream",
     "text": [
      "here True\n",
      "here True\n"
     ]
    },
    {
     "name": "stderr",
     "output_type": "stream",
     "text": [
      "Reading table group data:  92%|█████████▏| 271/294 [00:36<00:03,  7.65it/s]"
     ]
    },
    {
     "name": "stdout",
     "output_type": "stream",
     "text": [
      "here True\n",
      "here True\n"
     ]
    },
    {
     "name": "stderr",
     "output_type": "stream",
     "text": [
      "Reading table group data:  93%|█████████▎| 273/294 [00:36<00:02,  7.62it/s]"
     ]
    },
    {
     "name": "stdout",
     "output_type": "stream",
     "text": [
      "here True\n",
      "here True\n"
     ]
    },
    {
     "name": "stderr",
     "output_type": "stream",
     "text": [
      "Reading table group data:  94%|█████████▎| 275/294 [00:37<00:02,  7.60it/s]"
     ]
    },
    {
     "name": "stdout",
     "output_type": "stream",
     "text": [
      "here True\n",
      "here True\n"
     ]
    },
    {
     "name": "stderr",
     "output_type": "stream",
     "text": [
      "Reading table group data:  94%|█████████▍| 277/294 [00:37<00:02,  6.44it/s]"
     ]
    },
    {
     "name": "stdout",
     "output_type": "stream",
     "text": [
      "here True\n",
      "here True\n"
     ]
    },
    {
     "name": "stderr",
     "output_type": "stream",
     "text": [
      "Reading table group data:  95%|█████████▍| 279/294 [00:37<00:01,  7.81it/s]"
     ]
    },
    {
     "name": "stdout",
     "output_type": "stream",
     "text": [
      "here True\n",
      "here True\n"
     ]
    },
    {
     "name": "stderr",
     "output_type": "stream",
     "text": [
      "Reading table group data:  96%|█████████▌| 281/294 [00:38<00:01,  6.50it/s]"
     ]
    },
    {
     "name": "stdout",
     "output_type": "stream",
     "text": [
      "here True\n",
      "here True\n"
     ]
    },
    {
     "name": "stderr",
     "output_type": "stream",
     "text": [
      "Reading table group data:  96%|█████████▋| 283/294 [00:38<00:01,  6.65it/s]"
     ]
    },
    {
     "name": "stdout",
     "output_type": "stream",
     "text": [
      "here True\n",
      "here True\n"
     ]
    },
    {
     "name": "stderr",
     "output_type": "stream",
     "text": [
      "Reading table group data:  97%|█████████▋| 285/294 [00:38<00:01,  7.98it/s]"
     ]
    },
    {
     "name": "stdout",
     "output_type": "stream",
     "text": [
      "here True\n",
      "here True\n"
     ]
    },
    {
     "name": "stderr",
     "output_type": "stream",
     "text": [
      "Reading table group data:  98%|█████████▊| 287/294 [00:38<00:00,  7.75it/s]"
     ]
    },
    {
     "name": "stdout",
     "output_type": "stream",
     "text": [
      "here True\n",
      "here True\n"
     ]
    },
    {
     "name": "stderr",
     "output_type": "stream",
     "text": [
      "Reading table group data:  98%|█████████▊| 289/294 [00:39<00:00,  7.60it/s]"
     ]
    },
    {
     "name": "stdout",
     "output_type": "stream",
     "text": [
      "here True\n",
      "here True\n"
     ]
    },
    {
     "name": "stderr",
     "output_type": "stream",
     "text": [
      "Reading table group data:  99%|█████████▉| 291/294 [00:39<00:00,  6.39it/s]"
     ]
    },
    {
     "name": "stdout",
     "output_type": "stream",
     "text": [
      "here True\n",
      "here True\n"
     ]
    },
    {
     "name": "stderr",
     "output_type": "stream",
     "text": [
      "Reading table group data: 100%|█████████▉| 293/294 [00:39<00:00,  6.59it/s]"
     ]
    },
    {
     "name": "stdout",
     "output_type": "stream",
     "text": [
      "here True\n",
      "here True\n"
     ]
    },
    {
     "name": "stderr",
     "output_type": "stream",
     "text": [
      "Grouping/Initialising Data Collection samples sequentially: 100%|██████████| 105/105 [00:00<00:00, 106402.98it/s]\n",
      "Combining Data Collection group elements: 100%|██████████| 105/105 [00:00<00:00, 1117771.37it/s]\n"
     ]
    }
   ],
   "source": [
    "# Initialise outputs\n",
    "current_sweep_outputs = Outputs(\n",
    "    config = os.path.join(relative_experiment_dir,\"config.json\"),\n",
    "    settings = settings,\n",
    "    inputs = None,\n",
    "    slice = True,\n",
    "    level = 'NOTE'\n",
    ")\n",
    "# Silence outputs\n",
    "current_sweep_outputs.logger.setLevels(console_level='NOTE')\n",
    "# Load all data\n",
    "current_sweep_outputs.load()"
   ]
  },
  {
   "cell_type": "code",
   "execution_count": 32,
   "id": "99a01931",
   "metadata": {},
   "outputs": [],
   "source": [
    "# Get data from first sweep of the SIM_NN experiment\n",
    "current_sweep_outputs0 = current_sweep_outputs.get(0)"
   ]
  },
  {
   "cell_type": "code",
   "execution_count": 33,
   "id": "9ff2bdbe",
   "metadata": {},
   "outputs": [
    {
     "data": {
      "text/html": [
       "<div><svg style=\"position: absolute; width: 0; height: 0; overflow: hidden\">\n",
       "<defs>\n",
       "<symbol id=\"icon-database\" viewBox=\"0 0 32 32\">\n",
       "<path d=\"M16 0c-8.837 0-16 2.239-16 5v4c0 2.761 7.163 5 16 5s16-2.239 16-5v-4c0-2.761-7.163-5-16-5z\"></path>\n",
       "<path d=\"M16 17c-8.837 0-16-2.239-16-5v6c0 2.761 7.163 5 16 5s16-2.239 16-5v-6c0 2.761-7.163 5-16 5z\"></path>\n",
       "<path d=\"M16 26c-8.837 0-16-2.239-16-5v6c0 2.761 7.163 5 16 5s16-2.239 16-5v-6c0 2.761-7.163 5-16 5z\"></path>\n",
       "</symbol>\n",
       "<symbol id=\"icon-file-text2\" viewBox=\"0 0 32 32\">\n",
       "<path d=\"M28.681 7.159c-0.694-0.947-1.662-2.053-2.724-3.116s-2.169-2.030-3.116-2.724c-1.612-1.182-2.393-1.319-2.841-1.319h-15.5c-1.378 0-2.5 1.121-2.5 2.5v27c0 1.378 1.122 2.5 2.5 2.5h23c1.378 0 2.5-1.122 2.5-2.5v-19.5c0-0.448-0.137-1.23-1.319-2.841zM24.543 5.457c0.959 0.959 1.712 1.825 2.268 2.543h-4.811v-4.811c0.718 0.556 1.584 1.309 2.543 2.268zM28 29.5c0 0.271-0.229 0.5-0.5 0.5h-23c-0.271 0-0.5-0.229-0.5-0.5v-27c0-0.271 0.229-0.5 0.5-0.5 0 0 15.499-0 15.5 0v7c0 0.552 0.448 1 1 1h7v19.5z\"></path>\n",
       "<path d=\"M23 26h-14c-0.552 0-1-0.448-1-1s0.448-1 1-1h14c0.552 0 1 0.448 1 1s-0.448 1-1 1z\"></path>\n",
       "<path d=\"M23 22h-14c-0.552 0-1-0.448-1-1s0.448-1 1-1h14c0.552 0 1 0.448 1 1s-0.448 1-1 1z\"></path>\n",
       "<path d=\"M23 18h-14c-0.552 0-1-0.448-1-1s0.448-1 1-1h14c0.552 0 1 0.448 1 1s-0.448 1-1 1z\"></path>\n",
       "</symbol>\n",
       "</defs>\n",
       "</svg>\n",
       "<style>/* CSS stylesheet for displaying xarray objects in jupyterlab.\n",
       " *\n",
       " */\n",
       "\n",
       ":root {\n",
       "  --xr-font-color0: var(--jp-content-font-color0, rgba(0, 0, 0, 1));\n",
       "  --xr-font-color2: var(--jp-content-font-color2, rgba(0, 0, 0, 0.54));\n",
       "  --xr-font-color3: var(--jp-content-font-color3, rgba(0, 0, 0, 0.38));\n",
       "  --xr-border-color: var(--jp-border-color2, #e0e0e0);\n",
       "  --xr-disabled-color: var(--jp-layout-color3, #bdbdbd);\n",
       "  --xr-background-color: var(--jp-layout-color0, white);\n",
       "  --xr-background-color-row-even: var(--jp-layout-color1, white);\n",
       "  --xr-background-color-row-odd: var(--jp-layout-color2, #eeeeee);\n",
       "}\n",
       "\n",
       "html[theme=dark],\n",
       "body[data-theme=dark],\n",
       "body.vscode-dark {\n",
       "  --xr-font-color0: rgba(255, 255, 255, 1);\n",
       "  --xr-font-color2: rgba(255, 255, 255, 0.54);\n",
       "  --xr-font-color3: rgba(255, 255, 255, 0.38);\n",
       "  --xr-border-color: #1F1F1F;\n",
       "  --xr-disabled-color: #515151;\n",
       "  --xr-background-color: #111111;\n",
       "  --xr-background-color-row-even: #111111;\n",
       "  --xr-background-color-row-odd: #313131;\n",
       "}\n",
       "\n",
       ".xr-wrap {\n",
       "  display: block !important;\n",
       "  min-width: 300px;\n",
       "  max-width: 700px;\n",
       "}\n",
       "\n",
       ".xr-text-repr-fallback {\n",
       "  /* fallback to plain text repr when CSS is not injected (untrusted notebook) */\n",
       "  display: none;\n",
       "}\n",
       "\n",
       ".xr-header {\n",
       "  padding-top: 6px;\n",
       "  padding-bottom: 6px;\n",
       "  margin-bottom: 4px;\n",
       "  border-bottom: solid 1px var(--xr-border-color);\n",
       "}\n",
       "\n",
       ".xr-header > div,\n",
       ".xr-header > ul {\n",
       "  display: inline;\n",
       "  margin-top: 0;\n",
       "  margin-bottom: 0;\n",
       "}\n",
       "\n",
       ".xr-obj-type,\n",
       ".xr-array-name {\n",
       "  margin-left: 2px;\n",
       "  margin-right: 10px;\n",
       "}\n",
       "\n",
       ".xr-obj-type {\n",
       "  color: var(--xr-font-color2);\n",
       "}\n",
       "\n",
       ".xr-sections {\n",
       "  padding-left: 0 !important;\n",
       "  display: grid;\n",
       "  grid-template-columns: 150px auto auto 1fr 20px 20px;\n",
       "}\n",
       "\n",
       ".xr-section-item {\n",
       "  display: contents;\n",
       "}\n",
       "\n",
       ".xr-section-item input {\n",
       "  display: none;\n",
       "}\n",
       "\n",
       ".xr-section-item input + label {\n",
       "  color: var(--xr-disabled-color);\n",
       "}\n",
       "\n",
       ".xr-section-item input:enabled + label {\n",
       "  cursor: pointer;\n",
       "  color: var(--xr-font-color2);\n",
       "}\n",
       "\n",
       ".xr-section-item input:enabled + label:hover {\n",
       "  color: var(--xr-font-color0);\n",
       "}\n",
       "\n",
       ".xr-section-summary {\n",
       "  grid-column: 1;\n",
       "  color: var(--xr-font-color2);\n",
       "  font-weight: 500;\n",
       "}\n",
       "\n",
       ".xr-section-summary > span {\n",
       "  display: inline-block;\n",
       "  padding-left: 0.5em;\n",
       "}\n",
       "\n",
       ".xr-section-summary-in:disabled + label {\n",
       "  color: var(--xr-font-color2);\n",
       "}\n",
       "\n",
       ".xr-section-summary-in + label:before {\n",
       "  display: inline-block;\n",
       "  content: '►';\n",
       "  font-size: 11px;\n",
       "  width: 15px;\n",
       "  text-align: center;\n",
       "}\n",
       "\n",
       ".xr-section-summary-in:disabled + label:before {\n",
       "  color: var(--xr-disabled-color);\n",
       "}\n",
       "\n",
       ".xr-section-summary-in:checked + label:before {\n",
       "  content: '▼';\n",
       "}\n",
       "\n",
       ".xr-section-summary-in:checked + label > span {\n",
       "  display: none;\n",
       "}\n",
       "\n",
       ".xr-section-summary,\n",
       ".xr-section-inline-details {\n",
       "  padding-top: 4px;\n",
       "  padding-bottom: 4px;\n",
       "}\n",
       "\n",
       ".xr-section-inline-details {\n",
       "  grid-column: 2 / -1;\n",
       "}\n",
       "\n",
       ".xr-section-details {\n",
       "  display: none;\n",
       "  grid-column: 1 / -1;\n",
       "  margin-bottom: 5px;\n",
       "}\n",
       "\n",
       ".xr-section-summary-in:checked ~ .xr-section-details {\n",
       "  display: contents;\n",
       "}\n",
       "\n",
       ".xr-array-wrap {\n",
       "  grid-column: 1 / -1;\n",
       "  display: grid;\n",
       "  grid-template-columns: 20px auto;\n",
       "}\n",
       "\n",
       ".xr-array-wrap > label {\n",
       "  grid-column: 1;\n",
       "  vertical-align: top;\n",
       "}\n",
       "\n",
       ".xr-preview {\n",
       "  color: var(--xr-font-color3);\n",
       "}\n",
       "\n",
       ".xr-array-preview,\n",
       ".xr-array-data {\n",
       "  padding: 0 5px !important;\n",
       "  grid-column: 2;\n",
       "}\n",
       "\n",
       ".xr-array-data,\n",
       ".xr-array-in:checked ~ .xr-array-preview {\n",
       "  display: none;\n",
       "}\n",
       "\n",
       ".xr-array-in:checked ~ .xr-array-data,\n",
       ".xr-array-preview {\n",
       "  display: inline-block;\n",
       "}\n",
       "\n",
       ".xr-dim-list {\n",
       "  display: inline-block !important;\n",
       "  list-style: none;\n",
       "  padding: 0 !important;\n",
       "  margin: 0;\n",
       "}\n",
       "\n",
       ".xr-dim-list li {\n",
       "  display: inline-block;\n",
       "  padding: 0;\n",
       "  margin: 0;\n",
       "}\n",
       "\n",
       ".xr-dim-list:before {\n",
       "  content: '(';\n",
       "}\n",
       "\n",
       ".xr-dim-list:after {\n",
       "  content: ')';\n",
       "}\n",
       "\n",
       ".xr-dim-list li:not(:last-child):after {\n",
       "  content: ',';\n",
       "  padding-right: 5px;\n",
       "}\n",
       "\n",
       ".xr-has-index {\n",
       "  font-weight: bold;\n",
       "}\n",
       "\n",
       ".xr-var-list,\n",
       ".xr-var-item {\n",
       "  display: contents;\n",
       "}\n",
       "\n",
       ".xr-var-item > div,\n",
       ".xr-var-item label,\n",
       ".xr-var-item > .xr-var-name span {\n",
       "  background-color: var(--xr-background-color-row-even);\n",
       "  margin-bottom: 0;\n",
       "}\n",
       "\n",
       ".xr-var-item > .xr-var-name:hover span {\n",
       "  padding-right: 5px;\n",
       "}\n",
       "\n",
       ".xr-var-list > li:nth-child(odd) > div,\n",
       ".xr-var-list > li:nth-child(odd) > label,\n",
       ".xr-var-list > li:nth-child(odd) > .xr-var-name span {\n",
       "  background-color: var(--xr-background-color-row-odd);\n",
       "}\n",
       "\n",
       ".xr-var-name {\n",
       "  grid-column: 1;\n",
       "}\n",
       "\n",
       ".xr-var-dims {\n",
       "  grid-column: 2;\n",
       "}\n",
       "\n",
       ".xr-var-dtype {\n",
       "  grid-column: 3;\n",
       "  text-align: right;\n",
       "  color: var(--xr-font-color2);\n",
       "}\n",
       "\n",
       ".xr-var-preview {\n",
       "  grid-column: 4;\n",
       "}\n",
       "\n",
       ".xr-index-preview {\n",
       "  grid-column: 2 / 5;\n",
       "  color: var(--xr-font-color2);\n",
       "}\n",
       "\n",
       ".xr-var-name,\n",
       ".xr-var-dims,\n",
       ".xr-var-dtype,\n",
       ".xr-preview,\n",
       ".xr-attrs dt {\n",
       "  white-space: nowrap;\n",
       "  overflow: hidden;\n",
       "  text-overflow: ellipsis;\n",
       "  padding-right: 10px;\n",
       "}\n",
       "\n",
       ".xr-var-name:hover,\n",
       ".xr-var-dims:hover,\n",
       ".xr-var-dtype:hover,\n",
       ".xr-attrs dt:hover {\n",
       "  overflow: visible;\n",
       "  width: auto;\n",
       "  z-index: 1;\n",
       "}\n",
       "\n",
       ".xr-var-attrs,\n",
       ".xr-var-data,\n",
       ".xr-index-data {\n",
       "  display: none;\n",
       "  background-color: var(--xr-background-color) !important;\n",
       "  padding-bottom: 5px !important;\n",
       "}\n",
       "\n",
       ".xr-var-attrs-in:checked ~ .xr-var-attrs,\n",
       ".xr-var-data-in:checked ~ .xr-var-data,\n",
       ".xr-index-data-in:checked ~ .xr-index-data {\n",
       "  display: block;\n",
       "}\n",
       "\n",
       ".xr-var-data > table {\n",
       "  float: right;\n",
       "}\n",
       "\n",
       ".xr-var-name span,\n",
       ".xr-var-data,\n",
       ".xr-index-name div,\n",
       ".xr-index-data,\n",
       ".xr-attrs {\n",
       "  padding-left: 25px !important;\n",
       "}\n",
       "\n",
       ".xr-attrs,\n",
       ".xr-var-attrs,\n",
       ".xr-var-data,\n",
       ".xr-index-data {\n",
       "  grid-column: 1 / -1;\n",
       "}\n",
       "\n",
       "dl.xr-attrs {\n",
       "  padding: 0;\n",
       "  margin: 0;\n",
       "  display: grid;\n",
       "  grid-template-columns: 125px auto;\n",
       "}\n",
       "\n",
       ".xr-attrs dt,\n",
       ".xr-attrs dd {\n",
       "  padding: 0;\n",
       "  margin: 0;\n",
       "  float: left;\n",
       "  padding-right: 10px;\n",
       "  width: auto;\n",
       "}\n",
       "\n",
       ".xr-attrs dt {\n",
       "  font-weight: normal;\n",
       "  grid-column: 1;\n",
       "}\n",
       "\n",
       ".xr-attrs dt:hover span {\n",
       "  display: inline-block;\n",
       "  background: var(--xr-background-color);\n",
       "  padding-right: 10px;\n",
       "}\n",
       "\n",
       ".xr-attrs dd {\n",
       "  grid-column: 2;\n",
       "  white-space: pre-wrap;\n",
       "  word-break: break-all;\n",
       "}\n",
       "\n",
       ".xr-icon-database,\n",
       ".xr-icon-file-text2,\n",
       ".xr-no-icon {\n",
       "  display: inline-block;\n",
       "  vertical-align: middle;\n",
       "  width: 1em;\n",
       "  height: 1.5em !important;\n",
       "  stroke-width: 0;\n",
       "  stroke: currentColor;\n",
       "  fill: currentColor;\n",
       "}\n",
       "</style><pre class='xr-text-repr-fallback'>&lt;xarray.DataArray (seed: 1, iter: 10000, origin: 69, destination: 13, sweep: 1)&gt;\n",
       "array([[[[[172.],\n",
       "          [  1.],\n",
       "          [273.],\n",
       "          ...,\n",
       "          [  1.],\n",
       "          [ 60.],\n",
       "          [  1.]],\n",
       "\n",
       "         [[  1.],\n",
       "          [  1.],\n",
       "          [  1.],\n",
       "          ...,\n",
       "          [  1.],\n",
       "          [ 41.],\n",
       "          [351.]],\n",
       "\n",
       "         [[  1.],\n",
       "          [  1.],\n",
       "          [  1.],\n",
       "          ...,\n",
       "...\n",
       "          ...,\n",
       "          [ 15.],\n",
       "          [ 76.],\n",
       "          [ 72.]],\n",
       "\n",
       "         [[  5.],\n",
       "          [  3.],\n",
       "          [ 31.],\n",
       "          ...,\n",
       "          [ 11.],\n",
       "          [ 43.],\n",
       "          [ 52.]],\n",
       "\n",
       "         [[  7.],\n",
       "          [  4.],\n",
       "          [ 41.],\n",
       "          ...,\n",
       "          [  5.],\n",
       "          [ 43.],\n",
       "          [ 35.]]]]], dtype=float32)\n",
       "Coordinates: (12/16)\n",
       "  * seed           (seed) int32 1333\n",
       "  * iter           (iter) int32 1 2 3 4 5 6 7 ... 9995 9996 9997 9998 9999 10000\n",
       "  * origin         (origin) int16 1 2 3 4 5 6 7 8 9 ... 62 63 64 65 66 67 68 69\n",
       "  * destination    (destination) int16 1 2 3 4 5 6 7 8 9 10 11 12 13\n",
       "  * sweep          (sweep) object MultiIndex\n",
       "  * sigma          (sweep) &lt;U4 &#x27;none&#x27;\n",
       "    ...             ...\n",
       "  * name           (sweep) &lt;U18 &#x27;TotallyConstrained&#x27;\n",
       "  * proposal       (sweep) &lt;U13 &#x27;degree_higher&#x27;\n",
       "  * N              (sweep) int32 10000\n",
       "  * loss_name      (sweep) &lt;U63 &quot;[&#x27;dest_attraction_ts_likelihood_loss&#x27;, &#x27;tabl...\n",
       "  * loss_function  (sweep) &lt;U20 &quot;[&#x27;custom&#x27;, &#x27;custom&#x27;]&quot;\n",
       "  * loss_kwargs    (sweep) &lt;U26 &quot;{&#x27;noise_percentage&#x27;: None}&quot;\n",
       "Attributes:\n",
       "    arr_name:       table\n",
       "    experiment_id:  JointTableSIM_NN_LearnedNoise__doubly_20%_cell_constraine...\n",
       "    sweep_id:       loss_name_[dest_attraction_ts_likelihood_loss,table_likel...</pre><div class='xr-wrap' style='display:none'><div class='xr-header'><div class='xr-obj-type'>xarray.DataArray</div><div class='xr-array-name'></div><ul class='xr-dim-list'><li><span class='xr-has-index'>seed</span>: 1</li><li><span class='xr-has-index'>iter</span>: 10000</li><li><span class='xr-has-index'>origin</span>: 69</li><li><span class='xr-has-index'>destination</span>: 13</li><li><span class='xr-has-index'>sweep</span>: 1</li></ul></div><ul class='xr-sections'><li class='xr-section-item'><div class='xr-array-wrap'><input id='section-5045a149-98da-4443-bc07-38f64d9628bc' class='xr-array-in' type='checkbox' checked><label for='section-5045a149-98da-4443-bc07-38f64d9628bc' title='Show/hide data repr'><svg class='icon xr-icon-database'><use xlink:href='#icon-database'></use></svg></label><div class='xr-array-preview xr-preview'><span>172.0 1.0 273.0 1.0 1.0 1.0 1.0 ... 168.0 23.0 13.0 9.0 5.0 43.0 35.0</span></div><div class='xr-array-data'><pre>array([[[[[172.],\n",
       "          [  1.],\n",
       "          [273.],\n",
       "          ...,\n",
       "          [  1.],\n",
       "          [ 60.],\n",
       "          [  1.]],\n",
       "\n",
       "         [[  1.],\n",
       "          [  1.],\n",
       "          [  1.],\n",
       "          ...,\n",
       "          [  1.],\n",
       "          [ 41.],\n",
       "          [351.]],\n",
       "\n",
       "         [[  1.],\n",
       "          [  1.],\n",
       "          [  1.],\n",
       "          ...,\n",
       "...\n",
       "          ...,\n",
       "          [ 15.],\n",
       "          [ 76.],\n",
       "          [ 72.]],\n",
       "\n",
       "         [[  5.],\n",
       "          [  3.],\n",
       "          [ 31.],\n",
       "          ...,\n",
       "          [ 11.],\n",
       "          [ 43.],\n",
       "          [ 52.]],\n",
       "\n",
       "         [[  7.],\n",
       "          [  4.],\n",
       "          [ 41.],\n",
       "          ...,\n",
       "          [  5.],\n",
       "          [ 43.],\n",
       "          [ 35.]]]]], dtype=float32)</pre></div></div></li><li class='xr-section-item'><input id='section-fb312718-aba2-4d8c-9055-6ccd0e77e4fa' class='xr-section-summary-in' type='checkbox'  checked><label for='section-fb312718-aba2-4d8c-9055-6ccd0e77e4fa' class='xr-section-summary' >Coordinates: <span>(16)</span></label><div class='xr-section-inline-details'></div><div class='xr-section-details'><ul class='xr-var-list'><li class='xr-var-item'><div class='xr-var-name'><span class='xr-has-index'>seed</span></div><div class='xr-var-dims'>(seed)</div><div class='xr-var-dtype'>int32</div><div class='xr-var-preview xr-preview'>1333</div><input id='attrs-7d16cbc2-1c65-4a00-aa12-4cb797452ea0' class='xr-var-attrs-in' type='checkbox' disabled><label for='attrs-7d16cbc2-1c65-4a00-aa12-4cb797452ea0' title='Show/Hide attributes'><svg class='icon xr-icon-file-text2'><use xlink:href='#icon-file-text2'></use></svg></label><input id='data-c2a19660-7853-455d-8abf-d0044156c6c2' class='xr-var-data-in' type='checkbox'><label for='data-c2a19660-7853-455d-8abf-d0044156c6c2' title='Show/Hide data repr'><svg class='icon xr-icon-database'><use xlink:href='#icon-database'></use></svg></label><div class='xr-var-attrs'><dl class='xr-attrs'></dl></div><div class='xr-var-data'><pre>array([1333], dtype=int32)</pre></div></li><li class='xr-var-item'><div class='xr-var-name'><span class='xr-has-index'>iter</span></div><div class='xr-var-dims'>(iter)</div><div class='xr-var-dtype'>int32</div><div class='xr-var-preview xr-preview'>1 2 3 4 5 ... 9997 9998 9999 10000</div><input id='attrs-2b95c88c-39a6-4071-abb3-4345c75af971' class='xr-var-attrs-in' type='checkbox' disabled><label for='attrs-2b95c88c-39a6-4071-abb3-4345c75af971' title='Show/Hide attributes'><svg class='icon xr-icon-file-text2'><use xlink:href='#icon-file-text2'></use></svg></label><input id='data-2e581fb6-691c-47d8-bda1-609d844dfc38' class='xr-var-data-in' type='checkbox'><label for='data-2e581fb6-691c-47d8-bda1-609d844dfc38' title='Show/Hide data repr'><svg class='icon xr-icon-database'><use xlink:href='#icon-database'></use></svg></label><div class='xr-var-attrs'><dl class='xr-attrs'></dl></div><div class='xr-var-data'><pre>array([    1,     2,     3, ...,  9998,  9999, 10000], dtype=int32)</pre></div></li><li class='xr-var-item'><div class='xr-var-name'><span class='xr-has-index'>origin</span></div><div class='xr-var-dims'>(origin)</div><div class='xr-var-dtype'>int16</div><div class='xr-var-preview xr-preview'>1 2 3 4 5 6 7 ... 64 65 66 67 68 69</div><input id='attrs-045157da-ed90-4526-95be-2b70c1747c33' class='xr-var-attrs-in' type='checkbox' disabled><label for='attrs-045157da-ed90-4526-95be-2b70c1747c33' title='Show/Hide attributes'><svg class='icon xr-icon-file-text2'><use xlink:href='#icon-file-text2'></use></svg></label><input id='data-21ec55e3-3df7-4cd7-a17b-9476503d6bde' class='xr-var-data-in' type='checkbox'><label for='data-21ec55e3-3df7-4cd7-a17b-9476503d6bde' title='Show/Hide data repr'><svg class='icon xr-icon-database'><use xlink:href='#icon-database'></use></svg></label><div class='xr-var-attrs'><dl class='xr-attrs'></dl></div><div class='xr-var-data'><pre>array([ 1,  2,  3,  4,  5,  6,  7,  8,  9, 10, 11, 12, 13, 14, 15, 16, 17, 18,\n",
       "       19, 20, 21, 22, 23, 24, 25, 26, 27, 28, 29, 30, 31, 32, 33, 34, 35, 36,\n",
       "       37, 38, 39, 40, 41, 42, 43, 44, 45, 46, 47, 48, 49, 50, 51, 52, 53, 54,\n",
       "       55, 56, 57, 58, 59, 60, 61, 62, 63, 64, 65, 66, 67, 68, 69], dtype=int16)</pre></div></li><li class='xr-var-item'><div class='xr-var-name'><span class='xr-has-index'>destination</span></div><div class='xr-var-dims'>(destination)</div><div class='xr-var-dtype'>int16</div><div class='xr-var-preview xr-preview'>1 2 3 4 5 6 7 8 9 10 11 12 13</div><input id='attrs-0e84f0a1-1771-4f84-8503-8d7c0e89eeae' class='xr-var-attrs-in' type='checkbox' disabled><label for='attrs-0e84f0a1-1771-4f84-8503-8d7c0e89eeae' title='Show/Hide attributes'><svg class='icon xr-icon-file-text2'><use xlink:href='#icon-file-text2'></use></svg></label><input id='data-a0f799b9-0b60-4597-8210-8fea1d2eac65' class='xr-var-data-in' type='checkbox'><label for='data-a0f799b9-0b60-4597-8210-8fea1d2eac65' title='Show/Hide data repr'><svg class='icon xr-icon-database'><use xlink:href='#icon-database'></use></svg></label><div class='xr-var-attrs'><dl class='xr-attrs'></dl></div><div class='xr-var-data'><pre>array([ 1,  2,  3,  4,  5,  6,  7,  8,  9, 10, 11, 12, 13], dtype=int16)</pre></div></li><li class='xr-var-item'><div class='xr-var-name'><span class='xr-has-index'>sweep</span></div><div class='xr-var-dims'>(sweep)</div><div class='xr-var-dtype'>object</div><div class='xr-var-preview xr-preview'>MultiIndex</div><input id='attrs-df887f00-7c30-478e-9025-f82ebf7393e5' class='xr-var-attrs-in' type='checkbox' disabled><label for='attrs-df887f00-7c30-478e-9025-f82ebf7393e5' title='Show/Hide attributes'><svg class='icon xr-icon-file-text2'><use xlink:href='#icon-file-text2'></use></svg></label><input id='data-cbb32ce0-b04a-4546-8ed6-24a1bf689321' class='xr-var-data-in' type='checkbox'><label for='data-cbb32ce0-b04a-4546-8ed6-24a1bf689321' title='Show/Hide data repr'><svg class='icon xr-icon-database'><use xlink:href='#icon-database'></use></svg></label><div class='xr-var-attrs'><dl class='xr-attrs'></dl></div><div class='xr-var-data'><pre>array([(&#x27;none&#x27;, &quot;[&#x27;alpha&#x27;, &#x27;beta&#x27;, &#x27;sigma&#x27;]&quot;, &#x27;_doubly_20%_cell_constrained&#x27;, &#x27;[[0], [1]]&#x27;, &#x27;constraints/cell_constraints_permuted_size_179_cell_percentage_20_constrained_axes_0_1_seed_1234.txt&#x27;, &#x27;TotallyConstrained&#x27;, &#x27;degree_higher&#x27;, 10000, &quot;[&#x27;dest_attraction_ts_likelihood_loss&#x27;, &#x27;table_likelihood_loss&#x27;]&quot;, &quot;[&#x27;custom&#x27;, &#x27;custom&#x27;]&quot;, &quot;{&#x27;noise_percentage&#x27;: None}&quot;)],\n",
       "      dtype=object)</pre></div></li><li class='xr-var-item'><div class='xr-var-name'><span class='xr-has-index'>sigma</span></div><div class='xr-var-dims'>(sweep)</div><div class='xr-var-dtype'>&lt;U4</div><div class='xr-var-preview xr-preview'>&#x27;none&#x27;</div><input id='attrs-ae004148-8ca7-409d-84ab-e25ce3ba8fa1' class='xr-var-attrs-in' type='checkbox' disabled><label for='attrs-ae004148-8ca7-409d-84ab-e25ce3ba8fa1' title='Show/Hide attributes'><svg class='icon xr-icon-file-text2'><use xlink:href='#icon-file-text2'></use></svg></label><input id='data-cb66da8a-8d59-42ff-95d7-0b8e7c39964e' class='xr-var-data-in' type='checkbox'><label for='data-cb66da8a-8d59-42ff-95d7-0b8e7c39964e' title='Show/Hide data repr'><svg class='icon xr-icon-database'><use xlink:href='#icon-database'></use></svg></label><div class='xr-var-attrs'><dl class='xr-attrs'></dl></div><div class='xr-var-data'><pre>array([&#x27;none&#x27;], dtype=&#x27;&lt;U4&#x27;)</pre></div></li><li class='xr-var-item'><div class='xr-var-name'><span class='xr-has-index'>to_learn</span></div><div class='xr-var-dims'>(sweep)</div><div class='xr-var-dtype'>&lt;U26</div><div class='xr-var-preview xr-preview'>&quot;[&#x27;alpha&#x27;, &#x27;beta&#x27;, &#x27;sigma&#x27;]&quot;</div><input id='attrs-a9660c4b-de3f-44b4-9de5-ff28f31094f7' class='xr-var-attrs-in' type='checkbox' disabled><label for='attrs-a9660c4b-de3f-44b4-9de5-ff28f31094f7' title='Show/Hide attributes'><svg class='icon xr-icon-file-text2'><use xlink:href='#icon-file-text2'></use></svg></label><input id='data-840873b9-0603-46a7-a887-d269485f48fb' class='xr-var-data-in' type='checkbox'><label for='data-840873b9-0603-46a7-a887-d269485f48fb' title='Show/Hide data repr'><svg class='icon xr-icon-database'><use xlink:href='#icon-database'></use></svg></label><div class='xr-var-attrs'><dl class='xr-attrs'></dl></div><div class='xr-var-data'><pre>array([&quot;[&#x27;alpha&#x27;, &#x27;beta&#x27;, &#x27;sigma&#x27;]&quot;], dtype=&#x27;&lt;U26&#x27;)</pre></div></li><li class='xr-var-item'><div class='xr-var-name'><span class='xr-has-index'>title</span></div><div class='xr-var-dims'>(sweep)</div><div class='xr-var-dtype'>&lt;U28</div><div class='xr-var-preview xr-preview'>&#x27;_doubly_20%_cell_constrained&#x27;</div><input id='attrs-3adb4688-c4d4-4641-832d-afcfcc978938' class='xr-var-attrs-in' type='checkbox' disabled><label for='attrs-3adb4688-c4d4-4641-832d-afcfcc978938' title='Show/Hide attributes'><svg class='icon xr-icon-file-text2'><use xlink:href='#icon-file-text2'></use></svg></label><input id='data-38ae424b-dac0-42dc-8c2d-a796ca23a3d2' class='xr-var-data-in' type='checkbox'><label for='data-38ae424b-dac0-42dc-8c2d-a796ca23a3d2' title='Show/Hide data repr'><svg class='icon xr-icon-database'><use xlink:href='#icon-database'></use></svg></label><div class='xr-var-attrs'><dl class='xr-attrs'></dl></div><div class='xr-var-data'><pre>array([&#x27;_doubly_20%_cell_constrained&#x27;], dtype=&#x27;&lt;U28&#x27;)</pre></div></li><li class='xr-var-item'><div class='xr-var-name'><span class='xr-has-index'>axes</span></div><div class='xr-var-dims'>(sweep)</div><div class='xr-var-dtype'>&lt;U10</div><div class='xr-var-preview xr-preview'>&#x27;[[0], [1]]&#x27;</div><input id='attrs-74e4248a-09b3-4e9e-9768-f472bcde0fd3' class='xr-var-attrs-in' type='checkbox' disabled><label for='attrs-74e4248a-09b3-4e9e-9768-f472bcde0fd3' title='Show/Hide attributes'><svg class='icon xr-icon-file-text2'><use xlink:href='#icon-file-text2'></use></svg></label><input id='data-43f1a9b9-ced8-4171-9418-eacdfae6d11c' class='xr-var-data-in' type='checkbox'><label for='data-43f1a9b9-ced8-4171-9418-eacdfae6d11c' title='Show/Hide data repr'><svg class='icon xr-icon-database'><use xlink:href='#icon-database'></use></svg></label><div class='xr-var-attrs'><dl class='xr-attrs'></dl></div><div class='xr-var-data'><pre>array([&#x27;[[0], [1]]&#x27;], dtype=&#x27;&lt;U10&#x27;)</pre></div></li><li class='xr-var-item'><div class='xr-var-name'><span class='xr-has-index'>cells</span></div><div class='xr-var-dims'>(sweep)</div><div class='xr-var-dtype'>&lt;U100</div><div class='xr-var-preview xr-preview'>&#x27;constraints/cell_constraints_pe...</div><input id='attrs-e97bc03f-b4d6-4c6c-8740-6d3384155d2b' class='xr-var-attrs-in' type='checkbox' disabled><label for='attrs-e97bc03f-b4d6-4c6c-8740-6d3384155d2b' title='Show/Hide attributes'><svg class='icon xr-icon-file-text2'><use xlink:href='#icon-file-text2'></use></svg></label><input id='data-dd6ad4bf-5368-465f-b888-8854e5d0cf4c' class='xr-var-data-in' type='checkbox'><label for='data-dd6ad4bf-5368-465f-b888-8854e5d0cf4c' title='Show/Hide data repr'><svg class='icon xr-icon-database'><use xlink:href='#icon-database'></use></svg></label><div class='xr-var-attrs'><dl class='xr-attrs'></dl></div><div class='xr-var-data'><pre>array([&#x27;constraints/cell_constraints_permuted_size_179_cell_percentage_20_constrained_axes_0_1_seed_1234.txt&#x27;],\n",
       "      dtype=&#x27;&lt;U100&#x27;)</pre></div></li><li class='xr-var-item'><div class='xr-var-name'><span class='xr-has-index'>name</span></div><div class='xr-var-dims'>(sweep)</div><div class='xr-var-dtype'>&lt;U18</div><div class='xr-var-preview xr-preview'>&#x27;TotallyConstrained&#x27;</div><input id='attrs-be7b5f95-c498-46ea-a3a9-6c424b1c8907' class='xr-var-attrs-in' type='checkbox' disabled><label for='attrs-be7b5f95-c498-46ea-a3a9-6c424b1c8907' title='Show/Hide attributes'><svg class='icon xr-icon-file-text2'><use xlink:href='#icon-file-text2'></use></svg></label><input id='data-48b70a79-eb5c-4600-9b2f-780d96b34f05' class='xr-var-data-in' type='checkbox'><label for='data-48b70a79-eb5c-4600-9b2f-780d96b34f05' title='Show/Hide data repr'><svg class='icon xr-icon-database'><use xlink:href='#icon-database'></use></svg></label><div class='xr-var-attrs'><dl class='xr-attrs'></dl></div><div class='xr-var-data'><pre>array([&#x27;TotallyConstrained&#x27;], dtype=&#x27;&lt;U18&#x27;)</pre></div></li><li class='xr-var-item'><div class='xr-var-name'><span class='xr-has-index'>proposal</span></div><div class='xr-var-dims'>(sweep)</div><div class='xr-var-dtype'>&lt;U13</div><div class='xr-var-preview xr-preview'>&#x27;degree_higher&#x27;</div><input id='attrs-80cb9943-331f-4ed9-9452-59bf0fa87cab' class='xr-var-attrs-in' type='checkbox' disabled><label for='attrs-80cb9943-331f-4ed9-9452-59bf0fa87cab' title='Show/Hide attributes'><svg class='icon xr-icon-file-text2'><use xlink:href='#icon-file-text2'></use></svg></label><input id='data-66be8acf-706a-4fac-809e-d6b98ec93561' class='xr-var-data-in' type='checkbox'><label for='data-66be8acf-706a-4fac-809e-d6b98ec93561' title='Show/Hide data repr'><svg class='icon xr-icon-database'><use xlink:href='#icon-database'></use></svg></label><div class='xr-var-attrs'><dl class='xr-attrs'></dl></div><div class='xr-var-data'><pre>array([&#x27;degree_higher&#x27;], dtype=&#x27;&lt;U13&#x27;)</pre></div></li><li class='xr-var-item'><div class='xr-var-name'><span class='xr-has-index'>N</span></div><div class='xr-var-dims'>(sweep)</div><div class='xr-var-dtype'>int32</div><div class='xr-var-preview xr-preview'>10000</div><input id='attrs-011b680c-8ad1-4280-a403-73c36ce91240' class='xr-var-attrs-in' type='checkbox' disabled><label for='attrs-011b680c-8ad1-4280-a403-73c36ce91240' title='Show/Hide attributes'><svg class='icon xr-icon-file-text2'><use xlink:href='#icon-file-text2'></use></svg></label><input id='data-2ac10c2e-326f-4010-ab9e-9d62f8309dfe' class='xr-var-data-in' type='checkbox'><label for='data-2ac10c2e-326f-4010-ab9e-9d62f8309dfe' title='Show/Hide data repr'><svg class='icon xr-icon-database'><use xlink:href='#icon-database'></use></svg></label><div class='xr-var-attrs'><dl class='xr-attrs'></dl></div><div class='xr-var-data'><pre>array([10000], dtype=int32)</pre></div></li><li class='xr-var-item'><div class='xr-var-name'><span class='xr-has-index'>loss_name</span></div><div class='xr-var-dims'>(sweep)</div><div class='xr-var-dtype'>&lt;U63</div><div class='xr-var-preview xr-preview'>&quot;[&#x27;dest_attraction_ts_likelihood...</div><input id='attrs-61658d63-a60d-4b21-bc0d-0684f51bfcbf' class='xr-var-attrs-in' type='checkbox' disabled><label for='attrs-61658d63-a60d-4b21-bc0d-0684f51bfcbf' title='Show/Hide attributes'><svg class='icon xr-icon-file-text2'><use xlink:href='#icon-file-text2'></use></svg></label><input id='data-52d2b8bb-dfcc-4d44-b111-1b5594b1b34c' class='xr-var-data-in' type='checkbox'><label for='data-52d2b8bb-dfcc-4d44-b111-1b5594b1b34c' title='Show/Hide data repr'><svg class='icon xr-icon-database'><use xlink:href='#icon-database'></use></svg></label><div class='xr-var-attrs'><dl class='xr-attrs'></dl></div><div class='xr-var-data'><pre>array([&quot;[&#x27;dest_attraction_ts_likelihood_loss&#x27;, &#x27;table_likelihood_loss&#x27;]&quot;],\n",
       "      dtype=&#x27;&lt;U63&#x27;)</pre></div></li><li class='xr-var-item'><div class='xr-var-name'><span class='xr-has-index'>loss_function</span></div><div class='xr-var-dims'>(sweep)</div><div class='xr-var-dtype'>&lt;U20</div><div class='xr-var-preview xr-preview'>&quot;[&#x27;custom&#x27;, &#x27;custom&#x27;]&quot;</div><input id='attrs-f48698db-37b7-4438-af2d-77271a9a23f2' class='xr-var-attrs-in' type='checkbox' disabled><label for='attrs-f48698db-37b7-4438-af2d-77271a9a23f2' title='Show/Hide attributes'><svg class='icon xr-icon-file-text2'><use xlink:href='#icon-file-text2'></use></svg></label><input id='data-e7f7f20d-dbbe-4544-97db-7f6e94e90bee' class='xr-var-data-in' type='checkbox'><label for='data-e7f7f20d-dbbe-4544-97db-7f6e94e90bee' title='Show/Hide data repr'><svg class='icon xr-icon-database'><use xlink:href='#icon-database'></use></svg></label><div class='xr-var-attrs'><dl class='xr-attrs'></dl></div><div class='xr-var-data'><pre>array([&quot;[&#x27;custom&#x27;, &#x27;custom&#x27;]&quot;], dtype=&#x27;&lt;U20&#x27;)</pre></div></li><li class='xr-var-item'><div class='xr-var-name'><span class='xr-has-index'>loss_kwargs</span></div><div class='xr-var-dims'>(sweep)</div><div class='xr-var-dtype'>&lt;U26</div><div class='xr-var-preview xr-preview'>&quot;{&#x27;noise_percentage&#x27;: None}&quot;</div><input id='attrs-60158a73-2147-4629-993e-40ec12b2c17e' class='xr-var-attrs-in' type='checkbox' disabled><label for='attrs-60158a73-2147-4629-993e-40ec12b2c17e' title='Show/Hide attributes'><svg class='icon xr-icon-file-text2'><use xlink:href='#icon-file-text2'></use></svg></label><input id='data-a4cfeb38-5cc8-47e7-8334-7aaa97c9e1c3' class='xr-var-data-in' type='checkbox'><label for='data-a4cfeb38-5cc8-47e7-8334-7aaa97c9e1c3' title='Show/Hide data repr'><svg class='icon xr-icon-database'><use xlink:href='#icon-database'></use></svg></label><div class='xr-var-attrs'><dl class='xr-attrs'></dl></div><div class='xr-var-data'><pre>array([&quot;{&#x27;noise_percentage&#x27;: None}&quot;], dtype=&#x27;&lt;U26&#x27;)</pre></div></li></ul></div></li><li class='xr-section-item'><input id='section-24a4a1b9-2646-4922-ae1b-f048213932f2' class='xr-section-summary-in' type='checkbox'  ><label for='section-24a4a1b9-2646-4922-ae1b-f048213932f2' class='xr-section-summary' >Indexes: <span>(5)</span></label><div class='xr-section-inline-details'></div><div class='xr-section-details'><ul class='xr-var-list'><li class='xr-var-item'><div class='xr-index-name'><div>seed</div></div><div class='xr-index-preview'>PandasIndex</div><div></div><input id='index-47908650-8ee3-48a3-a35e-675f76cccc94' class='xr-index-data-in' type='checkbox'/><label for='index-47908650-8ee3-48a3-a35e-675f76cccc94' title='Show/Hide index repr'><svg class='icon xr-icon-database'><use xlink:href='#icon-database'></use></svg></label><div class='xr-index-data'><pre>PandasIndex(Int64Index([1333], dtype=&#x27;int64&#x27;, name=&#x27;seed&#x27;))</pre></div></li><li class='xr-var-item'><div class='xr-index-name'><div>iter</div></div><div class='xr-index-preview'>PandasIndex</div><div></div><input id='index-6dc6ffb1-b9a5-4798-8bae-6b75c5fef6f2' class='xr-index-data-in' type='checkbox'/><label for='index-6dc6ffb1-b9a5-4798-8bae-6b75c5fef6f2' title='Show/Hide index repr'><svg class='icon xr-icon-database'><use xlink:href='#icon-database'></use></svg></label><div class='xr-index-data'><pre>PandasIndex(Int64Index([    1,     2,     3,     4,     5,     6,     7,     8,     9,\n",
       "               10,\n",
       "            ...\n",
       "             9991,  9992,  9993,  9994,  9995,  9996,  9997,  9998,  9999,\n",
       "            10000],\n",
       "           dtype=&#x27;int64&#x27;, name=&#x27;iter&#x27;, length=10000))</pre></div></li><li class='xr-var-item'><div class='xr-index-name'><div>origin</div></div><div class='xr-index-preview'>PandasIndex</div><div></div><input id='index-3703388d-58f5-451a-97fa-a405e5942e42' class='xr-index-data-in' type='checkbox'/><label for='index-3703388d-58f5-451a-97fa-a405e5942e42' title='Show/Hide index repr'><svg class='icon xr-icon-database'><use xlink:href='#icon-database'></use></svg></label><div class='xr-index-data'><pre>PandasIndex(Int64Index([ 1,  2,  3,  4,  5,  6,  7,  8,  9, 10, 11, 12, 13, 14, 15, 16, 17,\n",
       "            18, 19, 20, 21, 22, 23, 24, 25, 26, 27, 28, 29, 30, 31, 32, 33, 34,\n",
       "            35, 36, 37, 38, 39, 40, 41, 42, 43, 44, 45, 46, 47, 48, 49, 50, 51,\n",
       "            52, 53, 54, 55, 56, 57, 58, 59, 60, 61, 62, 63, 64, 65, 66, 67, 68,\n",
       "            69],\n",
       "           dtype=&#x27;int64&#x27;, name=&#x27;origin&#x27;))</pre></div></li><li class='xr-var-item'><div class='xr-index-name'><div>destination</div></div><div class='xr-index-preview'>PandasIndex</div><div></div><input id='index-b0060b5f-4e16-4deb-ade0-3b77385aab7a' class='xr-index-data-in' type='checkbox'/><label for='index-b0060b5f-4e16-4deb-ade0-3b77385aab7a' title='Show/Hide index repr'><svg class='icon xr-icon-database'><use xlink:href='#icon-database'></use></svg></label><div class='xr-index-data'><pre>PandasIndex(Int64Index([1, 2, 3, 4, 5, 6, 7, 8, 9, 10, 11, 12, 13], dtype=&#x27;int64&#x27;, name=&#x27;destination&#x27;))</pre></div></li><li class='xr-var-item'><div class='xr-index-name'><div>sweep<br>sigma<br>to_learn<br>title<br>axes<br>cells<br>name<br>proposal<br>N<br>loss_name<br>loss_function<br>loss_kwargs</div></div><div class='xr-index-preview'>PandasMultiIndex</div><div></div><input id='index-842be456-e473-4a27-a93f-272a36fd8279' class='xr-index-data-in' type='checkbox'/><label for='index-842be456-e473-4a27-a93f-272a36fd8279' title='Show/Hide index repr'><svg class='icon xr-icon-database'><use xlink:href='#icon-database'></use></svg></label><div class='xr-index-data'><pre>PandasIndex(MultiIndex([(&#x27;none&#x27;, &#x27;[&#x27;alpha&#x27;, &#x27;beta&#x27;, &#x27;sigma&#x27;]&#x27;, ...)],\n",
       "           name=&#x27;sweep&#x27;))</pre></div></li></ul></div></li><li class='xr-section-item'><input id='section-e8244b5f-9d68-4299-ac3b-4ae1849b5da1' class='xr-section-summary-in' type='checkbox'  checked><label for='section-e8244b5f-9d68-4299-ac3b-4ae1849b5da1' class='xr-section-summary' >Attributes: <span>(3)</span></label><div class='xr-section-inline-details'></div><div class='xr-section-details'><dl class='xr-attrs'><dt><span>arr_name :</span></dt><dd>table</dd><dt><span>experiment_id :</span></dt><dd>JointTableSIM_NN_LearnedNoise__doubly_20%_cell_constrained_01_02_2024_14_42_49</dd><dt><span>sweep_id :</span></dt><dd>loss_name_[dest_attraction_ts_likelihood_loss,table_likelihood_loss]/seed_1333/sigma_learned/title__doubly_20%_cell_constrained</dd></dl></div></li></ul></div></div>"
      ],
      "text/plain": [
       "<xarray.DataArray (seed: 1, iter: 10000, origin: 69, destination: 13, sweep: 1)>\n",
       "array([[[[[172.],\n",
       "          [  1.],\n",
       "          [273.],\n",
       "          ...,\n",
       "          [  1.],\n",
       "          [ 60.],\n",
       "          [  1.]],\n",
       "\n",
       "         [[  1.],\n",
       "          [  1.],\n",
       "          [  1.],\n",
       "          ...,\n",
       "          [  1.],\n",
       "          [ 41.],\n",
       "          [351.]],\n",
       "\n",
       "         [[  1.],\n",
       "          [  1.],\n",
       "          [  1.],\n",
       "          ...,\n",
       "...\n",
       "          ...,\n",
       "          [ 15.],\n",
       "          [ 76.],\n",
       "          [ 72.]],\n",
       "\n",
       "         [[  5.],\n",
       "          [  3.],\n",
       "          [ 31.],\n",
       "          ...,\n",
       "          [ 11.],\n",
       "          [ 43.],\n",
       "          [ 52.]],\n",
       "\n",
       "         [[  7.],\n",
       "          [  4.],\n",
       "          [ 41.],\n",
       "          ...,\n",
       "          [  5.],\n",
       "          [ 43.],\n",
       "          [ 35.]]]]], dtype=float32)\n",
       "Coordinates: (12/16)\n",
       "  * seed           (seed) int32 1333\n",
       "  * iter           (iter) int32 1 2 3 4 5 6 7 ... 9995 9996 9997 9998 9999 10000\n",
       "  * origin         (origin) int16 1 2 3 4 5 6 7 8 9 ... 62 63 64 65 66 67 68 69\n",
       "  * destination    (destination) int16 1 2 3 4 5 6 7 8 9 10 11 12 13\n",
       "  * sweep          (sweep) object MultiIndex\n",
       "  * sigma          (sweep) <U4 'none'\n",
       "    ...             ...\n",
       "  * name           (sweep) <U18 'TotallyConstrained'\n",
       "  * proposal       (sweep) <U13 'degree_higher'\n",
       "  * N              (sweep) int32 10000\n",
       "  * loss_name      (sweep) <U63 \"['dest_attraction_ts_likelihood_loss', 'tabl...\n",
       "  * loss_function  (sweep) <U20 \"['custom', 'custom']\"\n",
       "  * loss_kwargs    (sweep) <U26 \"{'noise_percentage': None}\"\n",
       "Attributes:\n",
       "    arr_name:       table\n",
       "    experiment_id:  JointTableSIM_NN_LearnedNoise__doubly_20%_cell_constraine...\n",
       "    sweep_id:       loss_name_[dest_attraction_ts_likelihood_loss,table_likel..."
      ]
     },
     "execution_count": 33,
     "metadata": {},
     "output_type": "execute_result"
    }
   ],
   "source": [
    "# Get table samples\n",
    "current_sweep_outputs0.data.table"
   ]
  }
 ],
 "metadata": {
  "kernelspec": {
   "display_name": "gensit",
   "language": "python",
   "name": "python3"
  },
  "language_info": {
   "codemirror_mode": {
    "name": "ipython",
    "version": 3
   },
   "file_extension": ".py",
   "mimetype": "text/x-python",
   "name": "python",
   "nbconvert_exporter": "python",
   "pygments_lexer": "ipython3",
   "version": "3.10.0"
  }
 },
 "nbformat": 4,
 "nbformat_minor": 5
}
