{
 "cells": [
  {
   "cell_type": "code",
   "execution_count": null,
   "metadata": {},
   "outputs": [],
   "source": [
    "import os\n",
    "import glob\n",
    "import warnings\n",
    "import h5py as h5\n",
    "import numpy as np\n",
    "import pandas as pd\n",
    "import matplotlib as mpl\n",
    "import matplotlib.pyplot as plt\n",
    "\n",
    "from tqdm.auto import tqdm\n",
    "from copy import deepcopy\n",
    "\n",
    "from gensit.experiments import *\n",
    "from gensit.physics_models import *\n",
    "from gensit.config import Config\n",
    "from gensit.inputs import Inputs\n",
    "from gensit.outputs import Outputs\n",
    "from gensit.utils.misc_utils import *\n",
    "from gensit.utils.math_utils import *\n",
    "from gensit.utils.probability_utils import *"
   ]
  },
  {
   "cell_type": "code",
   "execution_count": null,
   "metadata": {},
   "outputs": [],
   "source": [
    "%matplotlib inline\n",
    "\n",
    "# AUTO RELOAD EXTERNAL MODULES\n",
    "%load_ext autoreload\n",
    "%autoreload 2"
   ]
  },
  {
   "cell_type": "code",
   "execution_count": null,
   "metadata": {},
   "outputs": [],
   "source": [
    "# Specify experiment id\n",
    "config_id = \"generic/synthetic_data_simulation.toml\"\n",
    "config_dir = f'../data/inputs/configs/{config_id}'\n",
    "relative_config_dir = os.path.relpath(config_dir,os.getcwd())"
   ]
  },
  {
   "cell_type": "code",
   "execution_count": null,
   "metadata": {},
   "outputs": [],
   "source": [
    "# Create new logging object\n",
    "logger = setup_logger(\n",
    "    __name__,\n",
    "    console_level = 'INFO',\n",
    "    file_level = 'EMPTY'\n",
    ")\n",
    "\n",
    "# Read config\n",
    "config = Config(\n",
    "    path = relative_config_dir,\n",
    "    settings = None,\n",
    "    console_level = 'INFO',\n",
    "    logger = logger\n",
    ")\n",
    "\n",
    "# Update root\n",
    "config.path_sets_root()"
   ]
  },
  {
   "cell_type": "code",
   "execution_count": null,
   "metadata": {},
   "outputs": [],
   "source": [
    "# Prepare inputs\n",
    "inputs = Inputs(\n",
    "    config = config,\n",
    "    synthetic_data = True,\n",
    "    logger = logger\n",
    ")\n",
    "\n",
    "# Pass inputs to device\n",
    "inputs.pass_to_device() \n",
    "\n",
    "intensity_model = instantiate_intensity_model(\n",
    "    config = config,\n",
    "    **vars(inputs.data),\n",
    "    logger = logger\n",
    ")\n",
    "# Get and remove config\n",
    "config = pop_variable(intensity_model,'config',config)\n",
    "\n",
    "# Build the physics model\n",
    "logger.hilight(\"Initializing the physics model ...\")\n",
    "physics_model = instantiate_physics_model(\n",
    "    config = config,\n",
    "    trial = None,\n",
    "    intensity_model = intensity_model,\n",
    "    true_parameters = inputs.true_parameters,\n",
    "    logger = logger\n",
    ")"
   ]
  },
  {
   "cell_type": "code",
   "execution_count": null,
   "metadata": {},
   "outputs": [],
   "source": [
    "time_series = []\n",
    "seeds = [1234, 5678, 91011]\n",
    "for i in range(3):\n",
    "    theta_sample = {\"alpha\":torch.tensor(1.2),\"beta\":torch.tensor(0.7)}\n",
    "    init_destination_attraction = torch.full((inputs.data.dims['destination'],1), 1./inputs.data.dims['destination'])\n",
    "    n_runs = 10\n",
    "    with tqdm(total=n_runs) as pbar:    \n",
    "        # Solve SDE\n",
    "        destination_attraction_samples = physics_model.run(\n",
    "            init_destination_attraction = init_destination_attraction,\n",
    "            free_parameters = theta_sample,\n",
    "            n_iterations = n_runs,\n",
    "            dt = config['harris_wilson_model']['dt'],\n",
    "            requires_grad = True,\n",
    "            generate_time_series = True,\n",
    "            seed = seeds[i],\n",
    "            semaphore = None,\n",
    "            samples = None,\n",
    "            pbar = pbar\n",
    "        )\n",
    "        time_series.append(destination_attraction_samples)"
   ]
  },
  {
   "cell_type": "code",
   "execution_count": null,
   "metadata": {},
   "outputs": [],
   "source": [
    "# Create a plot for each dimension D\n",
    "plt.figure(figsize=(10, 6))\n",
    "time_series_index = 1\n",
    "J = np.shape(time_series[time_series_index])[1]\n",
    "for d in range(inputs.data.dims['destination']):\n",
    "    plt.plot(time_series[time_series_index][:, d], label=f'Destination {d+1}')\n",
    "\n",
    "# Labeling the plot\n",
    "plt.xlabel('Time Steps (T)')\n",
    "plt.ylabel('Value')\n",
    "plt.title('Time Series across Dimensions')\n",
    "plt.legend(loc='best')\n",
    "plt.show()"
   ]
  },
  {
   "cell_type": "code",
   "execution_count": null,
   "metadata": {},
   "outputs": [],
   "source": [
    "np.save('../../times_series.npy',np.array([ts.numpy() for ts in time_series]))"
   ]
  }
 ],
 "metadata": {
  "kernelspec": {
   "display_name": "gensit",
   "language": "python",
   "name": "python3"
  },
  "language_info": {
   "codemirror_mode": {
    "name": "ipython",
    "version": 3
   },
   "file_extension": ".py",
   "mimetype": "text/x-python",
   "name": "python",
   "nbconvert_exporter": "python",
   "pygments_lexer": "ipython3",
   "version": "3.10.0"
  }
 },
 "nbformat": 4,
 "nbformat_minor": 2
}
