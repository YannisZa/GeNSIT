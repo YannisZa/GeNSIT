{
 "cells": [
  {
   "cell_type": "code",
   "execution_count": 1,
   "metadata": {},
   "outputs": [],
   "source": [
    "import h5py as h5\n",
    "import numpy as np\n",
    "import pandas as pd\n",
    "from tqdm import tqdm\n",
    "from copy import deepcopy\n",
    "\n",
    "\n",
    "from multiresticodm.config import Config\n",
    "from multiresticodm.inputs import Inputs\n",
    "from multiresticodm.outputs import Outputs\n",
    "from multiresticodm.utils.misc_utils import *\n",
    "from multiresticodm.utils.math_utils import *\n",
    "from multiresticodm.utils.probability_utils import *\n",
    "from multiresticodm.contingency_table import instantiate_ct\n",
    "from multiresticodm.markov_basis import instantiate_markov_basis"
   ]
  },
  {
   "cell_type": "code",
   "execution_count": 2,
   "metadata": {},
   "outputs": [],
   "source": [
    "%matplotlib inline\n",
    "\n",
    "# AUTO RELOAD EXTERNAL MODULES\n",
    "%load_ext autoreload\n",
    "%autoreload 2"
   ]
  },
  {
   "cell_type": "code",
   "execution_count": 3,
   "metadata": {},
   "outputs": [],
   "source": [
    "def validate_tables(out):\n",
    "    if out.inputs is None:\n",
    "        out.inputs = Inputs(\n",
    "            config = out.config,\n",
    "            synthetic_data = False,\n",
    "            logger = out.logger\n",
    "        )\n",
    "    else:\n",
    "        try:\n",
    "            out.inputs.cast_from_xarray()\n",
    "        except:\n",
    "            pass\n",
    "    ct = instantiate_ct(\n",
    "        config = out.config,\n",
    "        **out.inputs.data_vars(),\n",
    "        level = 'EMPTY'\n",
    "    )\n",
    "    samples = out.get_sample('table')\n",
    "    print(dict(samples.sizes))\n",
    "    print('axes constraints',ct.constraints['constrained_axes'])\n",
    "    print('cell constraints',len(ct.constraints['cells']))\n",
    "    tables_admissible = all([ct.table_admissible(torch.tensor(tab.values.squeeze())) for _,tab in samples.groupby('id')])\n",
    "    print('Tables admissible',tables_admissible)\n",
    "    if not tables_admissible:\n",
    "        print('Tables margins admissible',any([ct.table_margins_admissible(torch.tensor(tab.values.squeeze())) for _,tab in samples.groupby('id')]))\n",
    "        print('Tables cells admissible',all([ct.table_cells_admissible(torch.tensor(tab.values.squeeze())) for _,tab in samples.groupby('id')]))"
   ]
  },
  {
   "cell_type": "code",
   "execution_count": 4,
   "metadata": {},
   "outputs": [],
   "source": [
    "# Get important paths\n",
    "experiment_id = 'NonJointTableSIM_NN_SweepedNoise_30_01_2024_23_25_12'\n",
    "#'NonJointTableSIM_NN_SweepedNoise_26_01_2024_13_26_18', 'JointTableSIM_NN_SweepedNoise_23_01_2024_21_33_25'\n",
    "experiment_dir = f'../data/outputs/cambridge_work_commuter_lsoas_to_msoas/exp1/{experiment_id}/'\n",
    "relative_experiment_dir = os.path.relpath(experiment_dir,os.getcwd())"
   ]
  },
  {
   "cell_type": "code",
   "execution_count": 55,
   "metadata": {},
   "outputs": [],
   "source": [
    "# Output processing settings\n",
    "settings = {\n",
    "    \"logging_mode\": \"INFO\",\n",
    "    \"coordinate_slice\": [\n",
    "        \"da.loss_name == str(['dest_attraction_ts_likelihood_loss'])\",\n",
    "        \"~da.title.isin([str('_unconstrained'), str('_total_constrained')])\"\n",
    "    ],\n",
    "    \"metadata_keys\":[],\n",
    "    \"burnin_thinning_trimming\": [],\n",
    "    # {'iter': {\"burnin\":100, \"thinning\":90, \"trimming\":10}}\n",
    "    \"n_workers\": 1,\n",
    "    \"group_by\":[\"seed\"],\n",
    "    \"filename_ending\":\"test\",\n",
    "    \"sample\":[\"table\"],\n",
    "    \"force_reload\":False\n",
    "}"
   ]
  },
  {
   "cell_type": "code",
   "execution_count": 14,
   "metadata": {},
   "outputs": [
    {
     "name": "stderr",
     "output_type": "stream",
     "text": [
      "Loading sweep data:   0%|          | 0/9 [01:14<?, ?it/s]\n"
     ]
    },
    {
     "name": "stdout",
     "output_type": "stream",
     "text": [
      "sigma_low/title__doubly_constrained/\n",
      "{'disable_tqdm': True, 'hyperparameters': {'num_layers': 1, 'optimizer': 'Adam', 'learning_rate': 0.002, 'biases': {'default': [0.0, 4.0], 'layer_specific': {}}, 'nodes_per_layer': {'default': 20, 'layer_specific': {}}, 'activation_funcs': {'default': 'linear', 'layer_specific': {'1': 'abs'}}}}\n",
      "sweep\n",
      "{'sigma': 0.014139999635517597, 'to_learn': ['alpha', 'beta'], 'covariance': [[0.0149674, 0.00182529], [0.00182529, 0.0109968]], 'title': '_doubly_constrained', 'axes': [[0], [1]], 'cells': 'cells.txt', 'name': 'TotallyConstrained', 'proposal': 'degree_higher', 'loss_name': ['dest_attraction_ts_likelihood_loss'], 'loss_function': ['custom'], 'loss_kwargs': {'noise_percentage': None}}\n",
      "{'disable_tqdm': True, 'hyperparameters': {'num_layers': 1, 'optimizer': 'Adam', 'learning_rate': 0.002, 'biases': {'default': [0.0, 4.0], 'layer_specific': {}}, 'nodes_per_layer': {'default': 20, 'layer_specific': {}}, 'activation_funcs': {'default': 'linear', 'layer_specific': {'1': 'abs'}}}}\n",
      "SRMSE 1.2527211\n",
      "\n",
      "\n",
      "sigma_low/title__doubly_10%_cell_constrained/\n",
      "{'disable_tqdm': True, 'hyperparameters': {'num_layers': 1, 'optimizer': 'Adam', 'learning_rate': 0.002, 'biases': {'default': [0.0, 4.0], 'layer_specific': {}}, 'nodes_per_layer': {'default': 20, 'layer_specific': {}}, 'activation_funcs': {'default': 'linear', 'layer_specific': {'1': 'abs'}}}}\n",
      "sweep\n",
      "{'sigma': 0.014139999635517597, 'to_learn': ['alpha', 'beta'], 'covariance': [[0.0149674, 0.00182529], [0.00182529, 0.0109968]], 'title': '_doubly_10%_cell_constrained', 'axes': [[0], [1]], 'cells': 'constraints/cell_constraints_permuted_size_90_cell_percentage_10_constrained_axes_0_1_seed_1234.txt', 'name': 'TotallyConstrained', 'proposal': 'degree_higher', 'loss_name': ['dest_attraction_ts_likelihood_loss'], 'loss_function': ['custom'], 'loss_kwargs': {'noise_percentage': None}}\n",
      "{'disable_tqdm': True, 'hyperparameters': {'num_layers': 1, 'optimizer': 'Adam', 'learning_rate': 0.002, 'biases': {'default': [0.0, 4.0], 'layer_specific': {}}, 'nodes_per_layer': {'default': 20, 'layer_specific': {}}, 'activation_funcs': {'default': 'linear', 'layer_specific': {'1': 'abs'}}}}\n",
      "SRMSE 1.111953\n",
      "\n",
      "\n",
      "sigma_low/title__doubly_20%_cell_constrained/\n",
      "{'disable_tqdm': True, 'hyperparameters': {'num_layers': 1, 'optimizer': 'Adam', 'learning_rate': 0.002, 'biases': {'default': [0.0, 4.0], 'layer_specific': {}}, 'nodes_per_layer': {'default': 20, 'layer_specific': {}}, 'activation_funcs': {'default': 'linear', 'layer_specific': {'1': 'abs'}}}}\n",
      "sweep\n",
      "{'sigma': 0.014139999635517597, 'to_learn': ['alpha', 'beta'], 'covariance': [[0.0149674, 0.00182529], [0.00182529, 0.0109968]], 'title': '_doubly_20%_cell_constrained', 'axes': [[0], [1]], 'cells': 'constraints/cell_constraints_permuted_size_179_cell_percentage_20_constrained_axes_0_1_seed_1234.txt', 'name': 'TotallyConstrained', 'proposal': 'degree_higher', 'loss_name': ['dest_attraction_ts_likelihood_loss'], 'loss_function': ['custom'], 'loss_kwargs': {'noise_percentage': None}}\n",
      "{'disable_tqdm': True, 'hyperparameters': {'num_layers': 1, 'optimizer': 'Adam', 'learning_rate': 0.002, 'biases': {'default': [0.0, 4.0], 'layer_specific': {}}, 'nodes_per_layer': {'default': 20, 'layer_specific': {}}, 'activation_funcs': {'default': 'linear', 'layer_specific': {'1': 'abs'}}}}\n",
      "SRMSE 0.9126097\n",
      "\n",
      "\n",
      "sigma_high/title__doubly_constrained/\n",
      "{'disable_tqdm': True, 'hyperparameters': {'num_layers': 1, 'optimizer': 'Adam', 'learning_rate': 0.002, 'biases': {'default': [0.0, 4.0], 'layer_specific': {}}, 'nodes_per_layer': {'default': 20, 'layer_specific': {}}, 'activation_funcs': {'default': 'linear', 'layer_specific': {'1': 'abs'}}}}\n",
      "sweep\n",
      "{'sigma': 0.14142000675201416, 'to_learn': ['alpha', 'beta'], 'covariance': [[1.0, 0.0], [0.0, 1.0]], 'title': '_doubly_constrained', 'axes': [[0], [1]], 'cells': 'cells.txt', 'name': 'TotallyConstrained', 'proposal': 'degree_higher', 'loss_name': ['dest_attraction_ts_likelihood_loss'], 'loss_function': ['custom'], 'loss_kwargs': {'noise_percentage': None}}\n",
      "{'disable_tqdm': True, 'hyperparameters': {'num_layers': 1, 'optimizer': 'Adam', 'learning_rate': 0.002, 'biases': {'default': [0.0, 4.0], 'layer_specific': {}}, 'nodes_per_layer': {'default': 20, 'layer_specific': {}}, 'activation_funcs': {'default': 'linear', 'layer_specific': {'1': 'abs'}}}}\n",
      "SRMSE 1.3449183\n",
      "\n",
      "\n",
      "sigma_high/title__doubly_10%_cell_constrained/\n",
      "{'disable_tqdm': True, 'hyperparameters': {'num_layers': 1, 'optimizer': 'Adam', 'learning_rate': 0.002, 'biases': {'default': [0.0, 4.0], 'layer_specific': {}}, 'nodes_per_layer': {'default': 20, 'layer_specific': {}}, 'activation_funcs': {'default': 'linear', 'layer_specific': {'1': 'abs'}}}}\n",
      "sweep\n",
      "{'sigma': 0.14142000675201416, 'to_learn': ['alpha', 'beta'], 'covariance': [[1.0, 0.0], [0.0, 1.0]], 'title': '_doubly_10%_cell_constrained', 'axes': [[0], [1]], 'cells': 'constraints/cell_constraints_permuted_size_90_cell_percentage_10_constrained_axes_0_1_seed_1234.txt', 'name': 'TotallyConstrained', 'proposal': 'degree_higher', 'loss_name': ['dest_attraction_ts_likelihood_loss'], 'loss_function': ['custom'], 'loss_kwargs': {'noise_percentage': None}}\n",
      "{'disable_tqdm': True, 'hyperparameters': {'num_layers': 1, 'optimizer': 'Adam', 'learning_rate': 0.002, 'biases': {'default': [0.0, 4.0], 'layer_specific': {}}, 'nodes_per_layer': {'default': 20, 'layer_specific': {}}, 'activation_funcs': {'default': 'linear', 'layer_specific': {'1': 'abs'}}}}\n",
      "SRMSE 0.93185043\n",
      "\n",
      "\n",
      "sigma_high/title__doubly_20%_cell_constrained/\n",
      "{'disable_tqdm': True, 'hyperparameters': {'num_layers': 1, 'optimizer': 'Adam', 'learning_rate': 0.002, 'biases': {'default': [0.0, 4.0], 'layer_specific': {}}, 'nodes_per_layer': {'default': 20, 'layer_specific': {}}, 'activation_funcs': {'default': 'linear', 'layer_specific': {'1': 'abs'}}}}\n",
      "sweep\n",
      "{'sigma': 0.14142000675201416, 'to_learn': ['alpha', 'beta'], 'covariance': [[1.0, 0.0], [0.0, 1.0]], 'title': '_doubly_20%_cell_constrained', 'axes': [[0], [1]], 'cells': 'constraints/cell_constraints_permuted_size_179_cell_percentage_20_constrained_axes_0_1_seed_1234.txt', 'name': 'TotallyConstrained', 'proposal': 'degree_higher', 'loss_name': ['dest_attraction_ts_likelihood_loss'], 'loss_function': ['custom'], 'loss_kwargs': {'noise_percentage': None}}\n",
      "{'disable_tqdm': True, 'hyperparameters': {'num_layers': 1, 'optimizer': 'Adam', 'learning_rate': 0.002, 'biases': {'default': [0.0, 4.0], 'layer_specific': {}}, 'nodes_per_layer': {'default': 20, 'layer_specific': {}}, 'activation_funcs': {'default': 'linear', 'layer_specific': {'1': 'abs'}}}}\n",
      "SRMSE 0.8761034\n",
      "\n",
      "\n",
      "sigma_learned/title__doubly_constrained/\n",
      "{'disable_tqdm': True, 'hyperparameters': {'num_layers': 1, 'optimizer': 'Adam', 'learning_rate': 0.002, 'biases': {'default': [0.0, 4.0], 'layer_specific': {}}, 'nodes_per_layer': {'default': 20, 'layer_specific': {}}, 'activation_funcs': {'default': 'linear', 'layer_specific': {'1': 'abs'}}}}\n",
      "sweep\n",
      "{'sigma': 'none', 'to_learn': ['alpha', 'beta', 'sigma'], 'covariance': [[1.0, 0.0], [0.0, 1.0]], 'title': '_doubly_constrained', 'axes': [[0], [1]], 'cells': 'cells.txt', 'name': 'TotallyConstrained', 'proposal': 'degree_higher', 'loss_name': ['dest_attraction_ts_likelihood_loss'], 'loss_function': ['custom'], 'loss_kwargs': {'noise_percentage': None}}\n",
      "{'disable_tqdm': True, 'hyperparameters': {'num_layers': 1, 'optimizer': 'Adam', 'learning_rate': 0.002, 'biases': {'default': [0.0, 4.0], 'layer_specific': {}}, 'nodes_per_layer': {'default': 20, 'layer_specific': {}}, 'activation_funcs': {'default': 'linear', 'layer_specific': {'1': 'abs'}}}}\n",
      "SRMSE 1.3261461\n",
      "\n",
      "\n",
      "sigma_learned/title__doubly_10%_cell_constrained/\n",
      "{'disable_tqdm': True, 'hyperparameters': {'num_layers': 1, 'optimizer': 'Adam', 'learning_rate': 0.002, 'biases': {'default': [0.0, 4.0], 'layer_specific': {}}, 'nodes_per_layer': {'default': 20, 'layer_specific': {}}, 'activation_funcs': {'default': 'linear', 'layer_specific': {'1': 'abs'}}}}\n",
      "sweep\n",
      "{'sigma': 'none', 'to_learn': ['alpha', 'beta', 'sigma'], 'covariance': [[1.0, 0.0], [0.0, 1.0]], 'title': '_doubly_10%_cell_constrained', 'axes': [[0], [1]], 'cells': 'constraints/cell_constraints_permuted_size_90_cell_percentage_10_constrained_axes_0_1_seed_1234.txt', 'name': 'TotallyConstrained', 'proposal': 'degree_higher', 'loss_name': ['dest_attraction_ts_likelihood_loss'], 'loss_function': ['custom'], 'loss_kwargs': {'noise_percentage': None}}\n",
      "{'disable_tqdm': True, 'hyperparameters': {'num_layers': 1, 'optimizer': 'Adam', 'learning_rate': 0.002, 'biases': {'default': [0.0, 4.0], 'layer_specific': {}}, 'nodes_per_layer': {'default': 20, 'layer_specific': {}}, 'activation_funcs': {'default': 'linear', 'layer_specific': {'1': 'abs'}}}}\n",
      "SRMSE 1.0022863\n",
      "\n",
      "\n",
      "sigma_learned/title__doubly_20%_cell_constrained/\n",
      "{'disable_tqdm': True, 'hyperparameters': {'num_layers': 1, 'optimizer': 'Adam', 'learning_rate': 0.002, 'biases': {'default': [0.0, 4.0], 'layer_specific': {}}, 'nodes_per_layer': {'default': 20, 'layer_specific': {}}, 'activation_funcs': {'default': 'linear', 'layer_specific': {'1': 'abs'}}}}\n",
      "sweep\n",
      "{'sigma': 'none', 'to_learn': ['alpha', 'beta', 'sigma'], 'covariance': [[1.0, 0.0], [0.0, 1.0]], 'title': '_doubly_20%_cell_constrained', 'axes': [[0], [1]], 'cells': 'constraints/cell_constraints_permuted_size_179_cell_percentage_20_constrained_axes_0_1_seed_1234.txt', 'name': 'TotallyConstrained', 'proposal': 'degree_higher', 'loss_name': ['dest_attraction_ts_likelihood_loss'], 'loss_function': ['custom'], 'loss_kwargs': {'noise_percentage': None}}\n",
      "{'disable_tqdm': True, 'hyperparameters': {'num_layers': 1, 'optimizer': 'Adam', 'learning_rate': 0.002, 'biases': {'default': [0.0, 4.0], 'layer_specific': {}}, 'nodes_per_layer': {'default': 20, 'layer_specific': {}}, 'activation_funcs': {'default': 'linear', 'layer_specific': {'1': 'abs'}}}}\n",
      "SRMSE 0.89596415\n",
      "\n",
      "\n"
     ]
    }
   ],
   "source": [
    "sweep_id = 'loss_name_[dest_attraction_ts_likelihood_loss]/seed_23/'\n",
    "sigmas = ['low','high','learned']\n",
    "titles = ['_doubly_constrained','_doubly_10%_cell_constrained','_doubly_20%_cell_constrained']\n",
    "progress = tqdm(\n",
    "    total = len(sigmas)*len(titles),\n",
    "    desc = 'Loading sweep data'\n",
    ")\n",
    "for sig in sigmas:\n",
    "    for titl in titles:\n",
    "        # Create current sweep id\n",
    "        current_sweep_id = os.path.join('samples',sweep_id,f\"sigma_{sig}/title_{titl}/\")\n",
    "        \n",
    "        print(f\"sigma_{sig}/title_{titl}/\")\n",
    "        # Initialise outputs\n",
    "        current_sweep_outputs = Outputs(\n",
    "            config = os.path.join(relative_experiment_dir,current_sweep_id),\n",
    "            settings = settings,\n",
    "            inputs = None,\n",
    "            slice = True,\n",
    "            level = 'INFO'\n",
    "        )\n",
    "        # Silence outputs\n",
    "        current_sweep_outputs.logger.setLevels(console_level='EMPTY')\n",
    "        # Load all data\n",
    "        current_sweep_outputs.load()\n",
    "        # Get first collection id\n",
    "        current_sweep_outputs0 = current_sweep_outputs.get(0)\n",
    "        # Validate tables\n",
    "        # validate_tables(current_sweep_outputs0)\n",
    "        print('SRMSE',srmse(current_sweep_outputs0.data.table.mean('id'),current_sweep_outputs.inputs.data.ground_truth_table).values.squeeze())\n",
    "        print('\\n')\n",
    "        # break\n",
    "    # break"
   ]
  },
  {
   "cell_type": "code",
   "execution_count": 56,
   "metadata": {},
   "outputs": [
    {
     "name": "stderr",
     "output_type": "stream",
     "text": [
      "44:02.956 config INFO ----------------------------------------------------------------------------------\n",
      "44:02.970 config INFO Parameter space size: \n",
      " --- seed (100)\n",
      " --- sigma: ['sigma', 'to_learn', 'covariance'] (3)\n",
      " --- title: ['title', 'axes', 'cells', 'name', 'proposal'] (3)\n",
      " --- loss_name: ['loss_name', 'loss_function', 'loss_kwargs'] (2)\n",
      "44:02.984 config INFO Total = 1800.\n",
      "44:02.998 config INFO ----------------------------------------------------------------------------------\n",
      "44:03.047 outputs INFO //////////////////////////////////////////////////////////////////////////////////\n",
      "44:03.061 outputs INFO Slicing coordinates:\n",
      "44:03.075 outputs INFO loss_name == str(['dest_attraction_ts_likelihood_loss'])\n",
      "44:03.088 outputs INFO ~title.isin([str('_unconstrained'), str('_total_constrained')])\n",
      "44:03.102 outputs INFO //////////////////////////////////////////////////////////////////////////////////\n",
      "                                                                                 \r"
     ]
    },
    {
     "name": "stdout",
     "output_type": "stream",
     "text": [
      "{'disable_tqdm': True, 'loss': {'loss_name': {'sweep': {'default': ['dest_attraction_ts_loss'], 'range': [['dest_attraction_ts_loss'], ['dest_attraction_ts_likelihood_loss']]}}, 'loss_function': {'sweep': {'default': ['mseloss'], 'range': [['mseloss'], ['custom']], 'coupled': True, 'target_name': 'loss_name'}}, 'loss_kwargs': {'sweep': {'coupled': True, 'target_name': 'loss_name', 'default': {'nokey': nan}, 'range': [{'nokey': nan}, {'noise_percentage': nan}]}}}, 'hyperparameters': {'num_layers': 1, 'optimizer': 'Adam', 'learning_rate': 0.002, 'biases': {'default': [0.0, 4.0], 'layer_specific': {}}, 'nodes_per_layer': {'default': 20, 'layer_specific': {}}, 'activation_funcs': {'default': 'linear', 'layer_specific': {'1': 'abs'}}}}\n",
      "sweep\n",
      "{'sigma': 0.014139999635517597, 'to_learn': ['alpha', 'beta'], 'covariance': [[0.0149674, 0.00182529], [0.00182529, 0.0109968]], 'title': '_doubly_10%_cell_constrained', 'axes': [[0], [1]], 'cells': 'constraints/cell_constraints_permuted_size_90_cell_percentage_10_constrained_axes_0_1_seed_1234.txt', 'name': 'TotallyConstrained', 'proposal': 'degree_higher', 'loss_name': ['dest_attraction_ts_likelihood_loss'], 'loss_function': ['custom'], 'loss_kwargs': {'noise_percentage': None}}\n"
     ]
    },
    {
     "ename": "IndexError",
     "evalue": "list index out of range",
     "output_type": "error",
     "traceback": [
      "\u001b[0;31m---------------------------------------------------------------------------\u001b[0m",
      "\u001b[0;31mIndexError\u001b[0m                                Traceback (most recent call last)",
      "Input \u001b[0;32mIn [56]\u001b[0m, in \u001b[0;36m<cell line: 14>\u001b[0;34m()\u001b[0m\n\u001b[1;32m     12\u001b[0m current_sweep_outputs\u001b[38;5;241m.\u001b[39mload()\n\u001b[1;32m     13\u001b[0m \u001b[38;5;66;03m# Get first collection id\u001b[39;00m\n\u001b[0;32m---> 14\u001b[0m current_sweep_outputs0 \u001b[38;5;241m=\u001b[39m \u001b[43mcurrent_sweep_outputs\u001b[49m\u001b[38;5;241;43m.\u001b[39;49m\u001b[43mget\u001b[49m\u001b[43m(\u001b[49m\u001b[38;5;241;43m0\u001b[39;49m\u001b[43m)\u001b[49m\n",
      "File \u001b[0;32m~/MultiResTICODM/multiresticodm/outputs.py:240\u001b[0m, in \u001b[0;36mOutputs.get\u001b[0;34m(self, index)\u001b[0m\n\u001b[1;32m    238\u001b[0m \u001b[38;5;66;03m# self_copy.config.update(sweep)\u001b[39;00m\n\u001b[1;32m    239\u001b[0m sweep_configuration \u001b[38;5;241m=\u001b[39m self_copy\u001b[38;5;241m.\u001b[39mconfig\u001b[38;5;241m.\u001b[39mconvert_sweep(sweep)\n\u001b[0;32m--> 240\u001b[0m self_copy\u001b[38;5;241m.\u001b[39mconfig \u001b[38;5;241m=\u001b[39m \u001b[43mself_copy\u001b[49m\u001b[38;5;241;43m.\u001b[39;49m\u001b[43mconfig\u001b[49m\u001b[38;5;241;43m.\u001b[39;49m\u001b[43mprepare_experiment_config\u001b[49m\u001b[43m(\u001b[49m\u001b[43msweep_configuration\u001b[49m\u001b[43m)\u001b[49m[\u001b[38;5;241m0\u001b[39m]\n\u001b[1;32m    241\u001b[0m \u001b[38;5;28mprint\u001b[39m(self_copy\u001b[38;5;241m.\u001b[39mconfig[\u001b[38;5;124m'\u001b[39m\u001b[38;5;124mneural_network\u001b[39m\u001b[38;5;124m'\u001b[39m])\n\u001b[1;32m    242\u001b[0m \u001b[38;5;28;01mreturn\u001b[39;00m self_copy\n",
      "File \u001b[0;32m~/MultiResTICODM/multiresticodm/config.py:1073\u001b[0m, in \u001b[0;36mConfig.prepare_experiment_config\u001b[0;34m(self, sweep_configuration, cast_to_str)\u001b[0m\n\u001b[1;32m   1069\u001b[0m \u001b[38;5;28;01mfor\u001b[39;00m sweep_group \u001b[38;5;129;01min\u001b[39;00m \u001b[38;5;28mself\u001b[39m\u001b[38;5;241m.\u001b[39msweep_params[\u001b[38;5;124m'\u001b[39m\u001b[38;5;124mcoupled\u001b[39m\u001b[38;5;124m'\u001b[39m]\u001b[38;5;241m.\u001b[39mvalues():\n\u001b[1;32m   1070\u001b[0m     \u001b[38;5;28;01mfor\u001b[39;00m value \u001b[38;5;129;01min\u001b[39;00m sweep_group:\n\u001b[1;32m   1071\u001b[0m         new_config\u001b[38;5;241m.\u001b[39mpath_set(\n\u001b[1;32m   1072\u001b[0m             new_config,\n\u001b[0;32m-> 1073\u001b[0m             \u001b[43msweep_configuration\u001b[49m\u001b[43m[\u001b[49m\u001b[43mi\u001b[49m\u001b[43m]\u001b[49m,\n\u001b[1;32m   1074\u001b[0m             value[\u001b[38;5;124m'\u001b[39m\u001b[38;5;124mpath\u001b[39m\u001b[38;5;124m'\u001b[39m]\n\u001b[1;32m   1075\u001b[0m         )\n\u001b[1;32m   1076\u001b[0m         \u001b[38;5;66;03m# Update current sweep\u001b[39;00m\n\u001b[1;32m   1077\u001b[0m         sweep[value[\u001b[38;5;124m'\u001b[39m\u001b[38;5;124mvar\u001b[39m\u001b[38;5;124m'\u001b[39m]] \u001b[38;5;241m=\u001b[39m sweep_configuration[i] \\\n\u001b[1;32m   1078\u001b[0m         \u001b[38;5;28;01mif\u001b[39;00m \u001b[38;5;129;01mnot\u001b[39;00m cast_to_str \\\n\u001b[1;32m   1079\u001b[0m         \u001b[38;5;28;01melse\u001b[39;00m \u001b[38;5;28mstr\u001b[39m(sweep_configuration[i])\n",
      "\u001b[0;31mIndexError\u001b[0m: list index out of range"
     ]
    }
   ],
   "source": [
    "# Initialise outputs\n",
    "current_sweep_outputs = Outputs(\n",
    "    config = relative_experiment_dir,\n",
    "    settings = settings,\n",
    "    inputs = None,\n",
    "    slice = True,\n",
    "    level = 'INFO'\n",
    ")\n",
    "# Silence outputs\n",
    "current_sweep_outputs.logger.setLevels(console_level='EMPTY')\n",
    "# Load all data\n",
    "current_sweep_outputs.load()\n",
    "# Get first collection id\n",
    "current_sweep_outputs0 = current_sweep_outputs.get(0)\n",
    "# Validate tables\n",
    "# validate_tables(current_sweep_outputs0)"
   ]
  },
  {
   "cell_type": "code",
   "execution_count": 64,
   "metadata": {},
   "outputs": [],
   "source": [
    "current_sweep_outputs0 = current_sweep_outputs.get(0)"
   ]
  },
  {
   "cell_type": "code",
   "execution_count": 66,
   "metadata": {},
   "outputs": [
    {
     "data": {
      "text/plain": [
       "{'log_level': 'info',\n",
       " 'sweep_mode': True,\n",
       " 'inputs': {'n_workers': 4,\n",
       "  'n_threads': 6,\n",
       "  'device': 'cpu',\n",
       "  'in_directory': './data/inputs/',\n",
       "  'dataset': 'cambridge_work_commuter_lsoas_to_msoas',\n",
       "  'load_experiment': '',\n",
       "  'seed': {'sweep': {'default': 1, 'range': ['0:99:1']}},\n",
       "  'to_learn': ['alpha', 'beta'],\n",
       "  'data': {'origin_demand': {'file': 'origin_demand_sum_normalised.txt'},\n",
       "   'destination_attraction_ts': {'file': 'destination_attraction_time_series_sum_normalised.txt'},\n",
       "   'cost_matrix': {'file': 'cost_matrices/clustered_facilities_sample_20x20_20_01_2023_sample_20x20_clustered_facilities_ripleys_k_500_euclidean_points%_prob_origin_destination_adjusted_normalised_boundary_only_edge_corrected_cost_matrix_max_normalised.txt'},\n",
       "   'ground_truth_table': {'file': 'table_lsoas_to_msoas.txt'},\n",
       "   'total_cost_by_origin': {'file': 'lsoas_total_distance_to_work.txt'}}},\n",
       " 'contingency_table': {'sparse_margins': True,\n",
       "  'constraints': {'axes': [[0], [1]],\n",
       "   'cells': 'constraints/cell_constraints_permuted_size_90_cell_percentage_10_constrained_axes_0_1_seed_1234.txt'}},\n",
       " 'spatial_interaction_model': {'name': 'TotallyConstrained',\n",
       "  'parameters': {'bmax': 1.0}},\n",
       " 'harris_wilson_model': {'dt': 0.001,\n",
       "  'parameters': {'noise_percentage': 0.01,\n",
       "   'epsilon': 1.0,\n",
       "   'sigma': 0.014139999635517597}},\n",
       " 'training': {'num_steps': 1, 'batch_size': 1, 'N': 10000},\n",
       " 'mcmc': {'disable_tqdm': True,\n",
       "  'mcmc_workers': 1,\n",
       "  'contingency_table': {'table_steps': 1,\n",
       "   'table0': 'maximum_entropy_solution',\n",
       "   'margin0': 'multinomial',\n",
       "   'proposal': 'degree_higher'},\n",
       "  'parameters': {'theta_steps': 1,\n",
       "   'step_size': 1.0,\n",
       "   'covariance': [[0.0149674, 0.00182529], [0.00182529, 0.0109968]]},\n",
       "  'destination_attraction': {'log_destination_attraction_steps': 1,\n",
       "   'leapfrog_steps': 3,\n",
       "   'leapfrog_step_size': 0.01,\n",
       "   'ais_leapfrog_steps': 3,\n",
       "   'ais_leapfrog_step_size': 0.2,\n",
       "   'ais_samples': 10,\n",
       "   'n_bridging_distributions': 50}},\n",
       " 'neural_network': {'disable_tqdm': True,\n",
       "  'loss': {'loss_name': ['dest_attraction_ts_likelihood_loss'],\n",
       "   'loss_function': ['custom'],\n",
       "   'loss_kwargs': {'noise_percentage': None}},\n",
       "  'hyperparameters': {'num_layers': 1,\n",
       "   'optimizer': 'Adam',\n",
       "   'learning_rate': 0.002,\n",
       "   'biases': {'default': [0.0, 4.0], 'layer_specific': {}},\n",
       "   'nodes_per_layer': {'default': 20, 'layer_specific': {}},\n",
       "   'activation_funcs': {'default': 'linear', 'layer_specific': {'1': 'abs'}}}},\n",
       " 'experiments': [{'type': 'NonJointTableSIM_NN',\n",
       "   'comment': 'Independent Joint Table and Spatial Interaction Model parameter learning using Neural Networks',\n",
       "   'disable_tqdm': False,\n",
       "   'export_samples': True,\n",
       "   'export_metadata': True,\n",
       "   'overwrite': True,\n",
       "   'validate_samples': False}],\n",
       " 'outputs': {'chunk_size': 20000,\n",
       "  'write_start': 1,\n",
       "  'write_every': 1,\n",
       "  'out_directory': './data/outputs/',\n",
       "  'out_group': 'exp1',\n",
       "  'title': '_doubly_10%_cell_constrained'},\n",
       " 'experiment_type': 'NonJointTableSIM_NN',\n",
       " 'load_data': False,\n",
       " 'datetime': '30_01_2024_23_25_12'}"
      ]
     },
     "execution_count": 66,
     "metadata": {},
     "output_type": "execute_result"
    }
   ],
   "source": [
    "current_sweep_outputs0.config.settings"
   ]
  },
  {
   "cell_type": "code",
   "execution_count": 23,
   "metadata": {},
   "outputs": [],
   "source": [
    "sweep = {'sigma': 0.014139999635517597, 'to_learn': ['alpha', 'beta'], 'covariance': [[0.0149674, 0.00182529], [0.00182529, 0.0109968]], 'title': '_doubly_constrained', 'axes': [[0], [1]], 'cells': 'cells.txt', 'name': 'TotallyConstrained', 'proposal': 'degree_higher', 'loss_name': ['dest_attraction_ts_likelihood_loss'], 'loss_function': ['custom'], 'loss_kwargs': {'noise_percentage': None}}\n",
    "sweep_configuration = current_sweep_outputs.config.convert_sweep(sweep)"
   ]
  },
  {
   "cell_type": "code",
   "execution_count": 19,
   "metadata": {},
   "outputs": [],
   "source": [
    "current_sweep_outputs.config.update(sweep)"
   ]
  },
  {
   "cell_type": "code",
   "execution_count": 24,
   "metadata": {},
   "outputs": [
    {
     "data": {
      "text/plain": [
       "{'disable_tqdm': True,\n",
       " 'loss': {'loss_name': {'sweep': {'default': ['dest_attraction_ts_loss'],\n",
       "    'range': [['dest_attraction_ts_loss'],\n",
       "     ['dest_attraction_ts_likelihood_loss']]}},\n",
       "  'loss_function': {'sweep': {'default': ['mseloss'],\n",
       "    'range': [['mseloss'], ['custom']],\n",
       "    'coupled': True,\n",
       "    'target_name': 'loss_name'}},\n",
       "  'loss_kwargs': {'sweep': {'coupled': True,\n",
       "    'target_name': 'loss_name',\n",
       "    'default': {'nokey': nan},\n",
       "    'range': [{'nokey': nan}, {'noise_percentage': nan}]}}},\n",
       " 'hyperparameters': {'num_layers': 1,\n",
       "  'optimizer': 'Adam',\n",
       "  'learning_rate': 0.002,\n",
       "  'biases': {'default': [0.0, 4.0], 'layer_specific': {}},\n",
       "  'nodes_per_layer': {'default': 20, 'layer_specific': {}},\n",
       "  'activation_funcs': {'default': 'linear', 'layer_specific': {'1': 'abs'}}}}"
      ]
     },
     "execution_count": 24,
     "metadata": {},
     "output_type": "execute_result"
    }
   ],
   "source": [
    "current_sweep_outputs.config['neural_network']"
   ]
  },
  {
   "cell_type": "code",
   "execution_count": 33,
   "metadata": {},
   "outputs": [
    {
     "data": {
      "text/plain": [
       "11"
      ]
     },
     "execution_count": 33,
     "metadata": {},
     "output_type": "execute_result"
    }
   ],
   "source": [
    "len(sweep_configuration)"
   ]
  },
  {
   "cell_type": "code",
   "execution_count": 42,
   "metadata": {},
   "outputs": [
    {
     "data": {
      "text/plain": [
       "dict_keys(['seed'])"
      ]
     },
     "execution_count": 42,
     "metadata": {},
     "output_type": "execute_result"
    }
   ],
   "source": [
    "current_sweep_outputs.config.sweep_params['isolated'].keys()"
   ]
  },
  {
   "cell_type": "code",
   "execution_count": 47,
   "metadata": {},
   "outputs": [
    {
     "name": "stdout",
     "output_type": "stream",
     "text": [
      "sigma\n",
      "to_learn\n",
      "covariance\n",
      "title\n",
      "axes\n",
      "cells\n",
      "name\n",
      "proposal\n",
      "loss_name\n",
      "loss_function\n",
      "loss_kwargs\n"
     ]
    }
   ],
   "source": [
    "for sweep_group in current_sweep_outputs.config.sweep_params['coupled'].values():\n",
    "    for sweep_group_elem in sweep_group:\n",
    "        print(sweep_group_elem['var'])"
   ]
  },
  {
   "cell_type": "code",
   "execution_count": 49,
   "metadata": {},
   "outputs": [
    {
     "data": {
      "text/plain": [
       "{'sigma': 0.014139999635517597,\n",
       " 'to_learn': ['alpha', 'beta'],\n",
       " 'covariance': [[0.0149674, 0.00182529], [0.00182529, 0.0109968]],\n",
       " 'title': '_doubly_constrained',\n",
       " 'axes': [[0], [1]],\n",
       " 'cells': 'cells.txt',\n",
       " 'name': 'TotallyConstrained',\n",
       " 'proposal': 'degree_higher',\n",
       " 'loss_name': ['dest_attraction_ts_likelihood_loss'],\n",
       " 'loss_function': ['custom'],\n",
       " 'loss_kwargs': {'noise_percentage': None}}"
      ]
     },
     "execution_count": 49,
     "metadata": {},
     "output_type": "execute_result"
    }
   ],
   "source": [
    "sweep"
   ]
  },
  {
   "cell_type": "code",
   "execution_count": 40,
   "metadata": {},
   "outputs": [
    {
     "data": {
      "text/plain": [
       "12"
      ]
     },
     "execution_count": 40,
     "metadata": {},
     "output_type": "execute_result"
    }
   ],
   "source": [
    "len(current_sweep_outputs.config.sweep_params['isolated'])+sum([len(sweep_group) for sweep_group in current_sweep_outputs.config.sweep_params['coupled'].values()])"
   ]
  },
  {
   "cell_type": "code",
   "execution_count": 25,
   "metadata": {},
   "outputs": [
    {
     "ename": "IndexError",
     "evalue": "list index out of range",
     "output_type": "error",
     "traceback": [
      "\u001b[0;31m---------------------------------------------------------------------------\u001b[0m",
      "\u001b[0;31mIndexError\u001b[0m                                Traceback (most recent call last)",
      "Input \u001b[0;32mIn [25]\u001b[0m, in \u001b[0;36m<cell line: 1>\u001b[0;34m()\u001b[0m\n\u001b[0;32m----> 1\u001b[0m temp_config \u001b[38;5;241m=\u001b[39m \u001b[43mcurrent_sweep_outputs\u001b[49m\u001b[38;5;241;43m.\u001b[39;49m\u001b[43mconfig\u001b[49m\u001b[38;5;241;43m.\u001b[39;49m\u001b[43mprepare_experiment_config\u001b[49m\u001b[43m(\u001b[49m\u001b[43msweep_configuration\u001b[49m\u001b[43m)\u001b[49m[\u001b[38;5;241m0\u001b[39m]\n",
      "File \u001b[0;32m~/MultiResTICODM/multiresticodm/config.py:1073\u001b[0m, in \u001b[0;36mConfig.prepare_experiment_config\u001b[0;34m(self, sweep_configuration, cast_to_str)\u001b[0m\n\u001b[1;32m   1069\u001b[0m \u001b[38;5;28;01mfor\u001b[39;00m sweep_group \u001b[38;5;129;01min\u001b[39;00m \u001b[38;5;28mself\u001b[39m\u001b[38;5;241m.\u001b[39msweep_params[\u001b[38;5;124m'\u001b[39m\u001b[38;5;124mcoupled\u001b[39m\u001b[38;5;124m'\u001b[39m]\u001b[38;5;241m.\u001b[39mvalues():\n\u001b[1;32m   1070\u001b[0m     \u001b[38;5;28;01mfor\u001b[39;00m value \u001b[38;5;129;01min\u001b[39;00m sweep_group:\n\u001b[1;32m   1071\u001b[0m         new_config\u001b[38;5;241m.\u001b[39mpath_set(\n\u001b[1;32m   1072\u001b[0m             new_config,\n\u001b[0;32m-> 1073\u001b[0m             \u001b[43msweep_configuration\u001b[49m\u001b[43m[\u001b[49m\u001b[43mi\u001b[49m\u001b[43m]\u001b[49m,\n\u001b[1;32m   1074\u001b[0m             value[\u001b[38;5;124m'\u001b[39m\u001b[38;5;124mpath\u001b[39m\u001b[38;5;124m'\u001b[39m]\n\u001b[1;32m   1075\u001b[0m         )\n\u001b[1;32m   1076\u001b[0m         \u001b[38;5;66;03m# Update current sweep\u001b[39;00m\n\u001b[1;32m   1077\u001b[0m         sweep[value[\u001b[38;5;124m'\u001b[39m\u001b[38;5;124mvar\u001b[39m\u001b[38;5;124m'\u001b[39m]] \u001b[38;5;241m=\u001b[39m sweep_configuration[i] \\\n\u001b[1;32m   1078\u001b[0m         \u001b[38;5;28;01mif\u001b[39;00m \u001b[38;5;129;01mnot\u001b[39;00m cast_to_str \\\n\u001b[1;32m   1079\u001b[0m         \u001b[38;5;28;01melse\u001b[39;00m \u001b[38;5;28mstr\u001b[39m(sweep_configuration[i])\n",
      "\u001b[0;31mIndexError\u001b[0m: list index out of range"
     ]
    }
   ],
   "source": [
    "temp_config = current_sweep_outputs.config.prepare_experiment_config(sweep_configuration)[0]"
   ]
  },
  {
   "cell_type": "markdown",
   "metadata": {},
   "source": [
    "# Temporary scripts"
   ]
  },
  {
   "cell_type": "code",
   "execution_count": null,
   "metadata": {},
   "outputs": [],
   "source": [
    "experiment_id = 'JointTableSIM_NN_SweepedNoise_23_01_2024_21_33_25'\n",
    "experiment_dir = f'../data/outputs/cambridge_work_commuter_lsoas_to_msoas/exp1/{experiment_id}/'\n",
    "relative_experiment_dir = os.path.relpath(experiment_dir,os.getcwd())"
   ]
  },
  {
   "cell_type": "code",
   "execution_count": null,
   "metadata": {},
   "outputs": [],
   "source": [
    "for d in os.walk(relative_experiment_dir):\n",
    "    if 'doubly' in d[0]:\n",
    "        for f in ['data.h5','metadata.json','outputs.log']:\n",
    "            if os.path.exists(os.path.join(d[0],f)):\n",
    "                os.remove(os.path.join(d[0],f))\n",
    "        if os.path.exists(d[0]):\n",
    "            os.rmdir(d[0])"
   ]
  }
 ],
 "metadata": {
  "kernelspec": {
   "display_name": "mrticodm",
   "language": "python",
   "name": "python3"
  },
  "language_info": {
   "codemirror_mode": {
    "name": "ipython",
    "version": 3
   },
   "file_extension": ".py",
   "mimetype": "text/x-python",
   "name": "python",
   "nbconvert_exporter": "python",
   "pygments_lexer": "ipython3",
   "version": "3.9.18"
  }
 },
 "nbformat": 4,
 "nbformat_minor": 2
}
