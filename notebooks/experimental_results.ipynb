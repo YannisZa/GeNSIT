{
 "cells": [
  {
   "cell_type": "code",
   "execution_count": null,
   "metadata": {},
   "outputs": [],
   "source": [
    "import h5py as h5\n",
    "import numpy as np\n",
    "import pandas as pd\n",
    "from copy import deepcopy\n",
    "from tqdm import tqdm\n",
    "\n",
    "\n",
    "from multiresticodm.config import Config\n",
    "from multiresticodm.inputs import Inputs\n",
    "from multiresticodm.outputs import Outputs\n",
    "from multiresticodm.utils.misc_utils import *\n",
    "from multiresticodm.utils.math_utils import *\n",
    "from multiresticodm.contingency_table import instantiate_ct\n",
    "from multiresticodm.utils.probability_utils import *"
   ]
  },
  {
   "cell_type": "code",
   "execution_count": null,
   "metadata": {},
   "outputs": [],
   "source": [
    "%matplotlib inline\n",
    "\n",
    "# AUTO RELOAD EXTERNAL MODULES\n",
    "%load_ext autoreload\n",
    "%autoreload 2"
   ]
  },
  {
   "cell_type": "code",
   "execution_count": null,
   "metadata": {},
   "outputs": [],
   "source": [
    "# Get important paths\n",
    "experiment_dir = '/home/iz230/MultiResTICODM/data/outputs/cambridge_work_commuter_lsoas_to_msoas/exp1/JointTableSIM_MCMC_SweepedNoise_16_05_2023_20_09_04/'\n",
    "config_path = os.path.join(experiment_dir,'config.json')"
   ]
  },
  {
   "cell_type": "code",
   "execution_count": null,
   "metadata": {},
   "outputs": [],
   "source": [
    "# Output processing settings\n",
    "settings = {\n",
    "    \"logging_mode\": \"INFO\",\n",
    "    \"coordinate_slice\": [\n",
    "        \"da.loss_name.isin([str(['dest_attraction_ts_likelihood_loss']),str(['dest_attraction_ts_likelihood_loss', 'table_likelihood_loss'])])\",\n",
    "        \"da.title == '_doubly_10%_cell_constrained'\"\n",
    "    ],\n",
    "    \"metadata_keys\":[],\n",
    "    \"burnin_thinning_trimming\": [{'iter': {\"burnin\":0, \"thinning\":1, \"trimming\":10000}}],\n",
    "    \"n_workers\": 1,\n",
    "    \"filename_ending\":\"test\",\n",
    "    \"sample\":[\"table\",\"intensity\"],\n",
    "    \"force_reload\":False\n",
    "}"
   ]
  },
  {
   "cell_type": "code",
   "execution_count": null,
   "metadata": {},
   "outputs": [],
   "source": [
    "# Read config\n",
    "conf = Config(\n",
    "    path = config_path\n",
    ")\n",
    "conf.get_sweep_data()"
   ]
  },
  {
   "cell_type": "code",
   "execution_count": null,
   "metadata": {},
   "outputs": [],
   "source": [
    "outputs = Outputs(\n",
    "    config = conf,\n",
    "    settings = settings,\n",
    "    base_dir = experiment_dir,\n",
    "    console_handling_level = 'INFO',\n",
    "    inputs = None,\n",
    "    logger = conf.logger,\n",
    "    print_slice = True\n",
    ")"
   ]
  },
  {
   "cell_type": "code",
   "execution_count": null,
   "metadata": {},
   "outputs": [],
   "source": [
    "# Collect outputs from folder\n",
    "outputs.load(indx = 0)"
   ]
  },
  {
   "cell_type": "code",
   "execution_count": null,
   "metadata": {},
   "outputs": [],
   "source": [
    "data = []\n",
    "for i in tqdm(\n",
    "    range(len(outputs.data)),\n",
    "    leave=True,\n",
    "    disable=True,\n",
    "    desc='Computing validation metrics'\n",
    "):\n",
    "    print(f\"{i+1}/{len(outputs.data)}\")\n",
    "    sweep_outputs = outputs.get(i)\n",
    "    sweep_outputs.inputs = Inputs(\n",
    "        config = sweep_outputs.config,\n",
    "        synthetic_data = False,\n",
    "        logger = outputs.logger\n",
    "    )\n",
    "\n",
    "    mean_intensity = sweep_outputs.compute_statistic(\n",
    "        data = sweep_outputs.get_sample('intensity'),\n",
    "        sample_name = 'intensity',\n",
    "        statistic = 'signedmean',\n",
    "        dim = ['id']\n",
    "    )\n",
    "    intensity_srmse = srmse(\n",
    "        prediction = mean_intensity,\n",
    "        ground_truth = outputs.get(0).get_sample('ground_truth_table').astype('float32')\n",
    "    )\n",
    "    # Create a data row\n",
    "    datum = dict(zip(\n",
    "        outputs.config.sweep_param_names,\n",
    "        mean_intensity['sweep'].values[0]\n",
    "    ))\n",
    "    print('sweep',{k:v for k,v in datum.items() if k not in ['covariance','to_learn']})\n",
    "    datum['intensity_srmse'] = intensity_srmse.values[0]\n",
    "    # try:\n",
    "    mean_table = sweep_outputs.compute_statistic(\n",
    "        data = sweep_outputs.get_sample('table'),\n",
    "        sample_name = 'table',\n",
    "        statistic = 'mean',\n",
    "        dim = ['id']\n",
    "    )\n",
    "    table_srmse = srmse(\n",
    "        prediction = mean_table,\n",
    "        ground_truth = outputs.get(0).get_sample('ground_truth_table').astype('float32')\n",
    "    )\n",
    "    datum['table_srmse'] = table_srmse.values[0]\n",
    "\n",
    "    sweep_outputs.inputs.cast_from_xarray()\n",
    "    ct = instantiate_ct(\n",
    "        config = sweep_outputs.config,\n",
    "        **sweep_outputs.inputs.data_vars(),\n",
    "        level = 'EMPTY'\n",
    "    )\n",
    "    samples = sweep_outputs.get_sample('table')\n",
    "    print(ct.constraints)\n",
    "    tables_admissible = all([ct.table_admissible(torch.tensor(tab.values.squeeze())) for _,tab in samples.groupby('id')])\n",
    "    print('Tables admissible',tables_admissible)\n",
    "    if not tables_admissible:\n",
    "        print('Tables margins admissible',any([ct.table_margins_admissible(torch.tensor(tab.values.squeeze())) for _,tab in samples.groupby('id')]))\n",
    "        print('Tables cells admissible',all([ct.table_cells_admissible(torch.tensor(tab.values.squeeze())) for _,tab in samples.groupby('id')]))\n",
    "    # except:\n",
    "        # pass\n",
    "    data.append(datum)\n",
    "    print('\\n')\n",
    "    break"
   ]
  },
  {
   "cell_type": "code",
   "execution_count": null,
   "metadata": {},
   "outputs": [],
   "source": [
    "df = pd.DataFrame.from_records(data)\n",
    "df.drop(columns=['covariance','to_learn','axes','cells'],inplace=True)"
   ]
  },
  {
   "cell_type": "code",
   "execution_count": null,
   "metadata": {},
   "outputs": [],
   "source": [
    "df"
   ]
  },
  {
   "cell_type": "code",
   "execution_count": null,
   "metadata": {},
   "outputs": [],
   "source": [
    "root_path = '/home/iz230/MultiResTICODM/data/outputs/cambridge_work_commuter_lsoas_to_msoas/exp1/JointTableSIM_MCMC_SweepedNoise_16_05_2023_20_09_04/samples/'\n",
    "relative_path = os.path.relpath(root_path,os.getcwd())\n",
    "experiment_id = 'JointTableSIM_MCMC_SweepedNoise_16_05_2023_20_09_04'"
   ]
  },
  {
   "cell_type": "code",
   "execution_count": null,
   "metadata": {},
   "outputs": [],
   "source": [
    "joint_mcmc_files = ['exp6_JointTableSIMLatentMCMC_LowNoise_unconstrained_18_05_2023_11_16_28','exp6_JointTableSIMLatentMCMC_LowNoise_grand_total_17_05_2023_21_33_50','exp6_JointTableSIMLatentMCMC_LowNoise_row_margin_production_constrained_13_06_2023_11_52_01','exp6_JointTableSIMLatentMCMC_LowNoise_both_margins_26_05_2023_15_50_42','exp6_JointTableSIMLatentMCMC_LowNoise_both_margins_permuted_cells_10%_05_06_2023_10_30_49','exp6_JointTableSIMLatentMCMC_LowNoise_both_margins_permuted_cells_20%_05_06_2023_10_30_53','exp14_JointTableSIMLatentMCMC_HighNoise_unconstrained_23_05_2023_11_55_33','exp14_JointTableSIMLatentMCMC_HighNoise_grand_total_23_05_2023_11_15_23','exp14_JointTableSIMLatentMCMC_HighNoise_row_margin_production_constrained_13_06_2023_14_03_14','exp14_JointTableSIMLatentMCMC_HighNoise_both_margins_19_05_2023_10_55_00','exp14_JointTableSIMLatentMCMC_HighNoise_both_margins_permuted_cells_10%_07_06_2023_09_35_18','exp14_JointTableSIMLatentMCMC_HighNoise_both_margins_permuted_cells_20%_05_06_2023_12_40_31','exp5_SIMLatentMCMC_LowNoise_grand_total_18_05_2023_11_09_58','exp5_SIMLatentMCMC_LowNoise_row_margin_27_01_2023_18_46_59','exp5_SIMLatentMCMC_HighNoise_grand_total_23_05_2023_11_07_44','exp5_SIMLatentMCMC_HighNoise_row_margin_06_02_2023_16_54_39']\n",
    "\n",
    "simple_mcmc_files = ['exp5_SIMLatentMCMC_LowNoise_grand_total_18_05_2023_11_09_58','exp5_SIMLatentMCMC_LowNoise_row_margin_27_01_2023_18_46_59','exp5_SIMLatentMCMC_HighNoise_grand_total_23_05_2023_11_07_44','exp5_SIMLatentMCMC_HighNoise_row_margin_06_02_2023_16_54_39']\n",
    "\n",
    "mcmc_files = joint_mcmc_files+simple_mcmc_files"
   ]
  },
  {
   "cell_type": "code",
   "execution_count": null,
   "metadata": {},
   "outputs": [],
   "source": [
    "# for fl in tqdm(mcmc_files):\n",
    "#     cmd = f\"scp -r $BACKUP/ticodm_mcmc_outputs/cambridge_work_commuter_lsoas_to_msoas/{fl} ~/MultiResTICODM/data/outputs/cambridge_work_commuter_lsoas_to_msoas/exp1/mcmc_samples\"\n",
    "#     os.system(cmd)"
   ]
  },
  {
   "cell_type": "code",
   "execution_count": null,
   "metadata": {},
   "outputs": [],
   "source": [
    "def get_old_experiment_id(exp_id,sweep_param):\n",
    "    if 'JointTableSIM_MCMC' in exp_id:\n",
    "        if sweep_param['sigma'] == 'low' and sweep_param['title'] == '_unconstrained':\n",
    "            return 'exp6_JointTableSIMLatentMCMC_LowNoise_unconstrained_18_05_2023_11_16_28'\n",
    "        if sweep_param['sigma'] == 'low' and sweep_param['title'] == '_total_constrained':\n",
    "            return 'exp6_JointTableSIMLatentMCMC_LowNoise_grand_total_17_05_2023_21_33_50'\n",
    "        elif sweep_param['sigma'] == 'low' and sweep_param['title'] == '_row_constrained':\n",
    "            return 'exp6_JointTableSIMLatentMCMC_LowNoise_row_margin_production_constrained_13_06_2023_11_52_01'\n",
    "        elif sweep_param['sigma'] == 'low' and sweep_param['title'] == '_doubly_constrained':\n",
    "            return 'exp6_JointTableSIMLatentMCMC_LowNoise_both_margins_26_05_2023_15_50_42'\n",
    "        elif sweep_param['sigma'] == 'low' and sweep_param['title'] == '_doubly_10%_cell_constrained':\n",
    "            return 'exp6_JointTableSIMLatentMCMC_LowNoise_both_margins_permuted_cells_10%_05_06_2023_10_30_49'\n",
    "        elif sweep_param['sigma'] == 'low' and sweep_param['title'] == '_doubly_20%_cell_constrained':\n",
    "            return 'exp6_JointTableSIMLatentMCMC_LowNoise_both_margins_permuted_cells_20%_05_06_2023_10_30_53'\n",
    "        elif sweep_param['sigma'] == 'high' and sweep_param['title'] == '_unconstrained':\n",
    "            return 'exp14_JointTableSIMLatentMCMC_HighNoise_unconstrained_23_05_2023_11_55_33'\n",
    "        elif sweep_param['sigma'] == 'high' and sweep_param['title'] == '_total_constrained':\n",
    "            return 'exp14_JointTableSIMLatentMCMC_HighNoise_grand_total_23_05_2023_11_15_23'\n",
    "        elif sweep_param['sigma'] == 'high' and sweep_param['title'] == '_row_constrained':\n",
    "            return 'exp14_JointTableSIMLatentMCMC_HighNoise_row_margin_production_constrained_13_06_2023_14_03_14'\n",
    "        elif sweep_param['sigma'] == 'high' and sweep_param['title'] == '_doubly_constrained':\n",
    "            return 'exp14_JointTableSIMLatentMCMC_HighNoise_both_margins_19_05_2023_10_55_00'\n",
    "        elif sweep_param['sigma'] == 'high' and sweep_param['title'] == '_doubly_10%_cell_constrained':\n",
    "            return 'exp14_JointTableSIMLatentMCMC_HighNoise_both_margins_permuted_cells_10%_07_06_2023_09_35_18'\n",
    "        elif sweep_param['sigma'] == 'high' and sweep_param['title'] == '_doubly_20%_cell_constrained':\n",
    "            return 'exp14_JointTableSIMLatentMCMC_HighNoise_both_margins_permuted_cells_20%_05_06_2023_12_40_31'\n",
    "\n",
    "    elif 'SIM_MCMC' in exp_id:\n",
    "        if sweep_param['sigma'] == 'low' and sweep_param['title'] == '_total_constrained':\n",
    "            return 'exp5_SIMLatentMCMC_LowNoise_grand_total_18_05_2023_11_09_58'\n",
    "        elif sweep_param['sigma'] == 'low' and sweep_param['title'] == '_row_constrained':\n",
    "            return 'exp5_SIMLatentMCMC_LowNoise_row_margin_27_01_2023_18_46_59'\n",
    "        elif sweep_param['sigma'] == 'high' and sweep_param['title'] == '_total_constrained':\n",
    "            return 'exp5_SIMLatentMCMC_HighNoise_grand_total_23_05_2023_11_07_44'\n",
    "        elif sweep_param['sigma'] == 'high' and sweep_param['title'] == '_row_constrained':\n",
    "            return 'exp5_SIMLatentMCMC_HighNoise_row_margin_06_02_2023_16_54_39'\n",
    "\n",
    "def sample_to_shape(sam_name):\n",
    "    if sam_name == 'table':\n",
    "        return (100000,69,13)\n",
    "    elif sam_name == 'log_destination_attraction':\n",
    "        return (100000,13,1)\n",
    "    elif sam_name == 'sign':\n",
    "        return (100000,)\n",
    "    else:\n",
    "        return (100000,2)\n",
    "\n",
    "def sample_to_dtype(sam_name):\n",
    "    if sam_name == 'table':\n",
    "        return 'int32'\n",
    "    elif sam_name == 'log_destination_attraction':\n",
    "        return 'float32'\n",
    "    elif sam_name == 'sign':\n",
    "        return 'uint8'\n",
    "    else:\n",
    "        return 'float32'\n"
   ]
  },
  {
   "cell_type": "code",
   "execution_count": null,
   "metadata": {},
   "outputs": [],
   "source": [
    "olddata = {}\n",
    "for fl in mcmc_files:\n",
    "    olddata[fl] = {}\n",
    "    root_path = f'/home/iz230/MultiResTICODM/data/outputs/cambridge_work_commuter_lsoas_to_msoas/exp1/mcmc_samples/{fl}/samples/'\n",
    "    relative_path = os.path.relpath(root_path,os.getcwd())\n",
    "    print(relative_path)\n",
    "    if 'JointTableSIMLatentMCMC' in fl:\n",
    "        samples_pool = ['sign','log_destination_attraction','table','theta']\n",
    "    else:\n",
    "        samples_pool = ['sign','log_destination_attraction','theta']\n",
    "\n",
    "    for sample_name in samples_pool:\n",
    "        filenames = [f\"{sample_name}_{('batch_'+str(j)+'_') if j != '' else ''}samples.npy\" for j in ['']+list(range(100))]\n",
    "\n",
    "        old_samples = np.array([np.load(os.path.join(relative_path,fname)) for fname in filenames if os.path.isfile(os.path.join(relative_path,fname))])\n",
    "        old_samples = old_samples.reshape(sample_to_shape(sample_name))\n",
    "        old_samples = old_samples.astype(sample_to_dtype(sample_name))\n",
    "        \n",
    "        if sample_name != 'theta':\n",
    "            olddata[fl][sample_name] = old_samples\n",
    "            print(sample_name,old_samples.shape)\n",
    "            print([fname for fname in filenames if os.path.isfile(os.path.join(relative_path,fname))][0])\n",
    "            print('\\n')\n",
    "        else:\n",
    "            for i,param in enumerate(['alpha','beta']):\n",
    "                olddata[fl][param] = old_samples[:,i]\n",
    "                print(param,old_samples[:,i].shape)\n",
    "                print('\\n')\n",
    "        "
   ]
  },
  {
   "cell_type": "code",
   "execution_count": null,
   "metadata": {},
   "outputs": [],
   "source": [
    "# tables_new = samples.values.squeeze().astype('int32')\n",
    "tables_new[0]"
   ]
  },
  {
   "cell_type": "code",
   "execution_count": null,
   "metadata": {},
   "outputs": [],
   "source": [
    "tables_old = olddata['exp6_JointTableSIMLatentMCMC_LowNoise_both_margins_permuted_cells_10%_05_06_2023_10_30_49']['table'].squeeze()"
   ]
  },
  {
   "cell_type": "code",
   "execution_count": null,
   "metadata": {},
   "outputs": [],
   "source": [
    "for experid in ['JointTableSIM_MCMC_SweepedNoise_16_05_2023_20_09_04','SIM_MCMC_SweepedNoise_16_05_2023_20_09_04']:\n",
    "    root_path = f'/home/iz230/MultiResTICODM/data/outputs/cambridge_work_commuter_lsoas_to_msoas/exp1/{experid}/samples/'\n",
    "    relative_path = os.path.relpath(root_path,os.getcwd())\n",
    "    for sigma in ['high','low']:\n",
    "        for title in ['_doubly_10%_cell_constrained','_doubly_20%_cell_constrained','_doubly_constrained','_row_constrained','_total_constrained','_unconstrained']:\n",
    "            filepath = os.path.join(relative_path,f\"sigma_{sigma}\",f\"title_{title}\",\"data.h5\")\n",
    "            if os.path.exists(filepath):\n",
    "                with h5.File(filepath,'r+') as h5data:\n",
    "                    sweep_values = h5data[experid].attrs['sweep_values']\n",
    "                    # if not cells.startswith('constraints/') and len(cells) > 0:\n",
    "                    #     cells = 'constraints/'+cells\n",
    "                    #     sweep_values[cells_index] = cells\n",
    "                    #     h5data[experiment_id].attrs.modify('sweep_values',sweep_values)\n",
    "                    # elif cells == 'constraints/':\n",
    "                    #     sweep_values[cells_index] = ''\n",
    "                    #     h5data[experiment_id].attrs.modify('sweep_values',sweep_values)\n",
    "                    print(h5data[experid].attrs['sweep_values'])\n",
    "\n",
    "                    old_experid = get_old_experiment_id(experid,{\"sigma\":sigma,\"title\":title})\n",
    "                    \n",
    "                    for sample_name,sample_data in olddata[old_experid].items():\n",
    "                        print(sample_name)\n",
    "                        current_dataset = h5data[experid][sample_name]\n",
    "                        current_dataset[...] = sample_data\n",
    "                    print('\\n')"
   ]
  }
 ],
 "metadata": {
  "kernelspec": {
   "display_name": "mrticodm",
   "language": "python",
   "name": "python3"
  },
  "language_info": {
   "codemirror_mode": {
    "name": "ipython",
    "version": 3
   },
   "file_extension": ".py",
   "mimetype": "text/x-python",
   "name": "python",
   "nbconvert_exporter": "python",
   "pygments_lexer": "ipython3",
   "version": "3.9.18"
  }
 },
 "nbformat": 4,
 "nbformat_minor": 2
}
