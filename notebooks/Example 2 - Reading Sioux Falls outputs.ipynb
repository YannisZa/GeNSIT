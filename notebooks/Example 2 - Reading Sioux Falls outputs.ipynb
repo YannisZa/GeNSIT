{
  "cells": [
    {
      "cell_type": "code",
      "execution_count": 1,
      "id": "c76b8620",
      "metadata": {},
      "outputs": [],
      "source": [
        "import os\n",
        "import glob\n",
        "import warnings\n",
        "import h5py as h5\n",
        "import numpy as np\n",
        "import pandas as pd\n",
        "import matplotlib as mpl\n",
        "import matplotlib.pyplot as plt\n",
        "\n",
        "from tqdm.auto import tqdm\n",
        "from copy import deepcopy\n",
        "\n",
        "from gensit.config import Config\n",
        "from gensit.inputs import Inputs\n",
        "from gensit.outputs import Outputs\n",
        "from gensit.utils.misc_utils import *\n",
        "from gensit.utils.math_utils import *\n",
        "from gensit.utils.probability_utils import *\n",
        "from gensit.contingency_table import instantiate_ct\n",
        "from gensit.markov_basis import instantiate_markov_basis"
      ]
    },
    {
      "cell_type": "code",
      "execution_count": 2,
      "id": "b718b815",
      "metadata": {},
      "outputs": [],
      "source": [
        "%matplotlib inline\n",
        "\n",
        "# AUTO RELOAD EXTERNAL MODULES\n",
        "%load_ext autoreload\n",
        "%autoreload 2"
      ]
    },
    {
      "cell_type": "markdown",
      "id": "880cdfcb",
      "metadata": {},
      "source": [
        "## Import samples"
      ]
    },
    {
      "cell_type": "code",
      "execution_count": 3,
      "id": "e21669cd",
      "metadata": {},
      "outputs": [],
      "source": [
        "# Specify experiment id\n",
        "experiment_id = \"RSquared_Analysis_LowNoise__total_constrained_08_04_2024_20_55_38\"\n",
        "# Specify experiment group id\n",
        "experiment_group_id = 'r_squared/'\n",
        "experiment_dir = f'../data/outputs/sioux_falls/{experiment_group_id}/{experiment_id}/'\n",
        "relative_experiment_dir = os.path.relpath(experiment_dir,os.getcwd())"
      ]
    },
    {
      "cell_type": "code",
      "execution_count": 4,
      "id": "9b1c638c",
      "metadata": {},
      "outputs": [],
      "source": [
        "# Create new logging object\n",
        "logger = setup_logger(\n",
        "    __name__,\n",
        "    console_level = 'INFO',\n",
        "    file_level = 'EMPTY'\n",
        ")"
      ]
    },
    {
      "cell_type": "code",
      "execution_count": 5,
      "id": "41e02907",
      "metadata": {},
      "outputs": [],
      "source": [
        "# Output processing settings\n",
        "settings = {\n",
        "    \"logging_mode\": \"INFO\",\n",
        "    # \"coordinate_slice\": [\n",
        "        # \"da.loss_name == str(['dest_attraction_ts_likelihood_loss'])\",\n",
        "        # \"~da.title.isin([str('_unconstrained'), str('_total_constrained')])\"\n",
        "    # ],\n",
        "    \"metadata_keys\":[],\n",
        "    \"burnin_thinning_trimming\": [],\n",
        "    # {'iter': {\"burnin\":10000, \"thinning\":90, \"trimming\":1000}}\n",
        "    \"n_workers\": 1,\n",
        "    \"group_by\":[],\n",
        "    \"filename_ending\":\"test\",\n",
        "    \"sample\":[\"alpha\",\"beta\",\"r2\"],\n",
        "    \"force_reload\":False\n",
        "}"
      ]
    },
    {
      "cell_type": "code",
      "execution_count": 6,
      "id": "833a9fad",
      "metadata": {},
      "outputs": [],
      "source": [
        "# Initialise outputs\n",
        "current_sweep_outputs = Outputs(\n",
        "    config = os.path.join(relative_experiment_dir,\"config.json\"),\n",
        "    settings = settings,\n",
        "    inputs = None,\n",
        "    slice = True,\n",
        "    level = 'INFO'\n",
        ")\n",
        "# Silence outputs\n",
        "current_sweep_outputs.logger.setLevels(console_level='EMPTY')\n",
        "# Load all data\n",
        "current_sweep_outputs.load()"
      ]
    },
    {
      "cell_type": "code",
      "execution_count": 25,
      "id": "3eb1df35",
      "metadata": {},
      "outputs": [],
      "source": [
        "r2 = current_sweep_outputs.data.r2[0]"
      ]
    },
    {
      "cell_type": "code",
      "execution_count": 18,
      "id": "ac9d884a",
      "metadata": {},
      "outputs": [
        {
          "data": {
            "image/png": "[encoded data removed]",
            "text/plain": [
              "<Figure size 720x720 with 1 Axes>"
            ]
          },
          "metadata": {
            "needs_background": "light"
          },
          "output_type": "display_data"
        }
      ],
      "source": [
        "plt.figure(figsize=(10,10))\n",
        "plt.imshow(r2, cmap='RdYlGn', interpolation='nearest')\n",
        "plt.xlabel('alpha')\n",
        "plt.ylabel('beta')\n",
        "plt.show()"
      ]
    },
    {
      "cell_type": "code",
      "execution_count": null,
      "metadata": {},
      "outputs": [],
      "source": [
        "# current_sweep_outputs.data.r2[0]"
      ]
    },
    {
      "cell_type": "code",
      "execution_count": null,
      "id": "7833b1ff",
      "metadata": {},
      "outputs": [],
      "source": [
        "# current_sweep_outputs0 = current_sweep_outputs.get(0)"
      ]
    },
    {
      "cell_type": "code",
      "execution_count": null,
      "id": "091fa05d",
      "metadata": {},
      "outputs": [],
      "source": [
        "conf = Config(\n",
        "    path = '../data/inputs/configs/sioux_falls/experiment1_disjoint.toml'\n",
        ")\n",
        "ins = Inputs(\n",
        "    config = conf\n",
        ")\n",
        "ins.cast_to_xarray()"
      ]
    }
  ],
  "metadata": {
    "kernelspec": {
      "display_name": "gensit",
      "language": "python",
      "name": "python3"
    },
    "language_info": {
      "codemirror_mode": {
        "name": "ipython",
        "version": 3
      },
      "file_extension": ".py",
      "mimetype": "text/x-python",
      "name": "python",
      "nbconvert_exporter": "python",
      "pygments_lexer": "ipython3",
      "version": "3.9.18"
    }
  },
  "nbformat": 4,
  "nbformat_minor": 5
}
