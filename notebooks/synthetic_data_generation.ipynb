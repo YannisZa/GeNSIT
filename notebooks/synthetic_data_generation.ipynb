{
  "cells": [
    {
      "cell_type": "code",
      "execution_count": null,
      "id": "7d49b8de",
      "metadata": {},
      "outputs": [],
      "source": [
        "import os\n",
        "import sys\n",
        "import json\n",
        "import gzip\n",
        "import glob\n",
        "import itertools\n",
        "import scipy.stats\n",
        "import numpy as np\n",
        "import pandas as pd\n",
        "\n",
        "import matplotlib.pyplot as plt\n",
        "import matplotlib as mpl\n",
        "import numba as nb\n",
        "from numba import njit, jit\n",
        "from scipy.stats import multinomial\n",
        "from itertools import permutations \n",
        "from tqdm import tqdm\n",
        "from copy import deepcopy\n",
        "from functools import partial\n",
        "from argparse import Namespace\n",
        "from collections import OrderedDict\n",
        "from functools import partial\n",
        "from collections import Counter\n",
        "from multiprocessing import Pool\n",
        "from scipy.optimize import minimize\n",
        "from typing import Union\n",
        "from textwrap import wrap\n",
        "from ticodm.utils import *\n",
        "from ticodm.spatial_interaction_model import ProductionConstrainedSIM,TotalConstrainedSIM,instantiate_sim\n",
        "from ticodm.contingency_table_mcmc import ContingencyTableMarkovChainMonteCarlo\n",
        "from ticodm.contingency_table import instantiate_ct\n",
        "from ticodm.markov_basis import instantiate_markov_basis\n",
        "from ticodm.sim_models.TotalConstrained import *\n",
        "\n",
        "mpl.rcParams['agg.path.chunksize'] = 10000\n",
        "\n",
        "# AUTO RELOAD EXTERNAL MODULES\n",
        "%load_ext autoreload\n",
        "%autoreload 2"
      ]
    },
    {
      "cell_type": "code",
      "execution_count": null,
      "id": "a0c59791",
      "metadata": {},
      "outputs": [],
      "source": [
        "# Specify seed\n",
        "seed = 1234\n",
        "# Specify dimensions\n",
        "I = 2\n",
        "J = 3\n",
        "# Specify total\n",
        "N = 5000\n",
        "# Specify noise level\n",
        "gamma = 10000.0\n",
        "# Specify maximum beta\n",
        "max_beta = 50000\n",
        "# Sample range\n",
        "min_val = 1\n",
        "max_val = 500"
      ]
    },
    {
      "cell_type": "code",
      "execution_count": null,
      "id": "7fc64ca7",
      "metadata": {},
      "outputs": [],
      "source": [
        "print(f'The MCMC on table space will take {(N/2)**2} steps to converge.')"
      ]
    },
    {
      "attachments": {},
      "cell_type": "markdown",
      "id": "ba199351",
      "metadata": {},
      "source": [
        "# Debugging"
      ]
    },
    {
      "cell_type": "code",
      "execution_count": null,
      "id": "468a10b7",
      "metadata": {},
      "outputs": [],
      "source": [
        "cm = np.loadtxt(\"../tests/test_fixtures/cost_matrix_2x3.txt\")\n",
        "lda = np.loadtxt(\"../tests/test_fixtures/log_destination_attraction_2x3.txt\")\n",
        "od = np.loadtxt(\"../tests/test_fixtures/origin_demand_2x3.txt\")\n",
        "tab = np.loadtxt(\"../tests/test_fixtures/table_2x3_n100.txt\")\n",
        "\n",
        "sim_default_config = {\n",
        "    \"cost_matrix\":cm,\n",
        "    \"log_destination_attraction\":lda,\n",
        "    \"origin_demand\":od,\n",
        "    \"table_distribution_name\":\"multinomial\"\n",
        "}\n",
        "\n",
        "tc = TotalConstrainedSIM(sim_default_config)"
      ]
    },
    {
      "cell_type": "code",
      "execution_count": null,
      "id": "bbf731ab",
      "metadata": {},
      "outputs": [],
      "source": [
        "wksp = np.zeros((2,3))\n",
        "for i in range(2):\n",
        "    for j in range(3):\n",
        "        wksp[i,j] = tc.log_destination_attraction[j]*0.8-0.5*tc.cost_matrix[i,j]\n",
        "\n",
        "norm = np.sum(np.exp(wksp))\n",
        "total = 100\n",
        "flows = np.zeros((2,3))\n",
        "for i in range(2):\n",
        "    for j in range(3):\n",
        "        flows[i,j] = np.exp(wksp[i,j])*total/norm\n"
      ]
    },
    {
      "cell_type": "code",
      "execution_count": null,
      "id": "5fa09dd7",
      "metadata": {},
      "outputs": [],
      "source": [
        "logsumexp(wksp)"
      ]
    },
    {
      "cell_type": "code",
      "execution_count": null,
      "id": "7d398554",
      "metadata": {},
      "outputs": [],
      "source": [
        "np.log(flows.sum())"
      ]
    },
    {
      "cell_type": "code",
      "execution_count": null,
      "id": "fe25f758",
      "metadata": {},
      "outputs": [],
      "source": [
        "np.log(flows)"
      ]
    },
    {
      "cell_type": "code",
      "execution_count": null,
      "id": "c568e3c4",
      "metadata": {},
      "outputs": [],
      "source": [
        "tc.log_intensity(tc.log_destination_attraction,np.array([0.8,0.5]),100)"
      ]
    },
    {
      "attachments": {},
      "cell_type": "markdown",
      "id": "1ef05b40",
      "metadata": {},
      "source": [
        "# Create synthetic flows based on parameters"
      ]
    },
    {
      "cell_type": "code",
      "execution_count": null,
      "id": "2e8f820a",
      "metadata": {},
      "outputs": [],
      "source": [
        "# Fix random seed\n",
        "np.random.seed(seed)\n",
        "\n",
        "# Construct rowsums\n",
        "rowsum_probs = np.random.uniform(0,1,I)\n",
        "for i in range(3):\n",
        "    index = np.random.randint(I)\n",
        "    if i == 0:\n",
        "        rowsum_probs[index] = np.random.uniform(0.8,1.2)\n",
        "    if i == 1:\n",
        "        rowsum_probs[index] = np.random.uniform(1.2,1.4)\n",
        "    if i == 3:\n",
        "        rowsum_probs[index] = np.random.uniform(1.4,1.6)    \n",
        "rowsum_probs = rowsum_probs/np.sum(rowsum_probs)\n",
        "rowsums = np.random.multinomial(n=N,pvals=rowsum_probs)\n",
        "while 0 in rowsums:\n",
        "    rowsums = np.random.multinomial(n=N,pvals=rowsum_probs)\n",
        "\n",
        "# These are temporary - they will be used to define cost matrix column probabilities\n",
        "colsum_probs = np.random.randint(2,5,size=J)\n",
        "colsum_probs = colsum_probs/np.sum(colsum_probs)\n",
        "colsums = np.random.multinomial(n=N,pvals=colsum_probs)\n",
        "while 0 in colsums:\n",
        "    colsums = np.random.multinomial(n=N,pvals=colsum_probs)\n",
        "\n",
        "# Construct cost matrix\n",
        "cost_matrix = np.diag(np.random.randint(1,5,size=(min(I,J))))\n",
        "if I == J:\n",
        "    for i in range(I):\n",
        "        temp_probs = colsum_probs # Replace with np.random.uniform(0,1,J)\n",
        "        sample = np.random.multinomial(n=max_val,pvals=temp_probs/np.sum(temp_probs))\n",
        "        cost_matrix[i,:] = sample\n",
        "#         cost_matrix[i,i] = 1\n",
        "        cost_matrix[:,i] = cost_matrix[i,:]\n",
        "#     cost_matrix = np.triu(cost_matrix).T+np.triu(cost_matrix)-np.diag(np.diag(cost_matrix))\n",
        "else:\n",
        "    cost_matrix = np.random.randint(1,5,size=(I,J))\n",
        "    \n",
        "total_cost = np.sum(cost_matrix)"
      ]
    },
    {
      "cell_type": "code",
      "execution_count": null,
      "id": "d325d573",
      "metadata": {},
      "outputs": [],
      "source": [
        "plt.figure(figsize=(10,10))\n",
        "plt.imshow(cost_matrix/np.sum(cost_matrix), cmap=plt.cm.coolwarm, interpolation='nearest')\n",
        "plt.title('Cost matrix',fontsize=16)\n",
        "plt.ylabel('Origins',fontsize=16)\n",
        "plt.yticks(range(I))\n",
        "plt.xlabel('Destinations',fontsize=16)\n",
        "plt.xticks(range(J))\n",
        "plt.colorbar(fraction=0.046, pad=0.04)\n",
        "plt.show()"
      ]
    },
    {
      "cell_type": "code",
      "execution_count": null,
      "id": "4e3a3f99",
      "metadata": {},
      "outputs": [],
      "source": [
        "dummy_config = Namespace(**{'settings':{'logging': 'info',\n",
        " 'inputs': {'seed': seed,\n",
        "  'generate_data': True,\n",
        "  'dataset': '../data/inputs/synthetic_2x3_N_100',\n",
        "  'contingency_table': {'ct_type': 'ContingencyTable2D',\n",
        "   'dependence_model': True,\n",
        "    'import':{\n",
        "      'true_table':'table.txt',\n",
        "    'rowsums':'rowsums.txt',\n",
        "    'colsums':'colsums.txt'\n",
        "    },\n",
        "   'sampler': 'monte_carlo_sample',\n",
        "    'I': I,\n",
        "    'J': J,\n",
        "    'rowsums': rowsums.astype('int32'),\n",
        "    'colsums': colsums.astype('int32'),\n",
        "    'diagonal': False,\n",
        "    'sample_range': [1, 2000]}},\n",
        "    \"spatial_interaction_model\":{'sim_type': 'TotalConstrained',\n",
        " 'beta_max': max_beta,\n",
        " 'epsilon': 1.0,\n",
        " 'gamma': gamma,\n",
        "#  'delta': 0.3/J,\n",
        " 'noise_percentage': 3,\n",
        " 'generate': {'cost_matrix': cost_matrix,\n",
        "              'origin_demand': rowsums/np.sum(rowsums).astype('float32'),\n",
        "              'delta':0.012,\n",
        "              'kappa':1.396,\n",
        "             'alpha_true': 0.8,#1.7,\n",
        "             'beta_true': 0.4},#0.02}\n",
        "'import':{\n",
        "    'log_destination_attraction':'log_destination_attraction.txt',\n",
        "    'origin_demand':'rowsums.txt',\n",
        "    'cost_matrix':'cost_matrix.txt',\n",
        "    'true_log_destination_attraction':'true_log_destination_attraction.txt',\n",
        "    'true_theta':'true_theta.txt'\n",
        "    }}},\n",
        " \"mcmc\":{\n",
        "     \"contingency_table\":{\n",
        "         \"table_steps\":1,\n",
        "         \"proposal\":\"direct_sampling\",\n",
        "         \"table0\":\"monte_carlo_sample\",\n",
        "         \"margin0\":'multinomial'\n",
        "     }\n",
        " },\n",
        " \"outputs\":{\"directory\":\"../data/outputs/\"}\n",
        "})\n",
        "# ct = instantiate_ct(dummy_config)\n",
        "sim = instantiate_sim(dummy_config)\n",
        "# ct_mcmc = ContingencyTableMarkovChainMonteCarlo(ct)"
      ]
    },
    {
      "attachments": {},
      "cell_type": "markdown",
      "id": "82dfac07",
      "metadata": {},
      "source": [
        "# Create synthetic table"
      ]
    },
    {
      "cell_type": "code",
      "execution_count": null,
      "id": "0a5ab772",
      "metadata": {},
      "outputs": [],
      "source": [
        "# Store true theta as array\n",
        "theta_true = np.array([sim.alpha_true,sim.beta_true*sim.bmax,sim.delta,sim.gamma,sim.kappa,sim.epsilon])"
      ]
    },
    {
      "cell_type": "code",
      "execution_count": null,
      "id": "173b441f",
      "metadata": {},
      "outputs": [],
      "source": [
        "destination_attraction = np.exp(sim.log_true_destination_attraction)/np.sum(np.exp(sim.log_true_destination_attraction))\n",
        "fig1, ax1 = plt.subplots(figsize=(8,8))\n",
        "ax1.set_title('Proportion of destination attraction by zone')\n",
        "ax1.pie(destination_attraction, labels=range(J), autopct='%1.1f%%',\n",
        "        shadow=True, startangle=90)\n",
        "ax1.axis('equal')\n",
        "plt.show()"
      ]
    },
    {
      "cell_type": "code",
      "execution_count": null,
      "id": "4444462c",
      "metadata": {},
      "outputs": [],
      "source": [
        "destination_attraction_data = np.exp(sim.log_destination_attraction)/np.sum(np.exp(sim.log_destination_attraction))\n",
        "fig1, ax1 = plt.subplots(figsize=(8,8))\n",
        "ax1.set_title('Proportion of destination attraction data by zone')\n",
        "ax1.pie(destination_attraction, labels=range(J), autopct='%1.1f%%',\n",
        "        shadow=True, startangle=90)\n",
        "ax1.axis('equal')\n",
        "plt.show()"
      ]
    },
    {
      "cell_type": "code",
      "execution_count": null,
      "id": "ed211cd7",
      "metadata": {},
      "outputs": [],
      "source": [
        "def my_multinomial_mode(n,p,MAX_ITERATIONS:int=10000):\n",
        "    # Implementing algorithm from \"Determination of the modes of a Multinomial distribution\"\n",
        "    # Get length of probability vector\n",
        "    r = np.shape(p)[0]\n",
        "    # Make make first towards finding mode\n",
        "    kis = np.floor((n+r/2)*p).astype('int32')\n",
        "    # Sum all elements to check if they sum up to n\n",
        "    n0 = int(np.sum(kis))\n",
        "    # Generate random vector in [0,1]^r\n",
        "    fis = np.random.uniform(0,1,r)\n",
        "    # Keep iterations counter\n",
        "    counter = 0\n",
        "    try:\n",
        "        if n0 < n:\n",
        "            qis = np.divide(1-fis,kis+1)\n",
        "            while n0 < n:\n",
        "                min_index = np.argmin(qis)\n",
        "                kis[min_index] += 1\n",
        "                fis[min_index] -= 1\n",
        "                qis[min_index] = (1-fis[min_index])/(kis[min_index]+1)\n",
        "                n0 += 1\n",
        "                counter += 1\n",
        "                if counter > MAX_ITERATIONS:\n",
        "                    raise ValueError()\n",
        "        if n0 > n:\n",
        "            # Compute qis\n",
        "            qis = np.divide(fis,kis)\n",
        "            while n0 > n:\n",
        "                min_index = np.argmin(qis)\n",
        "                kis[min_index] -= 1\n",
        "                fis[min_index] += 1\n",
        "                qis[min_index] = fis[min_index]/kis[min_index]\n",
        "                n0 -= 1\n",
        "                counter += 1\n",
        "                if counter > MAX_ITERATIONS:\n",
        "                    raise ValueError()\n",
        "        \n",
        "        return kis.astype('int32')\n",
        "\n",
        "    except:\n",
        "        # Find mode through search\n",
        "        print(f'Find mode through search, n = {n}, p = {len(p)}')\n",
        "        support = [x for x in permutations(range(0,n),len(p)) if sum(x) == n]\n",
        "        mode = np.zeros(len(p))\n",
        "        max_prob = 0\n",
        "        for v in support:\n",
        "            if scipy.stats.multinomial.pmf(v,n=n,p=p) > max_prob:\n",
        "                max_prob = scipy.stats.multinomial.pmf(v,n=n,p=p)\n",
        "                mode = v\n",
        "        return mode.astype('int32')\n"
      ]
    },
    {
      "cell_type": "code",
      "execution_count": null,
      "id": "4a0ced1c",
      "metadata": {},
      "outputs": [],
      "source": [
        "# Construct true table by taking mode of multinomial distribution for each row\n",
        "true_table = np.zeros((sim.I,sim.dims[1]),dtype='int32')\n",
        "# Get table intensities\n",
        "log_intensities = sim.log_intensity(sim.log_true_destination_attraction,theta_true)\n",
        "# Loop each row and extract mode of multinomial distribution\n",
        "for i in tqdm(range(ct.I)):\n",
        "    # Get row probabilities\n",
        "    row_log_probs = log_intensities[i,:] - logsumexp(log_intensities[i,:])\n",
        "#     print('np.exp(row_log_probs)',np.exp(row_log_probs))\n",
        "#     print('ct.rowsums[i]',ct.rowsums[i])\n",
        "    true_row = my_multinomial_mode(ct.rowsums[i],np.exp(row_log_probs))\n",
        "    true_row_log_prob = -np.infty\n",
        "    # Obtain mode(s) of distribution 100 times and keep the one with the higher probability\n",
        "    # This is done because the mode extraction algorithm does not guarantee uniqueness\n",
        "    for j in range(10):\n",
        "        # Obtain mode of distribution\n",
        "        mode = my_multinomial_mode(ct.rowsums[i],np.exp(row_log_probs))\n",
        "#         print('mode',mode)\n",
        "        if multinomial.logpmf(x=mode,n=ct.rowsums[i],p=np.exp(row_log_probs)) > true_row_log_prob:\n",
        "            true_row_log_prob = multinomial.logpmf(x=mode,n=ct.rowsums[i],p=np.exp(row_log_probs))\n",
        "            # Update row\n",
        "            true_row = mode\n",
        "    # Store true row\n",
        "    true_table[i,:] = true_row\n",
        "    \n",
        "# Update colsums based on mode\n",
        "ct.update_colsums(true_table.sum(axis=0))\n",
        "# Update table randomly\n",
        "ct.table = true_table #ct.table_monte_carlo_sample()"
      ]
    },
    {
      "cell_type": "code",
      "execution_count": null,
      "id": "b94d8b68",
      "metadata": {},
      "outputs": [],
      "source": [
        "plt.figure(figsize=(10,10))\n",
        "plt.imshow(np.exp(log_intensities), cmap=plt.cm.coolwarm, interpolation='nearest')\n",
        "for (j,i),label in np.ndenumerate(np.exp(log_intensities)):\n",
        "    plt.text(i,j,int(label),ha='center',va='center')\n",
        "    plt.text(i,j,int(label),ha='center',va='center')\n",
        "plt.title('Intensities',fontsize=16)\n",
        "plt.xlabel('Destinations',fontsize=16)\n",
        "plt.xticks(range(J))\n",
        "plt.ylabel('Origins',fontsize=16)\n",
        "plt.yticks(range(I))\n",
        "plt.colorbar(fraction=0.046, pad=0.04)\n",
        "plt.show()"
      ]
    },
    {
      "cell_type": "code",
      "execution_count": null,
      "id": "22c24764",
      "metadata": {},
      "outputs": [],
      "source": [
        "plt.figure(figsize=(10,10))\n",
        "plt.imshow(ct.table, cmap=plt.cm.coolwarm, interpolation='nearest')\n",
        "for (j,i),label in np.ndenumerate(ct.table):\n",
        "    plt.text(i,j,label,ha='center',va='center')\n",
        "    plt.text(i,j,label,ha='center',va='center')\n",
        "plt.title('Table',fontsize=16)\n",
        "plt.xlabel('Destinations',fontsize=16)\n",
        "plt.xticks(range(J))\n",
        "plt.ylabel('Origins',fontsize=16)\n",
        "plt.yticks(range(I))\n",
        "plt.colorbar(fraction=0.046, pad=0.04)\n",
        "plt.show()"
      ]
    },
    {
      "attachments": {},
      "cell_type": "markdown",
      "id": "1130b748",
      "metadata": {},
      "source": [
        "# ODE Iterative Solver"
      ]
    },
    {
      "cell_type": "code",
      "execution_count": null,
      "id": "326ae349",
      "metadata": {},
      "outputs": [],
      "source": [
        "# cm = deepcopy(sim.cost_matrix)\n",
        "# od = deepcopy(sim.origin_demand)\n",
        "np.random.shuffle(sim.cost_matrix)\n",
        "np.random.shuffle(sim.origin_demand)"
      ]
    },
    {
      "cell_type": "code",
      "execution_count": null,
      "id": "9f2e554e",
      "metadata": {},
      "outputs": [],
      "source": [
        "solution = ode_stationary_points_iterative_solver(\n",
        "                    theta_true,\n",
        "                    sim.origin_demand,\n",
        "                    sim.cost_matrix,\n",
        "                    np.log(1/sim.dims[1])*np.ones(sim.dims[1]),\n",
        "                    convergence_threshold=1e-10\n",
        ")"
      ]
    },
    {
      "cell_type": "code",
      "execution_count": null,
      "id": "834453bd",
      "metadata": {},
      "outputs": [],
      "source": [
        "plt.figure(figsize=(10,10))\n",
        "for j in range(sim.dims[1]):\n",
        "    plt.plot(range(solution.shape[0]),np.exp(solution[:,j]))\n",
        "plt.ylim(sim.delta/sim.kappa-0.01,min(1.0,np.max(np.exp(solution))*10/9))\n",
        "plt.xticks(range(solution.shape[0])[::10])\n",
        "plt.ylabel(r'Equilibrium $W_j$',fontsize=14)\n",
        "plt.xlabel('Iteration number',fontsize=14)\n",
        "_=plt.plot(range(solution.shape[0]),np.ones(solution.shape[0])*(sim.delta/sim.kappa),color='red')"
      ]
    },
    {
      "cell_type": "code",
      "execution_count": null,
      "id": "d5167826",
      "metadata": {},
      "outputs": [],
      "source": [
        "np.exp(solution[-1])"
      ]
    },
    {
      "cell_type": "code",
      "execution_count": null,
      "id": "9ee20656",
      "metadata": {},
      "outputs": [],
      "source": [
        "np.exp(sim.log_true_destination_attraction)"
      ]
    },
    {
      "attachments": {},
      "cell_type": "markdown",
      "id": "3c9cb338",
      "metadata": {},
      "source": [
        "# Euler Mariyama solver"
      ]
    },
    {
      "cell_type": "code",
      "execution_count": null,
      "id": "45e5d229",
      "metadata": {},
      "outputs": [],
      "source": [
        "num_runs = 1#000\n",
        "xs_ensemble = []\n",
        "for i in tqdm(range(num_runs)):\n",
        "    ts,xs = sde_solver(t0=1,\n",
        "                   t1=50000,\n",
        "                   N=100000,\n",
        "                   x0=np.ones(J)*np.log(1/J),\n",
        "                   theta=theta_true,\n",
        "                   origin_demand=sim.origin_demand,\n",
        "                   cost_matrix=sim.cost_matrix,\n",
        "                   break_early=True,\n",
        "                   break_threhshold=1e-5)\n",
        "    if i == 0:\n",
        "        mean_xs = xs\n",
        "    else:\n",
        "        mean_xs = (1/(i+1))*xs + (i/(i+1))*mean_xs"
      ]
    },
    {
      "cell_type": "code",
      "execution_count": null,
      "id": "cfd9273f",
      "metadata": {},
      "outputs": [],
      "source": [
        "# Plot mean\n",
        "plt.figure(figsize=(10,10))\n",
        "for j in range(mean_xs.shape[1]):\n",
        "    plt.plot(ts,mean_xs[:,j])\n",
        "plt.xlabel(\"time\")\n",
        "plt.ylabel(\"x\")\n",
        "plt.show()"
      ]
    },
    {
      "cell_type": "code",
      "execution_count": null,
      "id": "10612a03",
      "metadata": {},
      "outputs": [],
      "source": [
        "destination_attraction = np.exp(sim.log_true_destination_attraction)/np.sum(np.exp(sim.log_true_destination_attraction))\n",
        "fig1, ax1 = plt.subplots(figsize=(8,8))\n",
        "ax1.set_title('Proportion of destination attraction by zone')\n",
        "ax1.pie(destination_attraction, labels=range(J), autopct='%1.1f%%',\n",
        "        shadow=True, startangle=90)\n",
        "ax1.axis('equal')\n",
        "plt.show()"
      ]
    },
    {
      "cell_type": "code",
      "execution_count": null,
      "id": "0f95efc0",
      "metadata": {},
      "outputs": [],
      "source": [
        "destination_attraction_solution = np.exp(mean_xs[-1])/np.sum(np.exp(mean_xs[-1]))\n",
        "fig1, ax1 = plt.subplots(figsize=(8,8))\n",
        "ax1.set_title('Proportion of destination attraction SDE solution by zone')\n",
        "ax1.pie(destination_attraction_solution, labels=range(J), autopct='%1.1f%%',\n",
        "        shadow=True, startangle=90)\n",
        "ax1.axis('equal')\n",
        "plt.show()"
      ]
    },
    {
      "cell_type": "code",
      "execution_count": null,
      "id": "c11b0bcb",
      "metadata": {},
      "outputs": [],
      "source": [
        "smallI = 2\n",
        "smallJ = 3"
      ]
    },
    {
      "cell_type": "code",
      "execution_count": null,
      "id": "4b810848",
      "metadata": {},
      "outputs": [],
      "source": [
        "# Compare with this\n",
        "large_table_w_sol = deepcopy(np.exp(solution[-1]))\n",
        "large_table_o = deepcopy(sim.origin_demand)\n",
        "large_table_total = deepcopy(sim.total_flow)\n",
        "large_table_cost = deepcopy(sim.cost_matrix)\n",
        "large_table_intensity = np.exp(sim.log_intensity(np.log(large_table_w_sol),[sim.alpha_true,sim.beta_true*sim.bmax]))\n",
        "\n",
        "large_table_margin_w_sol = (large_table_w_sol[:smallJ]/(1-large_table_w_sol[smallJ:].sum()))\n",
        "large_table_margin_cost = large_table_cost[:smallI,:smallJ]\n",
        "large_table_margin_intensity = large_table_intensity[:smallI,:smallJ]\n",
        "large_table_margin_o = large_table_margin_intensity[:smallI,:smallJ].sum(axis=1)"
      ]
    },
    {
      "cell_type": "code",
      "execution_count": null,
      "id": "91a0033f",
      "metadata": {},
      "outputs": [],
      "source": [
        "smaller_solution = ode_stationary_points_iterative_solver(\n",
        "                    theta_true,\n",
        "                    large_table_margin_o/large_table_margin_o.sum(),\n",
        "                    large_table_margin_cost/large_table_margin_cost.sum(),\n",
        "                    np.log(1/smallJ)*np.ones(smallJ),\n",
        "                    convergence_threshold=1e-10\n",
        ")\n",
        "\n",
        "small_table_w_sol = deepcopy(np.exp(smaller_solution[-1]))\n",
        "smaller_sim = deepcopy(sim)\n",
        "smaller_sim.cost_matrix = large_table_margin_cost/large_table_margin_cost.sum()\n",
        "smaller_sim.origin_demand = large_table_margin_o/large_table_margin_o.sum()\n",
        "smaller_sim.total_flow = large_table_margin_o.sum()\n",
        "smaller_sim.I = smallI\n",
        "smaller_sim.dims[1] = smallJ\n",
        "small_table_intensity = np.exp(smaller_sim.log_intensity(smaller_solution[-1],[sim.alpha_true,sim.beta_true*sim.bmax]))"
      ]
    },
    {
      "cell_type": "code",
      "execution_count": null,
      "id": "3a3991f5",
      "metadata": {},
      "outputs": [],
      "source": [
        "plt.figure(figsize=(10,10))\n",
        "plt.imshow(large_table_margin_intensity, cmap=plt.cm.coolwarm, interpolation='nearest')\n",
        "for (j,i),label in np.ndenumerate(large_table_margin_intensity):\n",
        "    plt.text(i,j,int(label),ha='center',va='center')\n",
        "    plt.text(i,j,int(label),ha='center',va='center')\n",
        "plt.show()"
      ]
    },
    {
      "cell_type": "code",
      "execution_count": null,
      "id": "a9648bf9",
      "metadata": {},
      "outputs": [],
      "source": [
        "plt.figure(figsize=(10,10))\n",
        "plt.imshow(small_table_intensity, cmap=plt.cm.coolwarm, interpolation='nearest')\n",
        "for (j,i),label in np.ndenumerate(small_table_intensity):\n",
        "    plt.text(i,j,int(label),ha='center',va='center')\n",
        "    plt.text(i,j,int(label),ha='center',va='center')\n",
        "plt.show()"
      ]
    },
    {
      "attachments": {},
      "cell_type": "markdown",
      "id": "f2d0a721",
      "metadata": {},
      "source": [
        "# Plot demand size curves"
      ]
    },
    {
      "cell_type": "code",
      "execution_count": null,
      "id": "fd9dcde0",
      "metadata": {},
      "outputs": [],
      "source": [
        "def ode_log_stationary_points_partial_update(fixed_index,xx,theta,origin_demand,cost_matrix):\n",
        "    # Get dimensions of cost matrix\n",
        "    _,ncols = np.shape(cost_matrix)\n",
        "    alpha = theta[0]\n",
        "    kappa = theta[4]\n",
        "    delta = theta[2]\n",
        "\n",
        "    # Compute lambdas\n",
        "    log_lambdas = log_flow_matrix(np.asarray(xx),np.asarray(theta),origin_demand,cost_matrix,1.0)\n",
        "    # Get log stationary points\n",
        "    log_stationary_points = np.log((np.sum(np.exp(log_lambdas),axis=0) + delta)) - np.log(kappa)\n",
        "    log_stationary_points[fixed_index] = xx[fixed_index]\n",
        "    \n",
        "    return log_stationary_points\n",
        "\n",
        "def ode_stationary_points_partial_iterative_solver(fixed_index,fixed_value,theta,origin_demand,cost_matrix,convergence_threshold:float=1e-9):\n",
        "    # Extract necessary data\n",
        "    delta = theta[2]\n",
        "    _,ncols = np.shape(cost_matrix)\n",
        "    # Start with the same attraction for every zone\n",
        "    log_destination_attraction_prev = np.log(delta)*np.ones(ncols)\n",
        "    log_destination_attraction_prev[fixed_index] = np.log(fixed_value)\n",
        "    # Perform update for stationary points\n",
        "    log_destination_attraction_new = ode_log_stationary_points_partial_update(fixed_index,log_destination_attraction_prev,theta,origin_demand,cost_matrix)\n",
        "    log_destination_attractions = log_destination_attraction_prev.reshape(1,np.shape(log_destination_attraction_prev)[0])\n",
        "    # Solve equation until successive solutions do not change signficantly (equilibrium point identified)\n",
        "    while (np.absolute(log_destination_attraction_new-log_destination_attraction_prev) > convergence_threshold).any():\n",
        "        log_destination_attraction_prev = log_destination_attraction_new\n",
        "        log_destination_attraction_prev[fixed_index] = np.log(fixed_value)\n",
        "        log_destination_attraction_new = ode_log_stationary_points_partial_update(fixed_index,log_destination_attraction_prev,theta,origin_demand,cost_matrix)\n",
        "        log_destination_attractions = np.append(log_destination_attractions,log_destination_attraction_new.reshape(1,np.shape(log_destination_attraction_new)[0]),axis=0)\n",
        "\n",
        "    return log_destination_attractions"
      ]
    },
    {
      "cell_type": "code",
      "execution_count": null,
      "id": "2860c7a7",
      "metadata": {},
      "outputs": [],
      "source": [
        "fig,axs = plt.subplots(nrows=int(J//3),ncols=3,figsize=(30,10))\n",
        "for j in range(sim.dims[1]):\n",
        "    xxs = deepcopy(solution[-1])\n",
        "    size = np.empty(100)\n",
        "    demand = np.empty(100)\n",
        "    for i,val in enumerate(np.linspace(1e-10,1.0,100)):\n",
        "        xxs = ode_stationary_points_partial_iterative_solver(j,val,theta_true,sim.origin_demand,sim.cost_matrix,convergence_threshold=1e-9)[-1]\n",
        "        size[i] = np.exp(xxs[j])\n",
        "        demand[i] = np.exp(log_flow_matrix(xxs,theta_true,sim.origin_demand,sim.cost_matrix,1.0)).sum(axis=0)[j]\n",
        "    if sim.dims[1] <= 3:\n",
        "        axs[j].plot(size,demand,label='Demand')\n",
        "        axs[j].set_xlabel(r'$W_j$',fontsize=16,labelpad=-5)\n",
        "        axs[j].set_ylabel(r'$D_j$',rotation=0,labelpad=10,fontsize=16)\n",
        "        axs[j].set_title(f'Destination {j}')\n",
        "        axs[j].plot(size,sim.kappa*size,label='Cost')\n",
        "        axs[j].legend()\n",
        "    else:\n",
        "        axs[int(j//3),j%3].plot(size,demand,label='Demand')\n",
        "        axs[int(j//3),j%3].set_xlabel(r'$W_j$',fontsize=16,labelpad=-5)\n",
        "        axs[int(j//3),j%3].set_ylabel(r'$D_j$',rotation=0,labelpad=10,fontsize=16)\n",
        "        axs[int(j//3),j%3].set_title(f'Destination {j}')\n",
        "        axs[int(j//3),j%3].plot(size,sim.kappa*size,label='Cost')\n",
        "        axs[int(j//3),j%3].legend()"
      ]
    },
    {
      "attachments": {},
      "cell_type": "markdown",
      "id": "2a923f0f",
      "metadata": {},
      "source": [
        "# Export to file"
      ]
    },
    {
      "cell_type": "code",
      "execution_count": null,
      "id": "292abaf3",
      "metadata": {},
      "outputs": [],
      "source": [
        "# ct.table = ct.table_monte_carlo_sample()"
      ]
    },
    {
      "cell_type": "code",
      "execution_count": null,
      "id": "021ec575",
      "metadata": {},
      "outputs": [],
      "source": [
        "ct.export(f\"../data/inputs/synthetic_{I}x{J}_N_{N}/\",overwrite=True)"
      ]
    },
    {
      "cell_type": "code",
      "execution_count": null,
      "id": "a8a436e3",
      "metadata": {},
      "outputs": [],
      "source": [
        "sim.export(f\"../data/inputs/synthetic_{I}x{J}_N_{N}/\",overwrite=True)"
      ]
    }
  ],
  "metadata": {
    "kernelspec": {
      "display_name": "ticodm",
      "language": "python",
      "name": "ticodm"
    },
    "language_info": {
      "codemirror_mode": {
        "name": "ipython",
        "version": 3
      },
      "file_extension": ".py",
      "mimetype": "text/x-python",
      "name": "python",
      "nbconvert_exporter": "python",
      "pygments_lexer": "ipython3",
      "version": "3.8.5"
    }
  },
  "nbformat": 4,
  "nbformat_minor": 5
}
