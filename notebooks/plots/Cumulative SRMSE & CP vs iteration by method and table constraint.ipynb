{
 "cells": [
  {
   "cell_type": "code",
   "execution_count": 1,
   "id": "c76b8620",
   "metadata": {},
   "outputs": [],
   "source": [
    "import os\n",
    "import glob\n",
    "import warnings\n",
    "import h5py as h5\n",
    "import numpy as np\n",
    "import pandas as pd\n",
    "import matplotlib as mpl\n",
    "mpl.use('ps')\n",
    "import matplotlib.pyplot as plt\n",
    "\n",
    "from copy import deepcopy\n",
    "from tqdm.auto import tqdm\n",
    "from matplotlib.ticker import MultipleLocator\n",
    "# from IPython.core.display import display, HTML\n",
    "\n",
    "from gensit.config import Config\n",
    "from gensit.inputs import Inputs\n",
    "from gensit.outputs import Outputs\n",
    "from gensit.utils.misc_utils import *\n",
    "from gensit.utils.math_utils import *\n",
    "\n",
    "from gensit.utils.probability_utils import *\n",
    "from gensit.contingency_table import instantiate_ct\n",
    "from gensit.contingency_table.ContingencyTable_MCMC import ContingencyTableMarkovChainMonteCarlo\n",
    "\n",
    "from gensit.config import Config\n",
    "from gensit.inputs import Inputs\n",
    "from gensit.utils.misc_utils import *\n",
    "from gensit.static.plot_variables import *\n",
    "from gensit.static.global_variables import *\n",
    "from gensit.outputs import Outputs,OutputSummary"
   ]
  },
  {
   "cell_type": "code",
   "execution_count": 2,
   "id": "b718b815",
   "metadata": {},
   "outputs": [],
   "source": [
    "%matplotlib inline\n",
    "\n",
    "# AUTO RELOAD EXTERNAL MODULES\n",
    "%load_ext autoreload\n",
    "%autoreload 2"
   ]
  },
  {
   "cell_type": "code",
   "execution_count": 3,
   "id": "83599fa1",
   "metadata": {},
   "outputs": [],
   "source": [
    "# LaTeX font configuration\n",
    "mpl.rcParams.update(LATEX_RC_PARAMETERS)"
   ]
  },
  {
   "cell_type": "markdown",
   "id": "8785d438",
   "metadata": {},
   "source": [
    "# Cumulative SRMSE & CP vs iteration by constraints, method\n",
    "variable = table\n",
    "\n",
    "sigma = high\n",
    "\n",
    "constraints = rowsums, doubly_and_20percent_cells"
   ]
  },
  {
   "cell_type": "code",
   "execution_count": null,
   "id": "3ddac5e6",
   "metadata": {},
   "outputs": [],
   "source": [
    "datapath = \"../data/outputs/cambridge_work_commuter_lsoas_to_msoas/exp1/paper_figures/figure2/cumulative_srmse_and_cp_by_method_label_title&sigma_marker_sigma_markersize_table_coverage_probability_size_linewidth_1.0_colour_title_opacity_1.0_hatchopacity_1.0\"\n",
    "srmseoutputpath =\"../data/outputs/cambridge_work_commuter_lsoas_to_msoas/exp1/paper_figures/figure2_v2/cumulative_srmse_vs_iteration_by_constraints_method|rowsums|20percent_cells|high_noise\"\n",
    "cpoutputpath =\"../data/outputs/cambridge_work_commuter_lsoas_to_msoas/exp1/paper_figures/figure2_v2/cumulative_cp_vs_iteration_by_constraints_method|rowsums|20percent_cells|high_noise\""
   ]
  },
  {
   "cell_type": "code",
   "execution_count": 5,
   "id": "63679bfc",
   "metadata": {},
   "outputs": [],
   "source": [
    "data = read_json(datapath+'_data.json')\n",
    "settings = read_json(datapath+'_settings.json')"
   ]
  },
  {
   "cell_type": "code",
   "execution_count": 6,
   "id": "315a4f84",
   "metadata": {},
   "outputs": [],
   "source": [
    "slice_vals = ['$\\\\mytablecolsums$, $\\\\sigma = 0.014$',\n",
    "'$\\\\mytablecolsums,\\\\mytablerowsums,\\\\mytablecells{_2}$, $\\\\sigma = 0.014$']\n",
    "slice_key = 'label'\n",
    "slice_index = []\n",
    "for i,v in enumerate(data[slice_key]):\n",
    "    if v in slice_vals and ('Disjoint' not in data['label'][i]):\n",
    "        slice_index.append(i)"
   ]
  },
  {
   "cell_type": "code",
   "execution_count": 7,
   "id": "a9b595bd",
   "metadata": {},
   "outputs": [],
   "source": [
    "# index2 = []\n",
    "# for i,v in enumerate(data['label']):\n",
    "#     if v == '$\\\\mathbf{T}_{+\\\\cdot},\\\\mathbf{T}_{\\\\cdot +}$, $\\\\sigma = 0.014$' and data['x'][i][0] == '\\zachosframeworktag':\n",
    "#         index2.append(i)"
   ]
  },
  {
   "cell_type": "code",
   "execution_count": 8,
   "id": "20a41ca0",
   "metadata": {},
   "outputs": [
    {
     "name": "stdout",
     "output_type": "stream",
     "text": [
      "x (36, 2)\n",
      "y (36, 2)\n",
      "z (36, 2, 0)\n",
      "x_group (0,)\n",
      "y_group (0,)\n",
      "z_group (0,)\n",
      "marker_size (36,)\n",
      "line_width (36,)\n",
      "line_style (36,)\n",
      "colour (36,)\n",
      "opacity (36,)\n",
      "hatch_opacity (36,)\n",
      "zorder (36,)\n",
      "annotate ()\n",
      "label (36,)\n",
      "marker (36,)\n",
      "hatch ()\n",
      "outputs ()\n",
      "newlabel (36,)\n",
      "newx (36,)\n"
     ]
    }
   ],
   "source": [
    "data_slice = deepcopy(data)\n",
    "for k in [j for j in data.keys() if j not in ['outputs','x_group','y_group','z_group','annotate','hatch']]:\n",
    "    data_slice[k] = np.array(data_slice[k])[slice_index].tolist()\n",
    "data_slice['newlabel'] = np.array(data_slice['x'])[:,0].tolist()\n",
    "data_slice['newx'] = np.array(data_slice['x'])[:,1].tolist()\n",
    "for k,v in data_slice.items():\n",
    "    print(k,np.shape(v))"
   ]
  },
  {
   "cell_type": "code",
   "execution_count": 31,
   "id": "fafca36e",
   "metadata": {},
   "outputs": [],
   "source": [
    "fontsize = 14"
   ]
  },
  {
   "cell_type": "code",
   "execution_count": 32,
   "id": "69de2600",
   "metadata": {},
   "outputs": [
    {
     "name": "stdout",
     "output_type": "stream",
     "text": [
      "0 $\\mytablecolsums,\\mytablerowsums,\\mytablecells{_2}$, \\;\\zachosframeworktag\n",
      "1 $\\mytablecolsums,\\mytablerowsums,\\mytablecells{_2}$, \\;\\zachosframeworktag\n",
      "2 $\\mytablecolsums,\\mytablerowsums,\\mytablecells{_2}$, \\;\\zachosframeworktag\n",
      "3 $\\mytablecolsums,\\mytablerowsums,\\mytablecells{_2}$, \\;\\zachosframeworktag\n",
      "4 $\\mytablecolsums,\\mytablerowsums,\\mytablecells{_2}$, \\;\\zachosframeworktag\n",
      "5 $\\mytablecolsums,\\mytablerowsums,\\mytablecells{_2}$, \\;\\zachosframeworktag\n",
      "6 $\\mytablecolsums$, \\;\\zachosframeworktag\n",
      "7 $\\mytablecolsums$, \\;\\zachosframeworktag\n",
      "8 $\\mytablecolsums$, \\;\\zachosframeworktag\n",
      "9 $\\mytablecolsums$, \\;\\zachosframeworktag\n",
      "10 $\\mytablecolsums$, \\;\\zachosframeworktag\n",
      "11 $\\mytablecolsums$, \\;\\zachosframeworktag\n",
      "12 $\\mytablecolsums,\\mytablerowsums,\\mytablecells{_2}$, \\;Joint (\\frameworktag)\n",
      "13 $\\mytablecolsums,\\mytablerowsums,\\mytablecells{_2}$, \\;Joint (\\frameworktag)\n",
      "14 $\\mytablecolsums,\\mytablerowsums,\\mytablecells{_2}$, \\;Joint (\\frameworktag)\n",
      "15 $\\mytablecolsums,\\mytablerowsums,\\mytablecells{_2}$, \\;Joint (\\frameworktag)\n",
      "16 $\\mytablecolsums,\\mytablerowsums,\\mytablecells{_2}$, \\;Joint (\\frameworktag)\n",
      "17 $\\mytablecolsums,\\mytablerowsums,\\mytablecells{_2}$, \\;Joint (\\frameworktag)\n",
      "18 $\\mytablecolsums$, \\;Joint (\\frameworktag)\n",
      "19 $\\mytablecolsums$, \\;Joint (\\frameworktag)\n",
      "20 $\\mytablecolsums$, \\;Joint (\\frameworktag)\n",
      "21 $\\mytablecolsums$, \\;Joint (\\frameworktag)\n",
      "22 $\\mytablecolsums$, \\;Joint (\\frameworktag)\n",
      "23 $\\mytablecolsums$, \\;Joint (\\frameworktag)\n"
     ]
    },
    {
     "name": "stderr",
     "output_type": "stream",
     "text": [
      "The PostScript backend does not support transparency; partially transparent artists will be rendered opaque.\n"
     ]
    }
   ],
   "source": [
    "fig,ax = plt.subplots()#figsize=(10,15)\n",
    "ax.set_box_aspect(1)\n",
    "\n",
    "cs = ['#8ebeda', '#8ebeda', '#a6c858', '#a6c858']#'#8ebeda' '#a6c858', '#ca4a58', '#e0ad41'\n",
    "markers = ['o','^','o','^']\n",
    "for jindx, j in enumerate(list(range(0,len(cs)*6,6))):\n",
    "    # print(jindx,(j,j+6))\n",
    "    for i in range(j,j+6):\n",
    "        print(i,(data_slice['label'][i]+', \\;'+data_slice['newlabel'][i]).replace(\", $\\\\sigma = 0.014$\",\"\"))\n",
    "        plot_label = (data_slice['label'][i]+', \\;'+data_slice['newlabel'][i]).replace(\", $\\\\sigma = 0.014$\",\"\")\n",
    "        _ = ax.scatter(\n",
    "            list(map(int,data_slice['newx']))[i],\n",
    "            np.array(data_slice['y'][i])[0],\n",
    "            linewidth = 1.0,\n",
    "            alpha=1.0,\n",
    "            c = cs[jindx],\n",
    "            marker = markers[jindx],\n",
    "            label = plot_label,\n",
    "        )\n",
    "    _ = ax.plot(\n",
    "        list(map(int,data_slice['newx']))[slice(j,j+6)],\n",
    "        np.array(data_slice['y'][slice(j,j+6)])[:,0],\n",
    "        linewidth = 1.0,\n",
    "        c = cs[jindx],\n",
    "        marker = markers[jindx]\n",
    "    )\n",
    "\n",
    "ax.tick_params(labelsize=fontsize)\n",
    "ax.xaxis.set_major_locator(MultipleLocator(20000))\n",
    "plt.xlabel(r'$N$',fontsize=fontsize)\n",
    "plt.ylabel(r'SRMSE',fontsize=fontsize)\n",
    "\n",
    "handles, labels = plt.gca().get_legend_handles_labels()\n",
    "by_label = dict(zip(labels, handles))\n",
    "_ = plt.legend(by_label.values(), by_label.keys(),fontsize=9,ncol=1)\n",
    "\n",
    "# fig.tight_layout(rect=(0, 0, 0.7, 1.1))\n",
    "# fig.tight_layout()\n",
    "\n",
    "# plt.show()\n",
    "write_figure(\n",
    "    fig,\n",
    "    srmseoutputpath,\n",
    "    filename_ending='ps',\n",
    "    pad_inches=0.0,\n",
    "    bbox_inches='tight'\n",
    ")"
   ]
  },
  {
   "cell_type": "code",
   "execution_count": 33,
   "id": "0fd7fe7e",
   "metadata": {},
   "outputs": [
    {
     "name": "stdout",
     "output_type": "stream",
     "text": [
      "0 $\\mytablecolsums,\\mytablerowsums,\\mytablecells{_2}$, \\;\\zachosframeworktag\n",
      "1 $\\mytablecolsums,\\mytablerowsums,\\mytablecells{_2}$, \\;\\zachosframeworktag\n",
      "2 $\\mytablecolsums,\\mytablerowsums,\\mytablecells{_2}$, \\;\\zachosframeworktag\n",
      "3 $\\mytablecolsums,\\mytablerowsums,\\mytablecells{_2}$, \\;\\zachosframeworktag\n",
      "4 $\\mytablecolsums,\\mytablerowsums,\\mytablecells{_2}$, \\;\\zachosframeworktag\n",
      "5 $\\mytablecolsums,\\mytablerowsums,\\mytablecells{_2}$, \\;\\zachosframeworktag\n",
      "6 $\\mytablecolsums$, \\;\\zachosframeworktag\n",
      "7 $\\mytablecolsums$, \\;\\zachosframeworktag\n",
      "8 $\\mytablecolsums$, \\;\\zachosframeworktag\n",
      "9 $\\mytablecolsums$, \\;\\zachosframeworktag\n",
      "10 $\\mytablecolsums$, \\;\\zachosframeworktag\n",
      "11 $\\mytablecolsums$, \\;\\zachosframeworktag\n",
      "12 $\\mytablecolsums,\\mytablerowsums,\\mytablecells{_2}$, \\;Joint (\\frameworktag)\n",
      "13 $\\mytablecolsums,\\mytablerowsums,\\mytablecells{_2}$, \\;Joint (\\frameworktag)\n",
      "14 $\\mytablecolsums,\\mytablerowsums,\\mytablecells{_2}$, \\;Joint (\\frameworktag)\n",
      "15 $\\mytablecolsums,\\mytablerowsums,\\mytablecells{_2}$, \\;Joint (\\frameworktag)\n",
      "16 $\\mytablecolsums,\\mytablerowsums,\\mytablecells{_2}$, \\;Joint (\\frameworktag)\n",
      "17 $\\mytablecolsums,\\mytablerowsums,\\mytablecells{_2}$, \\;Joint (\\frameworktag)\n",
      "18 $\\mytablecolsums$, \\;Joint (\\frameworktag)\n",
      "19 $\\mytablecolsums$, \\;Joint (\\frameworktag)\n",
      "20 $\\mytablecolsums$, \\;Joint (\\frameworktag)\n",
      "21 $\\mytablecolsums$, \\;Joint (\\frameworktag)\n",
      "22 $\\mytablecolsums$, \\;Joint (\\frameworktag)\n",
      "23 $\\mytablecolsums$, \\;Joint (\\frameworktag)\n"
     ]
    },
    {
     "name": "stderr",
     "output_type": "stream",
     "text": [
      "The PostScript backend does not support transparency; partially transparent artists will be rendered opaque.\n"
     ]
    }
   ],
   "source": [
    "fig,ax = plt.subplots(figsize=(10,4))\n",
    "ax.set_box_aspect(1)\n",
    "\n",
    "cs = ['#8ebeda', '#8ebeda', '#a6c858', '#a6c858']#'#8ebeda' '#a6c858', '#ca4a58', '#e0ad41'\n",
    "markers = ['o','^','o','^']\n",
    "for jindx, j in enumerate(list(range(0,len(cs)*6,6))):\n",
    "    # print(jindx,(j,j+6))\n",
    "    for i in range(j,j+6):\n",
    "        print(i,(data_slice['label'][i]+', \\;'+data_slice['newlabel'][i]).replace(\", $\\\\sigma = 0.014$\",\"\"))\n",
    "        _ = ax.scatter(\n",
    "            list(map(int,data_slice['newx']))[i],\n",
    "            100*(np.log(data_slice['marker_size'][i])+2)/8,\n",
    "            linewidth = 1.0,\n",
    "            alpha=1.0,\n",
    "            c = cs[jindx],\n",
    "            marker = markers[jindx],\n",
    "            label = (data_slice['label'][i]+', \\;'+data_slice['newlabel'][i]).replace(\", $\\\\sigma = 0.014$\",\"\"),\n",
    "        )\n",
    "    _ = ax.plot(\n",
    "        list(map(int,data_slice['newx']))[slice(j,j+6)],\n",
    "        100*(np.log(data_slice['marker_size'][slice(j,j+6)])+2)/8,\n",
    "        linewidth = 1.0,\n",
    "        c = cs[jindx],\n",
    "        marker = markers[jindx]\n",
    "    )\n",
    "ax.tick_params(labelsize=fontsize)\n",
    "ax.xaxis.set_major_locator(MultipleLocator(20000))\n",
    "plt.xlabel(r'$N$',fontsize=fontsize)\n",
    "plt.ylabel(r'CP',fontsize=fontsize)\n",
    "\n",
    "handles, labels = plt.gca().get_legend_handles_labels()\n",
    "by_label = dict(zip(labels, handles))\n",
    "_ = plt.legend(by_label.values(), by_label.keys(),\n",
    "               fontsize=9,ncol=1,loc='best', bbox_to_anchor=(0.5, 0., 0.5, 0.5))\n",
    "\n",
    "# fig.tight_layout(rect=(0, 0, 0.7, 1.1))\n",
    "# plt.tight_layout()\n",
    "\n",
    "write_figure(\n",
    "    fig,\n",
    "    cpoutputpath,\n",
    "    filename_ending='ps',\n",
    "    pad_inches=0.0,\n",
    "    bbox_inches='tight'\n",
    ")"
   ]
  }
 ],
 "metadata": {
  "kernelspec": {
   "display_name": "gensit",
   "language": "python",
   "name": "python3"
  },
  "language_info": {
   "codemirror_mode": {
    "name": "ipython",
    "version": 3
   },
   "file_extension": ".py",
   "mimetype": "text/x-python",
   "name": "python",
   "nbconvert_exporter": "python",
   "pygments_lexer": "ipython3",
   "version": "3.10.0"
  }
 },
 "nbformat": 4,
 "nbformat_minor": 5
}
