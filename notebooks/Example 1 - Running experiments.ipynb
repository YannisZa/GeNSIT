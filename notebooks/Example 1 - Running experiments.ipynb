{
 "cells": [
  {
   "cell_type": "code",
   "execution_count": null,
   "id": "c76b8620",
   "metadata": {},
   "outputs": [],
   "source": [
    "import os\n",
    "import glob\n",
    "import warnings\n",
    "import h5py as h5\n",
    "import numpy as np\n",
    "import pandas as pd\n",
    "import matplotlib as mpl\n",
    "import matplotlib.pyplot as plt\n",
    "\n",
    "from tqdm.auto import tqdm\n",
    "from copy import deepcopy\n",
    "\n",
    "from gensit.experiments import *\n",
    "from gensit.config import Config\n",
    "from gensit.inputs import Inputs\n",
    "from gensit.outputs import Outputs\n",
    "from gensit.utils.misc_utils import *\n",
    "from gensit.utils.math_utils import *\n",
    "from gensit.utils.probability_utils import *"
   ]
  },
  {
   "cell_type": "code",
   "execution_count": null,
   "id": "b718b815",
   "metadata": {},
   "outputs": [],
   "source": [
    "%matplotlib inline\n",
    "\n",
    "# AUTO RELOAD EXTERNAL MODULES\n",
    "%load_ext autoreload\n",
    "%autoreload 2"
   ]
  },
  {
   "cell_type": "markdown",
   "id": "880cdfcb",
   "metadata": {},
   "source": [
    "## Load experiment config"
   ]
  },
  {
   "cell_type": "code",
   "execution_count": null,
   "id": "e21669cd",
   "metadata": {},
   "outputs": [],
   "source": [
    "# Specify experiment id\n",
    "config_id = \"generic/joint_table_sim_inference.toml\"\n",
    "config_dir = f'../data/inputs/configs/{config_id}'\n",
    "relative_config_dir = os.path.relpath(config_dir,os.getcwd())"
   ]
  },
  {
   "cell_type": "code",
   "execution_count": null,
   "id": "9b1c638c",
   "metadata": {},
   "outputs": [],
   "source": [
    "# Create new logging object\n",
    "logger = setup_logger(\n",
    "    __name__,\n",
    "    console_level = 'INFO',\n",
    "    file_level = 'EMPTY'\n",
    ")\n",
    "\n",
    "# Read config\n",
    "config = Config(\n",
    "    path = relative_config_dir,\n",
    "    console_level = 'INFO',\n",
    "    logger = logger\n",
    ")\n",
    "\n",
    "# Update root\n",
    "config.path_sets_root()\n",
    "\n",
    "# Chane number of iterations to 100\n",
    "config['training']['N'] = 100"
   ]
  },
  {
   "cell_type": "code",
   "execution_count": null,
   "id": "3bddab4f",
   "metadata": {},
   "outputs": [],
   "source": [
    "# Intialise experiment handler\n",
    "eh = ExperimentHandler(\n",
    "    config,\n",
    "    experiment_types = ['JointTableSIM_MCMC'],\n",
    "    logger = logger\n",
    ")"
   ]
  },
  {
   "cell_type": "code",
   "execution_count": null,
   "id": "7435b6fc",
   "metadata": {},
   "outputs": [],
   "source": [
    "# Run experiment\n",
    "eh.experiments['JointTableSIM_MCMC'].run()"
   ]
  }
 ],
 "metadata": {
  "kernelspec": {
   "display_name": "gensit",
   "language": "python",
   "name": "python3"
  },
  "language_info": {
   "codemirror_mode": {
    "name": "ipython",
    "version": 3
   },
   "file_extension": ".py",
   "mimetype": "text/x-python",
   "name": "python",
   "nbconvert_exporter": "python",
   "pygments_lexer": "ipython3",
   "version": "3.10.0"
  }
 },
 "nbformat": 4,
 "nbformat_minor": 5
}
