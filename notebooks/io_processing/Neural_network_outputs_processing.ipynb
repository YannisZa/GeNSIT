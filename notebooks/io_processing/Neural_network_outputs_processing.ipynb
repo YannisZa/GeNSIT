{
  "cells": [
    {
      "cell_type": "code",
      "execution_count": null,
      "id": "f265100f",
      "metadata": {},
      "outputs": [],
      "source": [
        "import os\n",
        "import sys\n",
        "module_path = os.path.abspath(os.path.join('..'))\n",
        "if module_path not in sys.path:\n",
        "    sys.path.append(module_path)\n",
        "# Use pygeos in geopandas\n",
        "os.environ['USE_PYGEOS'] = '0'\n",
        "\n",
        "import glob\n",
        "import warnings\n",
        "import ruamel.yaml as yaml\n",
        "\n",
        "from tqdm.auto import tqdm\n",
        "import ticodm.spatial_interaction_model as SIM_Model\n",
        "\n",
        "from ticodm.utils import *\n",
        "from ticodm.notebook_functions import *\n",
        "\n",
        "\n",
        "warnings.simplefilter(\"ignore\")\n",
        "# mpl.rcParams['agg.path.chunksize'] = 10000"
      ]
    },
    {
      "cell_type": "code",
      "execution_count": null,
      "id": "8a3b3bf2",
      "metadata": {},
      "outputs": [],
      "source": [
        "%matplotlib inline\n",
        "\n",
        "# AUTO RELOAD EXTERNAL MODULES\n",
        "%load_ext autoreload\n",
        "%autoreload 2"
      ]
    },
    {
      "attachments": {},
      "cell_type": "markdown",
      "id": "80c30bfa",
      "metadata": {},
      "source": [
        "## Import outputs"
      ]
    },
    {
      "cell_type": "code",
      "execution_count": null,
      "id": "bcf844b4",
      "metadata": {},
      "outputs": [],
      "source": [
        "# Expertiment id\n",
        "geometry_name = 'lsoas_to_msoas'\n",
        "origin_geometry_name = 'lsoa'\n",
        "destination_geometry_name = 'msoa'\n",
        "\n",
        "model_name = f\"HarrisWilson\"\n",
        "dataset_name = f'Cambridge_dataset'\n",
        "output_folders = ['230517-155009_Cambridge_dataset', '230517-155253_Cambridge_dataset', '230517-155328_Cambridge_dataset', '230517-155111_Cambridge_dataset']\n",
        "\n",
        "# ['230329-204900_Cambridge_dataset','230329-191251_Cambridge_dataset']\n",
        "# ['230407-160548_Cambridge_dataset','230407-160656_Cambridge_dataset']\n",
        "# ['230407-170452_Cambridge_dataset','230407-165252_Cambridge_dataset']\n",
        "# ['230407-172705_Cambridge_dataset', '230407-172757_Cambridge_dataset']\n",
        "#'230329-204900_Cambridge_dataset','230407-160548_Cambridge_dataset','230407-170452_Cambridge_dataset' --> max normalised (sigma fixed)\n",
        "#'230329-191251_Cambridge_dataset','230407-160656_Cambridge_dataset','230407-165252_Cambridge_dataset' --> max normalised (sigma learned)"
      ]
    },
    {
      "cell_type": "code",
      "execution_count": null,
      "id": "63dafef8",
      "metadata": {},
      "outputs": [],
      "source": [
        "low_noise_data = {\"TotalConstrained\":{},\"ProductionConstrained\":{}}\n",
        "high_noise_data = {\"TotalConstrained\":{},\"ProductionConstrained\":{}}\n",
        "learned_noise_data = {\"TotalConstrained\":{},\"ProductionConstrained\":{}}\n",
        "\n",
        "low_noise_config = {\"TotalConstrained\":{},\"ProductionConstrained\":{}}\n",
        "high_noise_config = {\"TotalConstrained\":{},\"ProductionConstrained\":{}}\n",
        "learned_noise_config = {\"TotalConstrained\":{},\"ProductionConstrained\":{}}\n",
        "\n",
        "keys_of_interest = [\"alpha\",\"beta\",\"loss\",\"pred_dest_sizes\"]\n",
        "\n",
        "for output_folder in output_folders:\n",
        "    # Define directory\n",
        "    outputs_data_path = f'../../NeuralABM/outputs/HarrisWilson/{output_folder}/data/'\n",
        "    config_path = f\"../../NeuralABM/outputs/HarrisWilson/{output_folder}/config/run_cfg.yml\"\n",
        "    for filepath in tqdm(sorted(glob.glob(os.path.join(outputs_data_path,\"*\")))):\n",
        "        # Read config\n",
        "        with open(os.path.join(filepath,'config.yml'), \"r\") as stream:\n",
        "            config = yaml.safe_load(stream)\n",
        "        data_slice = read_h5_data(filepath,keys=keys_of_interest)\n",
        "        sigma = config['HarrisWilson']['Training']['true_parameters'].get('sigma',-1)\n",
        "        sim_type = config['HarrisWilson']['FlowModel'].replace('ABM','')\n",
        "        if sigma <= 0.05 and sigma >= 0:\n",
        "            low_noise_config[sim_type] = config\n",
        "            if not str_in_list(low_noise_config[sim_type]['seed'],low_noise_data[sim_type].keys()): \n",
        "                low_noise_data[sim_type][low_noise_config[sim_type]['seed']] = dict(zip(keys_of_interest,[None]*len(keys_of_interest)))\n",
        "            for k in keys_of_interest:\n",
        "                if low_noise_data[sim_type][low_noise_config[sim_type]['seed']][k] is None:\n",
        "                    low_noise_data[sim_type][low_noise_config[sim_type]['seed']][k] = data_slice[k]\n",
        "                else:\n",
        "                    low_noise_data[sim_type][low_noise_config[sim_type]['seed']][k] = np.append(\n",
        "                        low_noise_data[sim_type][low_noise_config[sim_type]['seed']][k],\n",
        "                        data_slice[k],\n",
        "                        axis=0\n",
        "                    )\n",
        "        elif sigma > 0.05:\n",
        "            high_noise_config[sim_type] = config\n",
        "            if not str_in_list(high_noise_config[sim_type]['seed'],high_noise_data[sim_type].keys()): \n",
        "                high_noise_data[sim_type][high_noise_config[sim_type]['seed']] = dict(zip(keys_of_interest,[None]*len(keys_of_interest)))\n",
        "            for k in keys_of_interest:\n",
        "                if high_noise_data[sim_type][high_noise_config[sim_type]['seed']][k] is None:\n",
        "                    high_noise_data[sim_type][high_noise_config[sim_type]['seed']][k] = data_slice[k]\n",
        "                else:\n",
        "                    high_noise_data[sim_type][high_noise_config[sim_type]['seed']][k] = np.append(\n",
        "                        high_noise_data[sim_type][high_noise_config[sim_type]['seed']][k],\n",
        "                        data_slice[k],\n",
        "                        axis=0\n",
        "                    )\n",
        "        else:\n",
        "            learned_noise_config[sim_type] = config\n",
        "            if not str_in_list(learned_noise_config[sim_type]['seed'],learned_noise_data[sim_type].keys()): \n",
        "                learned_noise_data[sim_type][learned_noise_config[sim_type]['seed']] = dict(zip(keys_of_interest,[None]*len(keys_of_interest)))\n",
        "            for k in keys_of_interest:\n",
        "                if learned_noise_data[sim_type][learned_noise_config[sim_type]['seed']][k] is None:\n",
        "                    learned_noise_data[sim_type][learned_noise_config[sim_type]['seed']][k] = data_slice[k]\n",
        "                else:\n",
        "                    learned_noise_data[sim_type][learned_noise_config[sim_type]['seed']][k] = np.append(\n",
        "                        learned_noise_data[sim_type][learned_noise_config[sim_type]['seed']][k],\n",
        "                        data_slice[k],\n",
        "                        axis=0\n",
        "                    )"
      ]
    },
    {
      "cell_type": "code",
      "execution_count": null,
      "id": "bc0a1c87",
      "metadata": {},
      "outputs": [],
      "source": [
        "BAREBONE_CONFIG = {\n",
        "  \"type\": \"NeuralABM\",\n",
        "  \"experiment_id\": \"exp98\",\n",
        "  \"experiment_data\": \"cambridge_work_commuter_lsoas_to_msoas\",\n",
        "  \"logging_mode\": \"info\",\n",
        "  \"cuda\": False,\n",
        "  \"inputs\": {\n",
        "    \"n_workers\": \"1\",\n",
        "    \"n_threads\": [\"1\",\"1\"],\n",
        "    \"dataset\": \"./data/inputs/cambridge_work_commuter_lsoas_to_msoas/\",\n",
        "    \"contingency_table\": {\n",
        "      \"ct_type\": \"ContingencyTable2D\",\n",
        "      \"sparse_margins\": False,\n",
        "      \"dims\": [\n",
        "        10,\n",
        "        10\n",
        "      ],\n",
        "      \"constraints\": {\n",
        "        \"axes\": \"none\",\n",
        "        \"cells\": \"\"\n",
        "      },\n",
        "      \"import\": {\n",
        "        \"table\": \"table_lsoas_to_msoas.txt\",\n",
        "        \"margins\": [\n",
        "          \"colsums.txt\",\n",
        "          \"rowsums.txt\"\n",
        "        ],\n",
        "        \"cell_values\": \"\"\n",
        "      }\n",
        "    },\n",
        "    \"spatial_interaction_model\": {\n",
        "      \"sim_type\": \"none\",\n",
        "      \"beta_max\": 1.0,\n",
        "      \"epsilon\": 1.0,\n",
        "      \"gamma\": 0.0,\n",
        "      \"delta\": 0.0,\n",
        "      \"kappa\": 1.0000000596046483,#0.02332999159101715,\n",
        "      \"import\": {\n",
        "        \"origin_demand\": \"origin_demand_sum_normalised.txt\",\n",
        "        \"log_destination_attraction\": \"log_destination_attraction_sum_normalised.txt\",\n",
        "        \"cost_matrix\": \"cost_matrices/clustered_facilities_sample_20x20_20_01_2023_sample_20x20_clustered_facilities_ripleys_k_500_euclidean_points%_prob_origin_destination_adjusted_normalised_boundary_only_edge_corrected_cost_matrix_sum_normalised.txt\",\n",
        "      }\n",
        "    },\n",
        "    \"input_path\":\"/home/iz230@ad.eng.cam.ac.uk/ticodm/data/inputs\"\n",
        "  },\n",
        "  \"mcmc\": {\n",
        "    \"N\": 1,\n",
        "  },\n",
        "  \"outputs\": {\n",
        "    \"directory\": \"./data/outputs/\",\n",
        "    \"experiment_title\": \"\",\n",
        "    \"output_path\":\"/home/iz230@ad.eng.cam.ac.uk/ticodm/data/outputs\"\n",
        "  },\n",
        "  \"datetime\": \"none\",\n",
        "  \"table_dim\": \"69x13\",\n",
        "  \"table_total\": 33704,\n",
        "  \"noise_regime\": \"none\"\n",
        "}"
      ]
    },
    {
      "cell_type": "code",
      "execution_count": null,
      "id": "2d5fcfb9",
      "metadata": {},
      "outputs": [],
      "source": [
        "for prefix,name in {\"tc\":\"TotalConstrained\",\"pc\":\"ProductionConstrained\"}.items():\n",
        "    for noise_regime in ['low_noise','high_noise','learned_noise']:\n",
        "        \n",
        "        signs, thetas, log_destination_attractions = prepare_for_export(\n",
        "            globals()[(noise_regime+'_data')][name],\n",
        "            take_mean=False\n",
        "        )\n",
        "        exec(f\"{prefix}_{noise_regime}_signs = signs\")\n",
        "        exec(f\"{prefix}_{noise_regime}_thetas = thetas\")\n",
        "        exec(f\"{prefix}_{noise_regime}_log_destination_attractions = log_destination_attractions\")        "
      ]
    },
    {
      "cell_type": "code",
      "execution_count": null,
      "id": "0b350e27",
      "metadata": {},
      "outputs": [],
      "source": [
        "print('Total constrained SIM')\n",
        "print(tc_low_noise_signs.shape)\n",
        "print(tc_low_noise_thetas.shape)\n",
        "print(tc_low_noise_log_destination_attractions.shape)\n",
        "print('\\n')\n",
        "print(tc_high_noise_signs.shape)\n",
        "print(tc_high_noise_thetas.shape)\n",
        "print(tc_high_noise_log_destination_attractions.shape)\n",
        "print('\\n')\n",
        "print(tc_learned_noise_signs.shape)\n",
        "print(tc_learned_noise_thetas.shape)\n",
        "print(tc_learned_noise_log_destination_attractions.shape)\n",
        "print('\\n')\n",
        "print('Production constrained SIM')\n",
        "print(pc_low_noise_signs.shape)\n",
        "print(pc_low_noise_thetas.shape)\n",
        "print(pc_low_noise_log_destination_attractions.shape)\n",
        "print('\\n')\n",
        "print(pc_high_noise_signs.shape)\n",
        "print(pc_high_noise_thetas.shape)\n",
        "print(pc_high_noise_log_destination_attractions.shape)\n",
        "print('\\n')\n",
        "print(pc_learned_noise_signs.shape)\n",
        "print(pc_learned_noise_thetas.shape)\n",
        "print(pc_learned_noise_log_destination_attractions.shape)"
      ]
    },
    {
      "cell_type": "code",
      "execution_count": null,
      "id": "f388a63a",
      "metadata": {},
      "outputs": [],
      "source": [
        "print('Total constrained SIM')\n",
        "print('low noise',np.min(tc_low_noise_thetas,axis=0),np.max(tc_low_noise_thetas,axis=0))\n",
        "print('high noise',np.min(tc_high_noise_thetas,axis=0),np.max(tc_high_noise_thetas,axis=0))\n",
        "print('learned noise',np.min(tc_learned_noise_thetas,axis=0),np.max(tc_learned_noise_thetas,axis=0))\n",
        "print('\\n')\n",
        "print('Production constrained SIM')\n",
        "print('low noise',np.min(pc_low_noise_thetas,axis=0),np.max(pc_low_noise_thetas,axis=0))\n",
        "print('high noise',np.min(pc_high_noise_thetas,axis=0),np.max(pc_high_noise_thetas,axis=0))\n",
        "print('learned noise',np.min(pc_learned_noise_thetas,axis=0),np.max(pc_learned_noise_thetas,axis=0))\n",
        "print('\\n')"
      ]
    },
    {
      "cell_type": "code",
      "execution_count": null,
      "id": "d6b5f386",
      "metadata": {},
      "outputs": [],
      "source": [
        "low_noise_metadata = prepare_config_for_export(BAREBONE_CONFIG,low_noise_config)\n",
        "high_noise_metadata = prepare_config_for_export(BAREBONE_CONFIG,high_noise_config)\n",
        "learned_noise_metadata = prepare_config_for_export(BAREBONE_CONFIG,learned_noise_config)"
      ]
    },
    {
      "attachments": {},
      "cell_type": "markdown",
      "id": "1925d953",
      "metadata": {},
      "source": [
        "# Intensity"
      ]
    },
    {
      "cell_type": "code",
      "execution_count": null,
      "id": "b8c559a4",
      "metadata": {},
      "outputs": [],
      "source": [
        "cost_matrix = np.loadtxt('../data/inputs/cambridge_work_commuter_lsoas_to_msoas/cost_matrices/clustered_facilities_sample_20x20_20_01_2023_sample_20x20_clustered_facilities_ripleys_k_500_euclidean_points%_prob_origin_destination_adjusted_normalised_boundary_only_edge_corrected_cost_matrix_sum_normalised.txt')\n",
        "# cost_matrix = pd.read_csv('../../NeuralABM/data/HarrisWilson/Cambridge_data/exp_clustered_facilities_sample_20x20_20_01_2023_sample_20x20_clustered_facilities_ripleys_k_500_euclidean_points%_prob_origin_destination_adjusted_normalised_boundary_only_edge_corrected_cost_matrix_max_normalised.csv',index_col=0)\n",
        "# cost_matrix = cost_matrix.values\n",
        "origin_demand = np.loadtxt('../data/inputs/cambridge_work_commuter_lsoas_to_msoas/origin_demand_sum_normalised.txt')\n",
        "\n",
        "employment = pd.read_csv(f'../data/raw/cambridge_commuter/employment_survey_msoa.csv',header=None)\n",
        "employment.columns = [f'{destination_geometry_name}_id','number_of_jobs']\n",
        "destination_attraction = employment['number_of_jobs'].values.astype('float32')\n",
        "destination_attraction /= np.sum(destination_attraction) # 10000\n",
        "\n",
        "table = np.loadtxt('../data/inputs/cambridge_work_commuter_lsoas_to_msoas/table_lsoas_to_msoas.txt')"
      ]
    },
    {
      "cell_type": "code",
      "execution_count": null,
      "id": "55989fd1",
      "metadata": {},
      "outputs": [],
      "source": [
        "sample_index = 2143 \n",
        "plt.figure(figsize=(10,10))\n",
        "plt.scatter(x=np.mean(np.exp(tc_low_noise_log_destination_attractions),axis=0),y=destination_attraction,label='T.C. low noise',color='red')\n",
        "plt.scatter(x=np.mean(np.exp(tc_high_noise_log_destination_attractions),axis=0),y=destination_attraction,label='T.C. high noise',color='green')\n",
        "plt.scatter(x=np.mean(np.exp(tc_learned_noise_log_destination_attractions),axis=0),y=destination_attraction,label='T.C. learned noise',color='blue')\n",
        "plt.scatter(x=np.mean(np.exp(pc_low_noise_log_destination_attractions),axis=0),y=destination_attraction,label='P.C. low noise',color='red', marker='x',s=200)\n",
        "plt.scatter(x=np.mean(np.exp(pc_high_noise_log_destination_attractions),axis=0),y=destination_attraction,label='P.C. high noise',color='green', marker='x',s=200)\n",
        "plt.scatter(x=np.mean(np.exp(pc_learned_noise_log_destination_attractions),axis=0),y=destination_attraction,label='P.C. learned noise',color='blue', marker='x',s=200)\n",
        "# plt.scatter(x=np.exp(low_noise_log_destination_attractions)[sample_index],y=destination_attraction,label='low noise',color='red')\n",
        "# plt.scatter(x=np.exp(high_noise_log_destination_attractions)[sample_index],y=destination_attraction,label='high noise',color='green')\n",
        "# plt.scatter(x=np.exp(learned_noise_log_destination_attractions)[sample_index],y=destination_attraction,label='learned noise',color='blue')\n",
        "plt.plot(np.arange(0,0.35,0.1),np.arange(0,0.35,0.1))\n",
        "plt.legend()\n",
        "plt.show()"
      ]
    },
    {
      "cell_type": "code",
      "execution_count": null,
      "id": "95144410",
      "metadata": {},
      "outputs": [],
      "source": [
        "for prefix,name in {\"tc\":\"TotalConstrained\",\"pc\":\"ProductionConstrained\"}.items():\n",
        "\n",
        "    for noise_regime in ['low_noise','high_noise','learned_noise']:\n",
        "\n",
        "        thetas = globals()[(f\"{prefix}_{noise_regime}_thetas\")]\n",
        "        log_destination_attractions = globals()[(f\"{prefix}_{noise_regime}_log_destination_attractions\")]\n",
        "        sim = getattr(SIM_Model,name)\n",
        "        try:\n",
        "            with ProgressBar(total=thetas.shape[0]) as progress_bar:\n",
        "                temp = sim.log_flow_matrix_vectorised(\n",
        "                    log_destination_attractions,\n",
        "                    thetas,\n",
        "                    origin_demand,\n",
        "                    cost_matrix,\n",
        "                    BAREBONE_CONFIG['table_total'],\n",
        "                    progress_bar\n",
        "                ) \n",
        "            exec(f\"{prefix}_{noise_regime}_log_intensity = temp\")\n",
        "        except:\n",
        "            raise ValueError(f\"Log intensity function failed for {noise_regime} {name}\")"
      ]
    },
    {
      "cell_type": "code",
      "execution_count": null,
      "id": "06d253eb",
      "metadata": {},
      "outputs": [],
      "source": [
        "for prefix,name in {\"tc\":\"TotalConstrained\",\"pc\":\"ProductionConstrained\"}.items():\n",
        "\n",
        "    for noise_regime in ['low_noise','high_noise','learned_noise']:\n",
        "        \n",
        "        log_intensity = globals()[(f\"{prefix}_{noise_regime}_log_intensity\")]\n",
        "        # mean_srmse = np.mean(SRMSE(tab=np.exp(log_intensity),tab0=table[np.newaxis,:].astype('int32')))\n",
        "        # print(f\"Mean SRMSE {name} {noise_regime} = {mean_srmse}\")\n",
        "        srmse_mean = SRMSE(tab=np.mean(np.exp(log_intensity),axis=0)[np.newaxis,:],tab0=table[np.newaxis,:].astype('int32'))\n",
        "        print(f\"SRMSE mean {name} {noise_regime} = {srmse_mean}\")"
      ]
    },
    {
      "cell_type": "code",
      "execution_count": null,
      "id": "64e37a03",
      "metadata": {},
      "outputs": [],
      "source": [
        "fig,ax = plt.subplots(3,1,figsize=(30,15))\n",
        "\n",
        "_vmin = 0.0\n",
        "_vmax = 0.0025\n",
        "\n",
        "im = ax[0].imshow(\n",
        "    (np.abs(np.mean(np.exp(low_noise_log_intensity),axis=0)-table).T/np.sum(table)), \n",
        "    cmap=plt.cm.coolwarm, \n",
        "    interpolation='nearest',\n",
        "    vmin=_vmin, \n",
        "    vmax=_vmax\n",
        ")\n",
        "ax[0].set_title('Low noise error',fontsize=16)\n",
        "ax[0].set_ylabel('Destinations',fontsize=16)\n",
        "ax[0].set_yticks(range(np.shape(low_noise_log_intensity[sample_index])[1]))\n",
        "ax[0].set_xlabel('Origins',fontsize=16)\n",
        "ax[0].set_xticks(range(np.shape(low_noise_log_intensity[sample_index])[0]))\n",
        "\n",
        "im = ax[1].imshow(\n",
        "    (np.abs(np.mean(np.exp(high_noise_log_intensity),axis=0)-table).T/np.sum(table)), \n",
        "    cmap=plt.cm.coolwarm, \n",
        "    interpolation='nearest', \n",
        "    vmin=_vmin, \n",
        "    vmax=_vmax\n",
        ")\n",
        "ax[1].set_title('High noise error',fontsize=16)\n",
        "ax[1].set_ylabel('Destinations',fontsize=16)\n",
        "ax[1].set_yticks(range(np.shape(table)[1]))\n",
        "ax[1].set_xlabel('Origins',fontsize=16)\n",
        "ax[1].set_xticks(range(np.shape(table)[0]))\n",
        "\n",
        "im = ax[2].imshow(\n",
        "    (np.abs(np.mean(np.exp(learned_noise_log_intensity),axis=0)-table).T/np.sum(table)), \n",
        "    cmap=plt.cm.coolwarm, \n",
        "    interpolation='nearest', \n",
        "    vmin=_vmin, \n",
        "    vmax=_vmax\n",
        ")\n",
        "ax[2].set_title('Learned noise error',fontsize=16)\n",
        "ax[2].set_ylabel('Destinations',fontsize=16)\n",
        "ax[2].set_yticks(range(np.shape(table)[1]))\n",
        "ax[2].set_xlabel('Origins',fontsize=16)\n",
        "ax[2].set_xticks(range(np.shape(table)[0]))\n",
        "\n",
        "\n",
        "fig.colorbar(im, ax=ax ,fraction=0.046, pad=0.04)\n",
        "plt.show()"
      ]
    },
    {
      "cell_type": "code",
      "execution_count": null,
      "id": "4b2c00e3",
      "metadata": {},
      "outputs": [],
      "source": [
        "fig,ax = plt.subplots(3,1,figsize=(30,15))\n",
        "\n",
        "_vmax = max(\n",
        "            np.max(np.mean(np.exp(low_noise_log_intensity),axis=0)),\n",
        "            np.max(np.mean(np.exp(high_noise_log_intensity),axis=0)),\n",
        "            np.max(np.mean(np.exp(learned_noise_log_intensity),axis=0))\n",
        "        )\n",
        "_vmin = min(\n",
        "    np.min(np.mean(np.exp(low_noise_log_intensity),axis=0)),\n",
        "    np.min(np.mean(np.exp(high_noise_log_intensity),axis=0)),\n",
        "    np.min(np.mean(np.exp(learned_noise_log_intensity),axis=0))\n",
        ")\n",
        "\n",
        "im = ax[0].imshow(\n",
        "    np.mean(np.exp(low_noise_log_intensity),axis=0).T, \n",
        "    cmap=plt.cm.coolwarm, \n",
        "    interpolation='nearest',\n",
        "    vmin=_vmin, \n",
        "    vmax=_vmax\n",
        ")\n",
        "ax[0].set_title('Low Noise Intensity',fontsize=16)\n",
        "ax[0].set_ylabel('Destinations',fontsize=16)\n",
        "ax[0].set_yticks(range(np.shape(low_noise_log_intensity[sample_index])[1]))\n",
        "ax[0].set_xlabel('Origins',fontsize=16)\n",
        "ax[0].set_xticks(range(np.shape(low_noise_log_intensity[sample_index])[0]))\n",
        "\n",
        "im = ax[1].imshow(\n",
        "    np.mean(np.exp(high_noise_log_intensity),axis=0).T, \n",
        "    cmap=plt.cm.coolwarm, \n",
        "    interpolation='nearest',\n",
        "    vmin=_vmin, \n",
        "    vmax=_vmax\n",
        ")\n",
        "ax[1].set_title('High Noise Intensity',fontsize=16)\n",
        "ax[1].set_ylabel('Destinations',fontsize=16)\n",
        "ax[1].set_yticks(range(np.shape(high_noise_log_intensity[sample_index])[1]))\n",
        "ax[1].set_xlabel('Origins',fontsize=16)\n",
        "ax[1].set_xticks(range(np.shape(high_noise_log_intensity[sample_index])[0]))\n",
        "\n",
        "im = ax[2].imshow(\n",
        "    np.mean(np.exp(learned_noise_log_intensity),axis=0).T, \n",
        "    cmap=plt.cm.coolwarm, \n",
        "    interpolation='nearest', \n",
        "    vmin=_vmin, \n",
        "    vmax=_vmax\n",
        ")\n",
        "ax[2].set_title('Learned Noise Intensity',fontsize=16)\n",
        "ax[2].set_ylabel('Destinations',fontsize=16)\n",
        "ax[2].set_yticks(range(np.shape(table)[1]))\n",
        "ax[2].set_xlabel('Origins',fontsize=16)\n",
        "ax[2].set_xticks(range(np.shape(table)[0]))\n",
        "\n",
        "fig.colorbar(im, ax=ax ,fraction=0.046, pad=0.04)\n",
        "plt.show()"
      ]
    },
    {
      "attachments": {},
      "cell_type": "markdown",
      "id": "a1b1b4ca",
      "metadata": {},
      "source": [
        "# Export"
      ]
    },
    {
      "cell_type": "code",
      "execution_count": null,
      "id": "34d8841f",
      "metadata": {},
      "outputs": [],
      "source": [
        "print('TotalConstrained')\n",
        "print(np.isnan(tc_low_noise_signs).sum())\n",
        "print(np.isnan(tc_low_noise_thetas).sum())\n",
        "print(np.isnan(tc_low_noise_log_destination_attractions).sum())\n",
        "print('\\n')\n",
        "print(np.isnan(tc_high_noise_signs).sum())\n",
        "print(np.isnan(tc_high_noise_thetas).sum())\n",
        "print(np.isnan(tc_high_noise_log_destination_attractions).sum())\n",
        "print('\\n')\n",
        "print(np.isnan(tc_learned_noise_signs).sum())\n",
        "print(np.isnan(tc_learned_noise_thetas).sum())\n",
        "print(np.isnan(tc_learned_noise_log_destination_attractions).sum())\n",
        "print('\\n \\n \\n')\n",
        "print('Production constrained')\n",
        "print(np.isnan(pc_low_noise_signs).sum())\n",
        "print(np.isnan(pc_low_noise_thetas).sum())\n",
        "print(np.isnan(pc_low_noise_log_destination_attractions).sum())\n",
        "print('\\n')\n",
        "print(np.isnan(pc_high_noise_signs).sum())\n",
        "print(np.isnan(pc_high_noise_thetas).sum())\n",
        "print(np.isnan(pc_high_noise_log_destination_attractions).sum())\n",
        "print('\\n')\n",
        "print(np.isnan(pc_learned_noise_signs).sum())\n",
        "print(np.isnan(pc_learned_noise_thetas).sum())\n",
        "print(np.isnan(pc_learned_noise_log_destination_attractions).sum())"
      ]
    },
    {
      "cell_type": "code",
      "execution_count": null,
      "id": "df8e3a82",
      "metadata": {},
      "outputs": [],
      "source": [
        "for prefix,name in {\"tc\":\"TotalConstrained\",\"pc\":\"ProductionConstrained\"}.items():\n",
        "\n",
        "    for noise_regime in ['low_noise','high_noise','learned_noise']:\n",
        "\n",
        "        try:\n",
        "            thetas = globals()[(f\"{prefix}_{noise_regime}_thetas\")]\n",
        "            log_destination_attractions = globals()[(f\"{prefix}_{noise_regime}_log_destination_attractions\")]\n",
        "            signs = globals()[(f\"{prefix}_{noise_regime}_signs\")]\n",
        "            current_metadata = globals()[(f\"{noise_regime}_metadata\")][name]\n",
        "            export_competitive_method_outputs(\n",
        "                current_metadata,\n",
        "                signs,\n",
        "                thetas,\n",
        "                log_destination_attractions\n",
        "            )\n",
        "        except:\n",
        "            raise Exception(f\"Export failed for {name} {noise_regime}\")\n",
        "    \n"
      ]
    }
  ],
  "metadata": {
    "kernelspec": {
      "display_name": "ticodm",
      "language": "python",
      "name": "ticodm"
    },
    "language_info": {
      "codemirror_mode": {
        "name": "ipython",
        "version": 3
      },
      "file_extension": ".py",
      "mimetype": "text/x-python",
      "name": "python",
      "nbconvert_exporter": "python",
      "pygments_lexer": "ipython3",
      "version": "3.8.5"
    },
    "widgets": {
      "application/vnd.jupyter.widget-state+json": {
        "state": {
          "03bfdf7ea1404c12a11ac3af73765b0e": {
            "model_module": "@jupyter-widgets/controls",
            "model_module_version": "1.5.0",
            "model_name": "HTMLModel",
            "state": {
              "layout": "IPY_MODEL_f116b8a4b181455eacaa86db808019b3",
              "style": "IPY_MODEL_f3ef6cfcaa0942248113c5736238fb35",
              "value": "100%"
            }
          },
          "0569875e007041ed8c7f647a1994ea0e": {
            "model_module": "@jupyter-widgets/base",
            "model_module_version": "1.2.0",
            "model_name": "LayoutModel",
            "state": {}
          },
          "1e364e5e585e4287bd6d96bab6037658": {
            "model_module": "@jupyter-widgets/controls",
            "model_module_version": "1.5.0",
            "model_name": "HTMLModel",
            "state": {
              "layout": "IPY_MODEL_24fbaf1097864d4baa4fd011f5953983",
              "style": "IPY_MODEL_34a1dea4896442e28e59267b284a69c4",
              "value": " 32137/32137 [00:03&lt;00:00, 18487.14it/s]"
            }
          },
          "24fbaf1097864d4baa4fd011f5953983": {
            "model_module": "@jupyter-widgets/base",
            "model_module_version": "1.2.0",
            "model_name": "LayoutModel",
            "state": {}
          },
          "2d1ed75d2af1438792d812e8478110e0": {
            "model_module": "@jupyter-widgets/controls",
            "model_module_version": "1.5.0",
            "model_name": "HTMLModel",
            "state": {
              "layout": "IPY_MODEL_0569875e007041ed8c7f647a1994ea0e",
              "style": "IPY_MODEL_db8f591ce2044854800b0f84b2d4e2d1",
              "value": "100%"
            }
          },
          "34a1dea4896442e28e59267b284a69c4": {
            "model_module": "@jupyter-widgets/controls",
            "model_module_version": "1.5.0",
            "model_name": "DescriptionStyleModel",
            "state": {
              "description_width": ""
            }
          },
          "446736361cda4be48ad2aec20f4d5226": {
            "model_module": "@jupyter-widgets/base",
            "model_module_version": "1.2.0",
            "model_name": "LayoutModel",
            "state": {}
          },
          "489fb5aad5274e8ca06476331854ad58": {
            "model_module": "@jupyter-widgets/controls",
            "model_module_version": "1.5.0",
            "model_name": "ProgressStyleModel",
            "state": {
              "description_width": ""
            }
          },
          "52c162973006497382739242c2b668ca": {
            "model_module": "@jupyter-widgets/controls",
            "model_module_version": "1.5.0",
            "model_name": "HTMLModel",
            "state": {
              "layout": "IPY_MODEL_daceca53614f4a90b8190aca42095077",
              "style": "IPY_MODEL_933d16f28d284c5f8e2af71c52347de3",
              "value": " 108728/108728 [00:08&lt;00:00, 20831.11it/s]"
            }
          },
          "667dfae5d98240768600f89343a70612": {
            "model_module": "@jupyter-widgets/base",
            "model_module_version": "1.2.0",
            "model_name": "LayoutModel",
            "state": {}
          },
          "794c358311b74f1fbf956bdca231d0d7": {
            "model_module": "@jupyter-widgets/controls",
            "model_module_version": "1.5.0",
            "model_name": "FloatProgressModel",
            "state": {
              "bar_style": "success",
              "layout": "IPY_MODEL_84c6991b0a9d4ee4a27d563e8216cc2f",
              "max": 108728,
              "style": "IPY_MODEL_9403086e98534e348581edf326cef844",
              "value": 108728
            }
          },
          "7dfa0863de97429e9f5e51f9334ab0f7": {
            "model_module": "@jupyter-widgets/base",
            "model_module_version": "1.2.0",
            "model_name": "LayoutModel",
            "state": {}
          },
          "84c6991b0a9d4ee4a27d563e8216cc2f": {
            "model_module": "@jupyter-widgets/base",
            "model_module_version": "1.2.0",
            "model_name": "LayoutModel",
            "state": {}
          },
          "8aeb11a646324f819639c7d835a5245a": {
            "model_module": "@jupyter-widgets/controls",
            "model_module_version": "1.5.0",
            "model_name": "HTMLModel",
            "state": {
              "layout": "IPY_MODEL_7dfa0863de97429e9f5e51f9334ab0f7",
              "style": "IPY_MODEL_af7c5b435c1144cdad8ad723520d670e",
              "value": "100%"
            }
          },
          "912dd3d4c577451ba0d21fdb54f32889": {
            "model_module": "@jupyter-widgets/controls",
            "model_module_version": "1.5.0",
            "model_name": "HTMLModel",
            "state": {
              "layout": "IPY_MODEL_d7194f3a083845729d389b25b6ac7086",
              "style": "IPY_MODEL_d7f97e3546eb46d592e396218bb06626",
              "value": " 69/69 [00:00&lt;00:00, 4383.49it/s]"
            }
          },
          "933d16f28d284c5f8e2af71c52347de3": {
            "model_module": "@jupyter-widgets/controls",
            "model_module_version": "1.5.0",
            "model_name": "DescriptionStyleModel",
            "state": {
              "description_width": ""
            }
          },
          "9403086e98534e348581edf326cef844": {
            "model_module": "@jupyter-widgets/controls",
            "model_module_version": "1.5.0",
            "model_name": "ProgressStyleModel",
            "state": {
              "description_width": ""
            }
          },
          "942cb852b4874bd9a1f9153a27c7a587": {
            "model_module": "@jupyter-widgets/base",
            "model_module_version": "1.2.0",
            "model_name": "LayoutModel",
            "state": {}
          },
          "9f753e5826374bb9b4312c809eceb79d": {
            "model_module": "@jupyter-widgets/controls",
            "model_module_version": "1.5.0",
            "model_name": "ProgressStyleModel",
            "state": {
              "description_width": ""
            }
          },
          "a4f818b0d5394e5bb0f7615f4772ce29": {
            "model_module": "@jupyter-widgets/base",
            "model_module_version": "1.2.0",
            "model_name": "LayoutModel",
            "state": {}
          },
          "aa57f6eab8054858a5823aa2c2ad2425": {
            "model_module": "@jupyter-widgets/controls",
            "model_module_version": "1.5.0",
            "model_name": "HBoxModel",
            "state": {
              "children": [
                "IPY_MODEL_8aeb11a646324f819639c7d835a5245a",
                "IPY_MODEL_d8e5aa5d4242445d81dfde3b521b3235",
                "IPY_MODEL_1e364e5e585e4287bd6d96bab6037658"
              ],
              "layout": "IPY_MODEL_c940390dfcfb429a815523f98bdefde8"
            }
          },
          "aeabee65a48a478b86721de5eeedbc7c": {
            "model_module": "@jupyter-widgets/controls",
            "model_module_version": "1.5.0",
            "model_name": "HBoxModel",
            "state": {
              "children": [
                "IPY_MODEL_03bfdf7ea1404c12a11ac3af73765b0e",
                "IPY_MODEL_794c358311b74f1fbf956bdca231d0d7",
                "IPY_MODEL_52c162973006497382739242c2b668ca"
              ],
              "layout": "IPY_MODEL_667dfae5d98240768600f89343a70612"
            }
          },
          "af7c5b435c1144cdad8ad723520d670e": {
            "model_module": "@jupyter-widgets/controls",
            "model_module_version": "1.5.0",
            "model_name": "DescriptionStyleModel",
            "state": {
              "description_width": ""
            }
          },
          "bfc5a56ec4e24221af7ede39237f5d17": {
            "model_module": "@jupyter-widgets/controls",
            "model_module_version": "1.5.0",
            "model_name": "FloatProgressModel",
            "state": {
              "bar_style": "success",
              "layout": "IPY_MODEL_942cb852b4874bd9a1f9153a27c7a587",
              "max": 69,
              "style": "IPY_MODEL_9f753e5826374bb9b4312c809eceb79d",
              "value": 69
            }
          },
          "c940390dfcfb429a815523f98bdefde8": {
            "model_module": "@jupyter-widgets/base",
            "model_module_version": "1.2.0",
            "model_name": "LayoutModel",
            "state": {}
          },
          "d7194f3a083845729d389b25b6ac7086": {
            "model_module": "@jupyter-widgets/base",
            "model_module_version": "1.2.0",
            "model_name": "LayoutModel",
            "state": {}
          },
          "d7f97e3546eb46d592e396218bb06626": {
            "model_module": "@jupyter-widgets/controls",
            "model_module_version": "1.5.0",
            "model_name": "DescriptionStyleModel",
            "state": {
              "description_width": ""
            }
          },
          "d898eebc6f2d4cbaaefcaa0d8e467886": {
            "model_module": "@jupyter-widgets/controls",
            "model_module_version": "1.5.0",
            "model_name": "HBoxModel",
            "state": {
              "children": [
                "IPY_MODEL_2d1ed75d2af1438792d812e8478110e0",
                "IPY_MODEL_bfc5a56ec4e24221af7ede39237f5d17",
                "IPY_MODEL_912dd3d4c577451ba0d21fdb54f32889"
              ],
              "layout": "IPY_MODEL_446736361cda4be48ad2aec20f4d5226"
            }
          },
          "d8e5aa5d4242445d81dfde3b521b3235": {
            "model_module": "@jupyter-widgets/controls",
            "model_module_version": "1.5.0",
            "model_name": "FloatProgressModel",
            "state": {
              "bar_style": "success",
              "layout": "IPY_MODEL_a4f818b0d5394e5bb0f7615f4772ce29",
              "max": 32137,
              "style": "IPY_MODEL_489fb5aad5274e8ca06476331854ad58",
              "value": 32137
            }
          },
          "daceca53614f4a90b8190aca42095077": {
            "model_module": "@jupyter-widgets/base",
            "model_module_version": "1.2.0",
            "model_name": "LayoutModel",
            "state": {}
          },
          "db8f591ce2044854800b0f84b2d4e2d1": {
            "model_module": "@jupyter-widgets/controls",
            "model_module_version": "1.5.0",
            "model_name": "DescriptionStyleModel",
            "state": {
              "description_width": ""
            }
          },
          "f116b8a4b181455eacaa86db808019b3": {
            "model_module": "@jupyter-widgets/base",
            "model_module_version": "1.2.0",
            "model_name": "LayoutModel",
            "state": {}
          },
          "f3ef6cfcaa0942248113c5736238fb35": {
            "model_module": "@jupyter-widgets/controls",
            "model_module_version": "1.5.0",
            "model_name": "DescriptionStyleModel",
            "state": {
              "description_width": ""
            }
          }
        },
        "version_major": 2,
        "version_minor": 0
      }
    }
  },
  "nbformat": 4,
  "nbformat_minor": 5
}
