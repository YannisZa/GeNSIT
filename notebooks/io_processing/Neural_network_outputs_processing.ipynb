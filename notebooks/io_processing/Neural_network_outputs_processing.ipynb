{
  "cells": [
    {
      "cell_type": "code",
      "execution_count": 2,
      "id": "f265100f",
      "metadata": {},
      "outputs": [],
      "source": [
        "import os\n",
        "import sys\n",
        "module_path = os.path.abspath(os.path.join('..'))\n",
        "if module_path not in sys.path:\n",
        "    sys.path.append(module_path)\n",
        "# Use pygeos in geopandas\n",
        "os.environ['USE_PYGEOS'] = '0'\n",
        "\n",
        "import glob\n",
        "import warnings\n",
        "import h5py as h5\n",
        "import ruamel.yaml as yaml\n",
        "\n",
        "from tqdm.auto import tqdm\n",
        "import multiresticodm.spatial_interaction_model as SIM_Model\n",
        "\n",
        "from multiresticodm.utils import *\n",
        "from multiresticodm.notebook_functions import *\n",
        "\n",
        "\n",
        "warnings.simplefilter(\"ignore\")\n",
        "# mpl.rcParams['agg.path.chunksize'] = 10000"
      ]
    },
    {
      "cell_type": "code",
      "execution_count": 3,
      "id": "8a3b3bf2",
      "metadata": {},
      "outputs": [],
      "source": [
        "%matplotlib inline\n",
        "\n",
        "# AUTO RELOAD EXTERNAL MODULES\n",
        "%load_ext autoreload\n",
        "%autoreload 2"
      ]
    },
    {
      "attachments": {},
      "cell_type": "markdown",
      "id": "80c30bfa",
      "metadata": {},
      "source": [
        "## Import outputs"
      ]
    },
    {
      "cell_type": "code",
      "execution_count": 4,
      "id": "bcf844b4",
      "metadata": {},
      "outputs": [],
      "source": [
        "# Expertiment id\n",
        "geometry_name = 'lsoas_to_msoas'\n",
        "origin_geometry_name = 'lsoa'\n",
        "destination_geometry_name = 'msoa'\n",
        "\n",
        "model_name = f\"HarrisWilson\"\n",
        "dataset_name = f'Cambridge_dataset'\n",
        "output_folders = ['230517-155009_Cambridge_dataset','230517-155253_Cambridge_dataset', '230517-155328_Cambridge_dataset', '230517-155111_Cambridge_dataset']"
      ]
    },
    {
      "cell_type": "code",
      "execution_count": 5,
      "id": "63dafef8",
      "metadata": {},
      "outputs": [
        {
          "data": {
            "application/vnd.jupyter.widget-view+json": {
              "model_id": "15cce130cd344bd1998357c78bc642a5",
              "version_major": 2,
              "version_minor": 0
            },
            "text/plain": [
              "  0%|          | 0/200 [00:00<?, ?it/s]"
            ]
          },
          "metadata": {},
          "output_type": "display_data"
        },
        {
          "data": {
            "application/vnd.jupyter.widget-view+json": {
              "model_id": "143f644270794b769470d9adecc56c3c",
              "version_major": 2,
              "version_minor": 0
            },
            "text/plain": [
              "  0%|          | 0/100 [00:00<?, ?it/s]"
            ]
          },
          "metadata": {},
          "output_type": "display_data"
        },
        {
          "data": {
            "application/vnd.jupyter.widget-view+json": {
              "model_id": "665792b659d24e23807a73485f38cbfb",
              "version_major": 2,
              "version_minor": 0
            },
            "text/plain": [
              "  0%|          | 0/100 [00:00<?, ?it/s]"
            ]
          },
          "metadata": {},
          "output_type": "display_data"
        },
        {
          "data": {
            "application/vnd.jupyter.widget-view+json": {
              "model_id": "1b7b73efffc44bc9bf3a61ea7eceb099",
              "version_major": 2,
              "version_minor": 0
            },
            "text/plain": [
              "  0%|          | 0/200 [00:00<?, ?it/s]"
            ]
          },
          "metadata": {},
          "output_type": "display_data"
        }
      ],
      "source": [
        "low_noise_data = {\"TotallyConstrained\":{},\"ProductionConstrained\":{}}\n",
        "high_noise_data = {\"TotallyConstrained\":{},\"ProductionConstrained\":{}}\n",
        "learned_noise_data = {\"TotallyConstrained\":{},\"ProductionConstrained\":{}}\n",
        "\n",
        "low_noise_config = {\"TotallyConstrained\":{},\"ProductionConstrained\":{}}\n",
        "high_noise_config = {\"TotallyConstrained\":{},\"ProductionConstrained\":{}}\n",
        "learned_noise_config = {\"TotallyConstrained\":{},\"ProductionConstrained\":{}}\n",
        "\n",
        "keys_of_interest = [\"alpha\",\"beta\",\"loss\",\"pred_dest_sizes\"]\n",
        "\n",
        "for output_folder in output_folders:\n",
        "    # Define directory\n",
        "    outputs_data_path = f'../../../temp_backup/HarrisWilsonbackup/{output_folder}/data/'\n",
        "    config_path = f\"../../../temp_backup/HarrisWilsonbackup/{output_folder}/config/run_cfg.yml\"\n",
        "    for filepath in tqdm(sorted(glob.glob(os.path.join(outputs_data_path,\"*\")))):\n",
        "        # Read config\n",
        "        with open(os.path.join(filepath,'config.yml'), \"r\") as stream:\n",
        "            config = yaml.safe_load(stream)\n",
        "        data_slice = read_h5_data(filepath,keys=keys_of_interest)\n",
        "        sigma = config['HarrisWilson']['Training']['true_parameters'].get('sigma',-1)\n",
        "        sim_type = config['HarrisWilson']['FlowModel'].replace('ABM','')\n",
        "        if sim_type == 'TotalConstrained':\n",
        "            sim_type = 'TotallyConstrained'\n",
        "        if sigma <= 0.05 and sigma >= 0:\n",
        "            low_noise_config[sim_type] = config\n",
        "            if not low_noise_config[sim_type]['seed'] in low_noise_data[sim_type]: \n",
        "                low_noise_data[sim_type][low_noise_config[sim_type]['seed']] = dict(zip(keys_of_interest,[None]*len(keys_of_interest)))\n",
        "            for k in keys_of_interest:\n",
        "                if low_noise_data[sim_type][low_noise_config[sim_type]['seed']][k] is None:\n",
        "                    low_noise_data[sim_type][low_noise_config[sim_type]['seed']][k] = data_slice[k]\n",
        "                else:\n",
        "                    low_noise_data[sim_type][low_noise_config[sim_type]['seed']][k] = np.append(\n",
        "                        low_noise_data[sim_type][low_noise_config[sim_type]['seed']][k],\n",
        "                        data_slice[k],\n",
        "                        axis=0\n",
        "                    )\n",
        "        elif sigma > 0.05:\n",
        "            high_noise_config[sim_type] = config\n",
        "            if not high_noise_config[sim_type]['seed'] in high_noise_data[sim_type]: \n",
        "                high_noise_data[sim_type][high_noise_config[sim_type]['seed']] = dict(zip(keys_of_interest,[None]*len(keys_of_interest)))\n",
        "            for k in keys_of_interest:\n",
        "                if high_noise_data[sim_type][high_noise_config[sim_type]['seed']][k] is None:\n",
        "                    high_noise_data[sim_type][high_noise_config[sim_type]['seed']][k] = data_slice[k]\n",
        "                else:\n",
        "                    high_noise_data[sim_type][high_noise_config[sim_type]['seed']][k] = np.append(\n",
        "                        high_noise_data[sim_type][high_noise_config[sim_type]['seed']][k],\n",
        "                        data_slice[k],\n",
        "                        axis=0\n",
        "                    )\n",
        "        else:\n",
        "            learned_noise_config[sim_type] = config\n",
        "            if not learned_noise_config[sim_type]['seed'] in learned_noise_data[sim_type]: \n",
        "                learned_noise_data[sim_type][learned_noise_config[sim_type]['seed']] = dict(zip(keys_of_interest,[None]*len(keys_of_interest)))\n",
        "            for k in keys_of_interest:\n",
        "                if learned_noise_data[sim_type][learned_noise_config[sim_type]['seed']][k] is None:\n",
        "                    learned_noise_data[sim_type][learned_noise_config[sim_type]['seed']][k] = data_slice[k]\n",
        "                else:\n",
        "                    learned_noise_data[sim_type][learned_noise_config[sim_type]['seed']][k] = np.append(\n",
        "                        learned_noise_data[sim_type][learned_noise_config[sim_type]['seed']][k],\n",
        "                        data_slice[k],\n",
        "                        axis=0\n",
        "                    )"
      ]
    },
    {
      "cell_type": "code",
      "execution_count": 6,
      "id": "bc0a1c87",
      "metadata": {},
      "outputs": [],
      "source": [
        "BAREBONE_CONFIG = {\n",
        "  \"log_level\": \"info\",\n",
        "  \"sweep_mode\": True,\n",
        "  \"inputs\": {\n",
        "    \"n_workers\": 6,\n",
        "    \"n_threads\": 7,\n",
        "    \"device\": \"cpu\",\n",
        "    \"in_directory\": \"./data/inputs/\",\n",
        "    \"dataset\": \"cambridge_work_commuter_lsoas_to_msoas\",\n",
        "    \"load_experiment\": \"\",\n",
        "    \"seed\": {\n",
        "      \"sweep\": {\n",
        "        \"default\": 0,\n",
        "        \"range\": [\n",
        "          \"0:99:1\"\n",
        "        ]\n",
        "      }\n",
        "    },\n",
        "    \"to_learn\": {\n",
        "      \"sweep\": {\n",
        "        \"default\": [\n",
        "          \"alpha\",\n",
        "          \"beta\"\n",
        "        ],\n",
        "        \"range\": [\n",
        "          [\n",
        "            \"alpha\",\n",
        "            \"beta\"\n",
        "          ],\n",
        "          [\n",
        "            \"alpha\",\n",
        "            \"beta\"\n",
        "          ],\n",
        "          [\n",
        "            \"alpha\",\n",
        "            \"beta\",\n",
        "            \"sigma\"\n",
        "          ]\n",
        "        ],\n",
        "        \"coupled\": True,\n",
        "        \"target_name\": \"sigma\"\n",
        "      }\n",
        "    },\n",
        "    \"data\": {\n",
        "      \"origin_demand\": {\n",
        "        \"file\": \"origin_demand_sum_normalised.txt\"\n",
        "      },\n",
        "      \"destination_attraction_ts\": {\n",
        "        \"file\": \"destination_attraction_time_series_sum_normalised.txt\"\n",
        "      },\n",
        "      \"cost_matrix\": {\n",
        "        \"file\": \"cost_matrices/clustered_facilities_sample_20x20_20_01_2023_sample_20x20_clustered_facilities_ripleys_k_500_euclidean_points%_prob_origin_destination_adjusted_normalised_boundary_only_edge_corrected_cost_matrix_sum_normalised.txt\"\n",
        "      },\n",
        "      \"ground_truth_table\": {\n",
        "        \"file\": \"table_lsoas_to_msoas.txt\"\n",
        "      },\n",
        "      \"total_cost_by_origin\": {\n",
        "        \"file\": \"lsoas_total_distance_to_work.txt\"\n",
        "      }\n",
        "    }\n",
        "  },\n",
        "  \"spatial_interaction_model\": {\n",
        "    \"name\": {\n",
        "      \"sweep\": {\n",
        "        \"default\": \"TotallyConstrained\",\n",
        "        \"range\": [\n",
        "          \"TotallyConstrained\",\n",
        "          \"ProductionConstrained\"\n",
        "        ],\n",
        "        \"coupled\": True,\n",
        "        \"target_name\": \"title\",\n",
        "      }\n",
        "    },\n",
        "    \"grand_total\": 33704,\n",
        "    \"parameters\": {\n",
        "      \"bmax\": 1.0,\n",
        "      \"alpha\": 1.0,\n",
        "      \"beta\": 1.0\n",
        "    }\n",
        "  },\n",
        "  \"harris_wilson_model\": {\n",
        "    \"dt\": 0.001,\n",
        "    \"parameters\": {\n",
        "      \"noise_percentage\": 0.0001,\n",
        "      \"epsilon\": 1.0,\n",
        "      \"delta\": 0.0,\n",
        "      \"sigma\": {\n",
        "        \"sweep\": {\n",
        "          \"default\": 0.0141421356,\n",
        "          \"range\": [\n",
        "            0.0141421356,\n",
        "            0.1414213562,\n",
        "            None\n",
        "          ]\n",
        "        }\n",
        "      }\n",
        "    }\n",
        "  },\n",
        "  \"training\": {\n",
        "    \"num_steps\": 1,\n",
        "    \"batch_size\": 1,\n",
        "    \"N\": 1000\n",
        "  },\n",
        "  \"neural_network\": {\n",
        "    \"disable_tqdm\": True,\n",
        "    \"loss\": {\n",
        "      \"loss_name\": [\n",
        "        \"dest_attraction_ts_loss\"\n",
        "      ],\n",
        "      \"loss_function\": [\n",
        "        \"mseloss\"\n",
        "      ],\n",
        "      \"loss_kwarg_keys\": [\n",
        "        []\n",
        "      ]\n",
        "    },\n",
        "    \"hyperparameters\": {\n",
        "      \"num_layers\": 1,\n",
        "      \"optimizer\": \"Adam\",\n",
        "      \"learning_rate\": 0.002,\n",
        "      \"biases\": {\n",
        "        \"default\": [\n",
        "          0.0,\n",
        "          4.0\n",
        "        ],\n",
        "        \"layer_specific\": {}\n",
        "      },\n",
        "      \"nodes_per_layer\": {\n",
        "        \"default\": 20,\n",
        "        \"layer_specific\": {}\n",
        "      },\n",
        "      \"activation_funcs\": {\n",
        "        \"default\": \"linear\",\n",
        "        \"layer_specific\": {\n",
        "          \"1\": \"abs\"\n",
        "        }\n",
        "      }\n",
        "    }\n",
        "  },\n",
        "  \"experiments\": [\n",
        "    {\n",
        "      \"type\": \"SIM_NN\",\n",
        "      \"comment\": \"Spatial Interaction Model parameter learning using Neural Networks\",\n",
        "      \"disable_tqdm\": False,\n",
        "      \"export_samples\": True,\n",
        "      \"export_metadata\": True,\n",
        "      \"overwrite\": True\n",
        "    }\n",
        "  ],\n",
        "  \"outputs\": {\n",
        "    \"chunk_size\": 20000,\n",
        "    \"write_start\": 1,\n",
        "    \"write_every\": 1,\n",
        "    \"out_directory\": \"./data/outputs/\",\n",
        "    \"out_group\": \"exp1\",\n",
        "    \"title\": {\n",
        "      \"sweep\": {\n",
        "        \"default\": \"_total_constrained\",\n",
        "        \"range\": [\n",
        "          \"_total_constrained\",\n",
        "          \"_row_constrained\"\n",
        "        ]\n",
        "      }\n",
        "    }\n",
        "  },\n",
        "  \"experiment_type\": \"SIM_NN\",\n",
        "  \"load_data\": False,\n",
        "  \"datetime\": \"16_05_2023_20_09_04\"\n",
        "}"
      ]
    },
    {
      "cell_type": "code",
      "execution_count": 7,
      "metadata": {},
      "outputs": [],
      "source": [
        "experiment_id = 'SIM_NN_SweepedNoise_16_05_2023_20_09_04'\n",
        "outputs_path = os.path.join(\n",
        "    '../../data/outputs/cambridge_work_commuter_lsoas_to_msoas/',\n",
        "    experiment_id\n",
        ")\n",
        "makedir(outputs_path)\n",
        "write_json(\n",
        "    BAREBONE_CONFIG,\n",
        "    os.path.join(\n",
        "        outputs_path,\n",
        "        'config.json'\n",
        "    )\n",
        ")\n",
        "\n",
        "\n",
        "title_map = {\"TotallyConstrained\":\"_total_constrained\",\"ProductionConstrained\":\"_row_constrained\"}\n",
        "to_learn_map = {\"low\":['alpha','beta'],\"high\":['alpha','beta'],\"learned\":['alpha','beta','sigma']}\n",
        "indx = 0\n",
        "for prefix,name in {\"tc\":\"TotallyConstrained\",\"pc\":\"ProductionConstrained\"}.items():\n",
        "    for sigma in [0.0141421356, 0.1414213562, None]:\n",
        "        noise_regime = sigma_to_noise_regime(sigma)\n",
        "        data = globals()[(noise_regime+'_noise_data')][name]\n",
        "        for seed,datum in data.items():\n",
        "            # print(indx,'/',600)\n",
        "            indx += 1\n",
        "            BAREBONE_CONFIG['inputs']['seed'] = seed\n",
        "            BAREBONE_CONFIG['spatial_interaction_model']['name'] = name\n",
        "            BAREBONE_CONFIG['harris_wilson_model']['parameters']['sigma'] = sigma\n",
        "            BAREBONE_CONFIG['outputs']['title'] = title_map[name]\n",
        "            BAREBONE_CONFIG['inputs']['to_learn'] = to_learn_map[noise_regime]\n",
        "            BAREBONE_CONFIG['sweep_mode'] = False\n",
        "            \n",
        "            sweep_id = os.path.join(\n",
        "                f\"seed_{seed}\",\n",
        "                f\"sigma_{noise_regime}\",\n",
        "                f\"title_{title_map[name]}\"\n",
        "            )\n",
        "            sweep_outputs_path = os.path.join(\n",
        "                outputs_path,\n",
        "                'samples',\n",
        "                sweep_id\n",
        "            )\n",
        "            makedir(sweep_outputs_path)\n",
        "            write_json(\n",
        "                BAREBONE_CONFIG,\n",
        "                os.path.join(\n",
        "                    sweep_outputs_path,\n",
        "                    'metadata.json'\n",
        "                )\n",
        "            )\n",
        "            with open(os.path.join(sweep_outputs_path,'outputs.log'), 'w') as f:\n",
        "                f.write('DONE')\n",
        "            \n",
        "            datum['log_destination_attraction'] = np.log(datum['pred_dest_sizes']).reshape(\n",
        "                BAREBONE_CONFIG['training']['N'],1,datum['pred_dest_sizes'].shape[1]\n",
        "            )\n",
        "            datum['total_loss'] = deepcopy(datum['loss'])\n",
        "            del datum['loss']\n",
        "\n",
        "            sweep_params = {\n",
        "                \"seed\": BAREBONE_CONFIG['inputs']['seed'],\n",
        "                \"name\": BAREBONE_CONFIG['spatial_interaction_model']['name'],\n",
        "                \"sigma\": BAREBONE_CONFIG['harris_wilson_model']['parameters']['sigma'],\n",
        "                \"title\": BAREBONE_CONFIG['outputs']['title'],\n",
        "                \"to_learn\": BAREBONE_CONFIG['inputs']['to_learn'],\n",
        "                \"iter\": BAREBONE_CONFIG['training']['N'] #np.arange(1,BAREBONE_CONFIG['training']['N'],1),\n",
        "            }\n",
        "\n",
        "            h5file = h5.File(\n",
        "                os.path.join(\n",
        "                    sweep_outputs_path,\n",
        "                    \"data.h5\"\n",
        "                ), \n",
        "                mode='w'\n",
        "            )\n",
        "\n",
        "\n",
        "            # Store experiment id\n",
        "            h5group = h5file.create_group(experiment_id)\n",
        "\n",
        "            # Store sweep configurations as attributes\n",
        "            h5group.attrs.create(\"sweep_params\",list(sweep_params.keys()))\n",
        "            h5group.attrs.create(\"sweep_values\",['none' if val is None else str(val) for val in sweep_params.values()])\n",
        "\n",
        "            for dname in ['alpha','beta','log_destination_attraction','total_loss']:\n",
        "                h5group.create_dataset(\n",
        "                    dname,\n",
        "                    data = datum[dname]\n",
        "                )\n",
        "\n",
        "            h5file.close()\n"
      ]
    },
    {
      "cell_type": "code",
      "execution_count": 15,
      "metadata": {},
      "outputs": [
        {
          "data": {
            "text/plain": [
              "(1000, 1, 13)"
            ]
          },
          "execution_count": 15,
          "metadata": {},
          "output_type": "execute_result"
        }
      ],
      "source": [
        "datum['log_destination_attraction'].shape"
      ]
    },
    {
      "cell_type": "code",
      "execution_count": null,
      "id": "2d5fcfb9",
      "metadata": {},
      "outputs": [],
      "source": [
        "for prefix,name in {\"tc\":\"TotalConstrained\",\"pc\":\"ProductionConstrained\"}.items():\n",
        "    for noise_regime in ['low_noise','high_noise','learned_noise']:\n",
        "        \n",
        "        signs, thetas, log_destination_attractions = prepare_for_export(\n",
        "            globals()[(noise_regime+'_data')][name],\n",
        "            take_mean=False\n",
        "        )\n",
        "        exec(f\"{prefix}_{noise_regime}_signs = signs\")\n",
        "        exec(f\"{prefix}_{noise_regime}_thetas = thetas\")\n",
        "        exec(f\"{prefix}_{noise_regime}_log_destination_attractions = log_destination_attractions\")        "
      ]
    },
    {
      "cell_type": "code",
      "execution_count": null,
      "metadata": {},
      "outputs": [],
      "source": [
        "tc_low_noise_thetas[:,0]"
      ]
    },
    {
      "cell_type": "code",
      "execution_count": null,
      "id": "0b350e27",
      "metadata": {},
      "outputs": [],
      "source": [
        "print('Total constrained SIM')\n",
        "print(tc_low_noise_signs.shape)\n",
        "print(tc_low_noise_thetas.shape)\n",
        "print(tc_low_noise_log_destination_attractions.shape)\n",
        "print('\\n')\n",
        "print(tc_high_noise_signs.shape)\n",
        "print(tc_high_noise_thetas.shape)\n",
        "print(tc_high_noise_log_destination_attractions.shape)\n",
        "print('\\n')\n",
        "print(tc_learned_noise_signs.shape)\n",
        "print(tc_learned_noise_thetas.shape)\n",
        "print(tc_learned_noise_log_destination_attractions.shape)\n",
        "print('\\n')\n",
        "print('Production constrained SIM')\n",
        "print(pc_low_noise_signs.shape)\n",
        "print(pc_low_noise_thetas.shape)\n",
        "print(pc_low_noise_log_destination_attractions.shape)\n",
        "print('\\n')\n",
        "print(pc_high_noise_signs.shape)\n",
        "print(pc_high_noise_thetas.shape)\n",
        "print(pc_high_noise_log_destination_attractions.shape)\n",
        "print('\\n')\n",
        "print(pc_learned_noise_signs.shape)\n",
        "print(pc_learned_noise_thetas.shape)\n",
        "print(pc_learned_noise_log_destination_attractions.shape)"
      ]
    },
    {
      "cell_type": "code",
      "execution_count": null,
      "id": "f388a63a",
      "metadata": {},
      "outputs": [],
      "source": [
        "print('Total constrained SIM')\n",
        "print('low noise',np.min(tc_low_noise_thetas,axis=0),np.max(tc_low_noise_thetas,axis=0))\n",
        "print('high noise',np.min(tc_high_noise_thetas,axis=0),np.max(tc_high_noise_thetas,axis=0))\n",
        "print('learned noise',np.min(tc_learned_noise_thetas,axis=0),np.max(tc_learned_noise_thetas,axis=0))\n",
        "print('\\n')\n",
        "print('Production constrained SIM')\n",
        "print('low noise',np.min(pc_low_noise_thetas,axis=0),np.max(pc_low_noise_thetas,axis=0))\n",
        "print('high noise',np.min(pc_high_noise_thetas,axis=0),np.max(pc_high_noise_thetas,axis=0))\n",
        "print('learned noise',np.min(pc_learned_noise_thetas,axis=0),np.max(pc_learned_noise_thetas,axis=0))\n",
        "print('\\n')"
      ]
    },
    {
      "cell_type": "code",
      "execution_count": null,
      "id": "d6b5f386",
      "metadata": {},
      "outputs": [],
      "source": [
        "low_noise_metadata = prepare_config_for_export(BAREBONE_CONFIG,low_noise_config)\n",
        "high_noise_metadata = prepare_config_for_export(BAREBONE_CONFIG,high_noise_config)\n",
        "learned_noise_metadata = prepare_config_for_export(BAREBONE_CONFIG,learned_noise_config)"
      ]
    },
    {
      "attachments": {},
      "cell_type": "markdown",
      "id": "1925d953",
      "metadata": {},
      "source": [
        "# Intensity"
      ]
    },
    {
      "cell_type": "code",
      "execution_count": null,
      "id": "b8c559a4",
      "metadata": {},
      "outputs": [],
      "source": [
        "cost_matrix = np.loadtxt('../data/inputs/cambridge_work_commuter_lsoas_to_msoas/cost_matrices/clustered_facilities_sample_20x20_20_01_2023_sample_20x20_clustered_facilities_ripleys_k_500_euclidean_points%_prob_origin_destination_adjusted_normalised_boundary_only_edge_corrected_cost_matrix_sum_normalised.txt')\n",
        "# cost_matrix = pd.read_csv('../../NeuralABM/data/HarrisWilson/Cambridge_data/exp_clustered_facilities_sample_20x20_20_01_2023_sample_20x20_clustered_facilities_ripleys_k_500_euclidean_points%_prob_origin_destination_adjusted_normalised_boundary_only_edge_corrected_cost_matrix_max_normalised.csv',index_col=0)\n",
        "# cost_matrix = cost_matrix.values\n",
        "origin_demand = np.loadtxt('../data/inputs/cambridge_work_commuter_lsoas_to_msoas/origin_demand_sum_normalised.txt')\n",
        "\n",
        "employment = pd.read_csv(f'../data/raw/cambridge_commuter/employment_survey_msoa.csv',header=None)\n",
        "employment.columns = [f'{destination_geometry_name}_id','number_of_jobs']\n",
        "destination_attraction = employment['number_of_jobs'].values.astype('float32')\n",
        "destination_attraction /= np.sum(destination_attraction) # 10000\n",
        "\n",
        "table = np.loadtxt('../data/inputs/cambridge_work_commuter_lsoas_to_msoas/table_lsoas_to_msoas.txt')"
      ]
    },
    {
      "cell_type": "code",
      "execution_count": null,
      "id": "55989fd1",
      "metadata": {},
      "outputs": [],
      "source": [
        "sample_index = 2143 \n",
        "plt.figure(figsize=(10,10))\n",
        "plt.scatter(x=np.mean(np.exp(tc_low_noise_log_destination_attractions),axis=0),y=destination_attraction,label='T.C. low noise',color='red')\n",
        "plt.scatter(x=np.mean(np.exp(tc_high_noise_log_destination_attractions),axis=0),y=destination_attraction,label='T.C. high noise',color='green')\n",
        "plt.scatter(x=np.mean(np.exp(tc_learned_noise_log_destination_attractions),axis=0),y=destination_attraction,label='T.C. learned noise',color='blue')\n",
        "plt.scatter(x=np.mean(np.exp(pc_low_noise_log_destination_attractions),axis=0),y=destination_attraction,label='P.C. low noise',color='red', marker='x',s=200)\n",
        "plt.scatter(x=np.mean(np.exp(pc_high_noise_log_destination_attractions),axis=0),y=destination_attraction,label='P.C. high noise',color='green', marker='x',s=200)\n",
        "plt.scatter(x=np.mean(np.exp(pc_learned_noise_log_destination_attractions),axis=0),y=destination_attraction,label='P.C. learned noise',color='blue', marker='x',s=200)\n",
        "# plt.scatter(x=np.exp(low_noise_log_destination_attractions)[sample_index],y=destination_attraction,label='low noise',color='red')\n",
        "# plt.scatter(x=np.exp(high_noise_log_destination_attractions)[sample_index],y=destination_attraction,label='high noise',color='green')\n",
        "# plt.scatter(x=np.exp(learned_noise_log_destination_attractions)[sample_index],y=destination_attraction,label='learned noise',color='blue')\n",
        "plt.plot(np.arange(0,0.35,0.1),np.arange(0,0.35,0.1))\n",
        "plt.legend()\n",
        "plt.show()"
      ]
    },
    {
      "cell_type": "code",
      "execution_count": null,
      "id": "95144410",
      "metadata": {},
      "outputs": [],
      "source": [
        "for prefix,name in {\"tc\":\"TotalConstrained\",\"pc\":\"ProductionConstrained\"}.items():\n",
        "\n",
        "    for noise_regime in ['low_noise','high_noise','learned_noise']:\n",
        "\n",
        "        thetas = globals()[(f\"{prefix}_{noise_regime}_thetas\")]\n",
        "        log_destination_attractions = globals()[(f\"{prefix}_{noise_regime}_log_destination_attractions\")]\n",
        "        sim = getattr(SIM_Model,name)\n",
        "        try:\n",
        "            with ProgressBar(total=thetas.shape[0]) as progress_bar:\n",
        "                temp = sim.log_flow_matrix_vectorised(\n",
        "                    log_destination_attractions,\n",
        "                    thetas,\n",
        "                    origin_demand,\n",
        "                    cost_matrix,\n",
        "                    BAREBONE_CONFIG['table_total'],\n",
        "                    progress_bar\n",
        "                ) \n",
        "            exec(f\"{prefix}_{noise_regime}_log_intensity = temp\")\n",
        "        except:\n",
        "            raise ValueError(f\"Log intensity function failed for {noise_regime} {name}\")"
      ]
    },
    {
      "cell_type": "code",
      "execution_count": null,
      "id": "06d253eb",
      "metadata": {},
      "outputs": [],
      "source": [
        "for prefix,name in {\"tc\":\"TotalConstrained\",\"pc\":\"ProductionConstrained\"}.items():\n",
        "\n",
        "    for noise_regime in ['low_noise','high_noise','learned_noise']:\n",
        "        \n",
        "        log_intensity = globals()[(f\"{prefix}_{noise_regime}_log_intensity\")]\n",
        "        # mean_srmse = np.mean(SRMSE(tab=np.exp(log_intensity),tab0=table[np.newaxis,:].astype('int32')))\n",
        "        # print(f\"Mean SRMSE {name} {noise_regime} = {mean_srmse}\")\n",
        "        srmse_mean = SRMSE(tab=np.mean(np.exp(log_intensity),axis=0)[np.newaxis,:],tab0=table[np.newaxis,:].astype('int32'))\n",
        "        print(f\"SRMSE mean {name} {noise_regime} = {srmse_mean}\")"
      ]
    },
    {
      "cell_type": "code",
      "execution_count": null,
      "id": "64e37a03",
      "metadata": {},
      "outputs": [],
      "source": [
        "fig,ax = plt.subplots(3,1,figsize=(30,15))\n",
        "\n",
        "_vmin = 0.0\n",
        "_vmax = 0.0025\n",
        "\n",
        "im = ax[0].imshow(\n",
        "    (np.abs(np.mean(np.exp(low_noise_log_intensity),axis=0)-table).T/np.sum(table)), \n",
        "    cmap=plt.cm.coolwarm, \n",
        "    interpolation='nearest',\n",
        "    vmin=_vmin, \n",
        "    vmax=_vmax\n",
        ")\n",
        "ax[0].set_title('Low noise error',fontsize=16)\n",
        "ax[0].set_ylabel('Destinations',fontsize=16)\n",
        "ax[0].set_yticks(range(np.shape(low_noise_log_intensity[sample_index])[1]))\n",
        "ax[0].set_xlabel('Origins',fontsize=16)\n",
        "ax[0].set_xticks(range(np.shape(low_noise_log_intensity[sample_index])[0]))\n",
        "\n",
        "im = ax[1].imshow(\n",
        "    (np.abs(np.mean(np.exp(high_noise_log_intensity),axis=0)-table).T/np.sum(table)), \n",
        "    cmap=plt.cm.coolwarm, \n",
        "    interpolation='nearest', \n",
        "    vmin=_vmin, \n",
        "    vmax=_vmax\n",
        ")\n",
        "ax[1].set_title('High noise error',fontsize=16)\n",
        "ax[1].set_ylabel('Destinations',fontsize=16)\n",
        "ax[1].set_yticks(range(np.shape(table)[1]))\n",
        "ax[1].set_xlabel('Origins',fontsize=16)\n",
        "ax[1].set_xticks(range(np.shape(table)[0]))\n",
        "\n",
        "im = ax[2].imshow(\n",
        "    (np.abs(np.mean(np.exp(learned_noise_log_intensity),axis=0)-table).T/np.sum(table)), \n",
        "    cmap=plt.cm.coolwarm, \n",
        "    interpolation='nearest', \n",
        "    vmin=_vmin, \n",
        "    vmax=_vmax\n",
        ")\n",
        "ax[2].set_title('Learned noise error',fontsize=16)\n",
        "ax[2].set_ylabel('Destinations',fontsize=16)\n",
        "ax[2].set_yticks(range(np.shape(table)[1]))\n",
        "ax[2].set_xlabel('Origins',fontsize=16)\n",
        "ax[2].set_xticks(range(np.shape(table)[0]))\n",
        "\n",
        "\n",
        "fig.colorbar(im, ax=ax ,fraction=0.046, pad=0.04)\n",
        "plt.show()"
      ]
    },
    {
      "cell_type": "code",
      "execution_count": null,
      "id": "4b2c00e3",
      "metadata": {},
      "outputs": [],
      "source": [
        "fig,ax = plt.subplots(3,1,figsize=(30,15))\n",
        "\n",
        "_vmax = max(\n",
        "            np.max(np.mean(np.exp(low_noise_log_intensity),axis=0)),\n",
        "            np.max(np.mean(np.exp(high_noise_log_intensity),axis=0)),\n",
        "            np.max(np.mean(np.exp(learned_noise_log_intensity),axis=0))\n",
        "        )\n",
        "_vmin = min(\n",
        "    np.min(np.mean(np.exp(low_noise_log_intensity),axis=0)),\n",
        "    np.min(np.mean(np.exp(high_noise_log_intensity),axis=0)),\n",
        "    np.min(np.mean(np.exp(learned_noise_log_intensity),axis=0))\n",
        ")\n",
        "\n",
        "im = ax[0].imshow(\n",
        "    np.mean(np.exp(low_noise_log_intensity),axis=0).T, \n",
        "    cmap=plt.cm.coolwarm, \n",
        "    interpolation='nearest',\n",
        "    vmin=_vmin, \n",
        "    vmax=_vmax\n",
        ")\n",
        "ax[0].set_title('Low Noise Intensity',fontsize=16)\n",
        "ax[0].set_ylabel('Destinations',fontsize=16)\n",
        "ax[0].set_yticks(range(np.shape(low_noise_log_intensity[sample_index])[1]))\n",
        "ax[0].set_xlabel('Origins',fontsize=16)\n",
        "ax[0].set_xticks(range(np.shape(low_noise_log_intensity[sample_index])[0]))\n",
        "\n",
        "im = ax[1].imshow(\n",
        "    np.mean(np.exp(high_noise_log_intensity),axis=0).T, \n",
        "    cmap=plt.cm.coolwarm, \n",
        "    interpolation='nearest',\n",
        "    vmin=_vmin, \n",
        "    vmax=_vmax\n",
        ")\n",
        "ax[1].set_title('High Noise Intensity',fontsize=16)\n",
        "ax[1].set_ylabel('Destinations',fontsize=16)\n",
        "ax[1].set_yticks(range(np.shape(high_noise_log_intensity[sample_index])[1]))\n",
        "ax[1].set_xlabel('Origins',fontsize=16)\n",
        "ax[1].set_xticks(range(np.shape(high_noise_log_intensity[sample_index])[0]))\n",
        "\n",
        "im = ax[2].imshow(\n",
        "    np.mean(np.exp(learned_noise_log_intensity),axis=0).T, \n",
        "    cmap=plt.cm.coolwarm, \n",
        "    interpolation='nearest', \n",
        "    vmin=_vmin, \n",
        "    vmax=_vmax\n",
        ")\n",
        "ax[2].set_title('Learned Noise Intensity',fontsize=16)\n",
        "ax[2].set_ylabel('Destinations',fontsize=16)\n",
        "ax[2].set_yticks(range(np.shape(table)[1]))\n",
        "ax[2].set_xlabel('Origins',fontsize=16)\n",
        "ax[2].set_xticks(range(np.shape(table)[0]))\n",
        "\n",
        "fig.colorbar(im, ax=ax ,fraction=0.046, pad=0.04)\n",
        "plt.show()"
      ]
    },
    {
      "attachments": {},
      "cell_type": "markdown",
      "id": "a1b1b4ca",
      "metadata": {},
      "source": [
        "# Export"
      ]
    },
    {
      "cell_type": "code",
      "execution_count": null,
      "id": "34d8841f",
      "metadata": {},
      "outputs": [],
      "source": [
        "print('TotalConstrained')\n",
        "print(np.isnan(tc_low_noise_signs).sum())\n",
        "print(np.isnan(tc_low_noise_thetas).sum())\n",
        "print(np.isnan(tc_low_noise_log_destination_attractions).sum())\n",
        "print('\\n')\n",
        "print(np.isnan(tc_high_noise_signs).sum())\n",
        "print(np.isnan(tc_high_noise_thetas).sum())\n",
        "print(np.isnan(tc_high_noise_log_destination_attractions).sum())\n",
        "print('\\n')\n",
        "print(np.isnan(tc_learned_noise_signs).sum())\n",
        "print(np.isnan(tc_learned_noise_thetas).sum())\n",
        "print(np.isnan(tc_learned_noise_log_destination_attractions).sum())\n",
        "print('\\n \\n \\n')\n",
        "print('Production constrained')\n",
        "print(np.isnan(pc_low_noise_signs).sum())\n",
        "print(np.isnan(pc_low_noise_thetas).sum())\n",
        "print(np.isnan(pc_low_noise_log_destination_attractions).sum())\n",
        "print('\\n')\n",
        "print(np.isnan(pc_high_noise_signs).sum())\n",
        "print(np.isnan(pc_high_noise_thetas).sum())\n",
        "print(np.isnan(pc_high_noise_log_destination_attractions).sum())\n",
        "print('\\n')\n",
        "print(np.isnan(pc_learned_noise_signs).sum())\n",
        "print(np.isnan(pc_learned_noise_thetas).sum())\n",
        "print(np.isnan(pc_learned_noise_log_destination_attractions).sum())"
      ]
    },
    {
      "cell_type": "code",
      "execution_count": null,
      "id": "df8e3a82",
      "metadata": {},
      "outputs": [],
      "source": [
        "for prefix,name in {\"tc\":\"TotalConstrained\",\"pc\":\"ProductionConstrained\"}.items():\n",
        "\n",
        "    for noise_regime in ['low_noise','high_noise','learned_noise']:\n",
        "\n",
        "        try:\n",
        "            thetas = globals()[(f\"{prefix}_{noise_regime}_thetas\")]\n",
        "            log_destination_attractions = globals()[(f\"{prefix}_{noise_regime}_log_destination_attractions\")]\n",
        "            signs = globals()[(f\"{prefix}_{noise_regime}_signs\")]\n",
        "            current_metadata = globals()[(f\"{noise_regime}_metadata\")][name]\n",
        "            export_competitive_method_outputs(\n",
        "                current_metadata,\n",
        "                signs,\n",
        "                thetas,\n",
        "                log_destination_attractions\n",
        "            )\n",
        "        except:\n",
        "            raise Exception(f\"Export failed for {name} {noise_regime}\")\n",
        "    \n"
      ]
    }
  ],
  "metadata": {
    "kernelspec": {
      "display_name": "mrticodm",
      "language": "python",
      "name": "python3"
    },
    "language_info": {
      "codemirror_mode": {
        "name": "ipython",
        "version": 3
      },
      "file_extension": ".py",
      "mimetype": "text/x-python",
      "name": "python",
      "nbconvert_exporter": "python",
      "pygments_lexer": "ipython3",
      "version": "3.9.0"
    },
    "widgets": {
      "application/vnd.jupyter.widget-state+json": {
        "state": {
          "03bfdf7ea1404c12a11ac3af73765b0e": {
            "model_module": "@jupyter-widgets/controls",
            "model_module_version": "1.5.0",
            "model_name": "HTMLModel",
            "state": {
              "layout": "IPY_MODEL_f116b8a4b181455eacaa86db808019b3",
              "style": "IPY_MODEL_f3ef6cfcaa0942248113c5736238fb35",
              "value": "100%"
            }
          },
          "0569875e007041ed8c7f647a1994ea0e": {
            "model_module": "@jupyter-widgets/base",
            "model_module_version": "1.2.0",
            "model_name": "LayoutModel",
            "state": {}
          },
          "1e364e5e585e4287bd6d96bab6037658": {
            "model_module": "@jupyter-widgets/controls",
            "model_module_version": "1.5.0",
            "model_name": "HTMLModel",
            "state": {
              "layout": "IPY_MODEL_24fbaf1097864d4baa4fd011f5953983",
              "style": "IPY_MODEL_34a1dea4896442e28e59267b284a69c4",
              "value": " 32137/32137 [00:03&lt;00:00, 18487.14it/s]"
            }
          },
          "24fbaf1097864d4baa4fd011f5953983": {
            "model_module": "@jupyter-widgets/base",
            "model_module_version": "1.2.0",
            "model_name": "LayoutModel",
            "state": {}
          },
          "2d1ed75d2af1438792d812e8478110e0": {
            "model_module": "@jupyter-widgets/controls",
            "model_module_version": "1.5.0",
            "model_name": "HTMLModel",
            "state": {
              "layout": "IPY_MODEL_0569875e007041ed8c7f647a1994ea0e",
              "style": "IPY_MODEL_db8f591ce2044854800b0f84b2d4e2d1",
              "value": "100%"
            }
          },
          "34a1dea4896442e28e59267b284a69c4": {
            "model_module": "@jupyter-widgets/controls",
            "model_module_version": "1.5.0",
            "model_name": "DescriptionStyleModel",
            "state": {
              "description_width": ""
            }
          },
          "446736361cda4be48ad2aec20f4d5226": {
            "model_module": "@jupyter-widgets/base",
            "model_module_version": "1.2.0",
            "model_name": "LayoutModel",
            "state": {}
          },
          "489fb5aad5274e8ca06476331854ad58": {
            "model_module": "@jupyter-widgets/controls",
            "model_module_version": "1.5.0",
            "model_name": "ProgressStyleModel",
            "state": {
              "description_width": ""
            }
          },
          "52c162973006497382739242c2b668ca": {
            "model_module": "@jupyter-widgets/controls",
            "model_module_version": "1.5.0",
            "model_name": "HTMLModel",
            "state": {
              "layout": "IPY_MODEL_daceca53614f4a90b8190aca42095077",
              "style": "IPY_MODEL_933d16f28d284c5f8e2af71c52347de3",
              "value": " 108728/108728 [00:08&lt;00:00, 20831.11it/s]"
            }
          },
          "667dfae5d98240768600f89343a70612": {
            "model_module": "@jupyter-widgets/base",
            "model_module_version": "1.2.0",
            "model_name": "LayoutModel",
            "state": {}
          },
          "794c358311b74f1fbf956bdca231d0d7": {
            "model_module": "@jupyter-widgets/controls",
            "model_module_version": "1.5.0",
            "model_name": "FloatProgressModel",
            "state": {
              "bar_style": "success",
              "layout": "IPY_MODEL_84c6991b0a9d4ee4a27d563e8216cc2f",
              "max": 108728,
              "style": "IPY_MODEL_9403086e98534e348581edf326cef844",
              "value": 108728
            }
          },
          "7dfa0863de97429e9f5e51f9334ab0f7": {
            "model_module": "@jupyter-widgets/base",
            "model_module_version": "1.2.0",
            "model_name": "LayoutModel",
            "state": {}
          },
          "84c6991b0a9d4ee4a27d563e8216cc2f": {
            "model_module": "@jupyter-widgets/base",
            "model_module_version": "1.2.0",
            "model_name": "LayoutModel",
            "state": {}
          },
          "8aeb11a646324f819639c7d835a5245a": {
            "model_module": "@jupyter-widgets/controls",
            "model_module_version": "1.5.0",
            "model_name": "HTMLModel",
            "state": {
              "layout": "IPY_MODEL_7dfa0863de97429e9f5e51f9334ab0f7",
              "style": "IPY_MODEL_af7c5b435c1144cdad8ad723520d670e",
              "value": "100%"
            }
          },
          "912dd3d4c577451ba0d21fdb54f32889": {
            "model_module": "@jupyter-widgets/controls",
            "model_module_version": "1.5.0",
            "model_name": "HTMLModel",
            "state": {
              "layout": "IPY_MODEL_d7194f3a083845729d389b25b6ac7086",
              "style": "IPY_MODEL_d7f97e3546eb46d592e396218bb06626",
              "value": " 69/69 [00:00&lt;00:00, 4383.49it/s]"
            }
          },
          "933d16f28d284c5f8e2af71c52347de3": {
            "model_module": "@jupyter-widgets/controls",
            "model_module_version": "1.5.0",
            "model_name": "DescriptionStyleModel",
            "state": {
              "description_width": ""
            }
          },
          "9403086e98534e348581edf326cef844": {
            "model_module": "@jupyter-widgets/controls",
            "model_module_version": "1.5.0",
            "model_name": "ProgressStyleModel",
            "state": {
              "description_width": ""
            }
          },
          "942cb852b4874bd9a1f9153a27c7a587": {
            "model_module": "@jupyter-widgets/base",
            "model_module_version": "1.2.0",
            "model_name": "LayoutModel",
            "state": {}
          },
          "9f753e5826374bb9b4312c809eceb79d": {
            "model_module": "@jupyter-widgets/controls",
            "model_module_version": "1.5.0",
            "model_name": "ProgressStyleModel",
            "state": {
              "description_width": ""
            }
          },
          "a4f818b0d5394e5bb0f7615f4772ce29": {
            "model_module": "@jupyter-widgets/base",
            "model_module_version": "1.2.0",
            "model_name": "LayoutModel",
            "state": {}
          },
          "aa57f6eab8054858a5823aa2c2ad2425": {
            "model_module": "@jupyter-widgets/controls",
            "model_module_version": "1.5.0",
            "model_name": "HBoxModel",
            "state": {
              "children": [
                "IPY_MODEL_8aeb11a646324f819639c7d835a5245a",
                "IPY_MODEL_d8e5aa5d4242445d81dfde3b521b3235",
                "IPY_MODEL_1e364e5e585e4287bd6d96bab6037658"
              ],
              "layout": "IPY_MODEL_c940390dfcfb429a815523f98bdefde8"
            }
          },
          "aeabee65a48a478b86721de5eeedbc7c": {
            "model_module": "@jupyter-widgets/controls",
            "model_module_version": "1.5.0",
            "model_name": "HBoxModel",
            "state": {
              "children": [
                "IPY_MODEL_03bfdf7ea1404c12a11ac3af73765b0e",
                "IPY_MODEL_794c358311b74f1fbf956bdca231d0d7",
                "IPY_MODEL_52c162973006497382739242c2b668ca"
              ],
              "layout": "IPY_MODEL_667dfae5d98240768600f89343a70612"
            }
          },
          "af7c5b435c1144cdad8ad723520d670e": {
            "model_module": "@jupyter-widgets/controls",
            "model_module_version": "1.5.0",
            "model_name": "DescriptionStyleModel",
            "state": {
              "description_width": ""
            }
          },
          "bfc5a56ec4e24221af7ede39237f5d17": {
            "model_module": "@jupyter-widgets/controls",
            "model_module_version": "1.5.0",
            "model_name": "FloatProgressModel",
            "state": {
              "bar_style": "success",
              "layout": "IPY_MODEL_942cb852b4874bd9a1f9153a27c7a587",
              "max": 69,
              "style": "IPY_MODEL_9f753e5826374bb9b4312c809eceb79d",
              "value": 69
            }
          },
          "c940390dfcfb429a815523f98bdefde8": {
            "model_module": "@jupyter-widgets/base",
            "model_module_version": "1.2.0",
            "model_name": "LayoutModel",
            "state": {}
          },
          "d7194f3a083845729d389b25b6ac7086": {
            "model_module": "@jupyter-widgets/base",
            "model_module_version": "1.2.0",
            "model_name": "LayoutModel",
            "state": {}
          },
          "d7f97e3546eb46d592e396218bb06626": {
            "model_module": "@jupyter-widgets/controls",
            "model_module_version": "1.5.0",
            "model_name": "DescriptionStyleModel",
            "state": {
              "description_width": ""
            }
          },
          "d898eebc6f2d4cbaaefcaa0d8e467886": {
            "model_module": "@jupyter-widgets/controls",
            "model_module_version": "1.5.0",
            "model_name": "HBoxModel",
            "state": {
              "children": [
                "IPY_MODEL_2d1ed75d2af1438792d812e8478110e0",
                "IPY_MODEL_bfc5a56ec4e24221af7ede39237f5d17",
                "IPY_MODEL_912dd3d4c577451ba0d21fdb54f32889"
              ],
              "layout": "IPY_MODEL_446736361cda4be48ad2aec20f4d5226"
            }
          },
          "d8e5aa5d4242445d81dfde3b521b3235": {
            "model_module": "@jupyter-widgets/controls",
            "model_module_version": "1.5.0",
            "model_name": "FloatProgressModel",
            "state": {
              "bar_style": "success",
              "layout": "IPY_MODEL_a4f818b0d5394e5bb0f7615f4772ce29",
              "max": 32137,
              "style": "IPY_MODEL_489fb5aad5274e8ca06476331854ad58",
              "value": 32137
            }
          },
          "daceca53614f4a90b8190aca42095077": {
            "model_module": "@jupyter-widgets/base",
            "model_module_version": "1.2.0",
            "model_name": "LayoutModel",
            "state": {}
          },
          "db8f591ce2044854800b0f84b2d4e2d1": {
            "model_module": "@jupyter-widgets/controls",
            "model_module_version": "1.5.0",
            "model_name": "DescriptionStyleModel",
            "state": {
              "description_width": ""
            }
          },
          "f116b8a4b181455eacaa86db808019b3": {
            "model_module": "@jupyter-widgets/base",
            "model_module_version": "1.2.0",
            "model_name": "LayoutModel",
            "state": {}
          },
          "f3ef6cfcaa0942248113c5736238fb35": {
            "model_module": "@jupyter-widgets/controls",
            "model_module_version": "1.5.0",
            "model_name": "DescriptionStyleModel",
            "state": {
              "description_width": ""
            }
          }
        },
        "version_major": 2,
        "version_minor": 0
      }
    }
  },
  "nbformat": 4,
  "nbformat_minor": 5
}
