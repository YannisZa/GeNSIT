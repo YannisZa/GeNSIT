{
  "cells": [
    {
      "cell_type": "code",
      "execution_count": 68,
      "id": "f265100f",
      "metadata": {},
      "outputs": [],
      "source": [
        "import os\n",
        "import sys\n",
        "# Use pygeos in geopandas\n",
        "os.environ['USE_PYGEOS'] = '0'\n",
        "\n",
        "import glob\n",
        "import warnings\n",
        "import h5py as h5\n",
        "\n",
        "from tqdm.auto import tqdm\n",
        "\n",
        "from multiresticodm.utils import *\n",
        "from multiresticodm.config import Config\n",
        "from multiresticodm.notebook_functions import *\n",
        "from multiresticodm.global_variables import XARRAY_SCHEMA\n",
        "\n",
        "warnings.simplefilter(\"ignore\")\n",
        "# mpl.rcParams['agg.path.chunksize'] = 10000"
      ]
    },
    {
      "cell_type": "code",
      "execution_count": 2,
      "id": "8a3b3bf2",
      "metadata": {},
      "outputs": [],
      "source": [
        "%matplotlib inline\n",
        "\n",
        "# AUTO RELOAD EXTERNAL MODULES\n",
        "%load_ext autoreload\n",
        "%autoreload 2"
      ]
    },
    {
      "attachments": {},
      "cell_type": "markdown",
      "id": "80c30bfa",
      "metadata": {},
      "source": [
        "## Import outputs"
      ]
    },
    {
      "cell_type": "code",
      "execution_count": 173,
      "id": "bcf844b4",
      "metadata": {},
      "outputs": [],
      "source": [
        "# Expertiment id\n",
        "dataset = 'cambridge_work_commuter_lsoas_to_msoas'\n",
        "root_dir = f'../../data/outputs/{dataset}/mcmc/'\n",
        "geometry_name = 'lsoas_to_msoas'\n",
        "origin_geometry_name = 'lsoa'\n",
        "destination_geometry_name = 'msoa'\n",
        "\n",
        "# list of unwanted folders\n",
        "unwanted_folders = ['first_run_of_experiments','paper_figures','second_run_of_experiments_bin','summaries','._.DS_Store','.DS_Store']\n",
        "\n",
        "# Get all output folders\n",
        "output_folders = sorted([x for x in os.listdir(root_dir) if x not in unwanted_folders])"
      ]
    },
    {
      "cell_type": "code",
      "execution_count": null,
      "metadata": {},
      "outputs": [],
      "source": [
        "# for folder in output_folders:\n",
        "folder = 'exp5_SIMLatentMCMC_LowNoise_row_margin_27_01_2023_18_46_59'\n",
        "\n",
        "config = Config(\n",
        "    path = os.path.join(root_dir,folder,'metadata.json'),\n",
        "    settings = None,\n",
        "    console_level = 'debug',\n",
        ")\n",
        "\n",
        "dims = {\"origin\":69,\"destination\":13,\"time\":1}"
      ]
    },
    {
      "cell_type": "code",
      "execution_count": 208,
      "metadata": {},
      "outputs": [],
      "source": [
        "data_name_to_dims = {\n",
        "    \"alpha\":(config['training']['N'],),\n",
        "    \"beta\":(config['training']['N'],),\n",
        "    \"sigma\":(config['training']['N'],),\n",
        "    \"sign\":(config['training']['N'],),\n",
        "    \"log_destination_attraction\":(config['training']['N'],dims['time'],dims['destination'],),\n",
        "    \"table\":(config['training']['N'],dims['origin'],dims['destination'],),\n",
        "}"
      ]
    },
    {
      "cell_type": "code",
      "execution_count": 236,
      "metadata": {},
      "outputs": [],
      "source": [
        "load_h5 = False\n",
        "experiment_id = 'SIM_MCMC_SweepedNoise_06_02_2023_16_54_39'"
      ]
    },
    {
      "cell_type": "code",
      "execution_count": 237,
      "metadata": {},
      "outputs": [
        {
          "name": "stdout",
          "output_type": "stream",
          "text": [
            "log_destination_attraction (100000, 1, 13)\n",
            "sign (100000,)\n",
            "alpha (100000,)\n",
            "beta (100000,)\n",
            "log_destination_attraction (100000, 1, 13)\n",
            "sign (100000,)\n",
            "alpha (100000,)\n",
            "beta (100000,)\n",
            "log_destination_attraction (100000, 1, 13)\n",
            "sign (100000,)\n",
            "alpha (100000,)\n",
            "beta (100000,)\n",
            "log_destination_attraction (100000, 1, 13)\n",
            "sign (100000,)\n",
            "alpha (100000,)\n",
            "beta (100000,)\n"
          ]
        }
      ],
      "source": [
        "sweep_params = ['sigma','title']\n",
        "sweep_collection = [['0.14142','_row_constrained'],['0.14142','_total_constrained'],['0.01414','_row_constrained'],['0.01414','_total_constrained']]\n",
        "sweep_collection_experiment_ids = [\n",
        "    'exp5_SIMLatentMCMC_HighNoise_row_margin_06_02_2023_16_54_39',\n",
        "    'exp5_SIMLatentMCMC_HighNoise_grand_total_23_05_2023_11_07_44',\n",
        "    'exp5_SIMLatentMCMC_LowNoise_row_margin_27_01_2023_18_46_59',\n",
        "    'exp5_SIMLatentMCMC_LowNoise_grand_total_18_05_2023_11_09_58'\n",
        "]\n",
        "for i,sweep_values in enumerate(sweep_collection):\n",
        "    sweep_id = []\n",
        "    for sweep in zip(sweep_params,sweep_values):\n",
        "        # Map sigma to noise regime\n",
        "        if str(sweep[0]) == 'sigma':\n",
        "            value = sigma_to_noise_regime(float(sweep[1]))\n",
        "        # Else use passed sweep value\n",
        "        else:\n",
        "            value = sweep[1]\n",
        "        # Add to key-value pair to unique sweep id\n",
        "        sweep_id.append(f\"{str(sweep[0])}_{stringify(value)}\")\n",
        "    sweep_id = sorted(sweep_id)\n",
        "\n",
        "    new_out_directory = os.path.join(config.out_directory,dataset,'mcmc',experiment_id,'samples',*sweep_id)\n",
        "\n",
        "    if load_h5:\n",
        "        with h5.File(os.path.join(new_out_directory,'data.h5'),'r+') as h5data:\n",
        "            h5data[experiment_id].attrs['sweep_params'] = sweep_params\n",
        "            h5data[experiment_id].attrs['sweep_values'] = sweep_values\n",
        "            print(h5data[experiment_id].attrs['sweep_params'])\n",
        "            print(h5data[experiment_id].attrs['sweep_values'])\n",
        "            for dset_name, dset in h5data[experiment_id].items():\n",
        "                if dset[...].shape[0] == 1:\n",
        "                    data_copy = deepcopy(dset[...]).squeeze(axis=0)\n",
        "                else:\n",
        "                    data_copy = deepcopy(dset[...])\n",
        "                #.reshape([1]+list(dset.shape))\n",
        "                del h5data[experiment_id][dset_name]\n",
        "                h5data[experiment_id].create_dataset(\n",
        "                    dset_name,\n",
        "                    data_name_to_dims[dset_name],\n",
        "                    chunks=True,\n",
        "                    compression=3,\n",
        "                )\n",
        "                h5data[experiment_id][dset_name][...] = data_copy\n",
        "                print(dset_name,h5data[experiment_id][dset_name].shape)\n",
        "\n",
        "            h5data.close()\n",
        "    else:\n",
        "        samples_dir = os.path.join(config.out_directory,dataset,'mcmc',sweep_collection_experiment_ids[i],'samples')\n",
        "\n",
        "        log_destination_attraction = read_npy(os.path.join(samples_dir,'log_destination_attraction_samples.npy'))\n",
        "        log_destination_attraction = log_destination_attraction.reshape(data_name_to_dims['log_destination_attraction'])\n",
        "\n",
        "        sign = read_npy(os.path.join(samples_dir,'sign_samples.npy'))\n",
        "        sign = sign.reshape(data_name_to_dims['sign'])\n",
        "        theta = read_npy(os.path.join(samples_dir,'theta_samples.npy'))\n",
        "\n",
        "\n",
        "        h5file = h5.File(os.path.join(new_out_directory,\"data.h5\"), mode=\"w\")\n",
        "\n",
        "        h5group = h5file.create_group(experiment_id)\n",
        "        # Store sweep configurations as attributes \n",
        "        h5group.attrs.create(\"sweep_params\",sweep_params)\n",
        "        h5group.attrs.create(\"sweep_values\",sweep_values)\n",
        "\n",
        "        log_destination_attractions_ds = h5group.create_dataset(\n",
        "            \"log_destination_attraction\",\n",
        "            data_name_to_dims[\"log_destination_attraction\"],\n",
        "            chunks=True,\n",
        "            compression=3,\n",
        "        )\n",
        "        log_destination_attractions_ds.attrs[\"dim_names\"] = XARRAY_SCHEMA['log_destination_attraction']['coords']\n",
        "        log_destination_attractions_ds.attrs[\"coords_mode__time\"] = \"start_and_step\"\n",
        "        log_destination_attractions_ds.attrs[\"coords__time\"] = [1,1]\n",
        "        log_destination_attractions_ds[...] = log_destination_attraction.reshape(list(log_destination_attraction.shape))\n",
        "        print('log_destination_attraction',log_destination_attractions_ds[...].shape)\n",
        "\n",
        "        signs_ds = h5group.create_dataset(\n",
        "            \"sign\",\n",
        "            data_name_to_dims[\"sign\"],\n",
        "            chunks=True,\n",
        "            compression=3,\n",
        "        )\n",
        "        signs_ds.attrs[\"dim_names\"] = XARRAY_SCHEMA['sign']['coords']\n",
        "        signs_ds.attrs[\"coords_mode__time\"] = \"start_and_step\"\n",
        "        signs_ds.attrs[\"coords__time\"] = [1,1]\n",
        "        signs_ds[...] = sign.reshape(list(sign.shape))\n",
        "        print('sign',signs_ds[...].shape)\n",
        "\n",
        "        thetas = []\n",
        "        for i,p_name in enumerate(config['inputs']['to_learn']):\n",
        "            dset = h5group.create_dataset(\n",
        "                p_name, \n",
        "                data_name_to_dims[p_name],\n",
        "                chunks=True, \n",
        "                compression=3\n",
        "            )\n",
        "            dset.attrs['dim_names'] = []\n",
        "            dset.attrs['coords_mode__time'] = 'start_and_step'\n",
        "            dset.attrs['coords__time'] = [1,1]\n",
        "\n",
        "            dset[...] = theta[:,i].reshape(list(theta[:,i].shape))\n",
        "            print(p_name,dset[...].shape)\n",
        "\n",
        "        h5file.close()"
      ]
    }
  ],
  "metadata": {
    "kernelspec": {
      "display_name": "mrticodm",
      "language": "python",
      "name": "python3"
    },
    "language_info": {
      "codemirror_mode": {
        "name": "ipython",
        "version": 3
      },
      "file_extension": ".py",
      "mimetype": "text/x-python",
      "name": "python",
      "nbconvert_exporter": "python",
      "pygments_lexer": "ipython3",
      "version": "3.9.0"
    },
    "widgets": {
      "application/vnd.jupyter.widget-state+json": {
        "state": {
          "03bfdf7ea1404c12a11ac3af73765b0e": {
            "model_module": "@jupyter-widgets/controls",
            "model_module_version": "1.5.0",
            "model_name": "HTMLModel",
            "state": {
              "layout": "IPY_MODEL_f116b8a4b181455eacaa86db808019b3",
              "style": "IPY_MODEL_f3ef6cfcaa0942248113c5736238fb35",
              "value": "100%"
            }
          },
          "0569875e007041ed8c7f647a1994ea0e": {
            "model_module": "@jupyter-widgets/base",
            "model_module_version": "1.2.0",
            "model_name": "LayoutModel",
            "state": {}
          },
          "1e364e5e585e4287bd6d96bab6037658": {
            "model_module": "@jupyter-widgets/controls",
            "model_module_version": "1.5.0",
            "model_name": "HTMLModel",
            "state": {
              "layout": "IPY_MODEL_24fbaf1097864d4baa4fd011f5953983",
              "style": "IPY_MODEL_34a1dea4896442e28e59267b284a69c4",
              "value": " 32137/32137 [00:03&lt;00:00, 18487.14it/s]"
            }
          },
          "24fbaf1097864d4baa4fd011f5953983": {
            "model_module": "@jupyter-widgets/base",
            "model_module_version": "1.2.0",
            "model_name": "LayoutModel",
            "state": {}
          },
          "2d1ed75d2af1438792d812e8478110e0": {
            "model_module": "@jupyter-widgets/controls",
            "model_module_version": "1.5.0",
            "model_name": "HTMLModel",
            "state": {
              "layout": "IPY_MODEL_0569875e007041ed8c7f647a1994ea0e",
              "style": "IPY_MODEL_db8f591ce2044854800b0f84b2d4e2d1",
              "value": "100%"
            }
          },
          "34a1dea4896442e28e59267b284a69c4": {
            "model_module": "@jupyter-widgets/controls",
            "model_module_version": "1.5.0",
            "model_name": "DescriptionStyleModel",
            "state": {
              "description_width": ""
            }
          },
          "446736361cda4be48ad2aec20f4d5226": {
            "model_module": "@jupyter-widgets/base",
            "model_module_version": "1.2.0",
            "model_name": "LayoutModel",
            "state": {}
          },
          "489fb5aad5274e8ca06476331854ad58": {
            "model_module": "@jupyter-widgets/controls",
            "model_module_version": "1.5.0",
            "model_name": "ProgressStyleModel",
            "state": {
              "description_width": ""
            }
          },
          "52c162973006497382739242c2b668ca": {
            "model_module": "@jupyter-widgets/controls",
            "model_module_version": "1.5.0",
            "model_name": "HTMLModel",
            "state": {
              "layout": "IPY_MODEL_daceca53614f4a90b8190aca42095077",
              "style": "IPY_MODEL_933d16f28d284c5f8e2af71c52347de3",
              "value": " 108728/108728 [00:08&lt;00:00, 20831.11it/s]"
            }
          },
          "667dfae5d98240768600f89343a70612": {
            "model_module": "@jupyter-widgets/base",
            "model_module_version": "1.2.0",
            "model_name": "LayoutModel",
            "state": {}
          },
          "794c358311b74f1fbf956bdca231d0d7": {
            "model_module": "@jupyter-widgets/controls",
            "model_module_version": "1.5.0",
            "model_name": "FloatProgressModel",
            "state": {
              "bar_style": "success",
              "layout": "IPY_MODEL_84c6991b0a9d4ee4a27d563e8216cc2f",
              "max": 108728,
              "style": "IPY_MODEL_9403086e98534e348581edf326cef844",
              "value": 108728
            }
          },
          "7dfa0863de97429e9f5e51f9334ab0f7": {
            "model_module": "@jupyter-widgets/base",
            "model_module_version": "1.2.0",
            "model_name": "LayoutModel",
            "state": {}
          },
          "84c6991b0a9d4ee4a27d563e8216cc2f": {
            "model_module": "@jupyter-widgets/base",
            "model_module_version": "1.2.0",
            "model_name": "LayoutModel",
            "state": {}
          },
          "8aeb11a646324f819639c7d835a5245a": {
            "model_module": "@jupyter-widgets/controls",
            "model_module_version": "1.5.0",
            "model_name": "HTMLModel",
            "state": {
              "layout": "IPY_MODEL_7dfa0863de97429e9f5e51f9334ab0f7",
              "style": "IPY_MODEL_af7c5b435c1144cdad8ad723520d670e",
              "value": "100%"
            }
          },
          "912dd3d4c577451ba0d21fdb54f32889": {
            "model_module": "@jupyter-widgets/controls",
            "model_module_version": "1.5.0",
            "model_name": "HTMLModel",
            "state": {
              "layout": "IPY_MODEL_d7194f3a083845729d389b25b6ac7086",
              "style": "IPY_MODEL_d7f97e3546eb46d592e396218bb06626",
              "value": " 69/69 [00:00&lt;00:00, 4383.49it/s]"
            }
          },
          "933d16f28d284c5f8e2af71c52347de3": {
            "model_module": "@jupyter-widgets/controls",
            "model_module_version": "1.5.0",
            "model_name": "DescriptionStyleModel",
            "state": {
              "description_width": ""
            }
          },
          "9403086e98534e348581edf326cef844": {
            "model_module": "@jupyter-widgets/controls",
            "model_module_version": "1.5.0",
            "model_name": "ProgressStyleModel",
            "state": {
              "description_width": ""
            }
          },
          "942cb852b4874bd9a1f9153a27c7a587": {
            "model_module": "@jupyter-widgets/base",
            "model_module_version": "1.2.0",
            "model_name": "LayoutModel",
            "state": {}
          },
          "9f753e5826374bb9b4312c809eceb79d": {
            "model_module": "@jupyter-widgets/controls",
            "model_module_version": "1.5.0",
            "model_name": "ProgressStyleModel",
            "state": {
              "description_width": ""
            }
          },
          "a4f818b0d5394e5bb0f7615f4772ce29": {
            "model_module": "@jupyter-widgets/base",
            "model_module_version": "1.2.0",
            "model_name": "LayoutModel",
            "state": {}
          },
          "aa57f6eab8054858a5823aa2c2ad2425": {
            "model_module": "@jupyter-widgets/controls",
            "model_module_version": "1.5.0",
            "model_name": "HBoxModel",
            "state": {
              "children": [
                "IPY_MODEL_8aeb11a646324f819639c7d835a5245a",
                "IPY_MODEL_d8e5aa5d4242445d81dfde3b521b3235",
                "IPY_MODEL_1e364e5e585e4287bd6d96bab6037658"
              ],
              "layout": "IPY_MODEL_c940390dfcfb429a815523f98bdefde8"
            }
          },
          "aeabee65a48a478b86721de5eeedbc7c": {
            "model_module": "@jupyter-widgets/controls",
            "model_module_version": "1.5.0",
            "model_name": "HBoxModel",
            "state": {
              "children": [
                "IPY_MODEL_03bfdf7ea1404c12a11ac3af73765b0e",
                "IPY_MODEL_794c358311b74f1fbf956bdca231d0d7",
                "IPY_MODEL_52c162973006497382739242c2b668ca"
              ],
              "layout": "IPY_MODEL_667dfae5d98240768600f89343a70612"
            }
          },
          "af7c5b435c1144cdad8ad723520d670e": {
            "model_module": "@jupyter-widgets/controls",
            "model_module_version": "1.5.0",
            "model_name": "DescriptionStyleModel",
            "state": {
              "description_width": ""
            }
          },
          "bfc5a56ec4e24221af7ede39237f5d17": {
            "model_module": "@jupyter-widgets/controls",
            "model_module_version": "1.5.0",
            "model_name": "FloatProgressModel",
            "state": {
              "bar_style": "success",
              "layout": "IPY_MODEL_942cb852b4874bd9a1f9153a27c7a587",
              "max": 69,
              "style": "IPY_MODEL_9f753e5826374bb9b4312c809eceb79d",
              "value": 69
            }
          },
          "c940390dfcfb429a815523f98bdefde8": {
            "model_module": "@jupyter-widgets/base",
            "model_module_version": "1.2.0",
            "model_name": "LayoutModel",
            "state": {}
          },
          "d7194f3a083845729d389b25b6ac7086": {
            "model_module": "@jupyter-widgets/base",
            "model_module_version": "1.2.0",
            "model_name": "LayoutModel",
            "state": {}
          },
          "d7f97e3546eb46d592e396218bb06626": {
            "model_module": "@jupyter-widgets/controls",
            "model_module_version": "1.5.0",
            "model_name": "DescriptionStyleModel",
            "state": {
              "description_width": ""
            }
          },
          "d898eebc6f2d4cbaaefcaa0d8e467886": {
            "model_module": "@jupyter-widgets/controls",
            "model_module_version": "1.5.0",
            "model_name": "HBoxModel",
            "state": {
              "children": [
                "IPY_MODEL_2d1ed75d2af1438792d812e8478110e0",
                "IPY_MODEL_bfc5a56ec4e24221af7ede39237f5d17",
                "IPY_MODEL_912dd3d4c577451ba0d21fdb54f32889"
              ],
              "layout": "IPY_MODEL_446736361cda4be48ad2aec20f4d5226"
            }
          },
          "d8e5aa5d4242445d81dfde3b521b3235": {
            "model_module": "@jupyter-widgets/controls",
            "model_module_version": "1.5.0",
            "model_name": "FloatProgressModel",
            "state": {
              "bar_style": "success",
              "layout": "IPY_MODEL_a4f818b0d5394e5bb0f7615f4772ce29",
              "max": 32137,
              "style": "IPY_MODEL_489fb5aad5274e8ca06476331854ad58",
              "value": 32137
            }
          },
          "daceca53614f4a90b8190aca42095077": {
            "model_module": "@jupyter-widgets/base",
            "model_module_version": "1.2.0",
            "model_name": "LayoutModel",
            "state": {}
          },
          "db8f591ce2044854800b0f84b2d4e2d1": {
            "model_module": "@jupyter-widgets/controls",
            "model_module_version": "1.5.0",
            "model_name": "DescriptionStyleModel",
            "state": {
              "description_width": ""
            }
          },
          "f116b8a4b181455eacaa86db808019b3": {
            "model_module": "@jupyter-widgets/base",
            "model_module_version": "1.2.0",
            "model_name": "LayoutModel",
            "state": {}
          },
          "f3ef6cfcaa0942248113c5736238fb35": {
            "model_module": "@jupyter-widgets/controls",
            "model_module_version": "1.5.0",
            "model_name": "DescriptionStyleModel",
            "state": {
              "description_width": ""
            }
          }
        },
        "version_major": 2,
        "version_minor": 0
      }
    }
  },
  "nbformat": 4,
  "nbformat_minor": 5
}
