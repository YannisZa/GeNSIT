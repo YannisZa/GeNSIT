{
  "cells": [
    {
      "cell_type": "code",
      "execution_count": null,
      "id": "f265100f",
      "metadata": {},
      "outputs": [],
      "source": [
        "import os\n",
        "os.environ['USE_PYGEOS'] = '0'\n",
        "import sys\n",
        "module_path = os.path.abspath(os.path.join('..'))\n",
        "if module_path not in sys.path:\n",
        "    sys.path.append(module_path)\n",
        "\n",
        "import json\n",
        "import glob\n",
        "import swifter\n",
        "import networkx as nx\n",
        "import geopandas as gpd\n",
        "import matplotlib as mpl\n",
        "import dask.dataframe as dd\n",
        "import matplotlib.cm as cm\n",
        "import matplotlib.pyplot as plt\n",
        "\n",
        "from math import comb\n",
        "from pyproj import Proj\n",
        "from datetime import date\n",
        "from copy import deepcopy\n",
        "from functools import partial\n",
        "from argparse import Namespace\n",
        "from scipy.spatial import KDTree\n",
        "from itertools import islice,product\n",
        "# from tqdm.notebook import tqdm as tqdmT\n",
        "from tqdm.auto import tqdm\n",
        "from networkx.classes.function import path_weight\n",
        "from scipy.spatial.distance import squareform,pdist\n",
        "from mpl_toolkits.axes_grid1 import make_axes_locatable\n",
        "from shapely.geometry import Point,LineString, Polygon, mapping, MultiPoint, box\n",
        "\n",
        "\n",
        "from ticodm.utils import *\n",
        "from ticodm.notebook_functions import *\n",
        "from ticodm.spatial_interaction_model import *\n",
        "from ticodm.spatial_interaction_model_mcmc import *\n",
        "from ticodm.contingency_table_mcmc import ContingencyTableMarkovChainMonteCarlo\n",
        "from ticodm.contingency_table import instantiate_ct\n",
        "\n",
        "# mpl.rcParams['agg.path.chunksize'] = 10000\n",
        "\n",
        "%matplotlib inline"
      ]
    },
    {
      "attachments": {},
      "cell_type": "markdown",
      "id": "80c30bfa",
      "metadata": {},
      "source": [
        "# Cambridge commuter (LSOAs to MSOAs)\n",
        "## Import table and geometries"
      ]
    },
    {
      "cell_type": "code",
      "execution_count": null,
      "id": "bcf844b4",
      "metadata": {},
      "outputs": [],
      "source": [
        "geometry_name = 'lsoas_to_msoas'\n",
        "dataset = f'cambridge_work_commuter_{geometry_name}'\n",
        "table_filename = 'lower_super_output_areas_work_flows_cambridge_2011'\n",
        "# 'middle_super_output_areas_work_flows_cambridge_2011'\n",
        "# 'lower_super_output_areas_work_flows_cambridge_2011'\n",
        "# 'output_areas_work_flows_cambridge_2011'\n",
        "\n",
        "# Define directory\n",
        "lsoas_table_path = f'../data/raw/cambridge_commuter/lower_super_output_areas_work_flows_cambridge_2011.csv'\n",
        "lsoas_geometries_path = f'../data/raw/cambridge_commuter/cambridge_lsoas.geojson'\n",
        "msoas_table_path = f'../data/raw/cambridge_commuter/middle_super_output_areas_work_flows_cambridge_2011.csv'\n",
        "msoas_geometries_path = f'../data/raw/cambridge_commuter/cambridge_msoas.geojson'"
      ]
    },
    {
      "cell_type": "code",
      "execution_count": null,
      "id": "8d71e33a",
      "metadata": {},
      "outputs": [],
      "source": [
        "# Read in destination attraction\n",
        "employment = pd.read_csv('../data/raw/cambridge_commuter/employment_survey_msoa.csv',header=None)\n",
        "employment.columns = ['lsoa_id','number_of_jobs']\n",
        "employment['lsoa_id'] = employment['lsoa_id'].apply(lambda x: x.split(' : ')[0])\n",
        "employment = employment.sort_values('lsoa_id')\n",
        "number_of_jobs = employment['number_of_jobs'].values"
      ]
    },
    {
      "cell_type": "code",
      "execution_count": null,
      "id": "a1cf97e2",
      "metadata": {},
      "outputs": [],
      "source": [
        "# Read table\n",
        "lsoas_table = pd.read_csv(lsoas_table_path,index_col=0)\n",
        "# Store first column\n",
        "origin_geometry_ids = sorted(lsoas_table.columns.values)\n",
        "# Sort columns and rows alphabetically\n",
        "lsoas_table = lsoas_table[origin_geometry_ids]\n",
        "lsoas_table = lsoas_table.sort_index()\n",
        "# Convert to array\n",
        "# lsoas_table = lsoas_table.values\n",
        "\n",
        "# Read table\n",
        "msoas_table = pd.read_csv(msoas_table_path,index_col=0)\n",
        "# Store first column\n",
        "destination_geometry_ids = sorted(msoas_table.columns.values)\n",
        "# Sort columns and rows alphabetically\n",
        "msoas_table = msoas_table[destination_geometry_ids]\n",
        "msoas_table = msoas_table.sort_index()\n",
        "# Convert to array\n",
        "# msoas_table = msoas_table.values\n",
        "\n",
        "# Read geometries\n",
        "lsoas = gpd.read_file(lsoas_geometries_path)\n",
        "msoas = gpd.read_file(msoas_geometries_path)\n",
        "# Reproject\n",
        "lsoas = lsoas.set_crs('epsg:27700',allow_override=True)\n",
        "msoas = msoas.set_crs('epsg:27700',allow_override=True)\n",
        "\n",
        "# LSOAS\n",
        "lsoas = lsoas.rename(columns={\"LSOA11CD\":\"geometry_id\"})\n",
        "lsoas['geometry_id'] = lsoas['geometry_id'].astype(str)\n",
        "lsoas = lsoas.set_index(\"geometry_id\")\n",
        "# Reindex by table geometry ids\n",
        "lsoas = lsoas.reindex(origin_geometry_ids)\n",
        "lsoas = lsoas.reset_index()\n",
        "# Extract centroids\n",
        "lsoas[\"centroid\"] = lsoas.centroid\n",
        "lsoas[\"LONG\"] = lsoas.centroid.x\n",
        "lsoas[\"LAT\"] = lsoas.centroid.y\n",
        "# Get all relevant columns\n",
        "lsoas = lsoas[[\"geometry_id\",\"LONG\",\"LAT\",\"geometry\"]]\n",
        "lsoas['centroid'] = gpd.points_from_xy(x=lsoas['LONG'],y=lsoas['LAT'])\n",
        "\n",
        "# MSOAS\n",
        "msoas = msoas.rename(columns={\"code\":\"geometry_id\"})\n",
        "msoas['geometry_id'] = msoas['geometry_id'].astype(str)\n",
        "msoas = msoas.set_index(\"geometry_id\")\n",
        "# Reindex by table geometry ids\n",
        "msoas = msoas.reindex(destination_geometry_ids)\n",
        "msoas = msoas.reset_index()\n",
        "# Extract centroids\n",
        "msoas[\"centroid\"] = msoas.centroid\n",
        "msoas[\"LONG\"] = msoas.centroid.x\n",
        "msoas[\"LAT\"] = msoas.centroid.y\n",
        "# Get all relevant columns\n",
        "msoas = msoas[[\"geometry_id\",\"LONG\",\"LAT\",\"geometry\"]]\n",
        "msoas['centroid'] = gpd.points_from_xy(x=msoas['LONG'],y=msoas['LAT'])\n",
        "\n",
        "# Import geometry lookup tables\n",
        "geometry_conversions = pd.read_csv('../data/raw/cambridge_commuter/OA11_LSOA11_MSOA11_LAD11_EW_LUv2.csv')\n",
        "mapper = dict(zip(geometry_conversions.LSOA11CD,geometry_conversions.MSOA11CD))\n",
        "# Create LSOA to MSOA table\n",
        "lsoas_to_msoas_table_df = lsoas_table.rename(mapper,axis=1)\n",
        "lsoas_to_msoas_table_df = lsoas_to_msoas_table_df.groupby(lsoas_to_msoas_table_df.columns, axis=1).sum()\n",
        "lsoas_to_msoas_table = lsoas_to_msoas_table_df.values\n",
        "\n",
        "# Add rowsums and column sums to geometires\n",
        "lsoas['origin_demand'] = lsoas_to_msoas_table.sum(axis=1)\n",
        "lsoas['geometry_type'] = 'lsoa'\n",
        "msoas['destination_demand'] = lsoas_to_msoas_table.sum(axis=0)\n",
        "msoas['number_of_jobs'] = number_of_jobs\n",
        "msoas['geometry_type'] = 'msoa'\n",
        "# Get dimensions\n",
        "I,J = np.shape(lsoas_to_msoas_table)\n"
      ]
    },
    {
      "cell_type": "code",
      "execution_count": null,
      "id": "54b82770",
      "metadata": {},
      "outputs": [],
      "source": [
        "# Merge msoas and lsoas\n",
        "geometries = pd.concat([msoas,lsoas])"
      ]
    },
    {
      "attachments": {},
      "cell_type": "markdown",
      "id": "fb354276",
      "metadata": {},
      "source": [
        "# Export"
      ]
    },
    {
      "cell_type": "code",
      "execution_count": null,
      "id": "e6a5751e",
      "metadata": {},
      "outputs": [],
      "source": [
        "lsoas_to_msoas_table_df.to_csv(f\"../data/raw/cambridge_commuter/lower_super_output_areas_to_medium_super_output_areas_work_flows_cambridge_2011.csv\",index=True)"
      ]
    },
    {
      "cell_type": "code",
      "execution_count": null,
      "id": "88cba957",
      "metadata": {},
      "outputs": [],
      "source": [
        "geometries.drop(columns=['centroid']).set_index('geometry_id').to_file(f'../data/inputs/{dataset}/{geometry_name}.geojson', driver='GeoJSON')"
      ]
    }
  ],
  "metadata": {
    "kernelspec": {
      "display_name": "ticodm",
      "language": "python",
      "name": "ticodm"
    },
    "language_info": {
      "codemirror_mode": {
        "name": "ipython",
        "version": 3
      },
      "file_extension": ".py",
      "mimetype": "text/x-python",
      "name": "python",
      "nbconvert_exporter": "python",
      "pygments_lexer": "ipython3",
      "version": "3.8.5"
    },
    "widgets": {
      "application/vnd.jupyter.widget-state+json": {
        "state": {
          "03bfdf7ea1404c12a11ac3af73765b0e": {
            "model_module": "@jupyter-widgets/controls",
            "model_module_version": "1.5.0",
            "model_name": "HTMLModel",
            "state": {
              "layout": "IPY_MODEL_f116b8a4b181455eacaa86db808019b3",
              "style": "IPY_MODEL_f3ef6cfcaa0942248113c5736238fb35",
              "value": "100%"
            }
          },
          "0569875e007041ed8c7f647a1994ea0e": {
            "model_module": "@jupyter-widgets/base",
            "model_module_version": "1.2.0",
            "model_name": "LayoutModel",
            "state": {}
          },
          "1e364e5e585e4287bd6d96bab6037658": {
            "model_module": "@jupyter-widgets/controls",
            "model_module_version": "1.5.0",
            "model_name": "HTMLModel",
            "state": {
              "layout": "IPY_MODEL_24fbaf1097864d4baa4fd011f5953983",
              "style": "IPY_MODEL_34a1dea4896442e28e59267b284a69c4",
              "value": " 32137/32137 [00:03&lt;00:00, 18487.14it/s]"
            }
          },
          "24fbaf1097864d4baa4fd011f5953983": {
            "model_module": "@jupyter-widgets/base",
            "model_module_version": "1.2.0",
            "model_name": "LayoutModel",
            "state": {}
          },
          "2d1ed75d2af1438792d812e8478110e0": {
            "model_module": "@jupyter-widgets/controls",
            "model_module_version": "1.5.0",
            "model_name": "HTMLModel",
            "state": {
              "layout": "IPY_MODEL_0569875e007041ed8c7f647a1994ea0e",
              "style": "IPY_MODEL_db8f591ce2044854800b0f84b2d4e2d1",
              "value": "100%"
            }
          },
          "34a1dea4896442e28e59267b284a69c4": {
            "model_module": "@jupyter-widgets/controls",
            "model_module_version": "1.5.0",
            "model_name": "DescriptionStyleModel",
            "state": {
              "description_width": ""
            }
          },
          "446736361cda4be48ad2aec20f4d5226": {
            "model_module": "@jupyter-widgets/base",
            "model_module_version": "1.2.0",
            "model_name": "LayoutModel",
            "state": {}
          },
          "489fb5aad5274e8ca06476331854ad58": {
            "model_module": "@jupyter-widgets/controls",
            "model_module_version": "1.5.0",
            "model_name": "ProgressStyleModel",
            "state": {
              "description_width": ""
            }
          },
          "52c162973006497382739242c2b668ca": {
            "model_module": "@jupyter-widgets/controls",
            "model_module_version": "1.5.0",
            "model_name": "HTMLModel",
            "state": {
              "layout": "IPY_MODEL_daceca53614f4a90b8190aca42095077",
              "style": "IPY_MODEL_933d16f28d284c5f8e2af71c52347de3",
              "value": " 108728/108728 [00:08&lt;00:00, 20831.11it/s]"
            }
          },
          "667dfae5d98240768600f89343a70612": {
            "model_module": "@jupyter-widgets/base",
            "model_module_version": "1.2.0",
            "model_name": "LayoutModel",
            "state": {}
          },
          "794c358311b74f1fbf956bdca231d0d7": {
            "model_module": "@jupyter-widgets/controls",
            "model_module_version": "1.5.0",
            "model_name": "FloatProgressModel",
            "state": {
              "bar_style": "success",
              "layout": "IPY_MODEL_84c6991b0a9d4ee4a27d563e8216cc2f",
              "max": 108728,
              "style": "IPY_MODEL_9403086e98534e348581edf326cef844",
              "value": 108728
            }
          },
          "7dfa0863de97429e9f5e51f9334ab0f7": {
            "model_module": "@jupyter-widgets/base",
            "model_module_version": "1.2.0",
            "model_name": "LayoutModel",
            "state": {}
          },
          "84c6991b0a9d4ee4a27d563e8216cc2f": {
            "model_module": "@jupyter-widgets/base",
            "model_module_version": "1.2.0",
            "model_name": "LayoutModel",
            "state": {}
          },
          "8aeb11a646324f819639c7d835a5245a": {
            "model_module": "@jupyter-widgets/controls",
            "model_module_version": "1.5.0",
            "model_name": "HTMLModel",
            "state": {
              "layout": "IPY_MODEL_7dfa0863de97429e9f5e51f9334ab0f7",
              "style": "IPY_MODEL_af7c5b435c1144cdad8ad723520d670e",
              "value": "100%"
            }
          },
          "912dd3d4c577451ba0d21fdb54f32889": {
            "model_module": "@jupyter-widgets/controls",
            "model_module_version": "1.5.0",
            "model_name": "HTMLModel",
            "state": {
              "layout": "IPY_MODEL_d7194f3a083845729d389b25b6ac7086",
              "style": "IPY_MODEL_d7f97e3546eb46d592e396218bb06626",
              "value": " 69/69 [00:00&lt;00:00, 4383.49it/s]"
            }
          },
          "933d16f28d284c5f8e2af71c52347de3": {
            "model_module": "@jupyter-widgets/controls",
            "model_module_version": "1.5.0",
            "model_name": "DescriptionStyleModel",
            "state": {
              "description_width": ""
            }
          },
          "9403086e98534e348581edf326cef844": {
            "model_module": "@jupyter-widgets/controls",
            "model_module_version": "1.5.0",
            "model_name": "ProgressStyleModel",
            "state": {
              "description_width": ""
            }
          },
          "942cb852b4874bd9a1f9153a27c7a587": {
            "model_module": "@jupyter-widgets/base",
            "model_module_version": "1.2.0",
            "model_name": "LayoutModel",
            "state": {}
          },
          "9f753e5826374bb9b4312c809eceb79d": {
            "model_module": "@jupyter-widgets/controls",
            "model_module_version": "1.5.0",
            "model_name": "ProgressStyleModel",
            "state": {
              "description_width": ""
            }
          },
          "a4f818b0d5394e5bb0f7615f4772ce29": {
            "model_module": "@jupyter-widgets/base",
            "model_module_version": "1.2.0",
            "model_name": "LayoutModel",
            "state": {}
          },
          "aa57f6eab8054858a5823aa2c2ad2425": {
            "model_module": "@jupyter-widgets/controls",
            "model_module_version": "1.5.0",
            "model_name": "HBoxModel",
            "state": {
              "children": [
                "IPY_MODEL_8aeb11a646324f819639c7d835a5245a",
                "IPY_MODEL_d8e5aa5d4242445d81dfde3b521b3235",
                "IPY_MODEL_1e364e5e585e4287bd6d96bab6037658"
              ],
              "layout": "IPY_MODEL_c940390dfcfb429a815523f98bdefde8"
            }
          },
          "aeabee65a48a478b86721de5eeedbc7c": {
            "model_module": "@jupyter-widgets/controls",
            "model_module_version": "1.5.0",
            "model_name": "HBoxModel",
            "state": {
              "children": [
                "IPY_MODEL_03bfdf7ea1404c12a11ac3af73765b0e",
                "IPY_MODEL_794c358311b74f1fbf956bdca231d0d7",
                "IPY_MODEL_52c162973006497382739242c2b668ca"
              ],
              "layout": "IPY_MODEL_667dfae5d98240768600f89343a70612"
            }
          },
          "af7c5b435c1144cdad8ad723520d670e": {
            "model_module": "@jupyter-widgets/controls",
            "model_module_version": "1.5.0",
            "model_name": "DescriptionStyleModel",
            "state": {
              "description_width": ""
            }
          },
          "bfc5a56ec4e24221af7ede39237f5d17": {
            "model_module": "@jupyter-widgets/controls",
            "model_module_version": "1.5.0",
            "model_name": "FloatProgressModel",
            "state": {
              "bar_style": "success",
              "layout": "IPY_MODEL_942cb852b4874bd9a1f9153a27c7a587",
              "max": 69,
              "style": "IPY_MODEL_9f753e5826374bb9b4312c809eceb79d",
              "value": 69
            }
          },
          "c940390dfcfb429a815523f98bdefde8": {
            "model_module": "@jupyter-widgets/base",
            "model_module_version": "1.2.0",
            "model_name": "LayoutModel",
            "state": {}
          },
          "d7194f3a083845729d389b25b6ac7086": {
            "model_module": "@jupyter-widgets/base",
            "model_module_version": "1.2.0",
            "model_name": "LayoutModel",
            "state": {}
          },
          "d7f97e3546eb46d592e396218bb06626": {
            "model_module": "@jupyter-widgets/controls",
            "model_module_version": "1.5.0",
            "model_name": "DescriptionStyleModel",
            "state": {
              "description_width": ""
            }
          },
          "d898eebc6f2d4cbaaefcaa0d8e467886": {
            "model_module": "@jupyter-widgets/controls",
            "model_module_version": "1.5.0",
            "model_name": "HBoxModel",
            "state": {
              "children": [
                "IPY_MODEL_2d1ed75d2af1438792d812e8478110e0",
                "IPY_MODEL_bfc5a56ec4e24221af7ede39237f5d17",
                "IPY_MODEL_912dd3d4c577451ba0d21fdb54f32889"
              ],
              "layout": "IPY_MODEL_446736361cda4be48ad2aec20f4d5226"
            }
          },
          "d8e5aa5d4242445d81dfde3b521b3235": {
            "model_module": "@jupyter-widgets/controls",
            "model_module_version": "1.5.0",
            "model_name": "FloatProgressModel",
            "state": {
              "bar_style": "success",
              "layout": "IPY_MODEL_a4f818b0d5394e5bb0f7615f4772ce29",
              "max": 32137,
              "style": "IPY_MODEL_489fb5aad5274e8ca06476331854ad58",
              "value": 32137
            }
          },
          "daceca53614f4a90b8190aca42095077": {
            "model_module": "@jupyter-widgets/base",
            "model_module_version": "1.2.0",
            "model_name": "LayoutModel",
            "state": {}
          },
          "db8f591ce2044854800b0f84b2d4e2d1": {
            "model_module": "@jupyter-widgets/controls",
            "model_module_version": "1.5.0",
            "model_name": "DescriptionStyleModel",
            "state": {
              "description_width": ""
            }
          },
          "f116b8a4b181455eacaa86db808019b3": {
            "model_module": "@jupyter-widgets/base",
            "model_module_version": "1.2.0",
            "model_name": "LayoutModel",
            "state": {}
          },
          "f3ef6cfcaa0942248113c5736238fb35": {
            "model_module": "@jupyter-widgets/controls",
            "model_module_version": "1.5.0",
            "model_name": "DescriptionStyleModel",
            "state": {
              "description_width": ""
            }
          }
        },
        "version_major": 2,
        "version_minor": 0
      }
    }
  },
  "nbformat": 4,
  "nbformat_minor": 5
}
